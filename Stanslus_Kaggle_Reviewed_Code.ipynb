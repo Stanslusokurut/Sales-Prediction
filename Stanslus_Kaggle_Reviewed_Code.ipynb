{
  "nbformat": 4,
  "nbformat_minor": 0,
  "metadata": {
    "colab": {
      "provenance": [],
      "authorship_tag": "ABX9TyP18m/rybi4UY4Y2TYJbjXs",
      "include_colab_link": true
    },
    "kernelspec": {
      "name": "python3",
      "display_name": "Python 3"
    },
    "language_info": {
      "name": "python"
    }
  },
  "cells": [
    {
      "cell_type": "markdown",
      "metadata": {
        "id": "view-in-github",
        "colab_type": "text"
      },
      "source": [
        "<a href=\"https://colab.research.google.com/github/Stanslusokurut/Sales-Prediction/blob/main/Stanslus_Kaggle_Reviewed_Code.ipynb\" target=\"_parent\"><img src=\"https://colab.research.google.com/assets/colab-badge.svg\" alt=\"Open In Colab\"/></a>"
      ]
    },
    {
      "cell_type": "code",
      "execution_count": 3,
      "metadata": {
        "id": "F9VhBecJthtR"
      },
      "outputs": [],
      "source": [
        "#Import Libraries \n",
        "from __future__ import absolute_import\n",
        "from __future__ import division\n",
        "from __future__ import print_function\n",
        "import os\n",
        "import numpy as np # linear algebra\n",
        "import pandas as pd # data processing, CSV file I/O (e.g. pd.read_csv)\n",
        "import tensorflow as tf\n",
        "from tensorflow.python.client import device_lib\n",
        "\n",
        "import itertools\n",
        "\n",
        "\n",
        "import pandas as pd\n",
        "import numpy as np\n",
        "import matplotlib.pyplot as plt\n",
        "from pylab import rcParams\n",
        "import matplotlib\n",
        "from sklearn.model_selection import train_test_split\n",
        "from sklearn.preprocessing import MinMaxScaler\n",
        "\n",
        "from sklearn.ensemble import IsolationForest\n",
        "\n",
        "import warnings\n",
        "\n",
        "from keras.models import Sequential\n",
        "from keras.layers import Dense\n",
        "from keras.wrappers.scikit_learn import KerasRegressor\n",
        "\n",
        "os.environ['TF_CPP_MIN_LOG_LEVEL'] = \"99\"\n",
        "device_lib.list_local_devices()\n",
        "import sys\n",
        "sys.path.insert(0, '..')\n",
        "\n",
        "%matplotlib inline\n",
        "\n",
        "import numpy as np\n",
        "import pandas as pd\n"
      ]
    },
    {
      "cell_type": "code",
      "source": [
        "#Mount drive\n",
        "from google.colab import drive\n",
        "drive.mount('/content/drive')"
      ],
      "metadata": {
        "colab": {
          "base_uri": "https://localhost:8080/"
        },
        "id": "881ozs4qwe5h",
        "outputId": "2fc5139e-af70-4730-94e5-c60462c8a82d"
      },
      "execution_count": 4,
      "outputs": [
        {
          "output_type": "stream",
          "name": "stdout",
          "text": [
            "Mounted at /content/drive\n"
          ]
        }
      ]
    },
    {
      "cell_type": "code",
      "source": [
        "#Import data\n",
        "train_data = pd.read_csv('/content/drive/MyDrive/Data Science/Datasets/Machine Learning Data/Kaggle/train.csv')\n",
        "test_data = pd.read_csv('/content/drive/MyDrive/Data Science/Datasets/Machine Learning Data/Kaggle/test.csv')\n",
        "train_data.head()"
      ],
      "metadata": {
        "colab": {
          "base_uri": "https://localhost:8080/",
          "height": 235
        },
        "id": "5U28inFkww0x",
        "outputId": "a0a86b93-53e9-4889-833f-293585dad3d5"
      },
      "execution_count": 5,
      "outputs": [
        {
          "output_type": "execute_result",
          "data": {
            "text/plain": [
              "   Id  MSSubClass MSZoning  LotFrontage  LotArea Street Alley LotShape  \\\n",
              "0   1          60       RL         65.0     8450   Pave   NaN      Reg   \n",
              "1   2          20       RL         80.0     9600   Pave   NaN      Reg   \n",
              "2   3          60       RL         68.0    11250   Pave   NaN      IR1   \n",
              "3   4          70       RL         60.0     9550   Pave   NaN      IR1   \n",
              "4   5          60       RL         84.0    14260   Pave   NaN      IR1   \n",
              "\n",
              "  LandContour Utilities  ... PoolArea PoolQC Fence MiscFeature MiscVal MoSold  \\\n",
              "0         Lvl    AllPub  ...        0    NaN   NaN         NaN       0      2   \n",
              "1         Lvl    AllPub  ...        0    NaN   NaN         NaN       0      5   \n",
              "2         Lvl    AllPub  ...        0    NaN   NaN         NaN       0      9   \n",
              "3         Lvl    AllPub  ...        0    NaN   NaN         NaN       0      2   \n",
              "4         Lvl    AllPub  ...        0    NaN   NaN         NaN       0     12   \n",
              "\n",
              "  YrSold  SaleType  SaleCondition  SalePrice  \n",
              "0   2008        WD         Normal     208500  \n",
              "1   2007        WD         Normal     181500  \n",
              "2   2008        WD         Normal     223500  \n",
              "3   2006        WD        Abnorml     140000  \n",
              "4   2008        WD         Normal     250000  \n",
              "\n",
              "[5 rows x 81 columns]"
            ],
            "text/html": [
              "\n",
              "  <div id=\"df-625c4137-62ab-4206-b596-2da090d878c9\">\n",
              "    <div class=\"colab-df-container\">\n",
              "      <div>\n",
              "<style scoped>\n",
              "    .dataframe tbody tr th:only-of-type {\n",
              "        vertical-align: middle;\n",
              "    }\n",
              "\n",
              "    .dataframe tbody tr th {\n",
              "        vertical-align: top;\n",
              "    }\n",
              "\n",
              "    .dataframe thead th {\n",
              "        text-align: right;\n",
              "    }\n",
              "</style>\n",
              "<table border=\"1\" class=\"dataframe\">\n",
              "  <thead>\n",
              "    <tr style=\"text-align: right;\">\n",
              "      <th></th>\n",
              "      <th>Id</th>\n",
              "      <th>MSSubClass</th>\n",
              "      <th>MSZoning</th>\n",
              "      <th>LotFrontage</th>\n",
              "      <th>LotArea</th>\n",
              "      <th>Street</th>\n",
              "      <th>Alley</th>\n",
              "      <th>LotShape</th>\n",
              "      <th>LandContour</th>\n",
              "      <th>Utilities</th>\n",
              "      <th>...</th>\n",
              "      <th>PoolArea</th>\n",
              "      <th>PoolQC</th>\n",
              "      <th>Fence</th>\n",
              "      <th>MiscFeature</th>\n",
              "      <th>MiscVal</th>\n",
              "      <th>MoSold</th>\n",
              "      <th>YrSold</th>\n",
              "      <th>SaleType</th>\n",
              "      <th>SaleCondition</th>\n",
              "      <th>SalePrice</th>\n",
              "    </tr>\n",
              "  </thead>\n",
              "  <tbody>\n",
              "    <tr>\n",
              "      <th>0</th>\n",
              "      <td>1</td>\n",
              "      <td>60</td>\n",
              "      <td>RL</td>\n",
              "      <td>65.0</td>\n",
              "      <td>8450</td>\n",
              "      <td>Pave</td>\n",
              "      <td>NaN</td>\n",
              "      <td>Reg</td>\n",
              "      <td>Lvl</td>\n",
              "      <td>AllPub</td>\n",
              "      <td>...</td>\n",
              "      <td>0</td>\n",
              "      <td>NaN</td>\n",
              "      <td>NaN</td>\n",
              "      <td>NaN</td>\n",
              "      <td>0</td>\n",
              "      <td>2</td>\n",
              "      <td>2008</td>\n",
              "      <td>WD</td>\n",
              "      <td>Normal</td>\n",
              "      <td>208500</td>\n",
              "    </tr>\n",
              "    <tr>\n",
              "      <th>1</th>\n",
              "      <td>2</td>\n",
              "      <td>20</td>\n",
              "      <td>RL</td>\n",
              "      <td>80.0</td>\n",
              "      <td>9600</td>\n",
              "      <td>Pave</td>\n",
              "      <td>NaN</td>\n",
              "      <td>Reg</td>\n",
              "      <td>Lvl</td>\n",
              "      <td>AllPub</td>\n",
              "      <td>...</td>\n",
              "      <td>0</td>\n",
              "      <td>NaN</td>\n",
              "      <td>NaN</td>\n",
              "      <td>NaN</td>\n",
              "      <td>0</td>\n",
              "      <td>5</td>\n",
              "      <td>2007</td>\n",
              "      <td>WD</td>\n",
              "      <td>Normal</td>\n",
              "      <td>181500</td>\n",
              "    </tr>\n",
              "    <tr>\n",
              "      <th>2</th>\n",
              "      <td>3</td>\n",
              "      <td>60</td>\n",
              "      <td>RL</td>\n",
              "      <td>68.0</td>\n",
              "      <td>11250</td>\n",
              "      <td>Pave</td>\n",
              "      <td>NaN</td>\n",
              "      <td>IR1</td>\n",
              "      <td>Lvl</td>\n",
              "      <td>AllPub</td>\n",
              "      <td>...</td>\n",
              "      <td>0</td>\n",
              "      <td>NaN</td>\n",
              "      <td>NaN</td>\n",
              "      <td>NaN</td>\n",
              "      <td>0</td>\n",
              "      <td>9</td>\n",
              "      <td>2008</td>\n",
              "      <td>WD</td>\n",
              "      <td>Normal</td>\n",
              "      <td>223500</td>\n",
              "    </tr>\n",
              "    <tr>\n",
              "      <th>3</th>\n",
              "      <td>4</td>\n",
              "      <td>70</td>\n",
              "      <td>RL</td>\n",
              "      <td>60.0</td>\n",
              "      <td>9550</td>\n",
              "      <td>Pave</td>\n",
              "      <td>NaN</td>\n",
              "      <td>IR1</td>\n",
              "      <td>Lvl</td>\n",
              "      <td>AllPub</td>\n",
              "      <td>...</td>\n",
              "      <td>0</td>\n",
              "      <td>NaN</td>\n",
              "      <td>NaN</td>\n",
              "      <td>NaN</td>\n",
              "      <td>0</td>\n",
              "      <td>2</td>\n",
              "      <td>2006</td>\n",
              "      <td>WD</td>\n",
              "      <td>Abnorml</td>\n",
              "      <td>140000</td>\n",
              "    </tr>\n",
              "    <tr>\n",
              "      <th>4</th>\n",
              "      <td>5</td>\n",
              "      <td>60</td>\n",
              "      <td>RL</td>\n",
              "      <td>84.0</td>\n",
              "      <td>14260</td>\n",
              "      <td>Pave</td>\n",
              "      <td>NaN</td>\n",
              "      <td>IR1</td>\n",
              "      <td>Lvl</td>\n",
              "      <td>AllPub</td>\n",
              "      <td>...</td>\n",
              "      <td>0</td>\n",
              "      <td>NaN</td>\n",
              "      <td>NaN</td>\n",
              "      <td>NaN</td>\n",
              "      <td>0</td>\n",
              "      <td>12</td>\n",
              "      <td>2008</td>\n",
              "      <td>WD</td>\n",
              "      <td>Normal</td>\n",
              "      <td>250000</td>\n",
              "    </tr>\n",
              "  </tbody>\n",
              "</table>\n",
              "<p>5 rows × 81 columns</p>\n",
              "</div>\n",
              "      <button class=\"colab-df-convert\" onclick=\"convertToInteractive('df-625c4137-62ab-4206-b596-2da090d878c9')\"\n",
              "              title=\"Convert this dataframe to an interactive table.\"\n",
              "              style=\"display:none;\">\n",
              "        \n",
              "  <svg xmlns=\"http://www.w3.org/2000/svg\" height=\"24px\"viewBox=\"0 0 24 24\"\n",
              "       width=\"24px\">\n",
              "    <path d=\"M0 0h24v24H0V0z\" fill=\"none\"/>\n",
              "    <path d=\"M18.56 5.44l.94 2.06.94-2.06 2.06-.94-2.06-.94-.94-2.06-.94 2.06-2.06.94zm-11 1L8.5 8.5l.94-2.06 2.06-.94-2.06-.94L8.5 2.5l-.94 2.06-2.06.94zm10 10l.94 2.06.94-2.06 2.06-.94-2.06-.94-.94-2.06-.94 2.06-2.06.94z\"/><path d=\"M17.41 7.96l-1.37-1.37c-.4-.4-.92-.59-1.43-.59-.52 0-1.04.2-1.43.59L10.3 9.45l-7.72 7.72c-.78.78-.78 2.05 0 2.83L4 21.41c.39.39.9.59 1.41.59.51 0 1.02-.2 1.41-.59l7.78-7.78 2.81-2.81c.8-.78.8-2.07 0-2.86zM5.41 20L4 18.59l7.72-7.72 1.47 1.35L5.41 20z\"/>\n",
              "  </svg>\n",
              "      </button>\n",
              "      \n",
              "  <style>\n",
              "    .colab-df-container {\n",
              "      display:flex;\n",
              "      flex-wrap:wrap;\n",
              "      gap: 12px;\n",
              "    }\n",
              "\n",
              "    .colab-df-convert {\n",
              "      background-color: #E8F0FE;\n",
              "      border: none;\n",
              "      border-radius: 50%;\n",
              "      cursor: pointer;\n",
              "      display: none;\n",
              "      fill: #1967D2;\n",
              "      height: 32px;\n",
              "      padding: 0 0 0 0;\n",
              "      width: 32px;\n",
              "    }\n",
              "\n",
              "    .colab-df-convert:hover {\n",
              "      background-color: #E2EBFA;\n",
              "      box-shadow: 0px 1px 2px rgba(60, 64, 67, 0.3), 0px 1px 3px 1px rgba(60, 64, 67, 0.15);\n",
              "      fill: #174EA6;\n",
              "    }\n",
              "\n",
              "    [theme=dark] .colab-df-convert {\n",
              "      background-color: #3B4455;\n",
              "      fill: #D2E3FC;\n",
              "    }\n",
              "\n",
              "    [theme=dark] .colab-df-convert:hover {\n",
              "      background-color: #434B5C;\n",
              "      box-shadow: 0px 1px 3px 1px rgba(0, 0, 0, 0.15);\n",
              "      filter: drop-shadow(0px 1px 2px rgba(0, 0, 0, 0.3));\n",
              "      fill: #FFFFFF;\n",
              "    }\n",
              "  </style>\n",
              "\n",
              "      <script>\n",
              "        const buttonEl =\n",
              "          document.querySelector('#df-625c4137-62ab-4206-b596-2da090d878c9 button.colab-df-convert');\n",
              "        buttonEl.style.display =\n",
              "          google.colab.kernel.accessAllowed ? 'block' : 'none';\n",
              "\n",
              "        async function convertToInteractive(key) {\n",
              "          const element = document.querySelector('#df-625c4137-62ab-4206-b596-2da090d878c9');\n",
              "          const dataTable =\n",
              "            await google.colab.kernel.invokeFunction('convertToInteractive',\n",
              "                                                     [key], {});\n",
              "          if (!dataTable) return;\n",
              "\n",
              "          const docLinkHtml = 'Like what you see? Visit the ' +\n",
              "            '<a target=\"_blank\" href=https://colab.research.google.com/notebooks/data_table.ipynb>data table notebook</a>'\n",
              "            + ' to learn more about interactive tables.';\n",
              "          element.innerHTML = '';\n",
              "          dataTable['output_type'] = 'display_data';\n",
              "          await google.colab.output.renderOutput(dataTable, element);\n",
              "          const docLink = document.createElement('div');\n",
              "          docLink.innerHTML = docLinkHtml;\n",
              "          element.appendChild(docLink);\n",
              "        }\n",
              "      </script>\n",
              "    </div>\n",
              "  </div>\n",
              "  "
            ]
          },
          "metadata": {},
          "execution_count": 5
        }
      ]
    },
    {
      "cell_type": "markdown",
      "source": [
        "PROCESSING THE DATA"
      ],
      "metadata": {
        "id": "JAnV-_3VxNHv"
      }
    },
    {
      "cell_type": "code",
      "source": [
        "# 1. Excluding columns which have majority as null\n",
        "train_data= train_data.loc[:, train_data.isnull().sum()/len(train_data)<0.80]\n",
        "\n",
        "x= train_data.iloc[:, 1:-1] # Dropping 'Id' and the Y feature\n",
        "y= train_data.iloc[:,-1]\n",
        "\n",
        "train_cols= x.columns\n",
        "print(train_data.shape, x.shape, y.shape)"
      ],
      "metadata": {
        "colab": {
          "base_uri": "https://localhost:8080/"
        },
        "id": "jt9Txin4xQY3",
        "outputId": "8b68b012-74b9-4962-9b07-45c1ba302476"
      },
      "execution_count": 6,
      "outputs": [
        {
          "output_type": "stream",
          "name": "stdout",
          "text": [
            "(1460, 77) (1460, 75) (1460,)\n"
          ]
        }
      ]
    },
    {
      "cell_type": "code",
      "source": [
        "# 2. Looking at the Overall statistics of variables and correlation among all variables\n",
        "train_stats= x.describe().transpose()\n",
        "train_stats"
      ],
      "metadata": {
        "colab": {
          "base_uri": "https://localhost:8080/",
          "height": 1000
        },
        "id": "TNIpV2VWxUWT",
        "outputId": "f7a64a8a-ca88-42bc-a703-9f7b41d4ab99"
      },
      "execution_count": 7,
      "outputs": [
        {
          "output_type": "execute_result",
          "data": {
            "text/plain": [
              "                count          mean          std     min      25%     50%  \\\n",
              "MSSubClass     1460.0     56.897260    42.300571    20.0    20.00    50.0   \n",
              "LotFrontage    1201.0     70.049958    24.284752    21.0    59.00    69.0   \n",
              "LotArea        1460.0  10516.828082  9981.264932  1300.0  7553.50  9478.5   \n",
              "OverallQual    1460.0      6.099315     1.382997     1.0     5.00     6.0   \n",
              "OverallCond    1460.0      5.575342     1.112799     1.0     5.00     5.0   \n",
              "YearBuilt      1460.0   1971.267808    30.202904  1872.0  1954.00  1973.0   \n",
              "YearRemodAdd   1460.0   1984.865753    20.645407  1950.0  1967.00  1994.0   \n",
              "MasVnrArea     1452.0    103.685262   181.066207     0.0     0.00     0.0   \n",
              "BsmtFinSF1     1460.0    443.639726   456.098091     0.0     0.00   383.5   \n",
              "BsmtFinSF2     1460.0     46.549315   161.319273     0.0     0.00     0.0   \n",
              "BsmtUnfSF      1460.0    567.240411   441.866955     0.0   223.00   477.5   \n",
              "TotalBsmtSF    1460.0   1057.429452   438.705324     0.0   795.75   991.5   \n",
              "1stFlrSF       1460.0   1162.626712   386.587738   334.0   882.00  1087.0   \n",
              "2ndFlrSF       1460.0    346.992466   436.528436     0.0     0.00     0.0   \n",
              "LowQualFinSF   1460.0      5.844521    48.623081     0.0     0.00     0.0   \n",
              "GrLivArea      1460.0   1515.463699   525.480383   334.0  1129.50  1464.0   \n",
              "BsmtFullBath   1460.0      0.425342     0.518911     0.0     0.00     0.0   \n",
              "BsmtHalfBath   1460.0      0.057534     0.238753     0.0     0.00     0.0   \n",
              "FullBath       1460.0      1.565068     0.550916     0.0     1.00     2.0   \n",
              "HalfBath       1460.0      0.382877     0.502885     0.0     0.00     0.0   \n",
              "BedroomAbvGr   1460.0      2.866438     0.815778     0.0     2.00     3.0   \n",
              "KitchenAbvGr   1460.0      1.046575     0.220338     0.0     1.00     1.0   \n",
              "TotRmsAbvGrd   1460.0      6.517808     1.625393     2.0     5.00     6.0   \n",
              "Fireplaces     1460.0      0.613014     0.644666     0.0     0.00     1.0   \n",
              "GarageYrBlt    1379.0   1978.506164    24.689725  1900.0  1961.00  1980.0   \n",
              "GarageCars     1460.0      1.767123     0.747315     0.0     1.00     2.0   \n",
              "GarageArea     1460.0    472.980137   213.804841     0.0   334.50   480.0   \n",
              "WoodDeckSF     1460.0     94.244521   125.338794     0.0     0.00     0.0   \n",
              "OpenPorchSF    1460.0     46.660274    66.256028     0.0     0.00    25.0   \n",
              "EnclosedPorch  1460.0     21.954110    61.119149     0.0     0.00     0.0   \n",
              "3SsnPorch      1460.0      3.409589    29.317331     0.0     0.00     0.0   \n",
              "ScreenPorch    1460.0     15.060959    55.757415     0.0     0.00     0.0   \n",
              "PoolArea       1460.0      2.758904    40.177307     0.0     0.00     0.0   \n",
              "MiscVal        1460.0     43.489041   496.123024     0.0     0.00     0.0   \n",
              "MoSold         1460.0      6.321918     2.703626     1.0     5.00     6.0   \n",
              "YrSold         1460.0   2007.815753     1.328095  2006.0  2007.00  2008.0   \n",
              "\n",
              "                    75%       max  \n",
              "MSSubClass        70.00     190.0  \n",
              "LotFrontage       80.00     313.0  \n",
              "LotArea        11601.50  215245.0  \n",
              "OverallQual        7.00      10.0  \n",
              "OverallCond        6.00       9.0  \n",
              "YearBuilt       2000.00    2010.0  \n",
              "YearRemodAdd    2004.00    2010.0  \n",
              "MasVnrArea       166.00    1600.0  \n",
              "BsmtFinSF1       712.25    5644.0  \n",
              "BsmtFinSF2         0.00    1474.0  \n",
              "BsmtUnfSF        808.00    2336.0  \n",
              "TotalBsmtSF     1298.25    6110.0  \n",
              "1stFlrSF        1391.25    4692.0  \n",
              "2ndFlrSF         728.00    2065.0  \n",
              "LowQualFinSF       0.00     572.0  \n",
              "GrLivArea       1776.75    5642.0  \n",
              "BsmtFullBath       1.00       3.0  \n",
              "BsmtHalfBath       0.00       2.0  \n",
              "FullBath           2.00       3.0  \n",
              "HalfBath           1.00       2.0  \n",
              "BedroomAbvGr       3.00       8.0  \n",
              "KitchenAbvGr       1.00       3.0  \n",
              "TotRmsAbvGrd       7.00      14.0  \n",
              "Fireplaces         1.00       3.0  \n",
              "GarageYrBlt     2002.00    2010.0  \n",
              "GarageCars         2.00       4.0  \n",
              "GarageArea       576.00    1418.0  \n",
              "WoodDeckSF       168.00     857.0  \n",
              "OpenPorchSF       68.00     547.0  \n",
              "EnclosedPorch      0.00     552.0  \n",
              "3SsnPorch          0.00     508.0  \n",
              "ScreenPorch        0.00     480.0  \n",
              "PoolArea           0.00     738.0  \n",
              "MiscVal            0.00   15500.0  \n",
              "MoSold             8.00      12.0  \n",
              "YrSold          2009.00    2010.0  "
            ],
            "text/html": [
              "\n",
              "  <div id=\"df-985d332e-569b-4339-88bc-d26bcd6b5597\">\n",
              "    <div class=\"colab-df-container\">\n",
              "      <div>\n",
              "<style scoped>\n",
              "    .dataframe tbody tr th:only-of-type {\n",
              "        vertical-align: middle;\n",
              "    }\n",
              "\n",
              "    .dataframe tbody tr th {\n",
              "        vertical-align: top;\n",
              "    }\n",
              "\n",
              "    .dataframe thead th {\n",
              "        text-align: right;\n",
              "    }\n",
              "</style>\n",
              "<table border=\"1\" class=\"dataframe\">\n",
              "  <thead>\n",
              "    <tr style=\"text-align: right;\">\n",
              "      <th></th>\n",
              "      <th>count</th>\n",
              "      <th>mean</th>\n",
              "      <th>std</th>\n",
              "      <th>min</th>\n",
              "      <th>25%</th>\n",
              "      <th>50%</th>\n",
              "      <th>75%</th>\n",
              "      <th>max</th>\n",
              "    </tr>\n",
              "  </thead>\n",
              "  <tbody>\n",
              "    <tr>\n",
              "      <th>MSSubClass</th>\n",
              "      <td>1460.0</td>\n",
              "      <td>56.897260</td>\n",
              "      <td>42.300571</td>\n",
              "      <td>20.0</td>\n",
              "      <td>20.00</td>\n",
              "      <td>50.0</td>\n",
              "      <td>70.00</td>\n",
              "      <td>190.0</td>\n",
              "    </tr>\n",
              "    <tr>\n",
              "      <th>LotFrontage</th>\n",
              "      <td>1201.0</td>\n",
              "      <td>70.049958</td>\n",
              "      <td>24.284752</td>\n",
              "      <td>21.0</td>\n",
              "      <td>59.00</td>\n",
              "      <td>69.0</td>\n",
              "      <td>80.00</td>\n",
              "      <td>313.0</td>\n",
              "    </tr>\n",
              "    <tr>\n",
              "      <th>LotArea</th>\n",
              "      <td>1460.0</td>\n",
              "      <td>10516.828082</td>\n",
              "      <td>9981.264932</td>\n",
              "      <td>1300.0</td>\n",
              "      <td>7553.50</td>\n",
              "      <td>9478.5</td>\n",
              "      <td>11601.50</td>\n",
              "      <td>215245.0</td>\n",
              "    </tr>\n",
              "    <tr>\n",
              "      <th>OverallQual</th>\n",
              "      <td>1460.0</td>\n",
              "      <td>6.099315</td>\n",
              "      <td>1.382997</td>\n",
              "      <td>1.0</td>\n",
              "      <td>5.00</td>\n",
              "      <td>6.0</td>\n",
              "      <td>7.00</td>\n",
              "      <td>10.0</td>\n",
              "    </tr>\n",
              "    <tr>\n",
              "      <th>OverallCond</th>\n",
              "      <td>1460.0</td>\n",
              "      <td>5.575342</td>\n",
              "      <td>1.112799</td>\n",
              "      <td>1.0</td>\n",
              "      <td>5.00</td>\n",
              "      <td>5.0</td>\n",
              "      <td>6.00</td>\n",
              "      <td>9.0</td>\n",
              "    </tr>\n",
              "    <tr>\n",
              "      <th>YearBuilt</th>\n",
              "      <td>1460.0</td>\n",
              "      <td>1971.267808</td>\n",
              "      <td>30.202904</td>\n",
              "      <td>1872.0</td>\n",
              "      <td>1954.00</td>\n",
              "      <td>1973.0</td>\n",
              "      <td>2000.00</td>\n",
              "      <td>2010.0</td>\n",
              "    </tr>\n",
              "    <tr>\n",
              "      <th>YearRemodAdd</th>\n",
              "      <td>1460.0</td>\n",
              "      <td>1984.865753</td>\n",
              "      <td>20.645407</td>\n",
              "      <td>1950.0</td>\n",
              "      <td>1967.00</td>\n",
              "      <td>1994.0</td>\n",
              "      <td>2004.00</td>\n",
              "      <td>2010.0</td>\n",
              "    </tr>\n",
              "    <tr>\n",
              "      <th>MasVnrArea</th>\n",
              "      <td>1452.0</td>\n",
              "      <td>103.685262</td>\n",
              "      <td>181.066207</td>\n",
              "      <td>0.0</td>\n",
              "      <td>0.00</td>\n",
              "      <td>0.0</td>\n",
              "      <td>166.00</td>\n",
              "      <td>1600.0</td>\n",
              "    </tr>\n",
              "    <tr>\n",
              "      <th>BsmtFinSF1</th>\n",
              "      <td>1460.0</td>\n",
              "      <td>443.639726</td>\n",
              "      <td>456.098091</td>\n",
              "      <td>0.0</td>\n",
              "      <td>0.00</td>\n",
              "      <td>383.5</td>\n",
              "      <td>712.25</td>\n",
              "      <td>5644.0</td>\n",
              "    </tr>\n",
              "    <tr>\n",
              "      <th>BsmtFinSF2</th>\n",
              "      <td>1460.0</td>\n",
              "      <td>46.549315</td>\n",
              "      <td>161.319273</td>\n",
              "      <td>0.0</td>\n",
              "      <td>0.00</td>\n",
              "      <td>0.0</td>\n",
              "      <td>0.00</td>\n",
              "      <td>1474.0</td>\n",
              "    </tr>\n",
              "    <tr>\n",
              "      <th>BsmtUnfSF</th>\n",
              "      <td>1460.0</td>\n",
              "      <td>567.240411</td>\n",
              "      <td>441.866955</td>\n",
              "      <td>0.0</td>\n",
              "      <td>223.00</td>\n",
              "      <td>477.5</td>\n",
              "      <td>808.00</td>\n",
              "      <td>2336.0</td>\n",
              "    </tr>\n",
              "    <tr>\n",
              "      <th>TotalBsmtSF</th>\n",
              "      <td>1460.0</td>\n",
              "      <td>1057.429452</td>\n",
              "      <td>438.705324</td>\n",
              "      <td>0.0</td>\n",
              "      <td>795.75</td>\n",
              "      <td>991.5</td>\n",
              "      <td>1298.25</td>\n",
              "      <td>6110.0</td>\n",
              "    </tr>\n",
              "    <tr>\n",
              "      <th>1stFlrSF</th>\n",
              "      <td>1460.0</td>\n",
              "      <td>1162.626712</td>\n",
              "      <td>386.587738</td>\n",
              "      <td>334.0</td>\n",
              "      <td>882.00</td>\n",
              "      <td>1087.0</td>\n",
              "      <td>1391.25</td>\n",
              "      <td>4692.0</td>\n",
              "    </tr>\n",
              "    <tr>\n",
              "      <th>2ndFlrSF</th>\n",
              "      <td>1460.0</td>\n",
              "      <td>346.992466</td>\n",
              "      <td>436.528436</td>\n",
              "      <td>0.0</td>\n",
              "      <td>0.00</td>\n",
              "      <td>0.0</td>\n",
              "      <td>728.00</td>\n",
              "      <td>2065.0</td>\n",
              "    </tr>\n",
              "    <tr>\n",
              "      <th>LowQualFinSF</th>\n",
              "      <td>1460.0</td>\n",
              "      <td>5.844521</td>\n",
              "      <td>48.623081</td>\n",
              "      <td>0.0</td>\n",
              "      <td>0.00</td>\n",
              "      <td>0.0</td>\n",
              "      <td>0.00</td>\n",
              "      <td>572.0</td>\n",
              "    </tr>\n",
              "    <tr>\n",
              "      <th>GrLivArea</th>\n",
              "      <td>1460.0</td>\n",
              "      <td>1515.463699</td>\n",
              "      <td>525.480383</td>\n",
              "      <td>334.0</td>\n",
              "      <td>1129.50</td>\n",
              "      <td>1464.0</td>\n",
              "      <td>1776.75</td>\n",
              "      <td>5642.0</td>\n",
              "    </tr>\n",
              "    <tr>\n",
              "      <th>BsmtFullBath</th>\n",
              "      <td>1460.0</td>\n",
              "      <td>0.425342</td>\n",
              "      <td>0.518911</td>\n",
              "      <td>0.0</td>\n",
              "      <td>0.00</td>\n",
              "      <td>0.0</td>\n",
              "      <td>1.00</td>\n",
              "      <td>3.0</td>\n",
              "    </tr>\n",
              "    <tr>\n",
              "      <th>BsmtHalfBath</th>\n",
              "      <td>1460.0</td>\n",
              "      <td>0.057534</td>\n",
              "      <td>0.238753</td>\n",
              "      <td>0.0</td>\n",
              "      <td>0.00</td>\n",
              "      <td>0.0</td>\n",
              "      <td>0.00</td>\n",
              "      <td>2.0</td>\n",
              "    </tr>\n",
              "    <tr>\n",
              "      <th>FullBath</th>\n",
              "      <td>1460.0</td>\n",
              "      <td>1.565068</td>\n",
              "      <td>0.550916</td>\n",
              "      <td>0.0</td>\n",
              "      <td>1.00</td>\n",
              "      <td>2.0</td>\n",
              "      <td>2.00</td>\n",
              "      <td>3.0</td>\n",
              "    </tr>\n",
              "    <tr>\n",
              "      <th>HalfBath</th>\n",
              "      <td>1460.0</td>\n",
              "      <td>0.382877</td>\n",
              "      <td>0.502885</td>\n",
              "      <td>0.0</td>\n",
              "      <td>0.00</td>\n",
              "      <td>0.0</td>\n",
              "      <td>1.00</td>\n",
              "      <td>2.0</td>\n",
              "    </tr>\n",
              "    <tr>\n",
              "      <th>BedroomAbvGr</th>\n",
              "      <td>1460.0</td>\n",
              "      <td>2.866438</td>\n",
              "      <td>0.815778</td>\n",
              "      <td>0.0</td>\n",
              "      <td>2.00</td>\n",
              "      <td>3.0</td>\n",
              "      <td>3.00</td>\n",
              "      <td>8.0</td>\n",
              "    </tr>\n",
              "    <tr>\n",
              "      <th>KitchenAbvGr</th>\n",
              "      <td>1460.0</td>\n",
              "      <td>1.046575</td>\n",
              "      <td>0.220338</td>\n",
              "      <td>0.0</td>\n",
              "      <td>1.00</td>\n",
              "      <td>1.0</td>\n",
              "      <td>1.00</td>\n",
              "      <td>3.0</td>\n",
              "    </tr>\n",
              "    <tr>\n",
              "      <th>TotRmsAbvGrd</th>\n",
              "      <td>1460.0</td>\n",
              "      <td>6.517808</td>\n",
              "      <td>1.625393</td>\n",
              "      <td>2.0</td>\n",
              "      <td>5.00</td>\n",
              "      <td>6.0</td>\n",
              "      <td>7.00</td>\n",
              "      <td>14.0</td>\n",
              "    </tr>\n",
              "    <tr>\n",
              "      <th>Fireplaces</th>\n",
              "      <td>1460.0</td>\n",
              "      <td>0.613014</td>\n",
              "      <td>0.644666</td>\n",
              "      <td>0.0</td>\n",
              "      <td>0.00</td>\n",
              "      <td>1.0</td>\n",
              "      <td>1.00</td>\n",
              "      <td>3.0</td>\n",
              "    </tr>\n",
              "    <tr>\n",
              "      <th>GarageYrBlt</th>\n",
              "      <td>1379.0</td>\n",
              "      <td>1978.506164</td>\n",
              "      <td>24.689725</td>\n",
              "      <td>1900.0</td>\n",
              "      <td>1961.00</td>\n",
              "      <td>1980.0</td>\n",
              "      <td>2002.00</td>\n",
              "      <td>2010.0</td>\n",
              "    </tr>\n",
              "    <tr>\n",
              "      <th>GarageCars</th>\n",
              "      <td>1460.0</td>\n",
              "      <td>1.767123</td>\n",
              "      <td>0.747315</td>\n",
              "      <td>0.0</td>\n",
              "      <td>1.00</td>\n",
              "      <td>2.0</td>\n",
              "      <td>2.00</td>\n",
              "      <td>4.0</td>\n",
              "    </tr>\n",
              "    <tr>\n",
              "      <th>GarageArea</th>\n",
              "      <td>1460.0</td>\n",
              "      <td>472.980137</td>\n",
              "      <td>213.804841</td>\n",
              "      <td>0.0</td>\n",
              "      <td>334.50</td>\n",
              "      <td>480.0</td>\n",
              "      <td>576.00</td>\n",
              "      <td>1418.0</td>\n",
              "    </tr>\n",
              "    <tr>\n",
              "      <th>WoodDeckSF</th>\n",
              "      <td>1460.0</td>\n",
              "      <td>94.244521</td>\n",
              "      <td>125.338794</td>\n",
              "      <td>0.0</td>\n",
              "      <td>0.00</td>\n",
              "      <td>0.0</td>\n",
              "      <td>168.00</td>\n",
              "      <td>857.0</td>\n",
              "    </tr>\n",
              "    <tr>\n",
              "      <th>OpenPorchSF</th>\n",
              "      <td>1460.0</td>\n",
              "      <td>46.660274</td>\n",
              "      <td>66.256028</td>\n",
              "      <td>0.0</td>\n",
              "      <td>0.00</td>\n",
              "      <td>25.0</td>\n",
              "      <td>68.00</td>\n",
              "      <td>547.0</td>\n",
              "    </tr>\n",
              "    <tr>\n",
              "      <th>EnclosedPorch</th>\n",
              "      <td>1460.0</td>\n",
              "      <td>21.954110</td>\n",
              "      <td>61.119149</td>\n",
              "      <td>0.0</td>\n",
              "      <td>0.00</td>\n",
              "      <td>0.0</td>\n",
              "      <td>0.00</td>\n",
              "      <td>552.0</td>\n",
              "    </tr>\n",
              "    <tr>\n",
              "      <th>3SsnPorch</th>\n",
              "      <td>1460.0</td>\n",
              "      <td>3.409589</td>\n",
              "      <td>29.317331</td>\n",
              "      <td>0.0</td>\n",
              "      <td>0.00</td>\n",
              "      <td>0.0</td>\n",
              "      <td>0.00</td>\n",
              "      <td>508.0</td>\n",
              "    </tr>\n",
              "    <tr>\n",
              "      <th>ScreenPorch</th>\n",
              "      <td>1460.0</td>\n",
              "      <td>15.060959</td>\n",
              "      <td>55.757415</td>\n",
              "      <td>0.0</td>\n",
              "      <td>0.00</td>\n",
              "      <td>0.0</td>\n",
              "      <td>0.00</td>\n",
              "      <td>480.0</td>\n",
              "    </tr>\n",
              "    <tr>\n",
              "      <th>PoolArea</th>\n",
              "      <td>1460.0</td>\n",
              "      <td>2.758904</td>\n",
              "      <td>40.177307</td>\n",
              "      <td>0.0</td>\n",
              "      <td>0.00</td>\n",
              "      <td>0.0</td>\n",
              "      <td>0.00</td>\n",
              "      <td>738.0</td>\n",
              "    </tr>\n",
              "    <tr>\n",
              "      <th>MiscVal</th>\n",
              "      <td>1460.0</td>\n",
              "      <td>43.489041</td>\n",
              "      <td>496.123024</td>\n",
              "      <td>0.0</td>\n",
              "      <td>0.00</td>\n",
              "      <td>0.0</td>\n",
              "      <td>0.00</td>\n",
              "      <td>15500.0</td>\n",
              "    </tr>\n",
              "    <tr>\n",
              "      <th>MoSold</th>\n",
              "      <td>1460.0</td>\n",
              "      <td>6.321918</td>\n",
              "      <td>2.703626</td>\n",
              "      <td>1.0</td>\n",
              "      <td>5.00</td>\n",
              "      <td>6.0</td>\n",
              "      <td>8.00</td>\n",
              "      <td>12.0</td>\n",
              "    </tr>\n",
              "    <tr>\n",
              "      <th>YrSold</th>\n",
              "      <td>1460.0</td>\n",
              "      <td>2007.815753</td>\n",
              "      <td>1.328095</td>\n",
              "      <td>2006.0</td>\n",
              "      <td>2007.00</td>\n",
              "      <td>2008.0</td>\n",
              "      <td>2009.00</td>\n",
              "      <td>2010.0</td>\n",
              "    </tr>\n",
              "  </tbody>\n",
              "</table>\n",
              "</div>\n",
              "      <button class=\"colab-df-convert\" onclick=\"convertToInteractive('df-985d332e-569b-4339-88bc-d26bcd6b5597')\"\n",
              "              title=\"Convert this dataframe to an interactive table.\"\n",
              "              style=\"display:none;\">\n",
              "        \n",
              "  <svg xmlns=\"http://www.w3.org/2000/svg\" height=\"24px\"viewBox=\"0 0 24 24\"\n",
              "       width=\"24px\">\n",
              "    <path d=\"M0 0h24v24H0V0z\" fill=\"none\"/>\n",
              "    <path d=\"M18.56 5.44l.94 2.06.94-2.06 2.06-.94-2.06-.94-.94-2.06-.94 2.06-2.06.94zm-11 1L8.5 8.5l.94-2.06 2.06-.94-2.06-.94L8.5 2.5l-.94 2.06-2.06.94zm10 10l.94 2.06.94-2.06 2.06-.94-2.06-.94-.94-2.06-.94 2.06-2.06.94z\"/><path d=\"M17.41 7.96l-1.37-1.37c-.4-.4-.92-.59-1.43-.59-.52 0-1.04.2-1.43.59L10.3 9.45l-7.72 7.72c-.78.78-.78 2.05 0 2.83L4 21.41c.39.39.9.59 1.41.59.51 0 1.02-.2 1.41-.59l7.78-7.78 2.81-2.81c.8-.78.8-2.07 0-2.86zM5.41 20L4 18.59l7.72-7.72 1.47 1.35L5.41 20z\"/>\n",
              "  </svg>\n",
              "      </button>\n",
              "      \n",
              "  <style>\n",
              "    .colab-df-container {\n",
              "      display:flex;\n",
              "      flex-wrap:wrap;\n",
              "      gap: 12px;\n",
              "    }\n",
              "\n",
              "    .colab-df-convert {\n",
              "      background-color: #E8F0FE;\n",
              "      border: none;\n",
              "      border-radius: 50%;\n",
              "      cursor: pointer;\n",
              "      display: none;\n",
              "      fill: #1967D2;\n",
              "      height: 32px;\n",
              "      padding: 0 0 0 0;\n",
              "      width: 32px;\n",
              "    }\n",
              "\n",
              "    .colab-df-convert:hover {\n",
              "      background-color: #E2EBFA;\n",
              "      box-shadow: 0px 1px 2px rgba(60, 64, 67, 0.3), 0px 1px 3px 1px rgba(60, 64, 67, 0.15);\n",
              "      fill: #174EA6;\n",
              "    }\n",
              "\n",
              "    [theme=dark] .colab-df-convert {\n",
              "      background-color: #3B4455;\n",
              "      fill: #D2E3FC;\n",
              "    }\n",
              "\n",
              "    [theme=dark] .colab-df-convert:hover {\n",
              "      background-color: #434B5C;\n",
              "      box-shadow: 0px 1px 3px 1px rgba(0, 0, 0, 0.15);\n",
              "      filter: drop-shadow(0px 1px 2px rgba(0, 0, 0, 0.3));\n",
              "      fill: #FFFFFF;\n",
              "    }\n",
              "  </style>\n",
              "\n",
              "      <script>\n",
              "        const buttonEl =\n",
              "          document.querySelector('#df-985d332e-569b-4339-88bc-d26bcd6b5597 button.colab-df-convert');\n",
              "        buttonEl.style.display =\n",
              "          google.colab.kernel.accessAllowed ? 'block' : 'none';\n",
              "\n",
              "        async function convertToInteractive(key) {\n",
              "          const element = document.querySelector('#df-985d332e-569b-4339-88bc-d26bcd6b5597');\n",
              "          const dataTable =\n",
              "            await google.colab.kernel.invokeFunction('convertToInteractive',\n",
              "                                                     [key], {});\n",
              "          if (!dataTable) return;\n",
              "\n",
              "          const docLinkHtml = 'Like what you see? Visit the ' +\n",
              "            '<a target=\"_blank\" href=https://colab.research.google.com/notebooks/data_table.ipynb>data table notebook</a>'\n",
              "            + ' to learn more about interactive tables.';\n",
              "          element.innerHTML = '';\n",
              "          dataTable['output_type'] = 'display_data';\n",
              "          await google.colab.output.renderOutput(dataTable, element);\n",
              "          const docLink = document.createElement('div');\n",
              "          docLink.innerHTML = docLinkHtml;\n",
              "          element.appendChild(docLink);\n",
              "        }\n",
              "      </script>\n",
              "    </div>\n",
              "  </div>\n",
              "  "
            ]
          },
          "metadata": {},
          "execution_count": 7
        }
      ]
    },
    {
      "cell_type": "code",
      "source": [
        "ordinal_cols= list(x.columns[x.columns.str.contains('Yr|Year')])\n",
        "print('ordinal/temporal columns:\\n',ordinal_cols)\n",
        "nominal_cols= list(set(x.select_dtypes(include=['object']).columns)- set(ordinal_cols))\n",
        "print('nominal columns:\\n', nominal_cols)\n",
        "numeric_cols= list(set(x.select_dtypes(exclude=['object']).columns)- set(ordinal_cols))\n",
        "print('numeric columns:\\n',numeric_cols)"
      ],
      "metadata": {
        "colab": {
          "base_uri": "https://localhost:8080/"
        },
        "id": "VUtrO-G2xZWS",
        "outputId": "170dc701-6006-4ed9-ba1e-74cede1288f7"
      },
      "execution_count": 8,
      "outputs": [
        {
          "output_type": "stream",
          "name": "stdout",
          "text": [
            "ordinal/temporal columns:\n",
            " ['YearBuilt', 'YearRemodAdd', 'GarageYrBlt', 'YrSold']\n",
            "nominal columns:\n",
            " ['HeatingQC', 'Neighborhood', 'RoofStyle', 'LotShape', 'SaleCondition', 'LandContour', 'GarageFinish', 'Heating', 'BsmtCond', 'GarageCond', 'CentralAir', 'BldgType', 'GarageQual', 'LandSlope', 'BsmtQual', 'PavedDrive', 'MasVnrType', 'Functional', 'HouseStyle', 'LotConfig', 'Foundation', 'GarageType', 'MSZoning', 'Utilities', 'Electrical', 'ExterCond', 'Condition2', 'RoofMatl', 'Condition1', 'FireplaceQu', 'ExterQual', 'Exterior2nd', 'Street', 'BsmtExposure', 'SaleType', 'KitchenQual', 'BsmtFinType2', 'BsmtFinType1', 'Exterior1st']\n",
            "numeric columns:\n",
            " ['PoolArea', 'MoSold', 'OpenPorchSF', 'LotFrontage', 'BsmtHalfBath', 'FullBath', '3SsnPorch', 'BsmtFullBath', 'MiscVal', 'TotalBsmtSF', 'KitchenAbvGr', 'TotRmsAbvGrd', 'GarageArea', 'BsmtFinSF1', 'OverallQual', 'GarageCars', 'BsmtFinSF2', '2ndFlrSF', '1stFlrSF', 'HalfBath', 'LowQualFinSF', 'BedroomAbvGr', 'LotArea', 'MSSubClass', 'BsmtUnfSF', 'WoodDeckSF', 'GrLivArea', 'OverallCond', 'ScreenPorch', 'MasVnrArea', 'EnclosedPorch', 'Fireplaces']\n"
          ]
        }
      ]
    },
    {
      "cell_type": "code",
      "source": [
        "# Checking unique values\n",
        "x[nominal_cols].describe().transpose()"
      ],
      "metadata": {
        "colab": {
          "base_uri": "https://localhost:8080/",
          "height": 1000
        },
        "id": "nvXKWOObxdzh",
        "outputId": "7af12cab-2bbb-461f-9f33-a5502de8ee42"
      },
      "execution_count": 9,
      "outputs": [
        {
          "output_type": "execute_result",
          "data": {
            "text/plain": [
              "              count unique      top  freq\n",
              "HeatingQC      1460      5       Ex   741\n",
              "Neighborhood   1460     25    NAmes   225\n",
              "RoofStyle      1460      6    Gable  1141\n",
              "LotShape       1460      4      Reg   925\n",
              "SaleCondition  1460      6   Normal  1198\n",
              "LandContour    1460      4      Lvl  1311\n",
              "GarageFinish   1379      3      Unf   605\n",
              "Heating        1460      6     GasA  1428\n",
              "BsmtCond       1423      4       TA  1311\n",
              "GarageCond     1379      5       TA  1326\n",
              "CentralAir     1460      2        Y  1365\n",
              "BldgType       1460      5     1Fam  1220\n",
              "GarageQual     1379      5       TA  1311\n",
              "LandSlope      1460      3      Gtl  1382\n",
              "BsmtQual       1423      4       TA   649\n",
              "PavedDrive     1460      3        Y  1340\n",
              "MasVnrType     1452      4     None   864\n",
              "Functional     1460      7      Typ  1360\n",
              "HouseStyle     1460      8   1Story   726\n",
              "LotConfig      1460      5   Inside  1052\n",
              "Foundation     1460      6    PConc   647\n",
              "GarageType     1379      6   Attchd   870\n",
              "MSZoning       1460      5       RL  1151\n",
              "Utilities      1460      2   AllPub  1459\n",
              "Electrical     1459      5    SBrkr  1334\n",
              "ExterCond      1460      5       TA  1282\n",
              "Condition2     1460      8     Norm  1445\n",
              "RoofMatl       1460      8  CompShg  1434\n",
              "Condition1     1460      9     Norm  1260\n",
              "FireplaceQu     770      5       Gd   380\n",
              "ExterQual      1460      4       TA   906\n",
              "Exterior2nd    1460     16  VinylSd   504\n",
              "Street         1460      2     Pave  1454\n",
              "BsmtExposure   1422      4       No   953\n",
              "SaleType       1460      9       WD  1267\n",
              "KitchenQual    1460      4       TA   735\n",
              "BsmtFinType2   1422      6      Unf  1256\n",
              "BsmtFinType1   1423      6      Unf   430\n",
              "Exterior1st    1460     15  VinylSd   515"
            ],
            "text/html": [
              "\n",
              "  <div id=\"df-1426ca57-579d-4bfa-8959-f5e3db112a14\">\n",
              "    <div class=\"colab-df-container\">\n",
              "      <div>\n",
              "<style scoped>\n",
              "    .dataframe tbody tr th:only-of-type {\n",
              "        vertical-align: middle;\n",
              "    }\n",
              "\n",
              "    .dataframe tbody tr th {\n",
              "        vertical-align: top;\n",
              "    }\n",
              "\n",
              "    .dataframe thead th {\n",
              "        text-align: right;\n",
              "    }\n",
              "</style>\n",
              "<table border=\"1\" class=\"dataframe\">\n",
              "  <thead>\n",
              "    <tr style=\"text-align: right;\">\n",
              "      <th></th>\n",
              "      <th>count</th>\n",
              "      <th>unique</th>\n",
              "      <th>top</th>\n",
              "      <th>freq</th>\n",
              "    </tr>\n",
              "  </thead>\n",
              "  <tbody>\n",
              "    <tr>\n",
              "      <th>HeatingQC</th>\n",
              "      <td>1460</td>\n",
              "      <td>5</td>\n",
              "      <td>Ex</td>\n",
              "      <td>741</td>\n",
              "    </tr>\n",
              "    <tr>\n",
              "      <th>Neighborhood</th>\n",
              "      <td>1460</td>\n",
              "      <td>25</td>\n",
              "      <td>NAmes</td>\n",
              "      <td>225</td>\n",
              "    </tr>\n",
              "    <tr>\n",
              "      <th>RoofStyle</th>\n",
              "      <td>1460</td>\n",
              "      <td>6</td>\n",
              "      <td>Gable</td>\n",
              "      <td>1141</td>\n",
              "    </tr>\n",
              "    <tr>\n",
              "      <th>LotShape</th>\n",
              "      <td>1460</td>\n",
              "      <td>4</td>\n",
              "      <td>Reg</td>\n",
              "      <td>925</td>\n",
              "    </tr>\n",
              "    <tr>\n",
              "      <th>SaleCondition</th>\n",
              "      <td>1460</td>\n",
              "      <td>6</td>\n",
              "      <td>Normal</td>\n",
              "      <td>1198</td>\n",
              "    </tr>\n",
              "    <tr>\n",
              "      <th>LandContour</th>\n",
              "      <td>1460</td>\n",
              "      <td>4</td>\n",
              "      <td>Lvl</td>\n",
              "      <td>1311</td>\n",
              "    </tr>\n",
              "    <tr>\n",
              "      <th>GarageFinish</th>\n",
              "      <td>1379</td>\n",
              "      <td>3</td>\n",
              "      <td>Unf</td>\n",
              "      <td>605</td>\n",
              "    </tr>\n",
              "    <tr>\n",
              "      <th>Heating</th>\n",
              "      <td>1460</td>\n",
              "      <td>6</td>\n",
              "      <td>GasA</td>\n",
              "      <td>1428</td>\n",
              "    </tr>\n",
              "    <tr>\n",
              "      <th>BsmtCond</th>\n",
              "      <td>1423</td>\n",
              "      <td>4</td>\n",
              "      <td>TA</td>\n",
              "      <td>1311</td>\n",
              "    </tr>\n",
              "    <tr>\n",
              "      <th>GarageCond</th>\n",
              "      <td>1379</td>\n",
              "      <td>5</td>\n",
              "      <td>TA</td>\n",
              "      <td>1326</td>\n",
              "    </tr>\n",
              "    <tr>\n",
              "      <th>CentralAir</th>\n",
              "      <td>1460</td>\n",
              "      <td>2</td>\n",
              "      <td>Y</td>\n",
              "      <td>1365</td>\n",
              "    </tr>\n",
              "    <tr>\n",
              "      <th>BldgType</th>\n",
              "      <td>1460</td>\n",
              "      <td>5</td>\n",
              "      <td>1Fam</td>\n",
              "      <td>1220</td>\n",
              "    </tr>\n",
              "    <tr>\n",
              "      <th>GarageQual</th>\n",
              "      <td>1379</td>\n",
              "      <td>5</td>\n",
              "      <td>TA</td>\n",
              "      <td>1311</td>\n",
              "    </tr>\n",
              "    <tr>\n",
              "      <th>LandSlope</th>\n",
              "      <td>1460</td>\n",
              "      <td>3</td>\n",
              "      <td>Gtl</td>\n",
              "      <td>1382</td>\n",
              "    </tr>\n",
              "    <tr>\n",
              "      <th>BsmtQual</th>\n",
              "      <td>1423</td>\n",
              "      <td>4</td>\n",
              "      <td>TA</td>\n",
              "      <td>649</td>\n",
              "    </tr>\n",
              "    <tr>\n",
              "      <th>PavedDrive</th>\n",
              "      <td>1460</td>\n",
              "      <td>3</td>\n",
              "      <td>Y</td>\n",
              "      <td>1340</td>\n",
              "    </tr>\n",
              "    <tr>\n",
              "      <th>MasVnrType</th>\n",
              "      <td>1452</td>\n",
              "      <td>4</td>\n",
              "      <td>None</td>\n",
              "      <td>864</td>\n",
              "    </tr>\n",
              "    <tr>\n",
              "      <th>Functional</th>\n",
              "      <td>1460</td>\n",
              "      <td>7</td>\n",
              "      <td>Typ</td>\n",
              "      <td>1360</td>\n",
              "    </tr>\n",
              "    <tr>\n",
              "      <th>HouseStyle</th>\n",
              "      <td>1460</td>\n",
              "      <td>8</td>\n",
              "      <td>1Story</td>\n",
              "      <td>726</td>\n",
              "    </tr>\n",
              "    <tr>\n",
              "      <th>LotConfig</th>\n",
              "      <td>1460</td>\n",
              "      <td>5</td>\n",
              "      <td>Inside</td>\n",
              "      <td>1052</td>\n",
              "    </tr>\n",
              "    <tr>\n",
              "      <th>Foundation</th>\n",
              "      <td>1460</td>\n",
              "      <td>6</td>\n",
              "      <td>PConc</td>\n",
              "      <td>647</td>\n",
              "    </tr>\n",
              "    <tr>\n",
              "      <th>GarageType</th>\n",
              "      <td>1379</td>\n",
              "      <td>6</td>\n",
              "      <td>Attchd</td>\n",
              "      <td>870</td>\n",
              "    </tr>\n",
              "    <tr>\n",
              "      <th>MSZoning</th>\n",
              "      <td>1460</td>\n",
              "      <td>5</td>\n",
              "      <td>RL</td>\n",
              "      <td>1151</td>\n",
              "    </tr>\n",
              "    <tr>\n",
              "      <th>Utilities</th>\n",
              "      <td>1460</td>\n",
              "      <td>2</td>\n",
              "      <td>AllPub</td>\n",
              "      <td>1459</td>\n",
              "    </tr>\n",
              "    <tr>\n",
              "      <th>Electrical</th>\n",
              "      <td>1459</td>\n",
              "      <td>5</td>\n",
              "      <td>SBrkr</td>\n",
              "      <td>1334</td>\n",
              "    </tr>\n",
              "    <tr>\n",
              "      <th>ExterCond</th>\n",
              "      <td>1460</td>\n",
              "      <td>5</td>\n",
              "      <td>TA</td>\n",
              "      <td>1282</td>\n",
              "    </tr>\n",
              "    <tr>\n",
              "      <th>Condition2</th>\n",
              "      <td>1460</td>\n",
              "      <td>8</td>\n",
              "      <td>Norm</td>\n",
              "      <td>1445</td>\n",
              "    </tr>\n",
              "    <tr>\n",
              "      <th>RoofMatl</th>\n",
              "      <td>1460</td>\n",
              "      <td>8</td>\n",
              "      <td>CompShg</td>\n",
              "      <td>1434</td>\n",
              "    </tr>\n",
              "    <tr>\n",
              "      <th>Condition1</th>\n",
              "      <td>1460</td>\n",
              "      <td>9</td>\n",
              "      <td>Norm</td>\n",
              "      <td>1260</td>\n",
              "    </tr>\n",
              "    <tr>\n",
              "      <th>FireplaceQu</th>\n",
              "      <td>770</td>\n",
              "      <td>5</td>\n",
              "      <td>Gd</td>\n",
              "      <td>380</td>\n",
              "    </tr>\n",
              "    <tr>\n",
              "      <th>ExterQual</th>\n",
              "      <td>1460</td>\n",
              "      <td>4</td>\n",
              "      <td>TA</td>\n",
              "      <td>906</td>\n",
              "    </tr>\n",
              "    <tr>\n",
              "      <th>Exterior2nd</th>\n",
              "      <td>1460</td>\n",
              "      <td>16</td>\n",
              "      <td>VinylSd</td>\n",
              "      <td>504</td>\n",
              "    </tr>\n",
              "    <tr>\n",
              "      <th>Street</th>\n",
              "      <td>1460</td>\n",
              "      <td>2</td>\n",
              "      <td>Pave</td>\n",
              "      <td>1454</td>\n",
              "    </tr>\n",
              "    <tr>\n",
              "      <th>BsmtExposure</th>\n",
              "      <td>1422</td>\n",
              "      <td>4</td>\n",
              "      <td>No</td>\n",
              "      <td>953</td>\n",
              "    </tr>\n",
              "    <tr>\n",
              "      <th>SaleType</th>\n",
              "      <td>1460</td>\n",
              "      <td>9</td>\n",
              "      <td>WD</td>\n",
              "      <td>1267</td>\n",
              "    </tr>\n",
              "    <tr>\n",
              "      <th>KitchenQual</th>\n",
              "      <td>1460</td>\n",
              "      <td>4</td>\n",
              "      <td>TA</td>\n",
              "      <td>735</td>\n",
              "    </tr>\n",
              "    <tr>\n",
              "      <th>BsmtFinType2</th>\n",
              "      <td>1422</td>\n",
              "      <td>6</td>\n",
              "      <td>Unf</td>\n",
              "      <td>1256</td>\n",
              "    </tr>\n",
              "    <tr>\n",
              "      <th>BsmtFinType1</th>\n",
              "      <td>1423</td>\n",
              "      <td>6</td>\n",
              "      <td>Unf</td>\n",
              "      <td>430</td>\n",
              "    </tr>\n",
              "    <tr>\n",
              "      <th>Exterior1st</th>\n",
              "      <td>1460</td>\n",
              "      <td>15</td>\n",
              "      <td>VinylSd</td>\n",
              "      <td>515</td>\n",
              "    </tr>\n",
              "  </tbody>\n",
              "</table>\n",
              "</div>\n",
              "      <button class=\"colab-df-convert\" onclick=\"convertToInteractive('df-1426ca57-579d-4bfa-8959-f5e3db112a14')\"\n",
              "              title=\"Convert this dataframe to an interactive table.\"\n",
              "              style=\"display:none;\">\n",
              "        \n",
              "  <svg xmlns=\"http://www.w3.org/2000/svg\" height=\"24px\"viewBox=\"0 0 24 24\"\n",
              "       width=\"24px\">\n",
              "    <path d=\"M0 0h24v24H0V0z\" fill=\"none\"/>\n",
              "    <path d=\"M18.56 5.44l.94 2.06.94-2.06 2.06-.94-2.06-.94-.94-2.06-.94 2.06-2.06.94zm-11 1L8.5 8.5l.94-2.06 2.06-.94-2.06-.94L8.5 2.5l-.94 2.06-2.06.94zm10 10l.94 2.06.94-2.06 2.06-.94-2.06-.94-.94-2.06-.94 2.06-2.06.94z\"/><path d=\"M17.41 7.96l-1.37-1.37c-.4-.4-.92-.59-1.43-.59-.52 0-1.04.2-1.43.59L10.3 9.45l-7.72 7.72c-.78.78-.78 2.05 0 2.83L4 21.41c.39.39.9.59 1.41.59.51 0 1.02-.2 1.41-.59l7.78-7.78 2.81-2.81c.8-.78.8-2.07 0-2.86zM5.41 20L4 18.59l7.72-7.72 1.47 1.35L5.41 20z\"/>\n",
              "  </svg>\n",
              "      </button>\n",
              "      \n",
              "  <style>\n",
              "    .colab-df-container {\n",
              "      display:flex;\n",
              "      flex-wrap:wrap;\n",
              "      gap: 12px;\n",
              "    }\n",
              "\n",
              "    .colab-df-convert {\n",
              "      background-color: #E8F0FE;\n",
              "      border: none;\n",
              "      border-radius: 50%;\n",
              "      cursor: pointer;\n",
              "      display: none;\n",
              "      fill: #1967D2;\n",
              "      height: 32px;\n",
              "      padding: 0 0 0 0;\n",
              "      width: 32px;\n",
              "    }\n",
              "\n",
              "    .colab-df-convert:hover {\n",
              "      background-color: #E2EBFA;\n",
              "      box-shadow: 0px 1px 2px rgba(60, 64, 67, 0.3), 0px 1px 3px 1px rgba(60, 64, 67, 0.15);\n",
              "      fill: #174EA6;\n",
              "    }\n",
              "\n",
              "    [theme=dark] .colab-df-convert {\n",
              "      background-color: #3B4455;\n",
              "      fill: #D2E3FC;\n",
              "    }\n",
              "\n",
              "    [theme=dark] .colab-df-convert:hover {\n",
              "      background-color: #434B5C;\n",
              "      box-shadow: 0px 1px 3px 1px rgba(0, 0, 0, 0.15);\n",
              "      filter: drop-shadow(0px 1px 2px rgba(0, 0, 0, 0.3));\n",
              "      fill: #FFFFFF;\n",
              "    }\n",
              "  </style>\n",
              "\n",
              "      <script>\n",
              "        const buttonEl =\n",
              "          document.querySelector('#df-1426ca57-579d-4bfa-8959-f5e3db112a14 button.colab-df-convert');\n",
              "        buttonEl.style.display =\n",
              "          google.colab.kernel.accessAllowed ? 'block' : 'none';\n",
              "\n",
              "        async function convertToInteractive(key) {\n",
              "          const element = document.querySelector('#df-1426ca57-579d-4bfa-8959-f5e3db112a14');\n",
              "          const dataTable =\n",
              "            await google.colab.kernel.invokeFunction('convertToInteractive',\n",
              "                                                     [key], {});\n",
              "          if (!dataTable) return;\n",
              "\n",
              "          const docLinkHtml = 'Like what you see? Visit the ' +\n",
              "            '<a target=\"_blank\" href=https://colab.research.google.com/notebooks/data_table.ipynb>data table notebook</a>'\n",
              "            + ' to learn more about interactive tables.';\n",
              "          element.innerHTML = '';\n",
              "          dataTable['output_type'] = 'display_data';\n",
              "          await google.colab.output.renderOutput(dataTable, element);\n",
              "          const docLink = document.createElement('div');\n",
              "          docLink.innerHTML = docLinkHtml;\n",
              "          element.appendChild(docLink);\n",
              "        }\n",
              "      </script>\n",
              "    </div>\n",
              "  </div>\n",
              "  "
            ]
          },
          "metadata": {},
          "execution_count": 9
        }
      ]
    },
    {
      "cell_type": "code",
      "source": [
        "x_train, x_test, y_train, y_test= train_test_split(x,y, test_size=0.20, random_state=0)\n",
        "\n",
        "x_train.shape, x_test.shape, y_train.shape, y_test.shape"
      ],
      "metadata": {
        "colab": {
          "base_uri": "https://localhost:8080/"
        },
        "id": "ets7Iot-xlg4",
        "outputId": "d5ac122f-481a-41bb-e242-b75ca000d8f8"
      },
      "execution_count": 10,
      "outputs": [
        {
          "output_type": "execute_result",
          "data": {
            "text/plain": [
              "((1168, 75), (292, 75), (1168,), (292,))"
            ]
          },
          "metadata": {},
          "execution_count": 10
        }
      ]
    },
    {
      "cell_type": "code",
      "source": [
        "#IMPUTE MISSING VALUES\n",
        "#Fuction to find number of missing values in each category  \n",
        "\n",
        "def missing_val_imputation(x, ordinal_cols,nominal_cols,numeric_cols):\n",
        "    \n",
        "    for col in ordinal_cols:\n",
        "        x.loc[:,col]= x.loc[:,col].fillna(x.loc[:,col].mean())\n",
        "\n",
        "    x.loc[:,nominal_cols]= x.loc[:,nominal_cols].fillna(\"?\")\n",
        "    \n",
        "    for col in numeric_cols:\n",
        "        x.loc[:,col]= x.loc[:,col].fillna(x.loc[:,col].mean())\n",
        "#         x.loc[:,col]= x.groupby(\"OverallQual\")[col].transform(lambda grp:grp.fillna(np.mean(grp)))\n",
        "    print(\"All missing values are now imputed!\\n\",x.isnull().sum().sort_values(ascending=False))\n",
        "    \n",
        "    return x"
      ],
      "metadata": {
        "id": "j5GwogCmxnTd"
      },
      "execution_count": 11,
      "outputs": []
    },
    {
      "cell_type": "code",
      "source": [
        "#Fİnding # of missing values in train and test splits\n",
        "\n",
        "x_train= missing_val_imputation(x_train,ordinal_cols,nominal_cols,numeric_cols)\n",
        "x_test= missing_val_imputation(x_test,ordinal_cols,nominal_cols,numeric_cols)"
      ],
      "metadata": {
        "colab": {
          "base_uri": "https://localhost:8080/"
        },
        "id": "CyALrvEbx24_",
        "outputId": "e61f1e2d-2f97-4815-cd6f-5c571098876c"
      },
      "execution_count": 12,
      "outputs": [
        {
          "output_type": "stream",
          "name": "stdout",
          "text": [
            "All missing values are now imputed!\n",
            " MSSubClass       0\n",
            "GarageType       0\n",
            "Fireplaces       0\n",
            "Functional       0\n",
            "TotRmsAbvGrd     0\n",
            "                ..\n",
            "MasVnrArea       0\n",
            "MasVnrType       0\n",
            "Exterior2nd      0\n",
            "Exterior1st      0\n",
            "SaleCondition    0\n",
            "Length: 75, dtype: int64\n",
            "All missing values are now imputed!\n",
            " MSSubClass       0\n",
            "GarageType       0\n",
            "Fireplaces       0\n",
            "Functional       0\n",
            "TotRmsAbvGrd     0\n",
            "                ..\n",
            "MasVnrArea       0\n",
            "MasVnrType       0\n",
            "Exterior2nd      0\n",
            "Exterior1st      0\n",
            "SaleCondition    0\n",
            "Length: 75, dtype: int64\n"
          ]
        }
      ]
    },
    {
      "cell_type": "code",
      "source": [
        "from sklearn.preprocessing import OneHotEncoder\n",
        "# Fitting OHE object\n",
        "ohe= OneHotEncoder(handle_unknown='ignore', sparse=False).fit(x_train[nominal_cols]) \n",
        "\n",
        "#Feature Encoding for nominal columns\n",
        "\n",
        "def ohe_transform(x, ohe, nominal_cols):\n",
        "    x_ohe= pd.DataFrame(ohe.transform(x[nominal_cols]))\n",
        "    x_ohe.columns=ohe.get_feature_names_out(nominal_cols)\n",
        "\n",
        "    # prepping x\n",
        "    x=x.drop(nominal_cols, axis=1)\n",
        "    x.reset_index(inplace=True, drop=True)\n",
        "    x= x.merge(x_ohe, left_index=True, right_index=True)\n",
        "    \n",
        "    return x\n",
        "\n",
        "x_train= ohe_transform(x_train, ohe, nominal_cols)\n",
        "x_test= ohe_transform(x_test, ohe, nominal_cols)\n",
        "x_train.shape, x_test.shape"
      ],
      "metadata": {
        "colab": {
          "base_uri": "https://localhost:8080/"
        },
        "id": "N6IfnwICx6UG",
        "outputId": "864a042f-3931-484f-c549-820b90699f5c"
      },
      "execution_count": 14,
      "outputs": [
        {
          "output_type": "stream",
          "name": "stderr",
          "text": [
            "/usr/local/lib/python3.10/dist-packages/sklearn/preprocessing/_encoders.py:868: FutureWarning: `sparse` was renamed to `sparse_output` in version 1.2 and will be removed in 1.4. `sparse_output` is ignored unless you leave `sparse` to its default value.\n",
            "  warnings.warn(\n"
          ]
        },
        {
          "output_type": "execute_result",
          "data": {
            "text/plain": [
              "((1168, 283), (292, 283))"
            ]
          },
          "metadata": {},
          "execution_count": 14
        }
      ]
    },
    {
      "cell_type": "code",
      "source": [
        "from sklearn.preprocessing import StandardScaler\n",
        "\n",
        "# Standard Scaling\n",
        "ss= StandardScaler()\n",
        "x_train_ss= pd.DataFrame(ss.fit_transform(x_train))\n",
        "x_test_ss= pd.DataFrame(ss.transform(x_test))\n",
        "x_train.shape, x_train_ss.shape, x_test_ss.shape, y_train.shape"
      ],
      "metadata": {
        "colab": {
          "base_uri": "https://localhost:8080/"
        },
        "id": "X6VMFzleyMDw",
        "outputId": "f23ad360-017b-4d2e-d649-fed05492fb0b"
      },
      "execution_count": 15,
      "outputs": [
        {
          "output_type": "execute_result",
          "data": {
            "text/plain": [
              "((1168, 283), (1168, 283), (292, 283), (1168,))"
            ]
          },
          "metadata": {},
          "execution_count": 15
        }
      ]
    },
    {
      "cell_type": "markdown",
      "source": [
        "FEATURE SELECTION "
      ],
      "metadata": {
        "id": "tO2hZQzzyTwD"
      }
    },
    {
      "cell_type": "code",
      "source": [
        "from sklearn.linear_model import Lasso\n",
        "from sklearn.feature_selection import SelectFromModel\n",
        "\n",
        "sel= SelectFromModel(Lasso(alpha=0.5, max_iter=3000, tol=0.005, random_state=0, warm_start= False)) # warm_start= True\n",
        "\n",
        "# train the lasso model and select features\n",
        "sel.fit(x_train_ss, y_train)\n",
        "\n",
        "sel.get_support()\n",
        "\n",
        "selected_feats= x_train_ss.columns[(sel.get_support())]\n",
        "\n",
        "# print the stats\n",
        "print(\"# of total features: \",x_train.shape[1])\n",
        "print(\"# of selected features: \",len(selected_feats))\n",
        "# print(\"# of rejected features: \",np.sum(sel.estimator_.coef_==0))\n",
        "# print('Selected features:', selected_feats)\n",
        "\n",
        "x_train_ss= x_train_ss[selected_feats]\n",
        "x_test_ss= x_test_ss[selected_feats]\n",
        "\n",
        "x_train_ss.shape, x_test_ss.shape"
      ],
      "metadata": {
        "colab": {
          "base_uri": "https://localhost:8080/"
        },
        "id": "lXilRQvKyVMl",
        "outputId": "84800c97-c99e-4ecb-aa7e-a06cab54a2ce"
      },
      "execution_count": 16,
      "outputs": [
        {
          "output_type": "stream",
          "name": "stdout",
          "text": [
            "# of total features:  283\n",
            "# of selected features:  264\n"
          ]
        },
        {
          "output_type": "execute_result",
          "data": {
            "text/plain": [
              "((1168, 264), (292, 264))"
            ]
          },
          "metadata": {},
          "execution_count": 16
        }
      ]
    },
    {
      "cell_type": "code",
      "source": [
        "x_train.columns[10]\n",
        "x_train['BsmtUnfSF']"
      ],
      "metadata": {
        "colab": {
          "base_uri": "https://localhost:8080/"
        },
        "id": "uxv4RYHOyeK3",
        "outputId": "e45ea458-dc65-4454-c604-e943b42c4ff3"
      },
      "execution_count": 17,
      "outputs": [
        {
          "output_type": "execute_result",
          "data": {
            "text/plain": [
              "0       1774\n",
              "1        894\n",
              "2        163\n",
              "3        350\n",
              "4       1541\n",
              "        ... \n",
              "1163      89\n",
              "1164     625\n",
              "1165       0\n",
              "1166    1374\n",
              "1167    1195\n",
              "Name: BsmtUnfSF, Length: 1168, dtype: int64"
            ]
          },
          "metadata": {},
          "execution_count": 17
        }
      ]
    },
    {
      "cell_type": "code",
      "source": [
        "x_train_ss[10]"
      ],
      "metadata": {
        "colab": {
          "base_uri": "https://localhost:8080/"
        },
        "id": "bfX9n2E4yo5l",
        "outputId": "44c486e2-2edc-41fb-afb4-fdf53c1abe65"
      },
      "execution_count": 18,
      "outputs": [
        {
          "output_type": "execute_result",
          "data": {
            "text/plain": [
              "0       2.757198\n",
              "1       0.745229\n",
              "2      -0.926076\n",
              "3      -0.498533\n",
              "4       2.224484\n",
              "          ...   \n",
              "1163   -1.095265\n",
              "1164    0.130207\n",
              "1165   -1.298748\n",
              "1166    1.842667\n",
              "1167    1.433414\n",
              "Name: 10, Length: 1168, dtype: float64"
            ]
          },
          "metadata": {},
          "execution_count": 18
        }
      ]
    },
    {
      "cell_type": "markdown",
      "source": [
        "BUILD A NEURAL NETWORK"
      ],
      "metadata": {
        "id": "tB6NBkrGysfJ"
      }
    },
    {
      "cell_type": "code",
      "source": [
        "# Building a neural network\n",
        "import keras\n",
        "\n",
        "optimizer= tf.keras.optimizers.Adam(0.001)\n",
        "\n",
        "normal_model = Sequential()\n",
        "normal_model.add(Dense(128, input_shape=[len(x_train_ss.keys())], kernel_initializer='normal', activation='relu'))\n",
        "normal_model.add(Dense(64, kernel_initializer='normal', activation='relu'))\n",
        "normal_model.add(Dense(32, kernel_initializer='normal', activation='relu'))\n",
        "normal_model.add(Dense(1, kernel_initializer='normal'))\n",
        "normal_model.compile(loss='mse', optimizer = optimizer, metrics=['mean_absolute_error','mean_squared_error'])\n",
        "\n",
        "# Build and inspect the model\n",
        "\n",
        "normal_model.summary()"
      ],
      "metadata": {
        "colab": {
          "base_uri": "https://localhost:8080/"
        },
        "id": "ja_RRKTMyv9L",
        "outputId": "12f9080e-5e0b-48f2-93a2-5df58c9813c6"
      },
      "execution_count": 19,
      "outputs": [
        {
          "output_type": "stream",
          "name": "stdout",
          "text": [
            "Model: \"sequential\"\n",
            "_________________________________________________________________\n",
            " Layer (type)                Output Shape              Param #   \n",
            "=================================================================\n",
            " dense (Dense)               (None, 128)               33920     \n",
            "                                                                 \n",
            " dense_1 (Dense)             (None, 64)                8256      \n",
            "                                                                 \n",
            " dense_2 (Dense)             (None, 32)                2080      \n",
            "                                                                 \n",
            " dense_3 (Dense)             (None, 1)                 33        \n",
            "                                                                 \n",
            "=================================================================\n",
            "Total params: 44,289\n",
            "Trainable params: 44,289\n",
            "Non-trainable params: 0\n",
            "_________________________________________________________________\n"
          ]
        }
      ]
    },
    {
      "cell_type": "code",
      "source": [
        "#TRAIN MODEL & EVALUATE\n",
        "early_stopping_cb = keras.callbacks.EarlyStopping(monitor='val_loss', patience=20, verbose=1, mode='min', restore_best_weights=False)\n",
        "\n",
        "history= normal_model.fit(\n",
        "    x_train_ss, y_train,\n",
        "    epochs=200,\n",
        "    validation_data=(x_test_ss, y_test),\n",
        "    verbose=0, #set verbose=1 for full details at every epoch\n",
        "    callbacks= [early_stopping_cb])\n",
        "\n",
        "loss, mae, mse= normal_model.evaluate(x_test_ss, y_test, verbose=2)\n",
        "\n",
        "print(\"Test-set Mean absolute error: {:5.2f}\".format(mae)) # test mae- 30797"
      ],
      "metadata": {
        "colab": {
          "base_uri": "https://localhost:8080/"
        },
        "id": "dj1pD25ny8e2",
        "outputId": "6905605e-fa7d-4eee-bd20-9ead6d93c9ba"
      },
      "execution_count": 20,
      "outputs": [
        {
          "output_type": "stream",
          "name": "stdout",
          "text": [
            "Epoch 67: early stopping\n",
            "10/10 - 0s - loss: 3927187712.0000 - mean_absolute_error: 30797.3535 - mean_squared_error: 3927187712.0000 - 37ms/epoch - 4ms/step\n",
            "Test-set Mean absolute error: 30797.35\n"
          ]
        }
      ]
    },
    {
      "cell_type": "code",
      "source": [
        "loss, mae, mse= normal_model.evaluate(x_test_ss, y_test, verbose=2)\n",
        "\n",
        "print(\"Test-set Mean absolute error: {:5.2f}\".format(mae)) # test mae- 07797"
      ],
      "metadata": {
        "colab": {
          "base_uri": "https://localhost:8080/"
        },
        "id": "zWdhQXR8zQUg",
        "outputId": "152241f8-70a3-40a0-ef51-9f118f87b7cb"
      },
      "execution_count": 21,
      "outputs": [
        {
          "output_type": "stream",
          "name": "stdout",
          "text": [
            "10/10 - 0s - loss: 3927187712.0000 - mean_absolute_error: 30797.3535 - mean_squared_error: 3927187712.0000 - 40ms/epoch - 4ms/step\n",
            "Test-set Mean absolute error: 30797.35\n"
          ]
        }
      ]
    },
    {
      "cell_type": "code",
      "source": [
        "plt.figure(figsize=(10,10))\n",
        "\n",
        "plt.subplot(2,2,1)\n",
        "plt.plot(history.history['loss'], label='loss')\n",
        "plt.plot(history.history['val_loss'], label='Validation Loss')\n",
        "plt.legend()\n",
        "plt.title('Training - Loss Function')\n",
        "\n",
        "plt.subplot(2, 2, 2)\n",
        "plt.plot(history.history['mean_absolute_error'], label='Mean absolute error')\n",
        "plt.plot(history.history['val_mean_absolute_error'], label='Validation mean absolute error')\n",
        "plt.legend()\n",
        "plt.title('Train - MAE')"
      ],
      "metadata": {
        "colab": {
          "base_uri": "https://localhost:8080/",
          "height": 450
        },
        "id": "jDztwStzzS6R",
        "outputId": "10b03d84-08b5-4aa6-fac7-9d0ba6613529"
      },
      "execution_count": 22,
      "outputs": [
        {
          "output_type": "execute_result",
          "data": {
            "text/plain": [
              "Text(0.5, 1.0, 'Train - MAE')"
            ]
          },
          "metadata": {},
          "execution_count": 22
        },
        {
          "output_type": "display_data",
          "data": {
            "text/plain": [
              "<Figure size 1000x1000 with 2 Axes>"
            ],
            "image/png": "[encoded data removed]"
          },
          "metadata": {}
        }
      ]
    },
    {
      "cell_type": "code",
      "source": [
        "#Predict tests\n",
        "y_pred_test= normal_model.predict(x_test_ss).flatten()\n",
        "\n",
        "# a = plt.axes(aspect='equal')\n",
        "plt.scatter(y_test, y_pred_test)\n",
        "plt.xlabel('True Values [SalesPrice]')\n",
        "plt.ylabel('Predictions [SalesPrice]')\n",
        "\n",
        "lims=[0, max(y_test)]\n",
        "plt.xlim(lims)\n",
        "plt.ylim(lims)\n",
        "_ = plt.plot(lims, lims)"
      ],
      "metadata": {
        "colab": {
          "base_uri": "https://localhost:8080/",
          "height": 466
        },
        "id": "1w1G-VgYzeDw",
        "outputId": "dc8413e1-c422-4aa0-ee68-26541af48302"
      },
      "execution_count": 23,
      "outputs": [
        {
          "output_type": "stream",
          "name": "stdout",
          "text": [
            "10/10 [==============================] - 0s 2ms/step\n"
          ]
        },
        {
          "output_type": "display_data",
          "data": {
            "text/plain": [
              "<Figure size 640x480 with 1 Axes>"
            ],
            "image/png": "[encoded data removed]"
          },
          "metadata": {}
        }
      ]
    },
    {
      "cell_type": "code",
      "source": [
        "#ERROR DISTRIBUTION \n",
        "error= y_pred_test-y_test\n",
        "plt.hist(error, bins=25)\n",
        "plt.xlabel('Prediction Error [SalesPrice]')\n",
        "_=plt.ylabel('Count')"
      ],
      "metadata": {
        "colab": {
          "base_uri": "https://localhost:8080/",
          "height": 449
        },
        "id": "MnjapF25zm1L",
        "outputId": "70c4c519-9e46-4414-c6d4-6df24086fa47"
      },
      "execution_count": 24,
      "outputs": [
        {
          "output_type": "display_data",
          "data": {
            "text/plain": [
              "<Figure size 640x480 with 1 Axes>"
            ],
            "image/png": "[encoded data removed]"
          },
          "metadata": {}
        }
      ]
    },
    {
      "cell_type": "code",
      "source": [
        "# Importing Test data\n",
        "test_data= pd.read_csv('/content/drive/MyDrive/Data Science/Datasets/Machine Learning Data/Kaggle/test.csv')\n",
        "\n",
        "# Considering same columns which are used for training\n",
        "test_data= test_data[train_cols]\n",
        "\n",
        "test_data.shape\n",
        "\n",
        "# Preprocessing the test dataset\n",
        "test_data= missing_val_imputation(test_data,ordinal_cols,nominal_cols,numeric_cols)\n",
        "\n",
        "test_data= ohe_transform(test_data, ohe, nominal_cols)\n",
        "\n",
        "test_data_ss= pd.DataFrame(ss.transform(test_data))\n",
        "\n",
        "test_data_ss= test_data_ss[selected_feats]\n",
        "\n",
        "test_data.shape, test_data_ss.shape"
      ],
      "metadata": {
        "colab": {
          "base_uri": "https://localhost:8080/"
        },
        "id": "cSSF-2pezweR",
        "outputId": "d56cfb6a-6525-49dc-b9fd-9ae2b23feb3b"
      },
      "execution_count": 28,
      "outputs": [
        {
          "output_type": "stream",
          "name": "stdout",
          "text": [
            "All missing values are now imputed!\n",
            " MSSubClass       0\n",
            "GarageType       0\n",
            "Fireplaces       0\n",
            "Functional       0\n",
            "TotRmsAbvGrd     0\n",
            "                ..\n",
            "MasVnrArea       0\n",
            "MasVnrType       0\n",
            "Exterior2nd      0\n",
            "Exterior1st      0\n",
            "SaleCondition    0\n",
            "Length: 75, dtype: int64\n"
          ]
        },
        {
          "output_type": "execute_result",
          "data": {
            "text/plain": [
              "((1459, 283), (1459, 264))"
            ]
          },
          "metadata": {},
          "execution_count": 28
        }
      ]
    },
    {
      "cell_type": "code",
      "source": [
        "# MAKE PREDICTIONS USING THE UNTUNED MODEL\n",
        "test_predictions= normal_model.predict(test_data_ss).flatten()"
      ],
      "metadata": {
        "colab": {
          "base_uri": "https://localhost:8080/"
        },
        "id": "55jvEt110W2q",
        "outputId": "03600ac3-16ea-4055-d315-130104c66098"
      },
      "execution_count": 29,
      "outputs": [
        {
          "output_type": "stream",
          "name": "stdout",
          "text": [
            "46/46 [==============================] - 0s 2ms/step\n"
          ]
        }
      ]
    },
    {
      "cell_type": "code",
      "source": [
        "test_predictions[0]"
      ],
      "metadata": {
        "colab": {
          "base_uri": "https://localhost:8080/"
        },
        "id": "TGIbeYL10wrr",
        "outputId": "d6b5ca90-2c24-448e-8f52-7cd8003b9921"
      },
      "execution_count": 30,
      "outputs": [
        {
          "output_type": "execute_result",
          "data": {
            "text/plain": [
              "116783.516"
            ]
          },
          "metadata": {},
          "execution_count": 30
        }
      ]
    },
    {
      "cell_type": "code",
      "source": [
        "test_predictions"
      ],
      "metadata": {
        "colab": {
          "base_uri": "https://localhost:8080/"
        },
        "id": "9x5ZIkuv0xol",
        "outputId": "84efa2d6-825c-4a52-ec27-9859299b4106"
      },
      "execution_count": 31,
      "outputs": [
        {
          "output_type": "execute_result",
          "data": {
            "text/plain": [
              "array([116783.516, 159290.08 , 189741.11 , ..., 204587.7  ,  79427.38 ,\n",
              "       226432.77 ], dtype=float32)"
            ]
          },
          "metadata": {},
          "execution_count": 31
        }
      ]
    },
    {
      "cell_type": "code",
      "source": [
        "#SUBMIT DATA\n",
        "submission = pd.read_csv('/content/drive/MyDrive/Data Science/Datasets/Machine Learning Data/Kaggle/sample_submission.csv')\n",
        "submission.iloc[:,1]= np.array(test_predictions)\n",
        "\n",
        "\n",
        "submission.to_csv(\"submission.csv\",index=False)"
      ],
      "metadata": {
        "colab": {
          "base_uri": "https://localhost:8080/"
        },
        "id": "BD9O4eJn0-J1",
        "outputId": "a28e29c9-15a6-4b3d-a4e3-4c968c6516eb"
      },
      "execution_count": 35,
      "outputs": [
        {
          "output_type": "stream",
          "name": "stderr",
          "text": [
            "<ipython-input-35-d313bf6e77a3>:3: DeprecationWarning: In a future version, `df.iloc[:, i] = newvals` will attempt to set the values inplace instead of always setting a new array. To retain the old behavior, use either `df[df.columns[i]] = newvals` or, if columns are non-unique, `df.isetitem(i, newvals)`\n",
            "  submission.iloc[:,1]= np.array(test_predictions)\n"
          ]
        }
      ]
    },
    {
      "cell_type": "code",
      "source": [],
      "metadata": {
        "id": "P_aX60JM5WL4"
      },
      "execution_count": null,
      "outputs": []
    },
    {
      "cell_type": "markdown",
      "source": [
        "SUBMITTED DATA ON KAGGLE"
      ],
      "metadata": {
        "id": "j75sC3315Zgu"
      }
    },
    {
      "cell_type": "markdown",
      "source": [
        "![image.png](data:image/png;base64,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)"
      ],
      "metadata": {
        "id": "E2QYvkkL5Zm5"
      }
    },
    {
      "cell_type": "code",
      "source": [],
      "metadata": {
        "id": "HwMFuDfy5iQd"
      },
      "execution_count": null,
      "outputs": []
    }
  ]
}