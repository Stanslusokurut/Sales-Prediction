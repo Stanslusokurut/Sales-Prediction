{
  "nbformat": 4,
  "nbformat_minor": 0,
  "metadata": {
    "colab": {
      "provenance": [],
      "mount_file_id": "1jvBvH844srVBmYnScItTxtMTADbdKVYl",
      "authorship_tag": "ABX9TyNwNk9C8aQYtSExj84fLwn6",
      "include_colab_link": true
    },
    "kernelspec": {
      "name": "python3",
      "display_name": "Python 3"
    },
    "language_info": {
      "name": "python"
    }
  },
  "cells": [
    {
      "cell_type": "markdown",
      "metadata": {
        "id": "view-in-github",
        "colab_type": "text"
      },
      "source": [
        "<a href=\"https://colab.research.google.com/github/Stanslusokurut/Sales-Prediction/blob/main/Machine_Learning_Exercise_2_Cereal.ipynb\" target=\"_parent\"><img src=\"https://colab.research.google.com/assets/colab-badge.svg\" alt=\"Open In Colab\"/></a>"
      ]
    },
    {
      "cell_type": "code",
      "execution_count": null,
      "metadata": {
        "id": "gZ_d5kr2E-FT",
        "colab": {
          "base_uri": "https://localhost:8080/"
        },
        "outputId": "aedd3f0a-2fb3-4b99-9d9e-8f23c70fb9bd"
      },
      "outputs": [
        {
          "output_type": "stream",
          "name": "stdout",
          "text": [
            "Drive already mounted at /content/drive; to attempt to forcibly remount, call drive.mount(\"/content/drive\", force_remount=True).\n"
          ]
        }
      ],
      "source": [
        "#Mount Drive\n",
        "from google.colab import drive\n",
        "drive.mount('/content/drive')\n"
      ]
    },
    {
      "cell_type": "code",
      "source": [
        "# Import libraries and load the data\n",
        "import pandas as pd\n",
        "from sklearn.model_selection import train_test_split\n"
      ],
      "metadata": {
        "id": "vB5VXBUlFYoV"
      },
      "execution_count": 1,
      "outputs": []
    },
    {
      "cell_type": "code",
      "source": [
        "# Let us load the data\n",
        "import pandas as pd\n",
        "\n",
        "# Edit and place your path here\n",
        "filename = \"/content/drive/MyDrive/Data Science/Datasets/Machine Learning Data/Cereal with missing values.xlsx - Sheet 1 - cereal.csv\"\n",
        "#File has headers\n",
        "df = pd.read_csv(filename)\n",
        "df.head()"
      ],
      "metadata": {
        "colab": {
          "base_uri": "https://localhost:8080/",
          "height": 372
        },
        "id": "NKnITLckF0kT",
        "outputId": "d3dec0fc-9ca2-47c7-d7a2-3be9d82ffe70"
      },
      "execution_count": 6,
      "outputs": [
        {
          "output_type": "execute_result",
          "data": {
            "text/plain": [
              "                      name   Manufacturer  type  calories per serving  \\\n",
              "0  Apple Cinnamon Cheerios  General Mills  Cold                 110.0   \n",
              "1                  Basic 4  General Mills  Cold                 130.0   \n",
              "2                 Cheerios  General Mills  Cold                   NaN   \n",
              "3    Cinnamon Toast Crunch  General Mills  Cold                 120.0   \n",
              "4                 Clusters  General Mills  Cold                 110.0   \n",
              "\n",
              "   grams of protein  grams of fat  milligrams of sodium  \\\n",
              "0                 2           2.0                 180.0   \n",
              "1                 3           2.0                   NaN   \n",
              "2                 6           2.0                 290.0   \n",
              "3                 1           3.0                 210.0   \n",
              "4                 3           2.0                 140.0   \n",
              "\n",
              "   grams of dietary fiber  grams of complex carbohydrates  grams of sugars  \\\n",
              "0                     1.5                            10.5             10.0   \n",
              "1                     2.0                            18.0              NaN   \n",
              "2                     2.0                            17.0              1.0   \n",
              "3                     0.0                            13.0              9.0   \n",
              "4                     2.0                            13.0              7.0   \n",
              "\n",
              "   milligrams of potassium  vitamins and minerals (% of FDA recommendation)  \\\n",
              "0                       70                                             25.0   \n",
              "1                      100                                             25.0   \n",
              "2                      105                                             25.0   \n",
              "3                       45                                             25.0   \n",
              "4                      105                                             25.0   \n",
              "\n",
              "   Display shelf  Weight in ounces per one serving  \\\n",
              "0              1                              1.00   \n",
              "1              3                              1.33   \n",
              "2              1                              1.00   \n",
              "3              2                              1.00   \n",
              "4              3                              1.00   \n",
              "\n",
              "   Number of cups in one serving  Rating of cereal  \n",
              "0                           0.75         29.509541  \n",
              "1                           0.75         37.038562  \n",
              "2                           1.25         50.764999  \n",
              "3                           0.75         19.823573  \n",
              "4                           0.50         40.400208  "
            ],
            "text/html": [
              "\n",
              "  <div id=\"df-a68536b8-3dee-427a-9502-d98e35f24b37\">\n",
              "    <div class=\"colab-df-container\">\n",
              "      <div>\n",
              "<style scoped>\n",
              "    .dataframe tbody tr th:only-of-type {\n",
              "        vertical-align: middle;\n",
              "    }\n",
              "\n",
              "    .dataframe tbody tr th {\n",
              "        vertical-align: top;\n",
              "    }\n",
              "\n",
              "    .dataframe thead th {\n",
              "        text-align: right;\n",
              "    }\n",
              "</style>\n",
              "<table border=\"1\" class=\"dataframe\">\n",
              "  <thead>\n",
              "    <tr style=\"text-align: right;\">\n",
              "      <th></th>\n",
              "      <th>name</th>\n",
              "      <th>Manufacturer</th>\n",
              "      <th>type</th>\n",
              "      <th>calories per serving</th>\n",
              "      <th>grams of protein</th>\n",
              "      <th>grams of fat</th>\n",
              "      <th>milligrams of sodium</th>\n",
              "      <th>grams of dietary fiber</th>\n",
              "      <th>grams of complex carbohydrates</th>\n",
              "      <th>grams of sugars</th>\n",
              "      <th>milligrams of potassium</th>\n",
              "      <th>vitamins and minerals (% of FDA recommendation)</th>\n",
              "      <th>Display shelf</th>\n",
              "      <th>Weight in ounces per one serving</th>\n",
              "      <th>Number of cups in one serving</th>\n",
              "      <th>Rating of cereal</th>\n",
              "    </tr>\n",
              "  </thead>\n",
              "  <tbody>\n",
              "    <tr>\n",
              "      <th>0</th>\n",
              "      <td>Apple Cinnamon Cheerios</td>\n",
              "      <td>General Mills</td>\n",
              "      <td>Cold</td>\n",
              "      <td>110.0</td>\n",
              "      <td>2</td>\n",
              "      <td>2.0</td>\n",
              "      <td>180.0</td>\n",
              "      <td>1.5</td>\n",
              "      <td>10.5</td>\n",
              "      <td>10.0</td>\n",
              "      <td>70</td>\n",
              "      <td>25.0</td>\n",
              "      <td>1</td>\n",
              "      <td>1.00</td>\n",
              "      <td>0.75</td>\n",
              "      <td>29.509541</td>\n",
              "    </tr>\n",
              "    <tr>\n",
              "      <th>1</th>\n",
              "      <td>Basic 4</td>\n",
              "      <td>General Mills</td>\n",
              "      <td>Cold</td>\n",
              "      <td>130.0</td>\n",
              "      <td>3</td>\n",
              "      <td>2.0</td>\n",
              "      <td>NaN</td>\n",
              "      <td>2.0</td>\n",
              "      <td>18.0</td>\n",
              "      <td>NaN</td>\n",
              "      <td>100</td>\n",
              "      <td>25.0</td>\n",
              "      <td>3</td>\n",
              "      <td>1.33</td>\n",
              "      <td>0.75</td>\n",
              "      <td>37.038562</td>\n",
              "    </tr>\n",
              "    <tr>\n",
              "      <th>2</th>\n",
              "      <td>Cheerios</td>\n",
              "      <td>General Mills</td>\n",
              "      <td>Cold</td>\n",
              "      <td>NaN</td>\n",
              "      <td>6</td>\n",
              "      <td>2.0</td>\n",
              "      <td>290.0</td>\n",
              "      <td>2.0</td>\n",
              "      <td>17.0</td>\n",
              "      <td>1.0</td>\n",
              "      <td>105</td>\n",
              "      <td>25.0</td>\n",
              "      <td>1</td>\n",
              "      <td>1.00</td>\n",
              "      <td>1.25</td>\n",
              "      <td>50.764999</td>\n",
              "    </tr>\n",
              "    <tr>\n",
              "      <th>3</th>\n",
              "      <td>Cinnamon Toast Crunch</td>\n",
              "      <td>General Mills</td>\n",
              "      <td>Cold</td>\n",
              "      <td>120.0</td>\n",
              "      <td>1</td>\n",
              "      <td>3.0</td>\n",
              "      <td>210.0</td>\n",
              "      <td>0.0</td>\n",
              "      <td>13.0</td>\n",
              "      <td>9.0</td>\n",
              "      <td>45</td>\n",
              "      <td>25.0</td>\n",
              "      <td>2</td>\n",
              "      <td>1.00</td>\n",
              "      <td>0.75</td>\n",
              "      <td>19.823573</td>\n",
              "    </tr>\n",
              "    <tr>\n",
              "      <th>4</th>\n",
              "      <td>Clusters</td>\n",
              "      <td>General Mills</td>\n",
              "      <td>Cold</td>\n",
              "      <td>110.0</td>\n",
              "      <td>3</td>\n",
              "      <td>2.0</td>\n",
              "      <td>140.0</td>\n",
              "      <td>2.0</td>\n",
              "      <td>13.0</td>\n",
              "      <td>7.0</td>\n",
              "      <td>105</td>\n",
              "      <td>25.0</td>\n",
              "      <td>3</td>\n",
              "      <td>1.00</td>\n",
              "      <td>0.50</td>\n",
              "      <td>40.400208</td>\n",
              "    </tr>\n",
              "  </tbody>\n",
              "</table>\n",
              "</div>\n",
              "      <button class=\"colab-df-convert\" onclick=\"convertToInteractive('df-a68536b8-3dee-427a-9502-d98e35f24b37')\"\n",
              "              title=\"Convert this dataframe to an interactive table.\"\n",
              "              style=\"display:none;\">\n",
              "        \n",
              "  <svg xmlns=\"http://www.w3.org/2000/svg\" height=\"24px\"viewBox=\"0 0 24 24\"\n",
              "       width=\"24px\">\n",
              "    <path d=\"M0 0h24v24H0V0z\" fill=\"none\"/>\n",
              "    <path d=\"M18.56 5.44l.94 2.06.94-2.06 2.06-.94-2.06-.94-.94-2.06-.94 2.06-2.06.94zm-11 1L8.5 8.5l.94-2.06 2.06-.94-2.06-.94L8.5 2.5l-.94 2.06-2.06.94zm10 10l.94 2.06.94-2.06 2.06-.94-2.06-.94-.94-2.06-.94 2.06-2.06.94z\"/><path d=\"M17.41 7.96l-1.37-1.37c-.4-.4-.92-.59-1.43-.59-.52 0-1.04.2-1.43.59L10.3 9.45l-7.72 7.72c-.78.78-.78 2.05 0 2.83L4 21.41c.39.39.9.59 1.41.59.51 0 1.02-.2 1.41-.59l7.78-7.78 2.81-2.81c.8-.78.8-2.07 0-2.86zM5.41 20L4 18.59l7.72-7.72 1.47 1.35L5.41 20z\"/>\n",
              "  </svg>\n",
              "      </button>\n",
              "      \n",
              "  <style>\n",
              "    .colab-df-container {\n",
              "      display:flex;\n",
              "      flex-wrap:wrap;\n",
              "      gap: 12px;\n",
              "    }\n",
              "\n",
              "    .colab-df-convert {\n",
              "      background-color: #E8F0FE;\n",
              "      border: none;\n",
              "      border-radius: 50%;\n",
              "      cursor: pointer;\n",
              "      display: none;\n",
              "      fill: #1967D2;\n",
              "      height: 32px;\n",
              "      padding: 0 0 0 0;\n",
              "      width: 32px;\n",
              "    }\n",
              "\n",
              "    .colab-df-convert:hover {\n",
              "      background-color: #E2EBFA;\n",
              "      box-shadow: 0px 1px 2px rgba(60, 64, 67, 0.3), 0px 1px 3px 1px rgba(60, 64, 67, 0.15);\n",
              "      fill: #174EA6;\n",
              "    }\n",
              "\n",
              "    [theme=dark] .colab-df-convert {\n",
              "      background-color: #3B4455;\n",
              "      fill: #D2E3FC;\n",
              "    }\n",
              "\n",
              "    [theme=dark] .colab-df-convert:hover {\n",
              "      background-color: #434B5C;\n",
              "      box-shadow: 0px 1px 3px 1px rgba(0, 0, 0, 0.15);\n",
              "      filter: drop-shadow(0px 1px 2px rgba(0, 0, 0, 0.3));\n",
              "      fill: #FFFFFF;\n",
              "    }\n",
              "  </style>\n",
              "\n",
              "      <script>\n",
              "        const buttonEl =\n",
              "          document.querySelector('#df-a68536b8-3dee-427a-9502-d98e35f24b37 button.colab-df-convert');\n",
              "        buttonEl.style.display =\n",
              "          google.colab.kernel.accessAllowed ? 'block' : 'none';\n",
              "\n",
              "        async function convertToInteractive(key) {\n",
              "          const element = document.querySelector('#df-a68536b8-3dee-427a-9502-d98e35f24b37');\n",
              "          const dataTable =\n",
              "            await google.colab.kernel.invokeFunction('convertToInteractive',\n",
              "                                                     [key], {});\n",
              "          if (!dataTable) return;\n",
              "\n",
              "          const docLinkHtml = 'Like what you see? Visit the ' +\n",
              "            '<a target=\"_blank\" href=https://colab.research.google.com/notebooks/data_table.ipynb>data table notebook</a>'\n",
              "            + ' to learn more about interactive tables.';\n",
              "          element.innerHTML = '';\n",
              "          dataTable['output_type'] = 'display_data';\n",
              "          await google.colab.output.renderOutput(dataTable, element);\n",
              "          const docLink = document.createElement('div');\n",
              "          docLink.innerHTML = docLinkHtml;\n",
              "          element.appendChild(docLink);\n",
              "        }\n",
              "      </script>\n",
              "    </div>\n",
              "  </div>\n",
              "  "
            ]
          },
          "metadata": {},
          "execution_count": 6
        }
      ]
    },
    {
      "cell_type": "code",
      "source": [
        "df.head()"
      ],
      "metadata": {
        "colab": {
          "base_uri": "https://localhost:8080/",
          "height": 372
        },
        "id": "iXTzJ92IL4_D",
        "outputId": "173cc47d-0b10-40c7-f3a0-196c88e209ce"
      },
      "execution_count": 7,
      "outputs": [
        {
          "output_type": "execute_result",
          "data": {
            "text/plain": [
              "                      name   Manufacturer  type  calories per serving  \\\n",
              "0  Apple Cinnamon Cheerios  General Mills  Cold                 110.0   \n",
              "1                  Basic 4  General Mills  Cold                 130.0   \n",
              "2                 Cheerios  General Mills  Cold                   NaN   \n",
              "3    Cinnamon Toast Crunch  General Mills  Cold                 120.0   \n",
              "4                 Clusters  General Mills  Cold                 110.0   \n",
              "\n",
              "   grams of protein  grams of fat  milligrams of sodium  \\\n",
              "0                 2           2.0                 180.0   \n",
              "1                 3           2.0                   NaN   \n",
              "2                 6           2.0                 290.0   \n",
              "3                 1           3.0                 210.0   \n",
              "4                 3           2.0                 140.0   \n",
              "\n",
              "   grams of dietary fiber  grams of complex carbohydrates  grams of sugars  \\\n",
              "0                     1.5                            10.5             10.0   \n",
              "1                     2.0                            18.0              NaN   \n",
              "2                     2.0                            17.0              1.0   \n",
              "3                     0.0                            13.0              9.0   \n",
              "4                     2.0                            13.0              7.0   \n",
              "\n",
              "   milligrams of potassium  vitamins and minerals (% of FDA recommendation)  \\\n",
              "0                       70                                             25.0   \n",
              "1                      100                                             25.0   \n",
              "2                      105                                             25.0   \n",
              "3                       45                                             25.0   \n",
              "4                      105                                             25.0   \n",
              "\n",
              "   Display shelf  Weight in ounces per one serving  \\\n",
              "0              1                              1.00   \n",
              "1              3                              1.33   \n",
              "2              1                              1.00   \n",
              "3              2                              1.00   \n",
              "4              3                              1.00   \n",
              "\n",
              "   Number of cups in one serving  Rating of cereal  \n",
              "0                           0.75         29.509541  \n",
              "1                           0.75         37.038562  \n",
              "2                           1.25         50.764999  \n",
              "3                           0.75         19.823573  \n",
              "4                           0.50         40.400208  "
            ],
            "text/html": [
              "\n",
              "  <div id=\"df-33497333-e9fd-4cd8-883d-ce217bf441d9\">\n",
              "    <div class=\"colab-df-container\">\n",
              "      <div>\n",
              "<style scoped>\n",
              "    .dataframe tbody tr th:only-of-type {\n",
              "        vertical-align: middle;\n",
              "    }\n",
              "\n",
              "    .dataframe tbody tr th {\n",
              "        vertical-align: top;\n",
              "    }\n",
              "\n",
              "    .dataframe thead th {\n",
              "        text-align: right;\n",
              "    }\n",
              "</style>\n",
              "<table border=\"1\" class=\"dataframe\">\n",
              "  <thead>\n",
              "    <tr style=\"text-align: right;\">\n",
              "      <th></th>\n",
              "      <th>name</th>\n",
              "      <th>Manufacturer</th>\n",
              "      <th>type</th>\n",
              "      <th>calories per serving</th>\n",
              "      <th>grams of protein</th>\n",
              "      <th>grams of fat</th>\n",
              "      <th>milligrams of sodium</th>\n",
              "      <th>grams of dietary fiber</th>\n",
              "      <th>grams of complex carbohydrates</th>\n",
              "      <th>grams of sugars</th>\n",
              "      <th>milligrams of potassium</th>\n",
              "      <th>vitamins and minerals (% of FDA recommendation)</th>\n",
              "      <th>Display shelf</th>\n",
              "      <th>Weight in ounces per one serving</th>\n",
              "      <th>Number of cups in one serving</th>\n",
              "      <th>Rating of cereal</th>\n",
              "    </tr>\n",
              "  </thead>\n",
              "  <tbody>\n",
              "    <tr>\n",
              "      <th>0</th>\n",
              "      <td>Apple Cinnamon Cheerios</td>\n",
              "      <td>General Mills</td>\n",
              "      <td>Cold</td>\n",
              "      <td>110.0</td>\n",
              "      <td>2</td>\n",
              "      <td>2.0</td>\n",
              "      <td>180.0</td>\n",
              "      <td>1.5</td>\n",
              "      <td>10.5</td>\n",
              "      <td>10.0</td>\n",
              "      <td>70</td>\n",
              "      <td>25.0</td>\n",
              "      <td>1</td>\n",
              "      <td>1.00</td>\n",
              "      <td>0.75</td>\n",
              "      <td>29.509541</td>\n",
              "    </tr>\n",
              "    <tr>\n",
              "      <th>1</th>\n",
              "      <td>Basic 4</td>\n",
              "      <td>General Mills</td>\n",
              "      <td>Cold</td>\n",
              "      <td>130.0</td>\n",
              "      <td>3</td>\n",
              "      <td>2.0</td>\n",
              "      <td>NaN</td>\n",
              "      <td>2.0</td>\n",
              "      <td>18.0</td>\n",
              "      <td>NaN</td>\n",
              "      <td>100</td>\n",
              "      <td>25.0</td>\n",
              "      <td>3</td>\n",
              "      <td>1.33</td>\n",
              "      <td>0.75</td>\n",
              "      <td>37.038562</td>\n",
              "    </tr>\n",
              "    <tr>\n",
              "      <th>2</th>\n",
              "      <td>Cheerios</td>\n",
              "      <td>General Mills</td>\n",
              "      <td>Cold</td>\n",
              "      <td>NaN</td>\n",
              "      <td>6</td>\n",
              "      <td>2.0</td>\n",
              "      <td>290.0</td>\n",
              "      <td>2.0</td>\n",
              "      <td>17.0</td>\n",
              "      <td>1.0</td>\n",
              "      <td>105</td>\n",
              "      <td>25.0</td>\n",
              "      <td>1</td>\n",
              "      <td>1.00</td>\n",
              "      <td>1.25</td>\n",
              "      <td>50.764999</td>\n",
              "    </tr>\n",
              "    <tr>\n",
              "      <th>3</th>\n",
              "      <td>Cinnamon Toast Crunch</td>\n",
              "      <td>General Mills</td>\n",
              "      <td>Cold</td>\n",
              "      <td>120.0</td>\n",
              "      <td>1</td>\n",
              "      <td>3.0</td>\n",
              "      <td>210.0</td>\n",
              "      <td>0.0</td>\n",
              "      <td>13.0</td>\n",
              "      <td>9.0</td>\n",
              "      <td>45</td>\n",
              "      <td>25.0</td>\n",
              "      <td>2</td>\n",
              "      <td>1.00</td>\n",
              "      <td>0.75</td>\n",
              "      <td>19.823573</td>\n",
              "    </tr>\n",
              "    <tr>\n",
              "      <th>4</th>\n",
              "      <td>Clusters</td>\n",
              "      <td>General Mills</td>\n",
              "      <td>Cold</td>\n",
              "      <td>110.0</td>\n",
              "      <td>3</td>\n",
              "      <td>2.0</td>\n",
              "      <td>140.0</td>\n",
              "      <td>2.0</td>\n",
              "      <td>13.0</td>\n",
              "      <td>7.0</td>\n",
              "      <td>105</td>\n",
              "      <td>25.0</td>\n",
              "      <td>3</td>\n",
              "      <td>1.00</td>\n",
              "      <td>0.50</td>\n",
              "      <td>40.400208</td>\n",
              "    </tr>\n",
              "  </tbody>\n",
              "</table>\n",
              "</div>\n",
              "      <button class=\"colab-df-convert\" onclick=\"convertToInteractive('df-33497333-e9fd-4cd8-883d-ce217bf441d9')\"\n",
              "              title=\"Convert this dataframe to an interactive table.\"\n",
              "              style=\"display:none;\">\n",
              "        \n",
              "  <svg xmlns=\"http://www.w3.org/2000/svg\" height=\"24px\"viewBox=\"0 0 24 24\"\n",
              "       width=\"24px\">\n",
              "    <path d=\"M0 0h24v24H0V0z\" fill=\"none\"/>\n",
              "    <path d=\"M18.56 5.44l.94 2.06.94-2.06 2.06-.94-2.06-.94-.94-2.06-.94 2.06-2.06.94zm-11 1L8.5 8.5l.94-2.06 2.06-.94-2.06-.94L8.5 2.5l-.94 2.06-2.06.94zm10 10l.94 2.06.94-2.06 2.06-.94-2.06-.94-.94-2.06-.94 2.06-2.06.94z\"/><path d=\"M17.41 7.96l-1.37-1.37c-.4-.4-.92-.59-1.43-.59-.52 0-1.04.2-1.43.59L10.3 9.45l-7.72 7.72c-.78.78-.78 2.05 0 2.83L4 21.41c.39.39.9.59 1.41.59.51 0 1.02-.2 1.41-.59l7.78-7.78 2.81-2.81c.8-.78.8-2.07 0-2.86zM5.41 20L4 18.59l7.72-7.72 1.47 1.35L5.41 20z\"/>\n",
              "  </svg>\n",
              "      </button>\n",
              "      \n",
              "  <style>\n",
              "    .colab-df-container {\n",
              "      display:flex;\n",
              "      flex-wrap:wrap;\n",
              "      gap: 12px;\n",
              "    }\n",
              "\n",
              "    .colab-df-convert {\n",
              "      background-color: #E8F0FE;\n",
              "      border: none;\n",
              "      border-radius: 50%;\n",
              "      cursor: pointer;\n",
              "      display: none;\n",
              "      fill: #1967D2;\n",
              "      height: 32px;\n",
              "      padding: 0 0 0 0;\n",
              "      width: 32px;\n",
              "    }\n",
              "\n",
              "    .colab-df-convert:hover {\n",
              "      background-color: #E2EBFA;\n",
              "      box-shadow: 0px 1px 2px rgba(60, 64, 67, 0.3), 0px 1px 3px 1px rgba(60, 64, 67, 0.15);\n",
              "      fill: #174EA6;\n",
              "    }\n",
              "\n",
              "    [theme=dark] .colab-df-convert {\n",
              "      background-color: #3B4455;\n",
              "      fill: #D2E3FC;\n",
              "    }\n",
              "\n",
              "    [theme=dark] .colab-df-convert:hover {\n",
              "      background-color: #434B5C;\n",
              "      box-shadow: 0px 1px 3px 1px rgba(0, 0, 0, 0.15);\n",
              "      filter: drop-shadow(0px 1px 2px rgba(0, 0, 0, 0.3));\n",
              "      fill: #FFFFFF;\n",
              "    }\n",
              "  </style>\n",
              "\n",
              "      <script>\n",
              "        const buttonEl =\n",
              "          document.querySelector('#df-33497333-e9fd-4cd8-883d-ce217bf441d9 button.colab-df-convert');\n",
              "        buttonEl.style.display =\n",
              "          google.colab.kernel.accessAllowed ? 'block' : 'none';\n",
              "\n",
              "        async function convertToInteractive(key) {\n",
              "          const element = document.querySelector('#df-33497333-e9fd-4cd8-883d-ce217bf441d9');\n",
              "          const dataTable =\n",
              "            await google.colab.kernel.invokeFunction('convertToInteractive',\n",
              "                                                     [key], {});\n",
              "          if (!dataTable) return;\n",
              "\n",
              "          const docLinkHtml = 'Like what you see? Visit the ' +\n",
              "            '<a target=\"_blank\" href=https://colab.research.google.com/notebooks/data_table.ipynb>data table notebook</a>'\n",
              "            + ' to learn more about interactive tables.';\n",
              "          element.innerHTML = '';\n",
              "          dataTable['output_type'] = 'display_data';\n",
              "          await google.colab.output.renderOutput(dataTable, element);\n",
              "          const docLink = document.createElement('div');\n",
              "          docLink.innerHTML = docLinkHtml;\n",
              "          element.appendChild(docLink);\n",
              "        }\n",
              "      </script>\n",
              "    </div>\n",
              "  </div>\n",
              "  "
            ]
          },
          "metadata": {},
          "execution_count": 7
        }
      ]
    },
    {
      "cell_type": "code",
      "source": [
        "#Create the Y variable (Target Matrix)\n",
        "y = df['calories per serving']\n",
        "#Create te Features Matrix\n",
        "X = df.drop(columns ='calories per serving')"
      ],
      "metadata": {
        "id": "YOZtK1wERL18"
      },
      "execution_count": 8,
      "outputs": []
    },
    {
      "cell_type": "code",
      "source": [
        "#Create Test data and training dataset #using the default 75% train and 25% test data\n",
        "X_train, X_test, y_train, y_test = train_test_split(X, y, random_state = 42,)"
      ],
      "metadata": {
        "id": "WEd34NNgnHjO"
      },
      "execution_count": 26,
      "outputs": []
    },
    {
      "cell_type": "code",
      "source": [
        "y.head()\n"
      ],
      "metadata": {
        "colab": {
          "base_uri": "https://localhost:8080/"
        },
        "id": "JEZ8w2dsRu8E",
        "outputId": "bd6faef8-0903-421b-9e4c-8052583558d3"
      },
      "execution_count": 9,
      "outputs": [
        {
          "output_type": "execute_result",
          "data": {
            "text/plain": [
              "0    110.0\n",
              "1    130.0\n",
              "2      NaN\n",
              "3    120.0\n",
              "4    110.0\n",
              "Name: calories per serving, dtype: float64"
            ]
          },
          "metadata": {},
          "execution_count": 9
        }
      ]
    },
    {
      "cell_type": "code",
      "source": [
        "X.head()"
      ],
      "metadata": {
        "colab": {
          "base_uri": "https://localhost:8080/",
          "height": 337
        },
        "id": "4yYt0J_rRyw1",
        "outputId": "01bb26b4-4614-4a1c-9293-3cd08ef1f3a0"
      },
      "execution_count": 10,
      "outputs": [
        {
          "output_type": "execute_result",
          "data": {
            "text/plain": [
              "                      name   Manufacturer  type  grams of protein  \\\n",
              "0  Apple Cinnamon Cheerios  General Mills  Cold                 2   \n",
              "1                  Basic 4  General Mills  Cold                 3   \n",
              "2                 Cheerios  General Mills  Cold                 6   \n",
              "3    Cinnamon Toast Crunch  General Mills  Cold                 1   \n",
              "4                 Clusters  General Mills  Cold                 3   \n",
              "\n",
              "   grams of fat  milligrams of sodium  grams of dietary fiber  \\\n",
              "0           2.0                 180.0                     1.5   \n",
              "1           2.0                   NaN                     2.0   \n",
              "2           2.0                 290.0                     2.0   \n",
              "3           3.0                 210.0                     0.0   \n",
              "4           2.0                 140.0                     2.0   \n",
              "\n",
              "   grams of complex carbohydrates  grams of sugars  milligrams of potassium  \\\n",
              "0                            10.5             10.0                       70   \n",
              "1                            18.0              NaN                      100   \n",
              "2                            17.0              1.0                      105   \n",
              "3                            13.0              9.0                       45   \n",
              "4                            13.0              7.0                      105   \n",
              "\n",
              "   vitamins and minerals (% of FDA recommendation)  Display shelf  \\\n",
              "0                                             25.0              1   \n",
              "1                                             25.0              3   \n",
              "2                                             25.0              1   \n",
              "3                                             25.0              2   \n",
              "4                                             25.0              3   \n",
              "\n",
              "   Weight in ounces per one serving  Number of cups in one serving  \\\n",
              "0                              1.00                           0.75   \n",
              "1                              1.33                           0.75   \n",
              "2                              1.00                           1.25   \n",
              "3                              1.00                           0.75   \n",
              "4                              1.00                           0.50   \n",
              "\n",
              "   Rating of cereal  \n",
              "0         29.509541  \n",
              "1         37.038562  \n",
              "2         50.764999  \n",
              "3         19.823573  \n",
              "4         40.400208  "
            ],
            "text/html": [
              "\n",
              "  <div id=\"df-7c6f09b9-8b7f-4814-9deb-4c00447df94c\">\n",
              "    <div class=\"colab-df-container\">\n",
              "      <div>\n",
              "<style scoped>\n",
              "    .dataframe tbody tr th:only-of-type {\n",
              "        vertical-align: middle;\n",
              "    }\n",
              "\n",
              "    .dataframe tbody tr th {\n",
              "        vertical-align: top;\n",
              "    }\n",
              "\n",
              "    .dataframe thead th {\n",
              "        text-align: right;\n",
              "    }\n",
              "</style>\n",
              "<table border=\"1\" class=\"dataframe\">\n",
              "  <thead>\n",
              "    <tr style=\"text-align: right;\">\n",
              "      <th></th>\n",
              "      <th>name</th>\n",
              "      <th>Manufacturer</th>\n",
              "      <th>type</th>\n",
              "      <th>grams of protein</th>\n",
              "      <th>grams of fat</th>\n",
              "      <th>milligrams of sodium</th>\n",
              "      <th>grams of dietary fiber</th>\n",
              "      <th>grams of complex carbohydrates</th>\n",
              "      <th>grams of sugars</th>\n",
              "      <th>milligrams of potassium</th>\n",
              "      <th>vitamins and minerals (% of FDA recommendation)</th>\n",
              "      <th>Display shelf</th>\n",
              "      <th>Weight in ounces per one serving</th>\n",
              "      <th>Number of cups in one serving</th>\n",
              "      <th>Rating of cereal</th>\n",
              "    </tr>\n",
              "  </thead>\n",
              "  <tbody>\n",
              "    <tr>\n",
              "      <th>0</th>\n",
              "      <td>Apple Cinnamon Cheerios</td>\n",
              "      <td>General Mills</td>\n",
              "      <td>Cold</td>\n",
              "      <td>2</td>\n",
              "      <td>2.0</td>\n",
              "      <td>180.0</td>\n",
              "      <td>1.5</td>\n",
              "      <td>10.5</td>\n",
              "      <td>10.0</td>\n",
              "      <td>70</td>\n",
              "      <td>25.0</td>\n",
              "      <td>1</td>\n",
              "      <td>1.00</td>\n",
              "      <td>0.75</td>\n",
              "      <td>29.509541</td>\n",
              "    </tr>\n",
              "    <tr>\n",
              "      <th>1</th>\n",
              "      <td>Basic 4</td>\n",
              "      <td>General Mills</td>\n",
              "      <td>Cold</td>\n",
              "      <td>3</td>\n",
              "      <td>2.0</td>\n",
              "      <td>NaN</td>\n",
              "      <td>2.0</td>\n",
              "      <td>18.0</td>\n",
              "      <td>NaN</td>\n",
              "      <td>100</td>\n",
              "      <td>25.0</td>\n",
              "      <td>3</td>\n",
              "      <td>1.33</td>\n",
              "      <td>0.75</td>\n",
              "      <td>37.038562</td>\n",
              "    </tr>\n",
              "    <tr>\n",
              "      <th>2</th>\n",
              "      <td>Cheerios</td>\n",
              "      <td>General Mills</td>\n",
              "      <td>Cold</td>\n",
              "      <td>6</td>\n",
              "      <td>2.0</td>\n",
              "      <td>290.0</td>\n",
              "      <td>2.0</td>\n",
              "      <td>17.0</td>\n",
              "      <td>1.0</td>\n",
              "      <td>105</td>\n",
              "      <td>25.0</td>\n",
              "      <td>1</td>\n",
              "      <td>1.00</td>\n",
              "      <td>1.25</td>\n",
              "      <td>50.764999</td>\n",
              "    </tr>\n",
              "    <tr>\n",
              "      <th>3</th>\n",
              "      <td>Cinnamon Toast Crunch</td>\n",
              "      <td>General Mills</td>\n",
              "      <td>Cold</td>\n",
              "      <td>1</td>\n",
              "      <td>3.0</td>\n",
              "      <td>210.0</td>\n",
              "      <td>0.0</td>\n",
              "      <td>13.0</td>\n",
              "      <td>9.0</td>\n",
              "      <td>45</td>\n",
              "      <td>25.0</td>\n",
              "      <td>2</td>\n",
              "      <td>1.00</td>\n",
              "      <td>0.75</td>\n",
              "      <td>19.823573</td>\n",
              "    </tr>\n",
              "    <tr>\n",
              "      <th>4</th>\n",
              "      <td>Clusters</td>\n",
              "      <td>General Mills</td>\n",
              "      <td>Cold</td>\n",
              "      <td>3</td>\n",
              "      <td>2.0</td>\n",
              "      <td>140.0</td>\n",
              "      <td>2.0</td>\n",
              "      <td>13.0</td>\n",
              "      <td>7.0</td>\n",
              "      <td>105</td>\n",
              "      <td>25.0</td>\n",
              "      <td>3</td>\n",
              "      <td>1.00</td>\n",
              "      <td>0.50</td>\n",
              "      <td>40.400208</td>\n",
              "    </tr>\n",
              "  </tbody>\n",
              "</table>\n",
              "</div>\n",
              "      <button class=\"colab-df-convert\" onclick=\"convertToInteractive('df-7c6f09b9-8b7f-4814-9deb-4c00447df94c')\"\n",
              "              title=\"Convert this dataframe to an interactive table.\"\n",
              "              style=\"display:none;\">\n",
              "        \n",
              "  <svg xmlns=\"http://www.w3.org/2000/svg\" height=\"24px\"viewBox=\"0 0 24 24\"\n",
              "       width=\"24px\">\n",
              "    <path d=\"M0 0h24v24H0V0z\" fill=\"none\"/>\n",
              "    <path d=\"M18.56 5.44l.94 2.06.94-2.06 2.06-.94-2.06-.94-.94-2.06-.94 2.06-2.06.94zm-11 1L8.5 8.5l.94-2.06 2.06-.94-2.06-.94L8.5 2.5l-.94 2.06-2.06.94zm10 10l.94 2.06.94-2.06 2.06-.94-2.06-.94-.94-2.06-.94 2.06-2.06.94z\"/><path d=\"M17.41 7.96l-1.37-1.37c-.4-.4-.92-.59-1.43-.59-.52 0-1.04.2-1.43.59L10.3 9.45l-7.72 7.72c-.78.78-.78 2.05 0 2.83L4 21.41c.39.39.9.59 1.41.59.51 0 1.02-.2 1.41-.59l7.78-7.78 2.81-2.81c.8-.78.8-2.07 0-2.86zM5.41 20L4 18.59l7.72-7.72 1.47 1.35L5.41 20z\"/>\n",
              "  </svg>\n",
              "      </button>\n",
              "      \n",
              "  <style>\n",
              "    .colab-df-container {\n",
              "      display:flex;\n",
              "      flex-wrap:wrap;\n",
              "      gap: 12px;\n",
              "    }\n",
              "\n",
              "    .colab-df-convert {\n",
              "      background-color: #E8F0FE;\n",
              "      border: none;\n",
              "      border-radius: 50%;\n",
              "      cursor: pointer;\n",
              "      display: none;\n",
              "      fill: #1967D2;\n",
              "      height: 32px;\n",
              "      padding: 0 0 0 0;\n",
              "      width: 32px;\n",
              "    }\n",
              "\n",
              "    .colab-df-convert:hover {\n",
              "      background-color: #E2EBFA;\n",
              "      box-shadow: 0px 1px 2px rgba(60, 64, 67, 0.3), 0px 1px 3px 1px rgba(60, 64, 67, 0.15);\n",
              "      fill: #174EA6;\n",
              "    }\n",
              "\n",
              "    [theme=dark] .colab-df-convert {\n",
              "      background-color: #3B4455;\n",
              "      fill: #D2E3FC;\n",
              "    }\n",
              "\n",
              "    [theme=dark] .colab-df-convert:hover {\n",
              "      background-color: #434B5C;\n",
              "      box-shadow: 0px 1px 3px 1px rgba(0, 0, 0, 0.15);\n",
              "      filter: drop-shadow(0px 1px 2px rgba(0, 0, 0, 0.3));\n",
              "      fill: #FFFFFF;\n",
              "    }\n",
              "  </style>\n",
              "\n",
              "      <script>\n",
              "        const buttonEl =\n",
              "          document.querySelector('#df-7c6f09b9-8b7f-4814-9deb-4c00447df94c button.colab-df-convert');\n",
              "        buttonEl.style.display =\n",
              "          google.colab.kernel.accessAllowed ? 'block' : 'none';\n",
              "\n",
              "        async function convertToInteractive(key) {\n",
              "          const element = document.querySelector('#df-7c6f09b9-8b7f-4814-9deb-4c00447df94c');\n",
              "          const dataTable =\n",
              "            await google.colab.kernel.invokeFunction('convertToInteractive',\n",
              "                                                     [key], {});\n",
              "          if (!dataTable) return;\n",
              "\n",
              "          const docLinkHtml = 'Like what you see? Visit the ' +\n",
              "            '<a target=\"_blank\" href=https://colab.research.google.com/notebooks/data_table.ipynb>data table notebook</a>'\n",
              "            + ' to learn more about interactive tables.';\n",
              "          element.innerHTML = '';\n",
              "          dataTable['output_type'] = 'display_data';\n",
              "          await google.colab.output.renderOutput(dataTable, element);\n",
              "          const docLink = document.createElement('div');\n",
              "          docLink.innerHTML = docLinkHtml;\n",
              "          element.appendChild(docLink);\n",
              "        }\n",
              "      </script>\n",
              "    </div>\n",
              "  </div>\n",
              "  "
            ]
          },
          "metadata": {},
          "execution_count": 10
        }
      ]
    },
    {
      "cell_type": "code",
      "source": [
        "#Check any missing values in x data\n",
        "X.isna().sum()\n",
        "#There are missing values that will have to be imputed"
      ],
      "metadata": {
        "colab": {
          "base_uri": "https://localhost:8080/"
        },
        "id": "EuFT2qYhZrnX",
        "outputId": "1c188cf3-2011-4618-d3bc-e6b488eaf53d"
      },
      "execution_count": 12,
      "outputs": [
        {
          "output_type": "execute_result",
          "data": {
            "text/plain": [
              "name                                               0\n",
              "Manufacturer                                       0\n",
              "type                                               9\n",
              "grams of protein                                   0\n",
              "grams of fat                                       8\n",
              "milligrams of sodium                               1\n",
              "grams of dietary fiber                             0\n",
              "grams of complex carbohydrates                     0\n",
              "grams of sugars                                    9\n",
              "milligrams of potassium                            0\n",
              "vitamins and minerals (% of FDA recommendation)    1\n",
              "Display shelf                                      0\n",
              "Weight in ounces per one serving                   0\n",
              "Number of cups in one serving                      0\n",
              "Rating of cereal                                   0\n",
              "dtype: int64"
            ]
          },
          "metadata": {},
          "execution_count": 12
        }
      ]
    },
    {
      "cell_type": "code",
      "source": [
        "X.dtypes\n",
        "#MANY CATEGORICAL VARIABLES IN THE DATA AS seen BELOW WITH OBJECT CATEGORIES/DATA TYPES "
      ],
      "metadata": {
        "colab": {
          "base_uri": "https://localhost:8080/"
        },
        "id": "JPvYkBRzamDx",
        "outputId": "7a3e8d7a-ceb0-4523-994a-b90e11707108"
      },
      "execution_count": 14,
      "outputs": [
        {
          "output_type": "execute_result",
          "data": {
            "text/plain": [
              "name                                                object\n",
              "Manufacturer                                        object\n",
              "type                                                object\n",
              "grams of protein                                     int64\n",
              "grams of fat                                       float64\n",
              "milligrams of sodium                               float64\n",
              "grams of dietary fiber                             float64\n",
              "grams of complex carbohydrates                     float64\n",
              "grams of sugars                                    float64\n",
              "milligrams of potassium                              int64\n",
              "vitamins and minerals (% of FDA recommendation)    float64\n",
              "Display shelf                                        int64\n",
              "Weight in ounces per one serving                   float64\n",
              "Number of cups in one serving                      float64\n",
              "Rating of cereal                                   float64\n",
              "dtype: object"
            ]
          },
          "metadata": {},
          "execution_count": 14
        }
      ]
    },
    {
      "cell_type": "code",
      "source": [
        "X['name'].value_counts()"
      ],
      "metadata": {
        "colab": {
          "base_uri": "https://localhost:8080/"
        },
        "id": "9kYFd1hSaArE",
        "outputId": "33e9a90c-0f5e-487e-ab70-1bc881de2996"
      },
      "execution_count": 15,
      "outputs": [
        {
          "output_type": "execute_result",
          "data": {
            "text/plain": [
              "Apple Cinnamon Cheerios      1\n",
              "Strawberry Fruit Wheats      1\n",
              "Great Grains Pecan           1\n",
              "Grape-Nuts                   1\n",
              "Grape Nuts Flakes            1\n",
              "                            ..\n",
              "Corn Flakes                  1\n",
              "Apple Jacks                  1\n",
              "All-Bran with Extra Fiber    1\n",
              "All-Bran                     1\n",
              "Quaker Oatmeal               1\n",
              "Name: name, Length: 77, dtype: int64"
            ]
          },
          "metadata": {},
          "execution_count": 15
        }
      ]
    },
    {
      "cell_type": "code",
      "source": [
        "#Unique value of name\n",
        "X['name'].unique().shape\n",
        "#There are only 3 ubique values of sex"
      ],
      "metadata": {
        "colab": {
          "base_uri": "https://localhost:8080/"
        },
        "id": "j9xpr5lHdv5N",
        "outputId": "20be0aa3-3027-4872-c388-3f05b6ffbb5a"
      },
      "execution_count": 18,
      "outputs": [
        {
          "output_type": "execute_result",
          "data": {
            "text/plain": [
              "(77,)"
            ]
          },
          "metadata": {},
          "execution_count": 18
        }
      ]
    },
    {
      "cell_type": "code",
      "source": [
        "X['Manufacturer'].value_counts()"
      ],
      "metadata": {
        "colab": {
          "base_uri": "https://localhost:8080/"
        },
        "id": "mXwL4HZ5j9re",
        "outputId": "10e9ba95-b507-40de-d5d9-83cabad11da2"
      },
      "execution_count": 20,
      "outputs": [
        {
          "output_type": "execute_result",
          "data": {
            "text/plain": [
              "Kelloggs                       23\n",
              "General Mills                  22\n",
              "Post                            9\n",
              "Quaker Oats                     8\n",
              "Ralston Purina                  8\n",
              "Nabisco                         6\n",
              "American Home Food Products     1\n",
              "Name: Manufacturer, dtype: int64"
            ]
          },
          "metadata": {},
          "execution_count": 20
        }
      ]
    },
    {
      "cell_type": "code",
      "source": [
        "X['Manufacturer'].unique().shape"
      ],
      "metadata": {
        "colab": {
          "base_uri": "https://localhost:8080/"
        },
        "id": "l9pVEE4RkSdi",
        "outputId": "c02e3b88-820e-4043-c324-f7e43f090eba"
      },
      "execution_count": 21,
      "outputs": [
        {
          "output_type": "execute_result",
          "data": {
            "text/plain": [
              "(7,)"
            ]
          },
          "metadata": {},
          "execution_count": 21
        }
      ]
    },
    {
      "cell_type": "code",
      "source": [
        "X['type'].value_counts()"
      ],
      "metadata": {
        "colab": {
          "base_uri": "https://localhost:8080/"
        },
        "id": "c9YENtHKkYIB",
        "outputId": "eb79d1ec-10f3-4450-bed4-e7cf7c566408"
      },
      "execution_count": 23,
      "outputs": [
        {
          "output_type": "execute_result",
          "data": {
            "text/plain": [
              "Cold    65\n",
              "Hot      3\n",
              "Name: type, dtype: int64"
            ]
          },
          "metadata": {},
          "execution_count": 23
        }
      ]
    },
    {
      "cell_type": "code",
      "source": [
        "X['type'].unique().shape"
      ],
      "metadata": {
        "colab": {
          "base_uri": "https://localhost:8080/"
        },
        "id": "V3euXJ_Fkt72",
        "outputId": "ba71d864-5948-474f-8212-5bb498b8ae91"
      },
      "execution_count": 24,
      "outputs": [
        {
          "output_type": "execute_result",
          "data": {
            "text/plain": [
              "(3,)"
            ]
          },
          "metadata": {},
          "execution_count": 24
        }
      ]
    },
    {
      "cell_type": "markdown",
      "source": [
        "**Name, Manufacturer and Type are the objects within the data and are all Nominal Variables **"
      ],
      "metadata": {
        "id": "ftc0L-9KkxOQ"
      }
    },
    {
      "cell_type": "code",
      "source": [
        "#HANDLE MISSING VALUES IN THE DATA FRAME (Xand Y)\n",
        "#Import Machine learning libraries \n",
        "from sklearn.compose import make_column_selector\n",
        "from sklearn.preprocessing import OneHotEncoder\n",
        "from sklearn.impute import SimpleImputer\n",
        "from sklearn import set_config\n",
        "set_config(display='diagram')"
      ],
      "metadata": {
        "id": "XKJU9AHFcqdK"
      },
      "execution_count": 28,
      "outputs": []
    },
    {
      "cell_type": "code",
      "source": [
        "\n",
        "# Check missing data\n",
        "# df.info()\n",
        "df.isna().sum()"
      ],
      "metadata": {
        "colab": {
          "base_uri": "https://localhost:8080/"
        },
        "id": "8tpkqrYVlJ4_",
        "outputId": "08aeec7c-b657-4d5d-f4ff-a8d9c0d18ff1"
      },
      "execution_count": 27,
      "outputs": [
        {
          "output_type": "execute_result",
          "data": {
            "text/plain": [
              "name                                               0\n",
              "Manufacturer                                       0\n",
              "type                                               9\n",
              "calories per serving                               7\n",
              "grams of protein                                   0\n",
              "grams of fat                                       8\n",
              "milligrams of sodium                               1\n",
              "grams of dietary fiber                             0\n",
              "grams of complex carbohydrates                     0\n",
              "grams of sugars                                    9\n",
              "milligrams of potassium                            0\n",
              "vitamins and minerals (% of FDA recommendation)    1\n",
              "Display shelf                                      0\n",
              "Weight in ounces per one serving                   0\n",
              "Number of cups in one serving                      0\n",
              "Rating of cereal                                   0\n",
              "dtype: int64"
            ]
          },
          "metadata": {},
          "execution_count": 27
        }
      ]
    },
    {
      "cell_type": "code",
      "source": [
        " df.info()"
      ],
      "metadata": {
        "colab": {
          "base_uri": "https://localhost:8080/"
        },
        "id": "JMd6KHCAocWh",
        "outputId": "d16ab848-84ce-4d58-9748-e2406e49edbb"
      },
      "execution_count": 29,
      "outputs": [
        {
          "output_type": "stream",
          "name": "stdout",
          "text": [
            "<class 'pandas.core.frame.DataFrame'>\n",
            "RangeIndex: 77 entries, 0 to 76\n",
            "Data columns (total 16 columns):\n",
            " #   Column                                           Non-Null Count  Dtype  \n",
            "---  ------                                           --------------  -----  \n",
            " 0   name                                             77 non-null     object \n",
            " 1   Manufacturer                                     77 non-null     object \n",
            " 2   type                                             68 non-null     object \n",
            " 3   calories per serving                             70 non-null     float64\n",
            " 4   grams of protein                                 77 non-null     int64  \n",
            " 5   grams of fat                                     69 non-null     float64\n",
            " 6   milligrams of sodium                             76 non-null     float64\n",
            " 7   grams of dietary fiber                           77 non-null     float64\n",
            " 8   grams of complex carbohydrates                   77 non-null     float64\n",
            " 9   grams of sugars                                  68 non-null     float64\n",
            " 10  milligrams of potassium                          77 non-null     int64  \n",
            " 11  vitamins and minerals (% of FDA recommendation)  76 non-null     float64\n",
            " 12  Display shelf                                    77 non-null     int64  \n",
            " 13  Weight in ounces per one serving                 77 non-null     float64\n",
            " 14  Number of cups in one serving                    77 non-null     float64\n",
            " 15  Rating of cereal                                 77 non-null     float64\n",
            "dtypes: float64(10), int64(3), object(3)\n",
            "memory usage: 9.8+ KB\n"
          ]
        }
      ]
    },
    {
      "cell_type": "code",
      "source": [
        "print(df.isna().sum().sum(), 'missing values')"
      ],
      "metadata": {
        "colab": {
          "base_uri": "https://localhost:8080/"
        },
        "id": "mPOERpEuojko",
        "outputId": "c668cb58-d61d-4da2-b287-86ff90d87de6"
      },
      "execution_count": 30,
      "outputs": [
        {
          "output_type": "stream",
          "name": "stdout",
          "text": [
            "35 missing values\n"
          ]
        }
      ]
    },
    {
      "cell_type": "markdown",
      "source": [
        "There are 35 missing columns across all the columns "
      ],
      "metadata": {
        "id": "cGwP3hG3oqgT"
      }
    },
    {
      "cell_type": "code",
      "source": [
        "#Filters the dataset for just the rows that are missing at least 1 value and shows the shaPE\n",
        "df[df.isna().any(axis=1)].shape\n"
      ],
      "metadata": {
        "colab": {
          "base_uri": "https://localhost:8080/"
        },
        "id": "OhKgSgMzo50a",
        "outputId": "66ed776a-3cf1-45c8-ed13-fc53c7bce83c"
      },
      "execution_count": 31,
      "outputs": [
        {
          "output_type": "execute_result",
          "data": {
            "text/plain": [
              "(26, 16)"
            ]
          },
          "metadata": {},
          "execution_count": 31
        }
      ]
    },
    {
      "cell_type": "code",
      "source": [
        "#Create Test data and training dataset #using the default 75% train and 25% test data\n",
        "X_train, X_test, y_train, y_test = train_test_split(X, y, random_state = 42,)"
      ],
      "metadata": {
        "id": "j2zGcsynSHNI"
      },
      "execution_count": 32,
      "outputs": []
    },
    {
      "cell_type": "code",
      "source": [
        "#SEPERATE COLUMNS THAT HAVE NUMERIC DATA AND TOSE THAT HAVE CATEGORICAL DATA\n",
        "#instantiate the selectors to for numeric and categorical data types\n",
        "num_selector = make_column_selector(dtype_include='number')\n",
        "cat_selector = make_column_selector(dtype_include='object')\n",
        "#select the numeric columns of each type\n",
        "num_columns = num_selector(X_train)\n",
        "cat_columns = cat_selector(X_train)\n",
        "#check our lists\n",
        "print('numeric columns are', num_columns)\n",
        "print('categorical columns are', cat_columns)\n"
      ],
      "metadata": {
        "colab": {
          "base_uri": "https://localhost:8080/"
        },
        "id": "gVg96xuzpXm1",
        "outputId": "8e90f381-69c5-4c3f-fe4e-04bdc35c7e4f"
      },
      "execution_count": 33,
      "outputs": [
        {
          "output_type": "stream",
          "name": "stdout",
          "text": [
            "numeric columns are ['grams of protein', 'grams of fat', 'milligrams of sodium', 'grams of dietary fiber', 'grams of complex carbohydrates', 'grams of sugars', 'milligrams of potassium', 'vitamins and minerals (% of FDA recommendation)', 'Display shelf', 'Weight in ounces per one serving', 'Number of cups in one serving', 'Rating of cereal']\n",
            "categorical columns are ['name', 'Manufacturer', 'type']\n"
          ]
        }
      ]
    },
    {
      "cell_type": "code",
      "source": [
        "#Explore Numeric columns with missing data\n",
        "# isolate the numeric columns\n",
        "df_num = df[num_columns]\n",
        "# isolate the columns with missing data\n",
        "df_num.loc[:, df_num.isna().any()]\n",
        "\n"
      ],
      "metadata": {
        "colab": {
          "base_uri": "https://localhost:8080/",
          "height": 424
        },
        "id": "zTeoExM0pXtn",
        "outputId": "f28833a3-1ffe-4b67-c7a9-297f5a7b3cc3"
      },
      "execution_count": 34,
      "outputs": [
        {
          "output_type": "execute_result",
          "data": {
            "text/plain": [
              "    grams of fat  milligrams of sodium  grams of sugars  \\\n",
              "0            2.0                 180.0             10.0   \n",
              "1            2.0                   NaN              NaN   \n",
              "2            2.0                 290.0              1.0   \n",
              "3            3.0                 210.0              9.0   \n",
              "4            2.0                 140.0              7.0   \n",
              "..           ...                   ...              ...   \n",
              "72           NaN                 240.0              2.0   \n",
              "73           1.0                 230.0              3.0   \n",
              "74           1.0                   0.0              NaN   \n",
              "75           0.0                  80.0              0.0   \n",
              "76           2.0                   0.0             -1.0   \n",
              "\n",
              "    vitamins and minerals (% of FDA recommendation)  \n",
              "0                                              25.0  \n",
              "1                                              25.0  \n",
              "2                                              25.0  \n",
              "3                                              25.0  \n",
              "4                                              25.0  \n",
              "..                                              ...  \n",
              "72                                             25.0  \n",
              "73                                             25.0  \n",
              "74                                             25.0  \n",
              "75                                              0.0  \n",
              "76                                              0.0  \n",
              "\n",
              "[77 rows x 4 columns]"
            ],
            "text/html": [
              "\n",
              "  <div id=\"df-f1f87441-ead7-466c-8c77-a82aaf136f9f\">\n",
              "    <div class=\"colab-df-container\">\n",
              "      <div>\n",
              "<style scoped>\n",
              "    .dataframe tbody tr th:only-of-type {\n",
              "        vertical-align: middle;\n",
              "    }\n",
              "\n",
              "    .dataframe tbody tr th {\n",
              "        vertical-align: top;\n",
              "    }\n",
              "\n",
              "    .dataframe thead th {\n",
              "        text-align: right;\n",
              "    }\n",
              "</style>\n",
              "<table border=\"1\" class=\"dataframe\">\n",
              "  <thead>\n",
              "    <tr style=\"text-align: right;\">\n",
              "      <th></th>\n",
              "      <th>grams of fat</th>\n",
              "      <th>milligrams of sodium</th>\n",
              "      <th>grams of sugars</th>\n",
              "      <th>vitamins and minerals (% of FDA recommendation)</th>\n",
              "    </tr>\n",
              "  </thead>\n",
              "  <tbody>\n",
              "    <tr>\n",
              "      <th>0</th>\n",
              "      <td>2.0</td>\n",
              "      <td>180.0</td>\n",
              "      <td>10.0</td>\n",
              "      <td>25.0</td>\n",
              "    </tr>\n",
              "    <tr>\n",
              "      <th>1</th>\n",
              "      <td>2.0</td>\n",
              "      <td>NaN</td>\n",
              "      <td>NaN</td>\n",
              "      <td>25.0</td>\n",
              "    </tr>\n",
              "    <tr>\n",
              "      <th>2</th>\n",
              "      <td>2.0</td>\n",
              "      <td>290.0</td>\n",
              "      <td>1.0</td>\n",
              "      <td>25.0</td>\n",
              "    </tr>\n",
              "    <tr>\n",
              "      <th>3</th>\n",
              "      <td>3.0</td>\n",
              "      <td>210.0</td>\n",
              "      <td>9.0</td>\n",
              "      <td>25.0</td>\n",
              "    </tr>\n",
              "    <tr>\n",
              "      <th>4</th>\n",
              "      <td>2.0</td>\n",
              "      <td>140.0</td>\n",
              "      <td>7.0</td>\n",
              "      <td>25.0</td>\n",
              "    </tr>\n",
              "    <tr>\n",
              "      <th>...</th>\n",
              "      <td>...</td>\n",
              "      <td>...</td>\n",
              "      <td>...</td>\n",
              "      <td>...</td>\n",
              "    </tr>\n",
              "    <tr>\n",
              "      <th>72</th>\n",
              "      <td>NaN</td>\n",
              "      <td>240.0</td>\n",
              "      <td>2.0</td>\n",
              "      <td>25.0</td>\n",
              "    </tr>\n",
              "    <tr>\n",
              "      <th>73</th>\n",
              "      <td>1.0</td>\n",
              "      <td>230.0</td>\n",
              "      <td>3.0</td>\n",
              "      <td>25.0</td>\n",
              "    </tr>\n",
              "    <tr>\n",
              "      <th>74</th>\n",
              "      <td>1.0</td>\n",
              "      <td>0.0</td>\n",
              "      <td>NaN</td>\n",
              "      <td>25.0</td>\n",
              "    </tr>\n",
              "    <tr>\n",
              "      <th>75</th>\n",
              "      <td>0.0</td>\n",
              "      <td>80.0</td>\n",
              "      <td>0.0</td>\n",
              "      <td>0.0</td>\n",
              "    </tr>\n",
              "    <tr>\n",
              "      <th>76</th>\n",
              "      <td>2.0</td>\n",
              "      <td>0.0</td>\n",
              "      <td>-1.0</td>\n",
              "      <td>0.0</td>\n",
              "    </tr>\n",
              "  </tbody>\n",
              "</table>\n",
              "<p>77 rows × 4 columns</p>\n",
              "</div>\n",
              "      <button class=\"colab-df-convert\" onclick=\"convertToInteractive('df-f1f87441-ead7-466c-8c77-a82aaf136f9f')\"\n",
              "              title=\"Convert this dataframe to an interactive table.\"\n",
              "              style=\"display:none;\">\n",
              "        \n",
              "  <svg xmlns=\"http://www.w3.org/2000/svg\" height=\"24px\"viewBox=\"0 0 24 24\"\n",
              "       width=\"24px\">\n",
              "    <path d=\"M0 0h24v24H0V0z\" fill=\"none\"/>\n",
              "    <path d=\"M18.56 5.44l.94 2.06.94-2.06 2.06-.94-2.06-.94-.94-2.06-.94 2.06-2.06.94zm-11 1L8.5 8.5l.94-2.06 2.06-.94-2.06-.94L8.5 2.5l-.94 2.06-2.06.94zm10 10l.94 2.06.94-2.06 2.06-.94-2.06-.94-.94-2.06-.94 2.06-2.06.94z\"/><path d=\"M17.41 7.96l-1.37-1.37c-.4-.4-.92-.59-1.43-.59-.52 0-1.04.2-1.43.59L10.3 9.45l-7.72 7.72c-.78.78-.78 2.05 0 2.83L4 21.41c.39.39.9.59 1.41.59.51 0 1.02-.2 1.41-.59l7.78-7.78 2.81-2.81c.8-.78.8-2.07 0-2.86zM5.41 20L4 18.59l7.72-7.72 1.47 1.35L5.41 20z\"/>\n",
              "  </svg>\n",
              "      </button>\n",
              "      \n",
              "  <style>\n",
              "    .colab-df-container {\n",
              "      display:flex;\n",
              "      flex-wrap:wrap;\n",
              "      gap: 12px;\n",
              "    }\n",
              "\n",
              "    .colab-df-convert {\n",
              "      background-color: #E8F0FE;\n",
              "      border: none;\n",
              "      border-radius: 50%;\n",
              "      cursor: pointer;\n",
              "      display: none;\n",
              "      fill: #1967D2;\n",
              "      height: 32px;\n",
              "      padding: 0 0 0 0;\n",
              "      width: 32px;\n",
              "    }\n",
              "\n",
              "    .colab-df-convert:hover {\n",
              "      background-color: #E2EBFA;\n",
              "      box-shadow: 0px 1px 2px rgba(60, 64, 67, 0.3), 0px 1px 3px 1px rgba(60, 64, 67, 0.15);\n",
              "      fill: #174EA6;\n",
              "    }\n",
              "\n",
              "    [theme=dark] .colab-df-convert {\n",
              "      background-color: #3B4455;\n",
              "      fill: #D2E3FC;\n",
              "    }\n",
              "\n",
              "    [theme=dark] .colab-df-convert:hover {\n",
              "      background-color: #434B5C;\n",
              "      box-shadow: 0px 1px 3px 1px rgba(0, 0, 0, 0.15);\n",
              "      filter: drop-shadow(0px 1px 2px rgba(0, 0, 0, 0.3));\n",
              "      fill: #FFFFFF;\n",
              "    }\n",
              "  </style>\n",
              "\n",
              "      <script>\n",
              "        const buttonEl =\n",
              "          document.querySelector('#df-f1f87441-ead7-466c-8c77-a82aaf136f9f button.colab-df-convert');\n",
              "        buttonEl.style.display =\n",
              "          google.colab.kernel.accessAllowed ? 'block' : 'none';\n",
              "\n",
              "        async function convertToInteractive(key) {\n",
              "          const element = document.querySelector('#df-f1f87441-ead7-466c-8c77-a82aaf136f9f');\n",
              "          const dataTable =\n",
              "            await google.colab.kernel.invokeFunction('convertToInteractive',\n",
              "                                                     [key], {});\n",
              "          if (!dataTable) return;\n",
              "\n",
              "          const docLinkHtml = 'Like what you see? Visit the ' +\n",
              "            '<a target=\"_blank\" href=https://colab.research.google.com/notebooks/data_table.ipynb>data table notebook</a>'\n",
              "            + ' to learn more about interactive tables.';\n",
              "          element.innerHTML = '';\n",
              "          dataTable['output_type'] = 'display_data';\n",
              "          await google.colab.output.renderOutput(dataTable, element);\n",
              "          const docLink = document.createElement('div');\n",
              "          docLink.innerHTML = docLinkHtml;\n",
              "          element.appendChild(docLink);\n",
              "        }\n",
              "      </script>\n",
              "    </div>\n",
              "  </div>\n",
              "  "
            ]
          },
          "metadata": {},
          "execution_count": 34
        }
      ]
    },
    {
      "cell_type": "code",
      "source": [
        "#Replace mean values with Mean strategy\n",
        "#Instantiate the imputer object from the SimpleImputer class with strategy 'median'\n",
        "mean_imputer = SimpleImputer(strategy='mean')\n",
        "#Fit the imputer object on the numeric training data with .fit() \n",
        "#calculates the medians of the columns in the training set\n",
        "mean_imputer.fit(X_train[num_columns])\n",
        "#Use the median from the training data to fill the missing values in \n",
        "#the numeric columns of both the training and testing sets with .transform()\n",
        "X_train.loc[:, num_columns] = mean_imputer.transform(X_train[num_columns])\n",
        "X_test.loc[:, num_columns] = mean_imputer.transform(X_test[num_columns])\n",
        "\n"
      ],
      "metadata": {
        "id": "HN-FRcQgqF12"
      },
      "execution_count": 35,
      "outputs": []
    },
    {
      "cell_type": "code",
      "source": [
        "#Check if they have been imputed \n",
        "X_train.isna().any()\n",
        "#Numeric columns have no missing values. Only the categorical have missing values "
      ],
      "metadata": {
        "colab": {
          "base_uri": "https://localhost:8080/"
        },
        "id": "VCUghD5uqsnX",
        "outputId": "5dc9b93d-065f-42e3-8e4e-46576d49a391"
      },
      "execution_count": 38,
      "outputs": [
        {
          "output_type": "execute_result",
          "data": {
            "text/plain": [
              "name                                               False\n",
              "Manufacturer                                       False\n",
              "type                                                True\n",
              "grams of protein                                   False\n",
              "grams of fat                                       False\n",
              "milligrams of sodium                               False\n",
              "grams of dietary fiber                             False\n",
              "grams of complex carbohydrates                     False\n",
              "grams of sugars                                    False\n",
              "milligrams of potassium                            False\n",
              "vitamins and minerals (% of FDA recommendation)    False\n",
              "Display shelf                                      False\n",
              "Weight in ounces per one serving                   False\n",
              "Number of cups in one serving                      False\n",
              "Rating of cereal                                   False\n",
              "dtype: bool"
            ]
          },
          "metadata": {},
          "execution_count": 38
        }
      ]
    },
    {
      "cell_type": "code",
      "source": [
        "#USE COLUMN TRANSFORMER \n",
        "# Train Test Split\n",
        "X_train, X_test, y_train, y_test = train_test_split(X, y, random_state=42)\n",
        "X_train.isna().any()\n",
        "\n"
      ],
      "metadata": {
        "colab": {
          "base_uri": "https://localhost:8080/"
        },
        "id": "Zteki_CorDvH",
        "outputId": "33db3026-971e-43df-8565-ec192822b363"
      },
      "execution_count": 39,
      "outputs": [
        {
          "output_type": "execute_result",
          "data": {
            "text/plain": [
              "name                                               False\n",
              "Manufacturer                                       False\n",
              "type                                                True\n",
              "grams of protein                                   False\n",
              "grams of fat                                        True\n",
              "milligrams of sodium                                True\n",
              "grams of dietary fiber                             False\n",
              "grams of complex carbohydrates                     False\n",
              "grams of sugars                                     True\n",
              "milligrams of potassium                            False\n",
              "vitamins and minerals (% of FDA recommendation)     True\n",
              "Display shelf                                      False\n",
              "Weight in ounces per one serving                   False\n",
              "Number of cups in one serving                      False\n",
              "Rating of cereal                                   False\n",
              "dtype: bool"
            ]
          },
          "metadata": {},
          "execution_count": 39
        }
      ]
    },
    {
      "cell_type": "code",
      "source": [
        "#instantiate the selectors to for numeric and categorical data types\n",
        "num_selector = make_column_selector(dtype_include='number')\n",
        "cat_selector = make_column_selector(dtype_include='object')\n"
      ],
      "metadata": {
        "id": "WGWIqG9NpXwc"
      },
      "execution_count": 40,
      "outputs": []
    },
    {
      "cell_type": "code",
      "source": [
        "#instantiate SimpleImputers with most_frequent and mean strategies\n",
        "freq_imputer = SimpleImputer(strategy='most_frequent')\n",
        "mean_imputer = SimpleImputer(strategy='mean')\n"
      ],
      "metadata": {
        "id": "klY_qQ6trqEL"
      },
      "execution_count": 41,
      "outputs": []
    },
    {
      "cell_type": "code",
      "source": [
        "from sklearn.compose import make_column_selector, make_column_transformer"
      ],
      "metadata": {
        "id": "lPTKo1jmsWlJ"
      },
      "execution_count": 43,
      "outputs": []
    },
    {
      "cell_type": "code",
      "source": [
        "# create tuples of (imputer, selector) for each datatype\n",
        "num_tuple = (mean_imputer, num_selector)\n",
        "cat_tuple = (freq_imputer, cat_selector)\n",
        "# instantiate ColumnTransformer\n",
        "col_transformer = make_column_transformer(num_tuple, cat_tuple, remainder='passthrough')\n",
        "col_transformer\n"
      ],
      "metadata": {
        "colab": {
          "base_uri": "https://localhost:8080/",
          "height": 118
        },
        "id": "H_rgp_tfpXym",
        "outputId": "40b0547c-5bae-4935-db3a-8b40b09c9f65"
      },
      "execution_count": 44,
      "outputs": [
        {
          "output_type": "execute_result",
          "data": {
            "text/plain": [
              "ColumnTransformer(remainder='passthrough',\n",
              "                  transformers=[('simpleimputer-1', SimpleImputer(),\n",
              "                                 <sklearn.compose._column_transformer.make_column_selector object at 0x7fa2d6f29160>),\n",
              "                                ('simpleimputer-2',\n",
              "                                 SimpleImputer(strategy='most_frequent'),\n",
              "                                 <sklearn.compose._column_transformer.make_column_selector object at 0x7fa2d6f29c70>)])"
            ],
            "text/html": [
              "<style>#sk-container-id-1 {color: black;background-color: white;}#sk-container-id-1 pre{padding: 0;}#sk-container-id-1 div.sk-toggleable {background-color: white;}#sk-container-id-1 label.sk-toggleable__label {cursor: pointer;display: block;width: 100%;margin-bottom: 0;padding: 0.3em;box-sizing: border-box;text-align: center;}#sk-container-id-1 label.sk-toggleable__label-arrow:before {content: \"▸\";float: left;margin-right: 0.25em;color: #696969;}#sk-container-id-1 label.sk-toggleable__label-arrow:hover:before {color: black;}#sk-container-id-1 div.sk-estimator:hover label.sk-toggleable__label-arrow:before {color: black;}#sk-container-id-1 div.sk-toggleable__content {max-height: 0;max-width: 0;overflow: hidden;text-align: left;background-color: #f0f8ff;}#sk-container-id-1 div.sk-toggleable__content pre {margin: 0.2em;color: black;border-radius: 0.25em;background-color: #f0f8ff;}#sk-container-id-1 input.sk-toggleable__control:checked~div.sk-toggleable__content {max-height: 200px;max-width: 100%;overflow: auto;}#sk-container-id-1 input.sk-toggleable__control:checked~label.sk-toggleable__label-arrow:before {content: \"▾\";}#sk-container-id-1 div.sk-estimator input.sk-toggleable__control:checked~label.sk-toggleable__label {background-color: #d4ebff;}#sk-container-id-1 div.sk-label input.sk-toggleable__control:checked~label.sk-toggleable__label {background-color: #d4ebff;}#sk-container-id-1 input.sk-hidden--visually {border: 0;clip: rect(1px 1px 1px 1px);clip: rect(1px, 1px, 1px, 1px);height: 1px;margin: -1px;overflow: hidden;padding: 0;position: absolute;width: 1px;}#sk-container-id-1 div.sk-estimator {font-family: monospace;background-color: #f0f8ff;border: 1px dotted black;border-radius: 0.25em;box-sizing: border-box;margin-bottom: 0.5em;}#sk-container-id-1 div.sk-estimator:hover {background-color: #d4ebff;}#sk-container-id-1 div.sk-parallel-item::after {content: \"\";width: 100%;border-bottom: 1px solid gray;flex-grow: 1;}#sk-container-id-1 div.sk-label:hover label.sk-toggleable__label {background-color: #d4ebff;}#sk-container-id-1 div.sk-serial::before {content: \"\";position: absolute;border-left: 1px solid gray;box-sizing: border-box;top: 0;bottom: 0;left: 50%;z-index: 0;}#sk-container-id-1 div.sk-serial {display: flex;flex-direction: column;align-items: center;background-color: white;padding-right: 0.2em;padding-left: 0.2em;position: relative;}#sk-container-id-1 div.sk-item {position: relative;z-index: 1;}#sk-container-id-1 div.sk-parallel {display: flex;align-items: stretch;justify-content: center;background-color: white;position: relative;}#sk-container-id-1 div.sk-item::before, #sk-container-id-1 div.sk-parallel-item::before {content: \"\";position: absolute;border-left: 1px solid gray;box-sizing: border-box;top: 0;bottom: 0;left: 50%;z-index: -1;}#sk-container-id-1 div.sk-parallel-item {display: flex;flex-direction: column;z-index: 1;position: relative;background-color: white;}#sk-container-id-1 div.sk-parallel-item:first-child::after {align-self: flex-end;width: 50%;}#sk-container-id-1 div.sk-parallel-item:last-child::after {align-self: flex-start;width: 50%;}#sk-container-id-1 div.sk-parallel-item:only-child::after {width: 0;}#sk-container-id-1 div.sk-dashed-wrapped {border: 1px dashed gray;margin: 0 0.4em 0.5em 0.4em;box-sizing: border-box;padding-bottom: 0.4em;background-color: white;}#sk-container-id-1 div.sk-label label {font-family: monospace;font-weight: bold;display: inline-block;line-height: 1.2em;}#sk-container-id-1 div.sk-label-container {text-align: center;}#sk-container-id-1 div.sk-container {/* jupyter's `normalize.less` sets `[hidden] { display: none; }` but bootstrap.min.css set `[hidden] { display: none !important; }` so we also need the `!important` here to be able to override the default hidden behavior on the sphinx rendered scikit-learn.org. See: https://github.com/scikit-learn/scikit-learn/issues/21755 */display: inline-block !important;position: relative;}#sk-container-id-1 div.sk-text-repr-fallback {display: none;}</style><div id=\"sk-container-id-1\" class=\"sk-top-container\"><div class=\"sk-text-repr-fallback\"><pre>ColumnTransformer(remainder=&#x27;passthrough&#x27;,\n",
              "                  transformers=[(&#x27;simpleimputer-1&#x27;, SimpleImputer(),\n",
              "                                 &lt;sklearn.compose._column_transformer.make_column_selector object at 0x7fa2d6f29160&gt;),\n",
              "                                (&#x27;simpleimputer-2&#x27;,\n",
              "                                 SimpleImputer(strategy=&#x27;most_frequent&#x27;),\n",
              "                                 &lt;sklearn.compose._column_transformer.make_column_selector object at 0x7fa2d6f29c70&gt;)])</pre><b>In a Jupyter environment, please rerun this cell to show the HTML representation or trust the notebook. <br />On GitHub, the HTML representation is unable to render, please try loading this page with nbviewer.org.</b></div><div class=\"sk-container\" hidden><div class=\"sk-item sk-dashed-wrapped\"><div class=\"sk-label-container\"><div class=\"sk-label sk-toggleable\"><input class=\"sk-toggleable__control sk-hidden--visually\" id=\"sk-estimator-id-1\" type=\"checkbox\" ><label for=\"sk-estimator-id-1\" class=\"sk-toggleable__label sk-toggleable__label-arrow\">ColumnTransformer</label><div class=\"sk-toggleable__content\"><pre>ColumnTransformer(remainder=&#x27;passthrough&#x27;,\n",
              "                  transformers=[(&#x27;simpleimputer-1&#x27;, SimpleImputer(),\n",
              "                                 &lt;sklearn.compose._column_transformer.make_column_selector object at 0x7fa2d6f29160&gt;),\n",
              "                                (&#x27;simpleimputer-2&#x27;,\n",
              "                                 SimpleImputer(strategy=&#x27;most_frequent&#x27;),\n",
              "                                 &lt;sklearn.compose._column_transformer.make_column_selector object at 0x7fa2d6f29c70&gt;)])</pre></div></div></div><div class=\"sk-parallel\"><div class=\"sk-parallel-item\"><div class=\"sk-item\"><div class=\"sk-label-container\"><div class=\"sk-label sk-toggleable\"><input class=\"sk-toggleable__control sk-hidden--visually\" id=\"sk-estimator-id-2\" type=\"checkbox\" ><label for=\"sk-estimator-id-2\" class=\"sk-toggleable__label sk-toggleable__label-arrow\">simpleimputer-1</label><div class=\"sk-toggleable__content\"><pre>&lt;sklearn.compose._column_transformer.make_column_selector object at 0x7fa2d6f29160&gt;</pre></div></div></div><div class=\"sk-serial\"><div class=\"sk-item\"><div class=\"sk-estimator sk-toggleable\"><input class=\"sk-toggleable__control sk-hidden--visually\" id=\"sk-estimator-id-3\" type=\"checkbox\" ><label for=\"sk-estimator-id-3\" class=\"sk-toggleable__label sk-toggleable__label-arrow\">SimpleImputer</label><div class=\"sk-toggleable__content\"><pre>SimpleImputer()</pre></div></div></div></div></div></div><div class=\"sk-parallel-item\"><div class=\"sk-item\"><div class=\"sk-label-container\"><div class=\"sk-label sk-toggleable\"><input class=\"sk-toggleable__control sk-hidden--visually\" id=\"sk-estimator-id-4\" type=\"checkbox\" ><label for=\"sk-estimator-id-4\" class=\"sk-toggleable__label sk-toggleable__label-arrow\">simpleimputer-2</label><div class=\"sk-toggleable__content\"><pre>&lt;sklearn.compose._column_transformer.make_column_selector object at 0x7fa2d6f29c70&gt;</pre></div></div></div><div class=\"sk-serial\"><div class=\"sk-item\"><div class=\"sk-estimator sk-toggleable\"><input class=\"sk-toggleable__control sk-hidden--visually\" id=\"sk-estimator-id-5\" type=\"checkbox\" ><label for=\"sk-estimator-id-5\" class=\"sk-toggleable__label sk-toggleable__label-arrow\">SimpleImputer</label><div class=\"sk-toggleable__content\"><pre>SimpleImputer(strategy=&#x27;most_frequent&#x27;)</pre></div></div></div></div></div></div><div class=\"sk-parallel-item\"><div class=\"sk-item\"><div class=\"sk-label-container\"><div class=\"sk-label sk-toggleable\"><input class=\"sk-toggleable__control sk-hidden--visually\" id=\"sk-estimator-id-6\" type=\"checkbox\" ><label for=\"sk-estimator-id-6\" class=\"sk-toggleable__label sk-toggleable__label-arrow\">remainder</label><div class=\"sk-toggleable__content\"><pre></pre></div></div></div><div class=\"sk-serial\"><div class=\"sk-item\"><div class=\"sk-estimator sk-toggleable\"><input class=\"sk-toggleable__control sk-hidden--visually\" id=\"sk-estimator-id-7\" type=\"checkbox\" ><label for=\"sk-estimator-id-7\" class=\"sk-toggleable__label sk-toggleable__label-arrow\">passthrough</label><div class=\"sk-toggleable__content\"><pre>passthrough</pre></div></div></div></div></div></div></div></div></div></div>"
            ]
          },
          "metadata": {},
          "execution_count": 44
        }
      ]
    },
    {
      "cell_type": "code",
      "source": [
        "# fit ColumnTransformer on the training data\n",
        "col_transformer.fit(X_train)\n",
        "# transform both the training and testing data (this will output a NumPy array)\n",
        "X_train_imputed = col_transformer.transform(X_train)\n",
        "X_test_imputed = col_transformer.transform(X_test)\n",
        "# change the result back to a dataframe\n",
        "X_train_imputed = pd.DataFrame(X_train_imputed, columns=X_train.columns)\n",
        "X_train_imputed.isna().any()\n",
        "\n"
      ],
      "metadata": {
        "colab": {
          "base_uri": "https://localhost:8080/"
        },
        "id": "dQtUA46Eskzi",
        "outputId": "86e09e86-ace5-4694-acbe-e5eac477e02d"
      },
      "execution_count": 45,
      "outputs": [
        {
          "output_type": "execute_result",
          "data": {
            "text/plain": [
              "name                                               False\n",
              "Manufacturer                                       False\n",
              "type                                               False\n",
              "grams of protein                                   False\n",
              "grams of fat                                       False\n",
              "milligrams of sodium                               False\n",
              "grams of dietary fiber                             False\n",
              "grams of complex carbohydrates                     False\n",
              "grams of sugars                                    False\n",
              "milligrams of potassium                            False\n",
              "vitamins and minerals (% of FDA recommendation)    False\n",
              "Display shelf                                      False\n",
              "Weight in ounces per one serving                   False\n",
              "Number of cups in one serving                      False\n",
              "Rating of cereal                                   False\n",
              "dtype: bool"
            ]
          },
          "metadata": {},
          "execution_count": 45
        }
      ]
    },
    {
      "cell_type": "code",
      "source": [
        "#IMPUTATION COMPLETE\n",
        "#CREATE PURSE MATRICES FOR NOMINAL CATEGORIES  AND COLUM TRANSFORM USING HOT ECNODER"
      ],
      "metadata": {
        "id": "pm-m6HkVsnDR"
      },
      "execution_count": 46,
      "outputs": []
    },
    {
      "cell_type": "code",
      "source": [
        "#Make categorical column selector\n",
        "cat_selector = make_column_selector(dtype_include='object')"
      ],
      "metadata": {
        "id": "FKf01ChVc378"
      },
      "execution_count": 47,
      "outputs": []
    },
    {
      "cell_type": "code",
      "source": [
        "#Find the object datatypes in our data\n",
        "cat_selector(df)\n",
        "#Name, Manufacturer and Type"
      ],
      "metadata": {
        "colab": {
          "base_uri": "https://localhost:8080/"
        },
        "id": "HpKguTj9dDPD",
        "outputId": "70209f31-8266-4ba1-f982-787234ff37ed"
      },
      "execution_count": 49,
      "outputs": [
        {
          "output_type": "execute_result",
          "data": {
            "text/plain": [
              "['name', 'Manufacturer', 'type']"
            ]
          },
          "metadata": {},
          "execution_count": 49
        }
      ]
    },
    {
      "cell_type": "code",
      "source": [
        "#Select only categrical data from the dataset\n",
        "train_cat_data = X_train[cat_selector(X_train)]\n",
        "test_cat_data = X_test[cat_selector(X_test)]\n",
        "train_cat_data.head()"
      ],
      "metadata": {
        "colab": {
          "base_uri": "https://localhost:8080/",
          "height": 206
        },
        "id": "V7tuKmM6dPgq",
        "outputId": "847364b5-6d91-4b7a-bbb7-a99f9a18e49e"
      },
      "execution_count": 50,
      "outputs": [
        {
          "output_type": "execute_result",
          "data": {
            "text/plain": [
              "                  name   Manufacturer  type\n",
              "30      Frosted Flakes       Kelloggs  Cold\n",
              "40         Raisin Bran       Kelloggs  Cold\n",
              "39          Product 19       Kelloggs  Cold\n",
              "16   Total Raisin Bran  General Mills  Cold\n",
              "65  Quaker Oat Squares    Quaker Oats  Cold"
            ],
            "text/html": [
              "\n",
              "  <div id=\"df-b36a11ba-8fb8-475d-8db5-e23b4fd990f6\">\n",
              "    <div class=\"colab-df-container\">\n",
              "      <div>\n",
              "<style scoped>\n",
              "    .dataframe tbody tr th:only-of-type {\n",
              "        vertical-align: middle;\n",
              "    }\n",
              "\n",
              "    .dataframe tbody tr th {\n",
              "        vertical-align: top;\n",
              "    }\n",
              "\n",
              "    .dataframe thead th {\n",
              "        text-align: right;\n",
              "    }\n",
              "</style>\n",
              "<table border=\"1\" class=\"dataframe\">\n",
              "  <thead>\n",
              "    <tr style=\"text-align: right;\">\n",
              "      <th></th>\n",
              "      <th>name</th>\n",
              "      <th>Manufacturer</th>\n",
              "      <th>type</th>\n",
              "    </tr>\n",
              "  </thead>\n",
              "  <tbody>\n",
              "    <tr>\n",
              "      <th>30</th>\n",
              "      <td>Frosted Flakes</td>\n",
              "      <td>Kelloggs</td>\n",
              "      <td>Cold</td>\n",
              "    </tr>\n",
              "    <tr>\n",
              "      <th>40</th>\n",
              "      <td>Raisin Bran</td>\n",
              "      <td>Kelloggs</td>\n",
              "      <td>Cold</td>\n",
              "    </tr>\n",
              "    <tr>\n",
              "      <th>39</th>\n",
              "      <td>Product 19</td>\n",
              "      <td>Kelloggs</td>\n",
              "      <td>Cold</td>\n",
              "    </tr>\n",
              "    <tr>\n",
              "      <th>16</th>\n",
              "      <td>Total Raisin Bran</td>\n",
              "      <td>General Mills</td>\n",
              "      <td>Cold</td>\n",
              "    </tr>\n",
              "    <tr>\n",
              "      <th>65</th>\n",
              "      <td>Quaker Oat Squares</td>\n",
              "      <td>Quaker Oats</td>\n",
              "      <td>Cold</td>\n",
              "    </tr>\n",
              "  </tbody>\n",
              "</table>\n",
              "</div>\n",
              "      <button class=\"colab-df-convert\" onclick=\"convertToInteractive('df-b36a11ba-8fb8-475d-8db5-e23b4fd990f6')\"\n",
              "              title=\"Convert this dataframe to an interactive table.\"\n",
              "              style=\"display:none;\">\n",
              "        \n",
              "  <svg xmlns=\"http://www.w3.org/2000/svg\" height=\"24px\"viewBox=\"0 0 24 24\"\n",
              "       width=\"24px\">\n",
              "    <path d=\"M0 0h24v24H0V0z\" fill=\"none\"/>\n",
              "    <path d=\"M18.56 5.44l.94 2.06.94-2.06 2.06-.94-2.06-.94-.94-2.06-.94 2.06-2.06.94zm-11 1L8.5 8.5l.94-2.06 2.06-.94-2.06-.94L8.5 2.5l-.94 2.06-2.06.94zm10 10l.94 2.06.94-2.06 2.06-.94-2.06-.94-.94-2.06-.94 2.06-2.06.94z\"/><path d=\"M17.41 7.96l-1.37-1.37c-.4-.4-.92-.59-1.43-.59-.52 0-1.04.2-1.43.59L10.3 9.45l-7.72 7.72c-.78.78-.78 2.05 0 2.83L4 21.41c.39.39.9.59 1.41.59.51 0 1.02-.2 1.41-.59l7.78-7.78 2.81-2.81c.8-.78.8-2.07 0-2.86zM5.41 20L4 18.59l7.72-7.72 1.47 1.35L5.41 20z\"/>\n",
              "  </svg>\n",
              "      </button>\n",
              "      \n",
              "  <style>\n",
              "    .colab-df-container {\n",
              "      display:flex;\n",
              "      flex-wrap:wrap;\n",
              "      gap: 12px;\n",
              "    }\n",
              "\n",
              "    .colab-df-convert {\n",
              "      background-color: #E8F0FE;\n",
              "      border: none;\n",
              "      border-radius: 50%;\n",
              "      cursor: pointer;\n",
              "      display: none;\n",
              "      fill: #1967D2;\n",
              "      height: 32px;\n",
              "      padding: 0 0 0 0;\n",
              "      width: 32px;\n",
              "    }\n",
              "\n",
              "    .colab-df-convert:hover {\n",
              "      background-color: #E2EBFA;\n",
              "      box-shadow: 0px 1px 2px rgba(60, 64, 67, 0.3), 0px 1px 3px 1px rgba(60, 64, 67, 0.15);\n",
              "      fill: #174EA6;\n",
              "    }\n",
              "\n",
              "    [theme=dark] .colab-df-convert {\n",
              "      background-color: #3B4455;\n",
              "      fill: #D2E3FC;\n",
              "    }\n",
              "\n",
              "    [theme=dark] .colab-df-convert:hover {\n",
              "      background-color: #434B5C;\n",
              "      box-shadow: 0px 1px 3px 1px rgba(0, 0, 0, 0.15);\n",
              "      filter: drop-shadow(0px 1px 2px rgba(0, 0, 0, 0.3));\n",
              "      fill: #FFFFFF;\n",
              "    }\n",
              "  </style>\n",
              "\n",
              "      <script>\n",
              "        const buttonEl =\n",
              "          document.querySelector('#df-b36a11ba-8fb8-475d-8db5-e23b4fd990f6 button.colab-df-convert');\n",
              "        buttonEl.style.display =\n",
              "          google.colab.kernel.accessAllowed ? 'block' : 'none';\n",
              "\n",
              "        async function convertToInteractive(key) {\n",
              "          const element = document.querySelector('#df-b36a11ba-8fb8-475d-8db5-e23b4fd990f6');\n",
              "          const dataTable =\n",
              "            await google.colab.kernel.invokeFunction('convertToInteractive',\n",
              "                                                     [key], {});\n",
              "          if (!dataTable) return;\n",
              "\n",
              "          const docLinkHtml = 'Like what you see? Visit the ' +\n",
              "            '<a target=\"_blank\" href=https://colab.research.google.com/notebooks/data_table.ipynb>data table notebook</a>'\n",
              "            + ' to learn more about interactive tables.';\n",
              "          element.innerHTML = '';\n",
              "          dataTable['output_type'] = 'display_data';\n",
              "          await google.colab.output.renderOutput(dataTable, element);\n",
              "          const docLink = document.createElement('div');\n",
              "          docLink.innerHTML = docLinkHtml;\n",
              "          element.appendChild(docLink);\n",
              "        }\n",
              "      </script>\n",
              "    </div>\n",
              "  </div>\n",
              "  "
            ]
          },
          "metadata": {},
          "execution_count": 50
        }
      ]
    },
    {
      "cell_type": "code",
      "source": [
        "#Initiate the one hot encoder\n",
        "ohe_encoder = OneHotEncoder(sparse=False, handle_unknown='ignore')\n",
        "# We pass values to the above parameters to change the default behaviour of the encorder"
      ],
      "metadata": {
        "id": "11S6dKVDeBgZ"
      },
      "execution_count": 51,
      "outputs": []
    },
    {
      "cell_type": "code",
      "source": [
        "#fit the OneHotEncoder on the training data\n",
        "ohe_encoder.fit(train_cat_data)"
      ],
      "metadata": {
        "colab": {
          "base_uri": "https://localhost:8080/",
          "height": 129
        },
        "id": "a-DXqrWZeQm2",
        "outputId": "25274170-761e-4887-978e-caf011399aa8"
      },
      "execution_count": 52,
      "outputs": [
        {
          "output_type": "stream",
          "name": "stderr",
          "text": [
            "/usr/local/lib/python3.8/dist-packages/sklearn/preprocessing/_encoders.py:828: FutureWarning: `sparse` was renamed to `sparse_output` in version 1.2 and will be removed in 1.4. `sparse_output` is ignored unless you leave `sparse` to its default value.\n",
            "  warnings.warn(\n"
          ]
        },
        {
          "output_type": "execute_result",
          "data": {
            "text/plain": [
              "OneHotEncoder(handle_unknown='ignore', sparse=False, sparse_output=False)"
            ],
            "text/html": [
              "<style>#sk-container-id-2 {color: black;background-color: white;}#sk-container-id-2 pre{padding: 0;}#sk-container-id-2 div.sk-toggleable {background-color: white;}#sk-container-id-2 label.sk-toggleable__label {cursor: pointer;display: block;width: 100%;margin-bottom: 0;padding: 0.3em;box-sizing: border-box;text-align: center;}#sk-container-id-2 label.sk-toggleable__label-arrow:before {content: \"▸\";float: left;margin-right: 0.25em;color: #696969;}#sk-container-id-2 label.sk-toggleable__label-arrow:hover:before {color: black;}#sk-container-id-2 div.sk-estimator:hover label.sk-toggleable__label-arrow:before {color: black;}#sk-container-id-2 div.sk-toggleable__content {max-height: 0;max-width: 0;overflow: hidden;text-align: left;background-color: #f0f8ff;}#sk-container-id-2 div.sk-toggleable__content pre {margin: 0.2em;color: black;border-radius: 0.25em;background-color: #f0f8ff;}#sk-container-id-2 input.sk-toggleable__control:checked~div.sk-toggleable__content {max-height: 200px;max-width: 100%;overflow: auto;}#sk-container-id-2 input.sk-toggleable__control:checked~label.sk-toggleable__label-arrow:before {content: \"▾\";}#sk-container-id-2 div.sk-estimator input.sk-toggleable__control:checked~label.sk-toggleable__label {background-color: #d4ebff;}#sk-container-id-2 div.sk-label input.sk-toggleable__control:checked~label.sk-toggleable__label {background-color: #d4ebff;}#sk-container-id-2 input.sk-hidden--visually {border: 0;clip: rect(1px 1px 1px 1px);clip: rect(1px, 1px, 1px, 1px);height: 1px;margin: -1px;overflow: hidden;padding: 0;position: absolute;width: 1px;}#sk-container-id-2 div.sk-estimator {font-family: monospace;background-color: #f0f8ff;border: 1px dotted black;border-radius: 0.25em;box-sizing: border-box;margin-bottom: 0.5em;}#sk-container-id-2 div.sk-estimator:hover {background-color: #d4ebff;}#sk-container-id-2 div.sk-parallel-item::after {content: \"\";width: 100%;border-bottom: 1px solid gray;flex-grow: 1;}#sk-container-id-2 div.sk-label:hover label.sk-toggleable__label {background-color: #d4ebff;}#sk-container-id-2 div.sk-serial::before {content: \"\";position: absolute;border-left: 1px solid gray;box-sizing: border-box;top: 0;bottom: 0;left: 50%;z-index: 0;}#sk-container-id-2 div.sk-serial {display: flex;flex-direction: column;align-items: center;background-color: white;padding-right: 0.2em;padding-left: 0.2em;position: relative;}#sk-container-id-2 div.sk-item {position: relative;z-index: 1;}#sk-container-id-2 div.sk-parallel {display: flex;align-items: stretch;justify-content: center;background-color: white;position: relative;}#sk-container-id-2 div.sk-item::before, #sk-container-id-2 div.sk-parallel-item::before {content: \"\";position: absolute;border-left: 1px solid gray;box-sizing: border-box;top: 0;bottom: 0;left: 50%;z-index: -1;}#sk-container-id-2 div.sk-parallel-item {display: flex;flex-direction: column;z-index: 1;position: relative;background-color: white;}#sk-container-id-2 div.sk-parallel-item:first-child::after {align-self: flex-end;width: 50%;}#sk-container-id-2 div.sk-parallel-item:last-child::after {align-self: flex-start;width: 50%;}#sk-container-id-2 div.sk-parallel-item:only-child::after {width: 0;}#sk-container-id-2 div.sk-dashed-wrapped {border: 1px dashed gray;margin: 0 0.4em 0.5em 0.4em;box-sizing: border-box;padding-bottom: 0.4em;background-color: white;}#sk-container-id-2 div.sk-label label {font-family: monospace;font-weight: bold;display: inline-block;line-height: 1.2em;}#sk-container-id-2 div.sk-label-container {text-align: center;}#sk-container-id-2 div.sk-container {/* jupyter's `normalize.less` sets `[hidden] { display: none; }` but bootstrap.min.css set `[hidden] { display: none !important; }` so we also need the `!important` here to be able to override the default hidden behavior on the sphinx rendered scikit-learn.org. See: https://github.com/scikit-learn/scikit-learn/issues/21755 */display: inline-block !important;position: relative;}#sk-container-id-2 div.sk-text-repr-fallback {display: none;}</style><div id=\"sk-container-id-2\" class=\"sk-top-container\"><div class=\"sk-text-repr-fallback\"><pre>OneHotEncoder(handle_unknown=&#x27;ignore&#x27;, sparse=False, sparse_output=False)</pre><b>In a Jupyter environment, please rerun this cell to show the HTML representation or trust the notebook. <br />On GitHub, the HTML representation is unable to render, please try loading this page with nbviewer.org.</b></div><div class=\"sk-container\" hidden><div class=\"sk-item\"><div class=\"sk-estimator sk-toggleable\"><input class=\"sk-toggleable__control sk-hidden--visually\" id=\"sk-estimator-id-8\" type=\"checkbox\" checked><label for=\"sk-estimator-id-8\" class=\"sk-toggleable__label sk-toggleable__label-arrow\">OneHotEncoder</label><div class=\"sk-toggleable__content\"><pre>OneHotEncoder(handle_unknown=&#x27;ignore&#x27;, sparse=False, sparse_output=False)</pre></div></div></div></div></div>"
            ]
          },
          "metadata": {},
          "execution_count": 52
        }
      ]
    },
    {
      "cell_type": "code",
      "source": [
        "#transform both the training and the testing data\n",
        "train_ohe = ohe_encoder.transform(train_cat_data)\n",
        "test_ohe = ohe_encoder.transform(test_cat_data)"
      ],
      "metadata": {
        "id": "RzWLGJyZeUoI"
      },
      "execution_count": 53,
      "outputs": []
    },
    {
      "cell_type": "code",
      "source": [
        "# View the result\n",
        "test_ohe"
      ],
      "metadata": {
        "colab": {
          "base_uri": "https://localhost:8080/"
        },
        "id": "JllenzrIeYyH",
        "outputId": "ec00b35b-601e-4f33-ad30-b205c457b7d9"
      },
      "execution_count": 54,
      "outputs": [
        {
          "output_type": "execute_result",
          "data": {
            "text/plain": [
              "array([[0., 0., 0., ..., 1., 0., 0.],\n",
              "       [0., 0., 0., ..., 1., 0., 0.],\n",
              "       [0., 0., 0., ..., 1., 0., 0.],\n",
              "       ...,\n",
              "       [0., 0., 0., ..., 1., 0., 0.],\n",
              "       [0., 0., 0., ..., 0., 0., 1.],\n",
              "       [0., 0., 0., ..., 1., 0., 0.]])"
            ]
          },
          "metadata": {},
          "execution_count": 54
        }
      ]
    },
    {
      "cell_type": "code",
      "source": [
        "#convert to dataframe, extract new column names from encoder\n",
        "#set prefixes to original column names\n",
        "ohe_column_names = ohe_encoder.get_feature_names_out(train_cat_data.columns)\n",
        "# The above method will get geature names from the onehotencoded data\n",
        "\n",
        "# Create a dataframe\n",
        "train_ohe = pd.DataFrame(train_ohe, columns=ohe_column_names)\n",
        "test_ohe = pd.DataFrame(test_ohe, columns=ohe_column_names)\n",
        "\n",
        "train_ohe.head()"
      ],
      "metadata": {
        "colab": {
          "base_uri": "https://localhost:8080/",
          "height": 352
        },
        "id": "_AbDYQxMesRH",
        "outputId": "034b79c0-c0d8-46b1-af5f-0e8ac84d7b3e"
      },
      "execution_count": 55,
      "outputs": [
        {
          "output_type": "execute_result",
          "data": {
            "text/plain": [
              "   name_100% Natural Bran  name_All-Bran with Extra Fiber  name_Apple Jacks  \\\n",
              "0                     0.0                             0.0               0.0   \n",
              "1                     0.0                             0.0               0.0   \n",
              "2                     0.0                             0.0               0.0   \n",
              "3                     0.0                             0.0               0.0   \n",
              "4                     0.0                             0.0               0.0   \n",
              "\n",
              "   name_Basic 4  name_Bran Chex  name_Cap'n'Crunch  name_Cheerios  \\\n",
              "0           0.0             0.0                0.0            0.0   \n",
              "1           0.0             0.0                0.0            0.0   \n",
              "2           0.0             0.0                0.0            0.0   \n",
              "3           0.0             0.0                0.0            0.0   \n",
              "4           0.0             0.0                0.0            0.0   \n",
              "\n",
              "   name_Cinnamon Toast Crunch  name_Corn Flakes  name_Corn Pops  ...  \\\n",
              "0                         0.0               0.0             0.0  ...   \n",
              "1                         0.0               0.0             0.0  ...   \n",
              "2                         0.0               0.0             0.0  ...   \n",
              "3                         0.0               0.0             0.0  ...   \n",
              "4                         0.0               0.0             0.0  ...   \n",
              "\n",
              "   name_Wheaties Honey Gold  Manufacturer_General Mills  \\\n",
              "0                       0.0                         0.0   \n",
              "1                       0.0                         0.0   \n",
              "2                       0.0                         0.0   \n",
              "3                       0.0                         1.0   \n",
              "4                       0.0                         0.0   \n",
              "\n",
              "   Manufacturer_Kelloggs  Manufacturer_Nabisco  Manufacturer_Post  \\\n",
              "0                    1.0                   0.0                0.0   \n",
              "1                    1.0                   0.0                0.0   \n",
              "2                    1.0                   0.0                0.0   \n",
              "3                    0.0                   0.0                0.0   \n",
              "4                    0.0                   0.0                0.0   \n",
              "\n",
              "   Manufacturer_Quaker Oats  Manufacturer_Ralston Purina  type_Cold  type_Hot  \\\n",
              "0                       0.0                          0.0        1.0       0.0   \n",
              "1                       0.0                          0.0        1.0       0.0   \n",
              "2                       0.0                          0.0        1.0       0.0   \n",
              "3                       0.0                          0.0        1.0       0.0   \n",
              "4                       1.0                          0.0        1.0       0.0   \n",
              "\n",
              "   type_nan  \n",
              "0       0.0  \n",
              "1       0.0  \n",
              "2       0.0  \n",
              "3       0.0  \n",
              "4       0.0  \n",
              "\n",
              "[5 rows x 66 columns]"
            ],
            "text/html": [
              "\n",
              "  <div id=\"df-663cdf9f-671a-4c8c-b179-10ad65d86aeb\">\n",
              "    <div class=\"colab-df-container\">\n",
              "      <div>\n",
              "<style scoped>\n",
              "    .dataframe tbody tr th:only-of-type {\n",
              "        vertical-align: middle;\n",
              "    }\n",
              "\n",
              "    .dataframe tbody tr th {\n",
              "        vertical-align: top;\n",
              "    }\n",
              "\n",
              "    .dataframe thead th {\n",
              "        text-align: right;\n",
              "    }\n",
              "</style>\n",
              "<table border=\"1\" class=\"dataframe\">\n",
              "  <thead>\n",
              "    <tr style=\"text-align: right;\">\n",
              "      <th></th>\n",
              "      <th>name_100% Natural Bran</th>\n",
              "      <th>name_All-Bran with Extra Fiber</th>\n",
              "      <th>name_Apple Jacks</th>\n",
              "      <th>name_Basic 4</th>\n",
              "      <th>name_Bran Chex</th>\n",
              "      <th>name_Cap'n'Crunch</th>\n",
              "      <th>name_Cheerios</th>\n",
              "      <th>name_Cinnamon Toast Crunch</th>\n",
              "      <th>name_Corn Flakes</th>\n",
              "      <th>name_Corn Pops</th>\n",
              "      <th>...</th>\n",
              "      <th>name_Wheaties Honey Gold</th>\n",
              "      <th>Manufacturer_General Mills</th>\n",
              "      <th>Manufacturer_Kelloggs</th>\n",
              "      <th>Manufacturer_Nabisco</th>\n",
              "      <th>Manufacturer_Post</th>\n",
              "      <th>Manufacturer_Quaker Oats</th>\n",
              "      <th>Manufacturer_Ralston Purina</th>\n",
              "      <th>type_Cold</th>\n",
              "      <th>type_Hot</th>\n",
              "      <th>type_nan</th>\n",
              "    </tr>\n",
              "  </thead>\n",
              "  <tbody>\n",
              "    <tr>\n",
              "      <th>0</th>\n",
              "      <td>0.0</td>\n",
              "      <td>0.0</td>\n",
              "      <td>0.0</td>\n",
              "      <td>0.0</td>\n",
              "      <td>0.0</td>\n",
              "      <td>0.0</td>\n",
              "      <td>0.0</td>\n",
              "      <td>0.0</td>\n",
              "      <td>0.0</td>\n",
              "      <td>0.0</td>\n",
              "      <td>...</td>\n",
              "      <td>0.0</td>\n",
              "      <td>0.0</td>\n",
              "      <td>1.0</td>\n",
              "      <td>0.0</td>\n",
              "      <td>0.0</td>\n",
              "      <td>0.0</td>\n",
              "      <td>0.0</td>\n",
              "      <td>1.0</td>\n",
              "      <td>0.0</td>\n",
              "      <td>0.0</td>\n",
              "    </tr>\n",
              "    <tr>\n",
              "      <th>1</th>\n",
              "      <td>0.0</td>\n",
              "      <td>0.0</td>\n",
              "      <td>0.0</td>\n",
              "      <td>0.0</td>\n",
              "      <td>0.0</td>\n",
              "      <td>0.0</td>\n",
              "      <td>0.0</td>\n",
              "      <td>0.0</td>\n",
              "      <td>0.0</td>\n",
              "      <td>0.0</td>\n",
              "      <td>...</td>\n",
              "      <td>0.0</td>\n",
              "      <td>0.0</td>\n",
              "      <td>1.0</td>\n",
              "      <td>0.0</td>\n",
              "      <td>0.0</td>\n",
              "      <td>0.0</td>\n",
              "      <td>0.0</td>\n",
              "      <td>1.0</td>\n",
              "      <td>0.0</td>\n",
              "      <td>0.0</td>\n",
              "    </tr>\n",
              "    <tr>\n",
              "      <th>2</th>\n",
              "      <td>0.0</td>\n",
              "      <td>0.0</td>\n",
              "      <td>0.0</td>\n",
              "      <td>0.0</td>\n",
              "      <td>0.0</td>\n",
              "      <td>0.0</td>\n",
              "      <td>0.0</td>\n",
              "      <td>0.0</td>\n",
              "      <td>0.0</td>\n",
              "      <td>0.0</td>\n",
              "      <td>...</td>\n",
              "      <td>0.0</td>\n",
              "      <td>0.0</td>\n",
              "      <td>1.0</td>\n",
              "      <td>0.0</td>\n",
              "      <td>0.0</td>\n",
              "      <td>0.0</td>\n",
              "      <td>0.0</td>\n",
              "      <td>1.0</td>\n",
              "      <td>0.0</td>\n",
              "      <td>0.0</td>\n",
              "    </tr>\n",
              "    <tr>\n",
              "      <th>3</th>\n",
              "      <td>0.0</td>\n",
              "      <td>0.0</td>\n",
              "      <td>0.0</td>\n",
              "      <td>0.0</td>\n",
              "      <td>0.0</td>\n",
              "      <td>0.0</td>\n",
              "      <td>0.0</td>\n",
              "      <td>0.0</td>\n",
              "      <td>0.0</td>\n",
              "      <td>0.0</td>\n",
              "      <td>...</td>\n",
              "      <td>0.0</td>\n",
              "      <td>1.0</td>\n",
              "      <td>0.0</td>\n",
              "      <td>0.0</td>\n",
              "      <td>0.0</td>\n",
              "      <td>0.0</td>\n",
              "      <td>0.0</td>\n",
              "      <td>1.0</td>\n",
              "      <td>0.0</td>\n",
              "      <td>0.0</td>\n",
              "    </tr>\n",
              "    <tr>\n",
              "      <th>4</th>\n",
              "      <td>0.0</td>\n",
              "      <td>0.0</td>\n",
              "      <td>0.0</td>\n",
              "      <td>0.0</td>\n",
              "      <td>0.0</td>\n",
              "      <td>0.0</td>\n",
              "      <td>0.0</td>\n",
              "      <td>0.0</td>\n",
              "      <td>0.0</td>\n",
              "      <td>0.0</td>\n",
              "      <td>...</td>\n",
              "      <td>0.0</td>\n",
              "      <td>0.0</td>\n",
              "      <td>0.0</td>\n",
              "      <td>0.0</td>\n",
              "      <td>0.0</td>\n",
              "      <td>1.0</td>\n",
              "      <td>0.0</td>\n",
              "      <td>1.0</td>\n",
              "      <td>0.0</td>\n",
              "      <td>0.0</td>\n",
              "    </tr>\n",
              "  </tbody>\n",
              "</table>\n",
              "<p>5 rows × 66 columns</p>\n",
              "</div>\n",
              "      <button class=\"colab-df-convert\" onclick=\"convertToInteractive('df-663cdf9f-671a-4c8c-b179-10ad65d86aeb')\"\n",
              "              title=\"Convert this dataframe to an interactive table.\"\n",
              "              style=\"display:none;\">\n",
              "        \n",
              "  <svg xmlns=\"http://www.w3.org/2000/svg\" height=\"24px\"viewBox=\"0 0 24 24\"\n",
              "       width=\"24px\">\n",
              "    <path d=\"M0 0h24v24H0V0z\" fill=\"none\"/>\n",
              "    <path d=\"M18.56 5.44l.94 2.06.94-2.06 2.06-.94-2.06-.94-.94-2.06-.94 2.06-2.06.94zm-11 1L8.5 8.5l.94-2.06 2.06-.94-2.06-.94L8.5 2.5l-.94 2.06-2.06.94zm10 10l.94 2.06.94-2.06 2.06-.94-2.06-.94-.94-2.06-.94 2.06-2.06.94z\"/><path d=\"M17.41 7.96l-1.37-1.37c-.4-.4-.92-.59-1.43-.59-.52 0-1.04.2-1.43.59L10.3 9.45l-7.72 7.72c-.78.78-.78 2.05 0 2.83L4 21.41c.39.39.9.59 1.41.59.51 0 1.02-.2 1.41-.59l7.78-7.78 2.81-2.81c.8-.78.8-2.07 0-2.86zM5.41 20L4 18.59l7.72-7.72 1.47 1.35L5.41 20z\"/>\n",
              "  </svg>\n",
              "      </button>\n",
              "      \n",
              "  <style>\n",
              "    .colab-df-container {\n",
              "      display:flex;\n",
              "      flex-wrap:wrap;\n",
              "      gap: 12px;\n",
              "    }\n",
              "\n",
              "    .colab-df-convert {\n",
              "      background-color: #E8F0FE;\n",
              "      border: none;\n",
              "      border-radius: 50%;\n",
              "      cursor: pointer;\n",
              "      display: none;\n",
              "      fill: #1967D2;\n",
              "      height: 32px;\n",
              "      padding: 0 0 0 0;\n",
              "      width: 32px;\n",
              "    }\n",
              "\n",
              "    .colab-df-convert:hover {\n",
              "      background-color: #E2EBFA;\n",
              "      box-shadow: 0px 1px 2px rgba(60, 64, 67, 0.3), 0px 1px 3px 1px rgba(60, 64, 67, 0.15);\n",
              "      fill: #174EA6;\n",
              "    }\n",
              "\n",
              "    [theme=dark] .colab-df-convert {\n",
              "      background-color: #3B4455;\n",
              "      fill: #D2E3FC;\n",
              "    }\n",
              "\n",
              "    [theme=dark] .colab-df-convert:hover {\n",
              "      background-color: #434B5C;\n",
              "      box-shadow: 0px 1px 3px 1px rgba(0, 0, 0, 0.15);\n",
              "      filter: drop-shadow(0px 1px 2px rgba(0, 0, 0, 0.3));\n",
              "      fill: #FFFFFF;\n",
              "    }\n",
              "  </style>\n",
              "\n",
              "      <script>\n",
              "        const buttonEl =\n",
              "          document.querySelector('#df-663cdf9f-671a-4c8c-b179-10ad65d86aeb button.colab-df-convert');\n",
              "        buttonEl.style.display =\n",
              "          google.colab.kernel.accessAllowed ? 'block' : 'none';\n",
              "\n",
              "        async function convertToInteractive(key) {\n",
              "          const element = document.querySelector('#df-663cdf9f-671a-4c8c-b179-10ad65d86aeb');\n",
              "          const dataTable =\n",
              "            await google.colab.kernel.invokeFunction('convertToInteractive',\n",
              "                                                     [key], {});\n",
              "          if (!dataTable) return;\n",
              "\n",
              "          const docLinkHtml = 'Like what you see? Visit the ' +\n",
              "            '<a target=\"_blank\" href=https://colab.research.google.com/notebooks/data_table.ipynb>data table notebook</a>'\n",
              "            + ' to learn more about interactive tables.';\n",
              "          element.innerHTML = '';\n",
              "          dataTable['output_type'] = 'display_data';\n",
              "          await google.colab.output.renderOutput(dataTable, element);\n",
              "          const docLink = document.createElement('div');\n",
              "          docLink.innerHTML = docLinkHtml;\n",
              "          element.appendChild(docLink);\n",
              "        }\n",
              "      </script>\n",
              "    </div>\n",
              "  </div>\n",
              "  "
            ]
          },
          "metadata": {},
          "execution_count": 55
        }
      ]
    },
    {
      "cell_type": "code",
      "source": [
        "#Concatenate Numerical and Categorical data\n"
      ],
      "metadata": {
        "id": "tr5fsrASex6u"
      },
      "execution_count": 56,
      "outputs": []
    },
    {
      "cell_type": "code",
      "source": [
        "# create a numeric selector\n",
        "num_selector = make_column_selector(dtype_include='number')"
      ],
      "metadata": {
        "id": "bh2cozSNefmr"
      },
      "execution_count": 57,
      "outputs": []
    },
    {
      "cell_type": "code",
      "source": [
        "# Slice the numeric columns from the train and test set\n",
        "train_nums = X_train[num_selector(X_train)].reset_index(drop=True)\n",
        "test_nums = X_test[num_selector(X_test)].reset_index(drop=True)"
      ],
      "metadata": {
        "id": "q7_YfCxifBoi"
      },
      "execution_count": 58,
      "outputs": []
    },
    {
      "cell_type": "code",
      "source": [
        "# Combine the categorical and numerical dataframes\n",
        "X_train_processed = pd.concat([train_nums, train_ohe], axis=1)\n",
        "X_test_processed = pd.concat([test_nums, test_ohe], axis=1)\n",
        "X_train_processed.head()\n",
        "#This is the resulting Numpy Array after transformation of both categorical data to a sparse matrix and afterwards concatenation "
      ],
      "metadata": {
        "colab": {
          "base_uri": "https://localhost:8080/",
          "height": 369
        },
        "id": "hJnlTI_5fJif",
        "outputId": "9c205c9b-00ca-421d-eea1-fcc739773718"
      },
      "execution_count": 59,
      "outputs": [
        {
          "output_type": "execute_result",
          "data": {
            "text/plain": [
              "   grams of protein  grams of fat  milligrams of sodium  \\\n",
              "0                 1           0.0                 200.0   \n",
              "1                 3           1.0                 210.0   \n",
              "2                 3           0.0                 320.0   \n",
              "3                 3           1.0                 190.0   \n",
              "4                 4           1.0                 135.0   \n",
              "\n",
              "   grams of dietary fiber  grams of complex carbohydrates  grams of sugars  \\\n",
              "0                     1.0                            14.0             11.0   \n",
              "1                     5.0                            14.0             12.0   \n",
              "2                     1.0                            20.0              3.0   \n",
              "3                     4.0                            15.0             14.0   \n",
              "4                     2.0                            14.0              6.0   \n",
              "\n",
              "   milligrams of potassium  vitamins and minerals (% of FDA recommendation)  \\\n",
              "0                       25                                             25.0   \n",
              "1                      240                                             25.0   \n",
              "2                       45                                            100.0   \n",
              "3                      230                                            100.0   \n",
              "4                      110                                             25.0   \n",
              "\n",
              "   Display shelf  Weight in ounces per one serving  ...  \\\n",
              "0              1                              1.00  ...   \n",
              "1              2                              1.33  ...   \n",
              "2              3                              1.00  ...   \n",
              "3              3                              1.50  ...   \n",
              "4              3                              1.00  ...   \n",
              "\n",
              "   name_Wheaties Honey Gold  Manufacturer_General Mills  \\\n",
              "0                       0.0                         0.0   \n",
              "1                       0.0                         0.0   \n",
              "2                       0.0                         0.0   \n",
              "3                       0.0                         1.0   \n",
              "4                       0.0                         0.0   \n",
              "\n",
              "   Manufacturer_Kelloggs  Manufacturer_Nabisco  Manufacturer_Post  \\\n",
              "0                    1.0                   0.0                0.0   \n",
              "1                    1.0                   0.0                0.0   \n",
              "2                    1.0                   0.0                0.0   \n",
              "3                    0.0                   0.0                0.0   \n",
              "4                    0.0                   0.0                0.0   \n",
              "\n",
              "   Manufacturer_Quaker Oats  Manufacturer_Ralston Purina  type_Cold  type_Hot  \\\n",
              "0                       0.0                          0.0        1.0       0.0   \n",
              "1                       0.0                          0.0        1.0       0.0   \n",
              "2                       0.0                          0.0        1.0       0.0   \n",
              "3                       0.0                          0.0        1.0       0.0   \n",
              "4                       1.0                          0.0        1.0       0.0   \n",
              "\n",
              "   type_nan  \n",
              "0       0.0  \n",
              "1       0.0  \n",
              "2       0.0  \n",
              "3       0.0  \n",
              "4       0.0  \n",
              "\n",
              "[5 rows x 78 columns]"
            ],
            "text/html": [
              "\n",
              "  <div id=\"df-560923c0-5e0f-4008-abfd-c35dd9a817be\">\n",
              "    <div class=\"colab-df-container\">\n",
              "      <div>\n",
              "<style scoped>\n",
              "    .dataframe tbody tr th:only-of-type {\n",
              "        vertical-align: middle;\n",
              "    }\n",
              "\n",
              "    .dataframe tbody tr th {\n",
              "        vertical-align: top;\n",
              "    }\n",
              "\n",
              "    .dataframe thead th {\n",
              "        text-align: right;\n",
              "    }\n",
              "</style>\n",
              "<table border=\"1\" class=\"dataframe\">\n",
              "  <thead>\n",
              "    <tr style=\"text-align: right;\">\n",
              "      <th></th>\n",
              "      <th>grams of protein</th>\n",
              "      <th>grams of fat</th>\n",
              "      <th>milligrams of sodium</th>\n",
              "      <th>grams of dietary fiber</th>\n",
              "      <th>grams of complex carbohydrates</th>\n",
              "      <th>grams of sugars</th>\n",
              "      <th>milligrams of potassium</th>\n",
              "      <th>vitamins and minerals (% of FDA recommendation)</th>\n",
              "      <th>Display shelf</th>\n",
              "      <th>Weight in ounces per one serving</th>\n",
              "      <th>...</th>\n",
              "      <th>name_Wheaties Honey Gold</th>\n",
              "      <th>Manufacturer_General Mills</th>\n",
              "      <th>Manufacturer_Kelloggs</th>\n",
              "      <th>Manufacturer_Nabisco</th>\n",
              "      <th>Manufacturer_Post</th>\n",
              "      <th>Manufacturer_Quaker Oats</th>\n",
              "      <th>Manufacturer_Ralston Purina</th>\n",
              "      <th>type_Cold</th>\n",
              "      <th>type_Hot</th>\n",
              "      <th>type_nan</th>\n",
              "    </tr>\n",
              "  </thead>\n",
              "  <tbody>\n",
              "    <tr>\n",
              "      <th>0</th>\n",
              "      <td>1</td>\n",
              "      <td>0.0</td>\n",
              "      <td>200.0</td>\n",
              "      <td>1.0</td>\n",
              "      <td>14.0</td>\n",
              "      <td>11.0</td>\n",
              "      <td>25</td>\n",
              "      <td>25.0</td>\n",
              "      <td>1</td>\n",
              "      <td>1.00</td>\n",
              "      <td>...</td>\n",
              "      <td>0.0</td>\n",
              "      <td>0.0</td>\n",
              "      <td>1.0</td>\n",
              "      <td>0.0</td>\n",
              "      <td>0.0</td>\n",
              "      <td>0.0</td>\n",
              "      <td>0.0</td>\n",
              "      <td>1.0</td>\n",
              "      <td>0.0</td>\n",
              "      <td>0.0</td>\n",
              "    </tr>\n",
              "    <tr>\n",
              "      <th>1</th>\n",
              "      <td>3</td>\n",
              "      <td>1.0</td>\n",
              "      <td>210.0</td>\n",
              "      <td>5.0</td>\n",
              "      <td>14.0</td>\n",
              "      <td>12.0</td>\n",
              "      <td>240</td>\n",
              "      <td>25.0</td>\n",
              "      <td>2</td>\n",
              "      <td>1.33</td>\n",
              "      <td>...</td>\n",
              "      <td>0.0</td>\n",
              "      <td>0.0</td>\n",
              "      <td>1.0</td>\n",
              "      <td>0.0</td>\n",
              "      <td>0.0</td>\n",
              "      <td>0.0</td>\n",
              "      <td>0.0</td>\n",
              "      <td>1.0</td>\n",
              "      <td>0.0</td>\n",
              "      <td>0.0</td>\n",
              "    </tr>\n",
              "    <tr>\n",
              "      <th>2</th>\n",
              "      <td>3</td>\n",
              "      <td>0.0</td>\n",
              "      <td>320.0</td>\n",
              "      <td>1.0</td>\n",
              "      <td>20.0</td>\n",
              "      <td>3.0</td>\n",
              "      <td>45</td>\n",
              "      <td>100.0</td>\n",
              "      <td>3</td>\n",
              "      <td>1.00</td>\n",
              "      <td>...</td>\n",
              "      <td>0.0</td>\n",
              "      <td>0.0</td>\n",
              "      <td>1.0</td>\n",
              "      <td>0.0</td>\n",
              "      <td>0.0</td>\n",
              "      <td>0.0</td>\n",
              "      <td>0.0</td>\n",
              "      <td>1.0</td>\n",
              "      <td>0.0</td>\n",
              "      <td>0.0</td>\n",
              "    </tr>\n",
              "    <tr>\n",
              "      <th>3</th>\n",
              "      <td>3</td>\n",
              "      <td>1.0</td>\n",
              "      <td>190.0</td>\n",
              "      <td>4.0</td>\n",
              "      <td>15.0</td>\n",
              "      <td>14.0</td>\n",
              "      <td>230</td>\n",
              "      <td>100.0</td>\n",
              "      <td>3</td>\n",
              "      <td>1.50</td>\n",
              "      <td>...</td>\n",
              "      <td>0.0</td>\n",
              "      <td>1.0</td>\n",
              "      <td>0.0</td>\n",
              "      <td>0.0</td>\n",
              "      <td>0.0</td>\n",
              "      <td>0.0</td>\n",
              "      <td>0.0</td>\n",
              "      <td>1.0</td>\n",
              "      <td>0.0</td>\n",
              "      <td>0.0</td>\n",
              "    </tr>\n",
              "    <tr>\n",
              "      <th>4</th>\n",
              "      <td>4</td>\n",
              "      <td>1.0</td>\n",
              "      <td>135.0</td>\n",
              "      <td>2.0</td>\n",
              "      <td>14.0</td>\n",
              "      <td>6.0</td>\n",
              "      <td>110</td>\n",
              "      <td>25.0</td>\n",
              "      <td>3</td>\n",
              "      <td>1.00</td>\n",
              "      <td>...</td>\n",
              "      <td>0.0</td>\n",
              "      <td>0.0</td>\n",
              "      <td>0.0</td>\n",
              "      <td>0.0</td>\n",
              "      <td>0.0</td>\n",
              "      <td>1.0</td>\n",
              "      <td>0.0</td>\n",
              "      <td>1.0</td>\n",
              "      <td>0.0</td>\n",
              "      <td>0.0</td>\n",
              "    </tr>\n",
              "  </tbody>\n",
              "</table>\n",
              "<p>5 rows × 78 columns</p>\n",
              "</div>\n",
              "      <button class=\"colab-df-convert\" onclick=\"convertToInteractive('df-560923c0-5e0f-4008-abfd-c35dd9a817be')\"\n",
              "              title=\"Convert this dataframe to an interactive table.\"\n",
              "              style=\"display:none;\">\n",
              "        \n",
              "  <svg xmlns=\"http://www.w3.org/2000/svg\" height=\"24px\"viewBox=\"0 0 24 24\"\n",
              "       width=\"24px\">\n",
              "    <path d=\"M0 0h24v24H0V0z\" fill=\"none\"/>\n",
              "    <path d=\"M18.56 5.44l.94 2.06.94-2.06 2.06-.94-2.06-.94-.94-2.06-.94 2.06-2.06.94zm-11 1L8.5 8.5l.94-2.06 2.06-.94-2.06-.94L8.5 2.5l-.94 2.06-2.06.94zm10 10l.94 2.06.94-2.06 2.06-.94-2.06-.94-.94-2.06-.94 2.06-2.06.94z\"/><path d=\"M17.41 7.96l-1.37-1.37c-.4-.4-.92-.59-1.43-.59-.52 0-1.04.2-1.43.59L10.3 9.45l-7.72 7.72c-.78.78-.78 2.05 0 2.83L4 21.41c.39.39.9.59 1.41.59.51 0 1.02-.2 1.41-.59l7.78-7.78 2.81-2.81c.8-.78.8-2.07 0-2.86zM5.41 20L4 18.59l7.72-7.72 1.47 1.35L5.41 20z\"/>\n",
              "  </svg>\n",
              "      </button>\n",
              "      \n",
              "  <style>\n",
              "    .colab-df-container {\n",
              "      display:flex;\n",
              "      flex-wrap:wrap;\n",
              "      gap: 12px;\n",
              "    }\n",
              "\n",
              "    .colab-df-convert {\n",
              "      background-color: #E8F0FE;\n",
              "      border: none;\n",
              "      border-radius: 50%;\n",
              "      cursor: pointer;\n",
              "      display: none;\n",
              "      fill: #1967D2;\n",
              "      height: 32px;\n",
              "      padding: 0 0 0 0;\n",
              "      width: 32px;\n",
              "    }\n",
              "\n",
              "    .colab-df-convert:hover {\n",
              "      background-color: #E2EBFA;\n",
              "      box-shadow: 0px 1px 2px rgba(60, 64, 67, 0.3), 0px 1px 3px 1px rgba(60, 64, 67, 0.15);\n",
              "      fill: #174EA6;\n",
              "    }\n",
              "\n",
              "    [theme=dark] .colab-df-convert {\n",
              "      background-color: #3B4455;\n",
              "      fill: #D2E3FC;\n",
              "    }\n",
              "\n",
              "    [theme=dark] .colab-df-convert:hover {\n",
              "      background-color: #434B5C;\n",
              "      box-shadow: 0px 1px 3px 1px rgba(0, 0, 0, 0.15);\n",
              "      filter: drop-shadow(0px 1px 2px rgba(0, 0, 0, 0.3));\n",
              "      fill: #FFFFFF;\n",
              "    }\n",
              "  </style>\n",
              "\n",
              "      <script>\n",
              "        const buttonEl =\n",
              "          document.querySelector('#df-560923c0-5e0f-4008-abfd-c35dd9a817be button.colab-df-convert');\n",
              "        buttonEl.style.display =\n",
              "          google.colab.kernel.accessAllowed ? 'block' : 'none';\n",
              "\n",
              "        async function convertToInteractive(key) {\n",
              "          const element = document.querySelector('#df-560923c0-5e0f-4008-abfd-c35dd9a817be');\n",
              "          const dataTable =\n",
              "            await google.colab.kernel.invokeFunction('convertToInteractive',\n",
              "                                                     [key], {});\n",
              "          if (!dataTable) return;\n",
              "\n",
              "          const docLinkHtml = 'Like what you see? Visit the ' +\n",
              "            '<a target=\"_blank\" href=https://colab.research.google.com/notebooks/data_table.ipynb>data table notebook</a>'\n",
              "            + ' to learn more about interactive tables.';\n",
              "          element.innerHTML = '';\n",
              "          dataTable['output_type'] = 'display_data';\n",
              "          await google.colab.output.renderOutput(dataTable, element);\n",
              "          const docLink = document.createElement('div');\n",
              "          docLink.innerHTML = docLinkHtml;\n",
              "          element.appendChild(docLink);\n",
              "        }\n",
              "      </script>\n",
              "    </div>\n",
              "  </div>\n",
              "  "
            ]
          },
          "metadata": {},
          "execution_count": 59
        }
      ]
    },
    {
      "cell_type": "code",
      "source": [
        "#This is the resulting Numpy Array after transformation of both categorical data to a sparse matrix and afterwards concatenation \n",
        "\n"
      ],
      "metadata": {
        "id": "u79RU9McSjD6"
      },
      "execution_count": 60,
      "outputs": []
    },
    {
      "cell_type": "markdown",
      "source": [
        "END OF ASSIGNMENT FOR PIPELINES ACTIVITY"
      ],
      "metadata": {
        "id": "AGiNtaVyfbKA"
      }
    }
  ]
}