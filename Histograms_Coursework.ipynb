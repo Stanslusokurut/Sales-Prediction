{
  "nbformat": 4,
  "nbformat_minor": 0,
  "metadata": {
    "colab": {
      "provenance": [],
      "mount_file_id": "1tE-DrlZB0he2dqesD9WJjVVN712JHUJw",
      "authorship_tag": "ABX9TyPsUN3dOLjybEQlPKHFvD1L",
      "include_colab_link": true
    },
    "kernelspec": {
      "name": "python3",
      "display_name": "Python 3"
    },
    "language_info": {
      "name": "python"
    }
  },
  "cells": [
    {
      "cell_type": "markdown",
      "metadata": {
        "id": "view-in-github",
        "colab_type": "text"
      },
      "source": [
        "<a href=\"https://colab.research.google.com/github/Stanslusokurut/Sales-Prediction/blob/main/Histograms_Coursework.ipynb\" target=\"_parent\"><img src=\"https://colab.research.google.com/assets/colab-badge.svg\" alt=\"Open In Colab\"/></a>"
      ]
    },
    {
      "cell_type": "code",
      "execution_count": 1,
      "metadata": {
        "id": "q9_pkOWLWa40"
      },
      "outputs": [],
      "source": [
        "#Import libraries\n",
        "import matplotlib.pyplot as plt\n",
        "import seaborn as sns\n",
        "import pandas as pd\n",
        "import numpy as np"
      ]
    },
    {
      "cell_type": "code",
      "source": [
        "from google.colab import drive\n",
        "drive.mount('/content/drive')"
      ],
      "metadata": {
        "id": "HKMQ64CXl6Uj",
        "colab": {
          "base_uri": "https://localhost:8080/"
        },
        "outputId": "d8eeda2c-6655-42e4-ebab-51b5b8ce1294"
      },
      "execution_count": 3,
      "outputs": [
        {
          "output_type": "stream",
          "name": "stdout",
          "text": [
            "Drive already mounted at /content/drive; to attempt to forcibly remount, call drive.mount(\"/content/drive\", force_remount=True).\n"
          ]
        }
      ]
    },
    {
      "cell_type": "code",
      "source": [
        "Catsdogs =pd.read_excel('/content/drive/MyDrive/Data Science/Datasets/catsvdogs.xlsx')"
      ],
      "metadata": {
        "id": "4NNg4j0tFx49"
      },
      "execution_count": 5,
      "outputs": []
    },
    {
      "cell_type": "code",
      "source": [
        "#Explore dataset\n",
        "Catsdogs.head()\n",
        "Catsdogs.describe()"
      ],
      "metadata": {
        "colab": {
          "base_uri": "https://localhost:8080/",
          "height": 379
        },
        "id": "Sl8IxaUlm6Ob",
        "outputId": "508d1196-b5b2-4c1e-c0f5-28c12c4dea63"
      },
      "execution_count": 6,
      "outputs": [
        {
          "output_type": "execute_result",
          "data": {
            "text/plain": [
              "       Number of Households (in 1000)  Percentage of households with pets  \\\n",
              "count                       49.000000                           49.000000   \n",
              "mean                      2403.897959                           56.859184   \n",
              "std                       2514.054786                            6.931688   \n",
              "min                        221.000000                           21.900000   \n",
              "25%                        765.000000                           53.600000   \n",
              "50%                       1759.000000                           56.800000   \n",
              "75%                       2632.000000                           61.300000   \n",
              "max                      12974.000000                           70.800000   \n",
              "\n",
              "       Number of Pet Households (in 1000)  Percentage of Dog Owners  \\\n",
              "count                           49.000000                 49.000000   \n",
              "mean                          1342.591837                 36.973469   \n",
              "std                           1358.247246                  6.671169   \n",
              "min                             63.000000                 13.100000   \n",
              "25%                            475.000000                 32.900000   \n",
              "50%                            957.000000                 36.600000   \n",
              "75%                           1611.000000                 42.500000   \n",
              "max                           6865.000000                 47.900000   \n",
              "\n",
              "       Dog Owning Households (1000s)  Mean Number of Dogs per household  \\\n",
              "count                      49.000000                          49.000000   \n",
              "mean                      876.367347                           1.587755   \n",
              "std                       891.828475                           0.202724   \n",
              "min                        38.000000                           1.100000   \n",
              "25%                       273.000000                           1.400000   \n",
              "50%                       638.000000                           1.600000   \n",
              "75%                      1069.000000                           1.700000   \n",
              "max                      4260.000000                           2.100000   \n",
              "\n",
              "       Dog Population (in 1000)  Percentage of Cat Owners  \\\n",
              "count                 49.000000                 49.000000   \n",
              "mean                1414.163265                 31.642857   \n",
              "std                 1464.658882                  5.683162   \n",
              "min                   42.000000                 11.600000   \n",
              "25%                  410.000000                 29.000000   \n",
              "50%                 1097.000000                 31.300000   \n",
              "75%                 1798.000000                 33.800000   \n",
              "max                 7163.000000                 49.500000   \n",
              "\n",
              "       Cat Owning Households  Mean Number of Cats  Cat Population  \n",
              "count              49.000000            49.000000       49.000000  \n",
              "mean              728.061224             2.040816     1492.795918  \n",
              "std               717.293362             0.191397     1459.857969  \n",
              "min                33.000000             1.700000       63.000000  \n",
              "25%               247.000000             1.900000      514.000000  \n",
              "50%               501.000000             2.000000     1185.000000  \n",
              "75%               876.000000             2.200000     1844.000000  \n",
              "max              3687.000000             2.600000     7118.000000  "
            ],
            "text/html": [
              "\n",
              "  <div id=\"df-a6a3b227-6dbb-4552-b1b6-b52e9e71091e\">\n",
              "    <div class=\"colab-df-container\">\n",
              "      <div>\n",
              "<style scoped>\n",
              "    .dataframe tbody tr th:only-of-type {\n",
              "        vertical-align: middle;\n",
              "    }\n",
              "\n",
              "    .dataframe tbody tr th {\n",
              "        vertical-align: top;\n",
              "    }\n",
              "\n",
              "    .dataframe thead th {\n",
              "        text-align: right;\n",
              "    }\n",
              "</style>\n",
              "<table border=\"1\" class=\"dataframe\">\n",
              "  <thead>\n",
              "    <tr style=\"text-align: right;\">\n",
              "      <th></th>\n",
              "      <th>Number of Households (in 1000)</th>\n",
              "      <th>Percentage of households with pets</th>\n",
              "      <th>Number of Pet Households (in 1000)</th>\n",
              "      <th>Percentage of Dog Owners</th>\n",
              "      <th>Dog Owning Households (1000s)</th>\n",
              "      <th>Mean Number of Dogs per household</th>\n",
              "      <th>Dog Population (in 1000)</th>\n",
              "      <th>Percentage of Cat Owners</th>\n",
              "      <th>Cat Owning Households</th>\n",
              "      <th>Mean Number of Cats</th>\n",
              "      <th>Cat Population</th>\n",
              "    </tr>\n",
              "  </thead>\n",
              "  <tbody>\n",
              "    <tr>\n",
              "      <th>count</th>\n",
              "      <td>49.000000</td>\n",
              "      <td>49.000000</td>\n",
              "      <td>49.000000</td>\n",
              "      <td>49.000000</td>\n",
              "      <td>49.000000</td>\n",
              "      <td>49.000000</td>\n",
              "      <td>49.000000</td>\n",
              "      <td>49.000000</td>\n",
              "      <td>49.000000</td>\n",
              "      <td>49.000000</td>\n",
              "      <td>49.000000</td>\n",
              "    </tr>\n",
              "    <tr>\n",
              "      <th>mean</th>\n",
              "      <td>2403.897959</td>\n",
              "      <td>56.859184</td>\n",
              "      <td>1342.591837</td>\n",
              "      <td>36.973469</td>\n",
              "      <td>876.367347</td>\n",
              "      <td>1.587755</td>\n",
              "      <td>1414.163265</td>\n",
              "      <td>31.642857</td>\n",
              "      <td>728.061224</td>\n",
              "      <td>2.040816</td>\n",
              "      <td>1492.795918</td>\n",
              "    </tr>\n",
              "    <tr>\n",
              "      <th>std</th>\n",
              "      <td>2514.054786</td>\n",
              "      <td>6.931688</td>\n",
              "      <td>1358.247246</td>\n",
              "      <td>6.671169</td>\n",
              "      <td>891.828475</td>\n",
              "      <td>0.202724</td>\n",
              "      <td>1464.658882</td>\n",
              "      <td>5.683162</td>\n",
              "      <td>717.293362</td>\n",
              "      <td>0.191397</td>\n",
              "      <td>1459.857969</td>\n",
              "    </tr>\n",
              "    <tr>\n",
              "      <th>min</th>\n",
              "      <td>221.000000</td>\n",
              "      <td>21.900000</td>\n",
              "      <td>63.000000</td>\n",
              "      <td>13.100000</td>\n",
              "      <td>38.000000</td>\n",
              "      <td>1.100000</td>\n",
              "      <td>42.000000</td>\n",
              "      <td>11.600000</td>\n",
              "      <td>33.000000</td>\n",
              "      <td>1.700000</td>\n",
              "      <td>63.000000</td>\n",
              "    </tr>\n",
              "    <tr>\n",
              "      <th>25%</th>\n",
              "      <td>765.000000</td>\n",
              "      <td>53.600000</td>\n",
              "      <td>475.000000</td>\n",
              "      <td>32.900000</td>\n",
              "      <td>273.000000</td>\n",
              "      <td>1.400000</td>\n",
              "      <td>410.000000</td>\n",
              "      <td>29.000000</td>\n",
              "      <td>247.000000</td>\n",
              "      <td>1.900000</td>\n",
              "      <td>514.000000</td>\n",
              "    </tr>\n",
              "    <tr>\n",
              "      <th>50%</th>\n",
              "      <td>1759.000000</td>\n",
              "      <td>56.800000</td>\n",
              "      <td>957.000000</td>\n",
              "      <td>36.600000</td>\n",
              "      <td>638.000000</td>\n",
              "      <td>1.600000</td>\n",
              "      <td>1097.000000</td>\n",
              "      <td>31.300000</td>\n",
              "      <td>501.000000</td>\n",
              "      <td>2.000000</td>\n",
              "      <td>1185.000000</td>\n",
              "    </tr>\n",
              "    <tr>\n",
              "      <th>75%</th>\n",
              "      <td>2632.000000</td>\n",
              "      <td>61.300000</td>\n",
              "      <td>1611.000000</td>\n",
              "      <td>42.500000</td>\n",
              "      <td>1069.000000</td>\n",
              "      <td>1.700000</td>\n",
              "      <td>1798.000000</td>\n",
              "      <td>33.800000</td>\n",
              "      <td>876.000000</td>\n",
              "      <td>2.200000</td>\n",
              "      <td>1844.000000</td>\n",
              "    </tr>\n",
              "    <tr>\n",
              "      <th>max</th>\n",
              "      <td>12974.000000</td>\n",
              "      <td>70.800000</td>\n",
              "      <td>6865.000000</td>\n",
              "      <td>47.900000</td>\n",
              "      <td>4260.000000</td>\n",
              "      <td>2.100000</td>\n",
              "      <td>7163.000000</td>\n",
              "      <td>49.500000</td>\n",
              "      <td>3687.000000</td>\n",
              "      <td>2.600000</td>\n",
              "      <td>7118.000000</td>\n",
              "    </tr>\n",
              "  </tbody>\n",
              "</table>\n",
              "</div>\n",
              "      <button class=\"colab-df-convert\" onclick=\"convertToInteractive('df-a6a3b227-6dbb-4552-b1b6-b52e9e71091e')\"\n",
              "              title=\"Convert this dataframe to an interactive table.\"\n",
              "              style=\"display:none;\">\n",
              "        \n",
              "  <svg xmlns=\"http://www.w3.org/2000/svg\" height=\"24px\"viewBox=\"0 0 24 24\"\n",
              "       width=\"24px\">\n",
              "    <path d=\"M0 0h24v24H0V0z\" fill=\"none\"/>\n",
              "    <path d=\"M18.56 5.44l.94 2.06.94-2.06 2.06-.94-2.06-.94-.94-2.06-.94 2.06-2.06.94zm-11 1L8.5 8.5l.94-2.06 2.06-.94-2.06-.94L8.5 2.5l-.94 2.06-2.06.94zm10 10l.94 2.06.94-2.06 2.06-.94-2.06-.94-.94-2.06-.94 2.06-2.06.94z\"/><path d=\"M17.41 7.96l-1.37-1.37c-.4-.4-.92-.59-1.43-.59-.52 0-1.04.2-1.43.59L10.3 9.45l-7.72 7.72c-.78.78-.78 2.05 0 2.83L4 21.41c.39.39.9.59 1.41.59.51 0 1.02-.2 1.41-.59l7.78-7.78 2.81-2.81c.8-.78.8-2.07 0-2.86zM5.41 20L4 18.59l7.72-7.72 1.47 1.35L5.41 20z\"/>\n",
              "  </svg>\n",
              "      </button>\n",
              "      \n",
              "  <style>\n",
              "    .colab-df-container {\n",
              "      display:flex;\n",
              "      flex-wrap:wrap;\n",
              "      gap: 12px;\n",
              "    }\n",
              "\n",
              "    .colab-df-convert {\n",
              "      background-color: #E8F0FE;\n",
              "      border: none;\n",
              "      border-radius: 50%;\n",
              "      cursor: pointer;\n",
              "      display: none;\n",
              "      fill: #1967D2;\n",
              "      height: 32px;\n",
              "      padding: 0 0 0 0;\n",
              "      width: 32px;\n",
              "    }\n",
              "\n",
              "    .colab-df-convert:hover {\n",
              "      background-color: #E2EBFA;\n",
              "      box-shadow: 0px 1px 2px rgba(60, 64, 67, 0.3), 0px 1px 3px 1px rgba(60, 64, 67, 0.15);\n",
              "      fill: #174EA6;\n",
              "    }\n",
              "\n",
              "    [theme=dark] .colab-df-convert {\n",
              "      background-color: #3B4455;\n",
              "      fill: #D2E3FC;\n",
              "    }\n",
              "\n",
              "    [theme=dark] .colab-df-convert:hover {\n",
              "      background-color: #434B5C;\n",
              "      box-shadow: 0px 1px 3px 1px rgba(0, 0, 0, 0.15);\n",
              "      filter: drop-shadow(0px 1px 2px rgba(0, 0, 0, 0.3));\n",
              "      fill: #FFFFFF;\n",
              "    }\n",
              "  </style>\n",
              "\n",
              "      <script>\n",
              "        const buttonEl =\n",
              "          document.querySelector('#df-a6a3b227-6dbb-4552-b1b6-b52e9e71091e button.colab-df-convert');\n",
              "        buttonEl.style.display =\n",
              "          google.colab.kernel.accessAllowed ? 'block' : 'none';\n",
              "\n",
              "        async function convertToInteractive(key) {\n",
              "          const element = document.querySelector('#df-a6a3b227-6dbb-4552-b1b6-b52e9e71091e');\n",
              "          const dataTable =\n",
              "            await google.colab.kernel.invokeFunction('convertToInteractive',\n",
              "                                                     [key], {});\n",
              "          if (!dataTable) return;\n",
              "\n",
              "          const docLinkHtml = 'Like what you see? Visit the ' +\n",
              "            '<a target=\"_blank\" href=https://colab.research.google.com/notebooks/data_table.ipynb>data table notebook</a>'\n",
              "            + ' to learn more about interactive tables.';\n",
              "          element.innerHTML = '';\n",
              "          dataTable['output_type'] = 'display_data';\n",
              "          await google.colab.output.renderOutput(dataTable, element);\n",
              "          const docLink = document.createElement('div');\n",
              "          docLink.innerHTML = docLinkHtml;\n",
              "          element.appendChild(docLink);\n",
              "        }\n",
              "      </script>\n",
              "    </div>\n",
              "  </div>\n",
              "  "
            ]
          },
          "metadata": {},
          "execution_count": 6
        }
      ]
    },
    {
      "cell_type": "code",
      "source": [
        "#Histogram for Dog Ownership\n",
        "#Adding seaborn style \n",
        "plt.style.use('seaborn')\n",
        "bins = [10,20,30,40,50]#Most ownership of cats is between 10 and 50, Adjusting the bins respectively\n",
        "Catsdogs['Percentage of Dog Owners'].hist(bins = bins, edgecolor='black')\n",
        "plt.xticks(rotation = 45)\n",
        "plt.ticklabel_format(useOffset=False, style='plain')\n",
        "plt.title('Percentage of Dog owners')\n",
        "plt.xlabel('Category/Groups')\n",
        "plt.ylabel('Frequency')"
      ],
      "metadata": {
        "colab": {
          "base_uri": "https://localhost:8080/",
          "height": 398
        },
        "id": "Uae2nLkLnoLq",
        "outputId": "e9eeb8ad-4137-438b-d197-fc94cf9860b6"
      },
      "execution_count": 21,
      "outputs": [
        {
          "output_type": "execute_result",
          "data": {
            "text/plain": [
              "Text(0, 0.5, 'Frequency')"
            ]
          },
          "metadata": {},
          "execution_count": 21
        },
        {
          "output_type": "display_data",
          "data": {
            "text/plain": [
              "<Figure size 576x396 with 1 Axes>"
            ],
            "image/png": "[encoded data removed]"
          },
          "metadata": {}
        }
      ]
    },
    {
      "cell_type": "code",
      "source": [
        "#Most locations have a dog ownership of between 30# to 40%, followed by 40% to 50% and then 20% to 30%. \n",
        "#only few locations have a dog wonership of less than 5%. No location/place had a dog ownership of above 50%"
      ],
      "metadata": {
        "id": "MMuVQOLIPdR_"
      },
      "execution_count": null,
      "outputs": []
    },
    {
      "cell_type": "code",
      "source": [
        "#Histogram for Cat Ownership\n",
        "#Adding seaborn style \n",
        "plt.style.use('seaborn')\n",
        "bins = [10,20,30,40,50]# Most ownership of cats is between 10 and 50, Adjusting the bins respectively \n",
        "Catsdogs['Percentage of Cat Owners'].hist(bins = bins, edgecolor='black')\n",
        "plt.xticks(rotation = 45)\n",
        "plt.ticklabel_format(useOffset=False, style='plain')\n",
        "plt.title('Percentage of Cat owners')\n",
        "plt.xlabel('Category/Groups')\n",
        "plt.ylabel('Frequency')"
      ],
      "metadata": {
        "colab": {
          "base_uri": "https://localhost:8080/",
          "height": 398
        },
        "outputId": "df9388c3-b645-4543-c024-489793d511a5",
        "id": "zNA8D24KN0wf"
      },
      "execution_count": 20,
      "outputs": [
        {
          "output_type": "execute_result",
          "data": {
            "text/plain": [
              "Text(0, 0.5, 'Frequency')"
            ]
          },
          "metadata": {},
          "execution_count": 20
        },
        {
          "output_type": "display_data",
          "data": {
            "text/plain": [
              "<Figure size 576x396 with 1 Axes>"
            ],
            "image/png": "[encoded data removed]"
          },
          "metadata": {}
        }
      ]
    },
    {
      "cell_type": "code",
      "source": [
        "#Most locations have a dog ownership of between 30# to 40%, followed by 20% to 30% and then 40% to 50%. \n",
        "#only few locations have a dog wonership of less than 5%. No location/place had a dog ownership of above 50%"
      ],
      "metadata": {
        "id": "Kv9wp1_6QEDk"
      },
      "execution_count": null,
      "outputs": []
    },
    {
      "cell_type": "markdown",
      "source": [
        "Overall, there a slightly higher  right skew of dog ownership as revealed from the data. There is thus a slighly higher ownership of dogs than cats"
      ],
      "metadata": {
        "id": "v_4kc0qLQN-A"
      }
    },
    {
      "cell_type": "code",
      "source": [
        "#OPTIONAL\n",
        "#Histogram for Cat and Dog Ownership\n",
        "#Adding seaborn style \n",
        "plt.style.use('seaborn')\n",
        "bins = [10,20,30,40,50]# Most ownership of cats is between 10 and 50, Adjusting the bins respectively \n",
        "Catsdogs['Percentage of Cat Owners'].hist(bins = bins, edgecolor='black')\n",
        "Catsdogs['Percentage of Dog Owners'].hist(bins = bins, edgecolor='black')\n",
        "plt.xticks(rotation = 45)\n",
        "plt.ticklabel_format(useOffset=False, style='plain')\n",
        "plt.title('Percentage of Cat owners')\n",
        "plt.xlabel('Category/Groups')\n",
        "plt.ylabel('Frequency')"
      ],
      "metadata": {
        "colab": {
          "base_uri": "https://localhost:8080/",
          "height": 398
        },
        "outputId": "50df65d2-b277-4759-c2dc-4f60e4099785",
        "id": "-CBsqdFfO-UT"
      },
      "execution_count": 22,
      "outputs": [
        {
          "output_type": "execute_result",
          "data": {
            "text/plain": [
              "Text(0, 0.5, 'Frequency')"
            ]
          },
          "metadata": {},
          "execution_count": 22
        },
        {
          "output_type": "display_data",
          "data": {
            "text/plain": [
              "<Figure size 576x396 with 1 Axes>"
            ],
            "image/png": "[encoded data removed]"
          },
          "metadata": {}
        }
      ]
    },
    {
      "cell_type": "code",
      "source": [
        "#Boxplots of mean number of animals owned \n",
        "\n"
      ],
      "metadata": {
        "id": "hRJus3WmQvVI"
      },
      "execution_count": null,
      "outputs": []
    },
    {
      "cell_type": "code",
      "source": [
        "#Boxplot of sales of major Oulets and Outlet types\n",
        "#sns.boxplot(y='Mean Number of Dogs per household', data= Catsdogs)\n",
        "#sns.boxplot(y='Mean Number of Cats', data= Catsdogs)\n",
        "df = Catsdogs[['Mean Number of Dogs per household','Mean Number of Cats']]\n",
        "sns.boxplot(x=\"variable\", y=\"value\", data=pd.melt(df))\n",
        "#Melt function helps convert the wide dataframe to long\n",
        "plt.title('Mean ownership of cats and dogs', fontsize =20)\n",
        "plt.xlabel('Cats or Dogs')\n",
        "plt.ylabel('Means')\n",
        "plt.show()"
      ],
      "metadata": {
        "colab": {
          "base_uri": "https://localhost:8080/",
          "height": 382
        },
        "id": "HFWvFKpLjJ7S",
        "outputId": "0aa6e03c-e716-41d9-d601-0784d11f034e"
      },
      "execution_count": 31,
      "outputs": [
        {
          "output_type": "display_data",
          "data": {
            "text/plain": [
              "<Figure size 576x396 with 1 Axes>"
            ],
            "image/png": "[encoded data removed]"
          },
          "metadata": {}
        }
      ]
    },
    {
      "cell_type": "code",
      "source": [
        "#There is a higher mean ownership of cats than dogs "
      ],
      "metadata": {
        "id": "iDqO1NWSaa1L"
      },
      "execution_count": null,
      "outputs": []
    }
  ]
}