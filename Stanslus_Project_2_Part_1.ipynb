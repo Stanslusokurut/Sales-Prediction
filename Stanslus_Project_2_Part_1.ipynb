{
  "nbformat": 4,
  "nbformat_minor": 0,
  "metadata": {
    "colab": {
      "provenance": [],
      "authorship_tag": "ABX9TyMhxvGkH6cROhf/2yaKDg62",
      "include_colab_link": true
    },
    "kernelspec": {
      "name": "python3",
      "display_name": "Python 3"
    },
    "language_info": {
      "name": "python"
    }
  },
  "cells": [
    {
      "cell_type": "markdown",
      "metadata": {
        "id": "view-in-github",
        "colab_type": "text"
      },
      "source": [
        "<a href=\"https://colab.research.google.com/github/Stanslusokurut/Sales-Prediction/blob/main/Stanslus_Project_2_Part_1.ipynb\" target=\"_parent\"><img src=\"https://colab.research.google.com/assets/colab-badge.svg\" alt=\"Open In Colab\"/></a>"
      ]
    },
    {
      "cell_type": "code",
      "execution_count": 1,
      "metadata": {
        "colab": {
          "base_uri": "https://localhost:8080/"
        },
        "id": "dh8jtNlTlWl8",
        "outputId": "e0f25945-ac52-4853-b2e4-5ce27773ff35"
      },
      "outputs": [
        {
          "output_type": "stream",
          "name": "stdout",
          "text": [
            "Mounted at /content/drive\n"
          ]
        }
      ],
      "source": [
        "#Mount Drive\n",
        "from google.colab import drive\n",
        "drive.mount('/content/drive')\n"
      ]
    },
    {
      "cell_type": "code",
      "source": [
        "#Import libraries \n",
        "import pandas as pd\n",
        "# Edit and place your path here\n",
        "filename = filename = '/content/drive/MyDrive/Data Science/Datasets/Machine Learning Data/Food Security Nationals.xlsx'\n",
        "#File has headers\n",
        "df = pd.read_excel(filename)\n",
        "df.head()"
      ],
      "metadata": {
        "colab": {
          "base_uri": "https://localhost:8080/",
          "height": 473
        },
        "id": "PcS4rqW2rNjV",
        "outputId": "645799ae-16c3-4034-fc83-e92a6c46f423"
      },
      "execution_count": 3,
      "outputs": [
        {
          "output_type": "execute_result",
          "data": {
            "text/plain": [
              "      a_date a_state a_county      a_payam                      a_context  \\\n",
              "0 2022-06-09   Unity  Rubkona  Bentiu Town  Community village (host/IDPs)   \n",
              "1 2022-06-09   Unity  Rubkona  Bentiu Town  Community village (host/IDPs)   \n",
              "2 2022-06-09   Unity  Rubkona  Bentiu Town  Community village (host/IDPs)   \n",
              "3 2022-06-09   Unity  Rubkona  Bentiu Town  Community village (host/IDPs)   \n",
              "4 2022-06-10   Lakes  Awerial        Puluk  Community village (host/IDPs)   \n",
              "\n",
              "  a_poptype        a_camp a_camp_oth      a_activity a_interview_mode  ...  \\\n",
              "0       NaN   Bentiu town        NaN  GFD activities              NaN  ...   \n",
              "1       NaN   Bentiu town        NaN  GFD activities              NaN  ...   \n",
              "2       NaN  Rubkona town        NaN  GFD activities              NaN  ...   \n",
              "3       NaN   Bentiu town        NaN  GFD activities              NaN  ...   \n",
              "4       NaN     Mingkaman        NaN  GFD activities              NaN  ...   \n",
              "\n",
              "  total_fexcari  fexcari expgroup stress  crisis emergency caricop  \\\n",
              "0       68300.0     60.0        2      0       0         1     3.0   \n",
              "1       26900.0     89.0        4      0       0         1     4.0   \n",
              "2       53500.0     79.0        4      0       0         1     4.0   \n",
              "3       31600.0     69.0        3      0       0         1     3.5   \n",
              "4       84000.0     43.0        1      0       0         0     1.0   \n",
              "\n",
              "  fcsgtoCarig    fs _index  \n",
              "0           1  2.00      1  \n",
              "1           4  4.00      2  \n",
              "2           1  2.50      3  \n",
              "3           3  3.25      4  \n",
              "4           4  2.50      5  \n",
              "\n",
              "[5 rows x 1454 columns]"
            ],
            "text/html": [
              "\n",
              "  <div id=\"df-b7b65647-3e7b-4462-aa44-ce6ec8991846\">\n",
              "    <div class=\"colab-df-container\">\n",
              "      <div>\n",
              "<style scoped>\n",
              "    .dataframe tbody tr th:only-of-type {\n",
              "        vertical-align: middle;\n",
              "    }\n",
              "\n",
              "    .dataframe tbody tr th {\n",
              "        vertical-align: top;\n",
              "    }\n",
              "\n",
              "    .dataframe thead th {\n",
              "        text-align: right;\n",
              "    }\n",
              "</style>\n",
              "<table border=\"1\" class=\"dataframe\">\n",
              "  <thead>\n",
              "    <tr style=\"text-align: right;\">\n",
              "      <th></th>\n",
              "      <th>a_date</th>\n",
              "      <th>a_state</th>\n",
              "      <th>a_county</th>\n",
              "      <th>a_payam</th>\n",
              "      <th>a_context</th>\n",
              "      <th>a_poptype</th>\n",
              "      <th>a_camp</th>\n",
              "      <th>a_camp_oth</th>\n",
              "      <th>a_activity</th>\n",
              "      <th>a_interview_mode</th>\n",
              "      <th>...</th>\n",
              "      <th>total_fexcari</th>\n",
              "      <th>fexcari</th>\n",
              "      <th>expgroup</th>\n",
              "      <th>stress</th>\n",
              "      <th>crisis</th>\n",
              "      <th>emergency</th>\n",
              "      <th>caricop</th>\n",
              "      <th>fcsgtoCarig</th>\n",
              "      <th>fs</th>\n",
              "      <th>_index</th>\n",
              "    </tr>\n",
              "  </thead>\n",
              "  <tbody>\n",
              "    <tr>\n",
              "      <th>0</th>\n",
              "      <td>2022-06-09</td>\n",
              "      <td>Unity</td>\n",
              "      <td>Rubkona</td>\n",
              "      <td>Bentiu Town</td>\n",
              "      <td>Community village (host/IDPs)</td>\n",
              "      <td>NaN</td>\n",
              "      <td>Bentiu town</td>\n",
              "      <td>NaN</td>\n",
              "      <td>GFD activities</td>\n",
              "      <td>NaN</td>\n",
              "      <td>...</td>\n",
              "      <td>68300.0</td>\n",
              "      <td>60.0</td>\n",
              "      <td>2</td>\n",
              "      <td>0</td>\n",
              "      <td>0</td>\n",
              "      <td>1</td>\n",
              "      <td>3.0</td>\n",
              "      <td>1</td>\n",
              "      <td>2.00</td>\n",
              "      <td>1</td>\n",
              "    </tr>\n",
              "    <tr>\n",
              "      <th>1</th>\n",
              "      <td>2022-06-09</td>\n",
              "      <td>Unity</td>\n",
              "      <td>Rubkona</td>\n",
              "      <td>Bentiu Town</td>\n",
              "      <td>Community village (host/IDPs)</td>\n",
              "      <td>NaN</td>\n",
              "      <td>Bentiu town</td>\n",
              "      <td>NaN</td>\n",
              "      <td>GFD activities</td>\n",
              "      <td>NaN</td>\n",
              "      <td>...</td>\n",
              "      <td>26900.0</td>\n",
              "      <td>89.0</td>\n",
              "      <td>4</td>\n",
              "      <td>0</td>\n",
              "      <td>0</td>\n",
              "      <td>1</td>\n",
              "      <td>4.0</td>\n",
              "      <td>4</td>\n",
              "      <td>4.00</td>\n",
              "      <td>2</td>\n",
              "    </tr>\n",
              "    <tr>\n",
              "      <th>2</th>\n",
              "      <td>2022-06-09</td>\n",
              "      <td>Unity</td>\n",
              "      <td>Rubkona</td>\n",
              "      <td>Bentiu Town</td>\n",
              "      <td>Community village (host/IDPs)</td>\n",
              "      <td>NaN</td>\n",
              "      <td>Rubkona town</td>\n",
              "      <td>NaN</td>\n",
              "      <td>GFD activities</td>\n",
              "      <td>NaN</td>\n",
              "      <td>...</td>\n",
              "      <td>53500.0</td>\n",
              "      <td>79.0</td>\n",
              "      <td>4</td>\n",
              "      <td>0</td>\n",
              "      <td>0</td>\n",
              "      <td>1</td>\n",
              "      <td>4.0</td>\n",
              "      <td>1</td>\n",
              "      <td>2.50</td>\n",
              "      <td>3</td>\n",
              "    </tr>\n",
              "    <tr>\n",
              "      <th>3</th>\n",
              "      <td>2022-06-09</td>\n",
              "      <td>Unity</td>\n",
              "      <td>Rubkona</td>\n",
              "      <td>Bentiu Town</td>\n",
              "      <td>Community village (host/IDPs)</td>\n",
              "      <td>NaN</td>\n",
              "      <td>Bentiu town</td>\n",
              "      <td>NaN</td>\n",
              "      <td>GFD activities</td>\n",
              "      <td>NaN</td>\n",
              "      <td>...</td>\n",
              "      <td>31600.0</td>\n",
              "      <td>69.0</td>\n",
              "      <td>3</td>\n",
              "      <td>0</td>\n",
              "      <td>0</td>\n",
              "      <td>1</td>\n",
              "      <td>3.5</td>\n",
              "      <td>3</td>\n",
              "      <td>3.25</td>\n",
              "      <td>4</td>\n",
              "    </tr>\n",
              "    <tr>\n",
              "      <th>4</th>\n",
              "      <td>2022-06-10</td>\n",
              "      <td>Lakes</td>\n",
              "      <td>Awerial</td>\n",
              "      <td>Puluk</td>\n",
              "      <td>Community village (host/IDPs)</td>\n",
              "      <td>NaN</td>\n",
              "      <td>Mingkaman</td>\n",
              "      <td>NaN</td>\n",
              "      <td>GFD activities</td>\n",
              "      <td>NaN</td>\n",
              "      <td>...</td>\n",
              "      <td>84000.0</td>\n",
              "      <td>43.0</td>\n",
              "      <td>1</td>\n",
              "      <td>0</td>\n",
              "      <td>0</td>\n",
              "      <td>0</td>\n",
              "      <td>1.0</td>\n",
              "      <td>4</td>\n",
              "      <td>2.50</td>\n",
              "      <td>5</td>\n",
              "    </tr>\n",
              "  </tbody>\n",
              "</table>\n",
              "<p>5 rows × 1454 columns</p>\n",
              "</div>\n",
              "      <button class=\"colab-df-convert\" onclick=\"convertToInteractive('df-b7b65647-3e7b-4462-aa44-ce6ec8991846')\"\n",
              "              title=\"Convert this dataframe to an interactive table.\"\n",
              "              style=\"display:none;\">\n",
              "        \n",
              "  <svg xmlns=\"http://www.w3.org/2000/svg\" height=\"24px\"viewBox=\"0 0 24 24\"\n",
              "       width=\"24px\">\n",
              "    <path d=\"M0 0h24v24H0V0z\" fill=\"none\"/>\n",
              "    <path d=\"M18.56 5.44l.94 2.06.94-2.06 2.06-.94-2.06-.94-.94-2.06-.94 2.06-2.06.94zm-11 1L8.5 8.5l.94-2.06 2.06-.94-2.06-.94L8.5 2.5l-.94 2.06-2.06.94zm10 10l.94 2.06.94-2.06 2.06-.94-2.06-.94-.94-2.06-.94 2.06-2.06.94z\"/><path d=\"M17.41 7.96l-1.37-1.37c-.4-.4-.92-.59-1.43-.59-.52 0-1.04.2-1.43.59L10.3 9.45l-7.72 7.72c-.78.78-.78 2.05 0 2.83L4 21.41c.39.39.9.59 1.41.59.51 0 1.02-.2 1.41-.59l7.78-7.78 2.81-2.81c.8-.78.8-2.07 0-2.86zM5.41 20L4 18.59l7.72-7.72 1.47 1.35L5.41 20z\"/>\n",
              "  </svg>\n",
              "      </button>\n",
              "      \n",
              "  <style>\n",
              "    .colab-df-container {\n",
              "      display:flex;\n",
              "      flex-wrap:wrap;\n",
              "      gap: 12px;\n",
              "    }\n",
              "\n",
              "    .colab-df-convert {\n",
              "      background-color: #E8F0FE;\n",
              "      border: none;\n",
              "      border-radius: 50%;\n",
              "      cursor: pointer;\n",
              "      display: none;\n",
              "      fill: #1967D2;\n",
              "      height: 32px;\n",
              "      padding: 0 0 0 0;\n",
              "      width: 32px;\n",
              "    }\n",
              "\n",
              "    .colab-df-convert:hover {\n",
              "      background-color: #E2EBFA;\n",
              "      box-shadow: 0px 1px 2px rgba(60, 64, 67, 0.3), 0px 1px 3px 1px rgba(60, 64, 67, 0.15);\n",
              "      fill: #174EA6;\n",
              "    }\n",
              "\n",
              "    [theme=dark] .colab-df-convert {\n",
              "      background-color: #3B4455;\n",
              "      fill: #D2E3FC;\n",
              "    }\n",
              "\n",
              "    [theme=dark] .colab-df-convert:hover {\n",
              "      background-color: #434B5C;\n",
              "      box-shadow: 0px 1px 3px 1px rgba(0, 0, 0, 0.15);\n",
              "      filter: drop-shadow(0px 1px 2px rgba(0, 0, 0, 0.3));\n",
              "      fill: #FFFFFF;\n",
              "    }\n",
              "  </style>\n",
              "\n",
              "      <script>\n",
              "        const buttonEl =\n",
              "          document.querySelector('#df-b7b65647-3e7b-4462-aa44-ce6ec8991846 button.colab-df-convert');\n",
              "        buttonEl.style.display =\n",
              "          google.colab.kernel.accessAllowed ? 'block' : 'none';\n",
              "\n",
              "        async function convertToInteractive(key) {\n",
              "          const element = document.querySelector('#df-b7b65647-3e7b-4462-aa44-ce6ec8991846');\n",
              "          const dataTable =\n",
              "            await google.colab.kernel.invokeFunction('convertToInteractive',\n",
              "                                                     [key], {});\n",
              "          if (!dataTable) return;\n",
              "\n",
              "          const docLinkHtml = 'Like what you see? Visit the ' +\n",
              "            '<a target=\"_blank\" href=https://colab.research.google.com/notebooks/data_table.ipynb>data table notebook</a>'\n",
              "            + ' to learn more about interactive tables.';\n",
              "          element.innerHTML = '';\n",
              "          dataTable['output_type'] = 'display_data';\n",
              "          await google.colab.output.renderOutput(dataTable, element);\n",
              "          const docLink = document.createElement('div');\n",
              "          docLink.innerHTML = docLinkHtml;\n",
              "          element.appendChild(docLink);\n",
              "        }\n",
              "      </script>\n",
              "    </div>\n",
              "  </div>\n",
              "  "
            ]
          },
          "metadata": {},
          "execution_count": 3
        }
      ]
    },
    {
      "cell_type": "markdown",
      "source": [
        "Source of Data"
      ],
      "metadata": {
        "id": "TPXTrDTWuflS"
      }
    },
    {
      "cell_type": "code",
      "source": [
        "#The source of data is the WFP internal distribution monitoring thar collected data in december 2022 from households across the country "
      ],
      "metadata": {
        "id": "bgIrH31huQ6D"
      },
      "execution_count": null,
      "outputs": []
    },
    {
      "cell_type": "markdown",
      "source": [
        "Brief Description of the Data"
      ],
      "metadata": {
        "id": "Ha-uFMQfulwO"
      }
    },
    {
      "cell_type": "code",
      "source": [
        "#The data contains household characteristics, socio economic indicators, production and consumption characteristics and the food consumption  outcome [Food consumption score]"
      ],
      "metadata": {
        "id": "mOy9ufvoudaQ"
      },
      "execution_count": null,
      "outputs": []
    },
    {
      "cell_type": "markdown",
      "source": [
        "Target"
      ],
      "metadata": {
        "id": "ZcM3ZRQHvEuD"
      }
    },
    {
      "cell_type": "code",
      "source": [
        "#The target is teh food consumption group fcsg (Poor, borderline or acceptable )\n",
        "df['fcsg'].info()"
      ],
      "metadata": {
        "colab": {
          "base_uri": "https://localhost:8080/"
        },
        "id": "EtJKaxN0vGpJ",
        "outputId": "4e6db421-6053-4a51-d918-6fd41bc593e1"
      },
      "execution_count": 4,
      "outputs": [
        {
          "output_type": "stream",
          "name": "stdout",
          "text": [
            "<class 'pandas.core.series.Series'>\n",
            "RangeIndex: 3186 entries, 0 to 3185\n",
            "Series name: fcsg\n",
            "Non-Null Count  Dtype \n",
            "--------------  ----- \n",
            "3186 non-null   object\n",
            "dtypes: object(1)\n",
            "memory usage: 25.0+ KB\n"
          ]
        }
      ]
    },
    {
      "cell_type": "code",
      "source": [
        "df['fcsg'].value_counts()"
      ],
      "metadata": {
        "colab": {
          "base_uri": "https://localhost:8080/"
        },
        "id": "_m4Zqb0RvXBe",
        "outputId": "3c556a86-924b-4a5a-b428-5f8c31735f66"
      },
      "execution_count": 5,
      "outputs": [
        {
          "output_type": "execute_result",
          "data": {
            "text/plain": [
              "Borderline    1189\n",
              "Poor          1123\n",
              "Acceptable     874\n",
              "Name: fcsg, dtype: int64"
            ]
          },
          "metadata": {},
          "execution_count": 5
        }
      ]
    },
    {
      "cell_type": "code",
      "source": [
        "#Based on the target variable [Categorical], this is a classification problem"
      ],
      "metadata": {
        "id": "yrVmwa7YvoMr"
      },
      "execution_count": null,
      "outputs": []
    },
    {
      "cell_type": "markdown",
      "source": [
        "Is this a classification or regression problem?"
      ],
      "metadata": {
        "id": "z0e3t_WpvokY"
      }
    },
    {
      "cell_type": "code",
      "source": [
        "#The actual/final features to use in the model will be determined after the initial cleaning and data preparation process"
      ],
      "metadata": {
        "id": "OonxkP1rv60I"
      },
      "execution_count": null,
      "outputs": []
    },
    {
      "cell_type": "markdown",
      "source": [
        " How many rows of data."
      ],
      "metadata": {
        "id": "yUuK0cw6wMxh"
      }
    },
    {
      "cell_type": "code",
      "source": [
        "df.info()"
      ],
      "metadata": {
        "colab": {
          "base_uri": "https://localhost:8080/"
        },
        "id": "hi35wv_0v3Wo",
        "outputId": "43194ad0-845a-46f6-c6c5-f9499483f53a"
      },
      "execution_count": 6,
      "outputs": [
        {
          "output_type": "stream",
          "name": "stdout",
          "text": [
            "<class 'pandas.core.frame.DataFrame'>\n",
            "RangeIndex: 3186 entries, 0 to 3185\n",
            "Columns: 1454 entries, a_date to _index\n",
            "dtypes: datetime64[ns](2), float64(243), int64(732), object(477)\n",
            "memory usage: 35.3+ MB\n"
          ]
        }
      ]
    },
    {
      "cell_type": "code",
      "source": [
        "#The dataset has 3186 entries or rows"
      ],
      "metadata": {
        "id": "vw7vbZQ2wYfF"
      },
      "execution_count": null,
      "outputs": []
    },
    {
      "cell_type": "markdown",
      "source": [
        "What, if any, challenges do your foresee in cleaning, exploring, or modeling with this dataset?"
      ],
      "metadata": {
        "id": "dzAqVMqqwSUo"
      }
    },
    {
      "cell_type": "code",
      "source": [
        "#There are very many variables and to get the most fit to use will be a challenge. But based on theory it will help to figure out anz zero down om the actual features \n",
        "#Data preparation will be cumbersome but "
      ],
      "metadata": {
        "id": "ib-_8hzWweKN"
      },
      "execution_count": null,
      "outputs": []
    },
    {
      "cell_type": "code",
      "source": [],
      "metadata": {
        "id": "Aj2kCN8lwuhM"
      },
      "execution_count": null,
      "outputs": []
    },
    {
      "cell_type": "markdown",
      "source": [
        "## **DATASET 2 [FOOD SECURITY REFUGEES]**"
      ],
      "metadata": {
        "id": "4IrPNUg0ws4C"
      }
    },
    {
      "cell_type": "code",
      "source": [
        "filename1 = filename = '/content/drive/MyDrive/Data Science/Datasets/Machine Learning Data/Food Security Refugees.xlsx'\n",
        "#File has headers\n",
        "df1 = pd.read_excel(filename1)\n",
        "df1.head()"
      ],
      "metadata": {
        "colab": {
          "base_uri": "https://localhost:8080/",
          "height": 560
        },
        "id": "aibrb1Vrw3Le",
        "outputId": "986d0f6c-b135-4437-8cfe-6fe5a5a0f9dc"
      },
      "execution_count": 9,
      "outputs": [
        {
          "output_type": "execute_result",
          "data": {
            "text/plain": [
              "      a_date     a_state a_county       a_payam a_suboffice  a_poptype  \\\n",
              "0 2023-01-12  Upper Nile    Maban  Khor El Amer       Maban          1   \n",
              "1 2023-01-12  Upper Nile    Maban  Khor El Amer       Maban          1   \n",
              "2 2023-01-12  Upper Nile    Maban  Khor El Amer       Maban          1   \n",
              "3 2023-01-12  Upper Nile    Maban  Khor El Amer       Maban          1   \n",
              "4 2023-01-12  Upper Nile    Maban  Khor El Amer       Maban          1   \n",
              "\n",
              "                      a_camp      a_activity respdnt_sex  respdnt_age  ...  \\\n",
              "0  Doro Refugee Camp (Maban)  GFD activities      Female           28  ...   \n",
              "1  Doro Refugee Camp (Maban)  GFD activities        Male           28  ...   \n",
              "2  Doro Refugee Camp (Maban)  GFD activities      Female           26  ...   \n",
              "3  Doro Refugee Camp (Maban)  GFD activities        Male           48  ...   \n",
              "4  Doro Refugee Camp (Maban)  GFD activities        Male           55  ...   \n",
              "\n",
              "  total_fexcari fexcari  expgroup stress crisis emergency caricop  \\\n",
              "0        460500     1.0         1      1      0         0     1.5   \n",
              "1         21500    47.0         1      0      0         0     1.0   \n",
              "2         66500    60.0         2      1      1         0     2.5   \n",
              "3         17008     0.0         1      0      0         0     1.0   \n",
              "4          6500    46.0         1      0      1         0     2.0   \n",
              "\n",
              "   fcsgtoCarig    fs  _index  \n",
              "0            1  1.25       1  \n",
              "1            4  2.50       2  \n",
              "2            4  3.25       3  \n",
              "3            3  2.00       4  \n",
              "4            3  2.50       5  \n",
              "\n",
              "[5 rows x 950 columns]"
            ],
            "text/html": [
              "\n",
              "  <div id=\"df-fa7ad9d1-2568-4fe4-8cdf-7bb1af0d1622\">\n",
              "    <div class=\"colab-df-container\">\n",
              "      <div>\n",
              "<style scoped>\n",
              "    .dataframe tbody tr th:only-of-type {\n",
              "        vertical-align: middle;\n",
              "    }\n",
              "\n",
              "    .dataframe tbody tr th {\n",
              "        vertical-align: top;\n",
              "    }\n",
              "\n",
              "    .dataframe thead th {\n",
              "        text-align: right;\n",
              "    }\n",
              "</style>\n",
              "<table border=\"1\" class=\"dataframe\">\n",
              "  <thead>\n",
              "    <tr style=\"text-align: right;\">\n",
              "      <th></th>\n",
              "      <th>a_date</th>\n",
              "      <th>a_state</th>\n",
              "      <th>a_county</th>\n",
              "      <th>a_payam</th>\n",
              "      <th>a_suboffice</th>\n",
              "      <th>a_poptype</th>\n",
              "      <th>a_camp</th>\n",
              "      <th>a_activity</th>\n",
              "      <th>respdnt_sex</th>\n",
              "      <th>respdnt_age</th>\n",
              "      <th>...</th>\n",
              "      <th>total_fexcari</th>\n",
              "      <th>fexcari</th>\n",
              "      <th>expgroup</th>\n",
              "      <th>stress</th>\n",
              "      <th>crisis</th>\n",
              "      <th>emergency</th>\n",
              "      <th>caricop</th>\n",
              "      <th>fcsgtoCarig</th>\n",
              "      <th>fs</th>\n",
              "      <th>_index</th>\n",
              "    </tr>\n",
              "  </thead>\n",
              "  <tbody>\n",
              "    <tr>\n",
              "      <th>0</th>\n",
              "      <td>2023-01-12</td>\n",
              "      <td>Upper Nile</td>\n",
              "      <td>Maban</td>\n",
              "      <td>Khor El Amer</td>\n",
              "      <td>Maban</td>\n",
              "      <td>1</td>\n",
              "      <td>Doro Refugee Camp (Maban)</td>\n",
              "      <td>GFD activities</td>\n",
              "      <td>Female</td>\n",
              "      <td>28</td>\n",
              "      <td>...</td>\n",
              "      <td>460500</td>\n",
              "      <td>1.0</td>\n",
              "      <td>1</td>\n",
              "      <td>1</td>\n",
              "      <td>0</td>\n",
              "      <td>0</td>\n",
              "      <td>1.5</td>\n",
              "      <td>1</td>\n",
              "      <td>1.25</td>\n",
              "      <td>1</td>\n",
              "    </tr>\n",
              "    <tr>\n",
              "      <th>1</th>\n",
              "      <td>2023-01-12</td>\n",
              "      <td>Upper Nile</td>\n",
              "      <td>Maban</td>\n",
              "      <td>Khor El Amer</td>\n",
              "      <td>Maban</td>\n",
              "      <td>1</td>\n",
              "      <td>Doro Refugee Camp (Maban)</td>\n",
              "      <td>GFD activities</td>\n",
              "      <td>Male</td>\n",
              "      <td>28</td>\n",
              "      <td>...</td>\n",
              "      <td>21500</td>\n",
              "      <td>47.0</td>\n",
              "      <td>1</td>\n",
              "      <td>0</td>\n",
              "      <td>0</td>\n",
              "      <td>0</td>\n",
              "      <td>1.0</td>\n",
              "      <td>4</td>\n",
              "      <td>2.50</td>\n",
              "      <td>2</td>\n",
              "    </tr>\n",
              "    <tr>\n",
              "      <th>2</th>\n",
              "      <td>2023-01-12</td>\n",
              "      <td>Upper Nile</td>\n",
              "      <td>Maban</td>\n",
              "      <td>Khor El Amer</td>\n",
              "      <td>Maban</td>\n",
              "      <td>1</td>\n",
              "      <td>Doro Refugee Camp (Maban)</td>\n",
              "      <td>GFD activities</td>\n",
              "      <td>Female</td>\n",
              "      <td>26</td>\n",
              "      <td>...</td>\n",
              "      <td>66500</td>\n",
              "      <td>60.0</td>\n",
              "      <td>2</td>\n",
              "      <td>1</td>\n",
              "      <td>1</td>\n",
              "      <td>0</td>\n",
              "      <td>2.5</td>\n",
              "      <td>4</td>\n",
              "      <td>3.25</td>\n",
              "      <td>3</td>\n",
              "    </tr>\n",
              "    <tr>\n",
              "      <th>3</th>\n",
              "      <td>2023-01-12</td>\n",
              "      <td>Upper Nile</td>\n",
              "      <td>Maban</td>\n",
              "      <td>Khor El Amer</td>\n",
              "      <td>Maban</td>\n",
              "      <td>1</td>\n",
              "      <td>Doro Refugee Camp (Maban)</td>\n",
              "      <td>GFD activities</td>\n",
              "      <td>Male</td>\n",
              "      <td>48</td>\n",
              "      <td>...</td>\n",
              "      <td>17008</td>\n",
              "      <td>0.0</td>\n",
              "      <td>1</td>\n",
              "      <td>0</td>\n",
              "      <td>0</td>\n",
              "      <td>0</td>\n",
              "      <td>1.0</td>\n",
              "      <td>3</td>\n",
              "      <td>2.00</td>\n",
              "      <td>4</td>\n",
              "    </tr>\n",
              "    <tr>\n",
              "      <th>4</th>\n",
              "      <td>2023-01-12</td>\n",
              "      <td>Upper Nile</td>\n",
              "      <td>Maban</td>\n",
              "      <td>Khor El Amer</td>\n",
              "      <td>Maban</td>\n",
              "      <td>1</td>\n",
              "      <td>Doro Refugee Camp (Maban)</td>\n",
              "      <td>GFD activities</td>\n",
              "      <td>Male</td>\n",
              "      <td>55</td>\n",
              "      <td>...</td>\n",
              "      <td>6500</td>\n",
              "      <td>46.0</td>\n",
              "      <td>1</td>\n",
              "      <td>0</td>\n",
              "      <td>1</td>\n",
              "      <td>0</td>\n",
              "      <td>2.0</td>\n",
              "      <td>3</td>\n",
              "      <td>2.50</td>\n",
              "      <td>5</td>\n",
              "    </tr>\n",
              "  </tbody>\n",
              "</table>\n",
              "<p>5 rows × 950 columns</p>\n",
              "</div>\n",
              "      <button class=\"colab-df-convert\" onclick=\"convertToInteractive('df-fa7ad9d1-2568-4fe4-8cdf-7bb1af0d1622')\"\n",
              "              title=\"Convert this dataframe to an interactive table.\"\n",
              "              style=\"display:none;\">\n",
              "        \n",
              "  <svg xmlns=\"http://www.w3.org/2000/svg\" height=\"24px\"viewBox=\"0 0 24 24\"\n",
              "       width=\"24px\">\n",
              "    <path d=\"M0 0h24v24H0V0z\" fill=\"none\"/>\n",
              "    <path d=\"M18.56 5.44l.94 2.06.94-2.06 2.06-.94-2.06-.94-.94-2.06-.94 2.06-2.06.94zm-11 1L8.5 8.5l.94-2.06 2.06-.94-2.06-.94L8.5 2.5l-.94 2.06-2.06.94zm10 10l.94 2.06.94-2.06 2.06-.94-2.06-.94-.94-2.06-.94 2.06-2.06.94z\"/><path d=\"M17.41 7.96l-1.37-1.37c-.4-.4-.92-.59-1.43-.59-.52 0-1.04.2-1.43.59L10.3 9.45l-7.72 7.72c-.78.78-.78 2.05 0 2.83L4 21.41c.39.39.9.59 1.41.59.51 0 1.02-.2 1.41-.59l7.78-7.78 2.81-2.81c.8-.78.8-2.07 0-2.86zM5.41 20L4 18.59l7.72-7.72 1.47 1.35L5.41 20z\"/>\n",
              "  </svg>\n",
              "      </button>\n",
              "      \n",
              "  <style>\n",
              "    .colab-df-container {\n",
              "      display:flex;\n",
              "      flex-wrap:wrap;\n",
              "      gap: 12px;\n",
              "    }\n",
              "\n",
              "    .colab-df-convert {\n",
              "      background-color: #E8F0FE;\n",
              "      border: none;\n",
              "      border-radius: 50%;\n",
              "      cursor: pointer;\n",
              "      display: none;\n",
              "      fill: #1967D2;\n",
              "      height: 32px;\n",
              "      padding: 0 0 0 0;\n",
              "      width: 32px;\n",
              "    }\n",
              "\n",
              "    .colab-df-convert:hover {\n",
              "      background-color: #E2EBFA;\n",
              "      box-shadow: 0px 1px 2px rgba(60, 64, 67, 0.3), 0px 1px 3px 1px rgba(60, 64, 67, 0.15);\n",
              "      fill: #174EA6;\n",
              "    }\n",
              "\n",
              "    [theme=dark] .colab-df-convert {\n",
              "      background-color: #3B4455;\n",
              "      fill: #D2E3FC;\n",
              "    }\n",
              "\n",
              "    [theme=dark] .colab-df-convert:hover {\n",
              "      background-color: #434B5C;\n",
              "      box-shadow: 0px 1px 3px 1px rgba(0, 0, 0, 0.15);\n",
              "      filter: drop-shadow(0px 1px 2px rgba(0, 0, 0, 0.3));\n",
              "      fill: #FFFFFF;\n",
              "    }\n",
              "  </style>\n",
              "\n",
              "      <script>\n",
              "        const buttonEl =\n",
              "          document.querySelector('#df-fa7ad9d1-2568-4fe4-8cdf-7bb1af0d1622 button.colab-df-convert');\n",
              "        buttonEl.style.display =\n",
              "          google.colab.kernel.accessAllowed ? 'block' : 'none';\n",
              "\n",
              "        async function convertToInteractive(key) {\n",
              "          const element = document.querySelector('#df-fa7ad9d1-2568-4fe4-8cdf-7bb1af0d1622');\n",
              "          const dataTable =\n",
              "            await google.colab.kernel.invokeFunction('convertToInteractive',\n",
              "                                                     [key], {});\n",
              "          if (!dataTable) return;\n",
              "\n",
              "          const docLinkHtml = 'Like what you see? Visit the ' +\n",
              "            '<a target=\"_blank\" href=https://colab.research.google.com/notebooks/data_table.ipynb>data table notebook</a>'\n",
              "            + ' to learn more about interactive tables.';\n",
              "          element.innerHTML = '';\n",
              "          dataTable['output_type'] = 'display_data';\n",
              "          await google.colab.output.renderOutput(dataTable, element);\n",
              "          const docLink = document.createElement('div');\n",
              "          docLink.innerHTML = docLinkHtml;\n",
              "          element.appendChild(docLink);\n",
              "        }\n",
              "      </script>\n",
              "    </div>\n",
              "  </div>\n",
              "  "
            ]
          },
          "metadata": {},
          "execution_count": 9
        }
      ]
    },
    {
      "cell_type": "code",
      "source": [
        "df1.info()"
      ],
      "metadata": {
        "colab": {
          "base_uri": "https://localhost:8080/"
        },
        "id": "WW6UkbFuxXh-",
        "outputId": "2d9ffac9-6d21-41fa-bcae-fb67097ea1e8"
      },
      "execution_count": 10,
      "outputs": [
        {
          "output_type": "stream",
          "name": "stdout",
          "text": [
            "<class 'pandas.core.frame.DataFrame'>\n",
            "RangeIndex: 1299 entries, 0 to 1298\n",
            "Columns: 950 entries, a_date to _index\n",
            "dtypes: datetime64[ns](1), float64(184), int64(495), object(270)\n",
            "memory usage: 9.4+ MB\n"
          ]
        }
      ]
    },
    {
      "cell_type": "code",
      "source": [
        "#The descripion and targets and challenges relate to that of the above dataset\n",
        "#The only difference is that information was colelcted from refugees and the rows and colums=ns differ. The targets is however the same as shown below "
      ],
      "metadata": {
        "id": "QdxeBjyRxfRJ"
      },
      "execution_count": null,
      "outputs": []
    },
    {
      "cell_type": "code",
      "source": [
        "df1['fcsg'].value_counts()"
      ],
      "metadata": {
        "colab": {
          "base_uri": "https://localhost:8080/"
        },
        "id": "Y-K95YKXxvOD",
        "outputId": "6a41db45-8289-4b1e-c82b-0132286b6792"
      },
      "execution_count": 11,
      "outputs": [
        {
          "output_type": "execute_result",
          "data": {
            "text/plain": [
              "Poor          518\n",
              "Borderline    467\n",
              "Acceptable    314\n",
              "Name: fcsg, dtype: int64"
            ]
          },
          "metadata": {},
          "execution_count": 11
        }
      ]
    }
  ]
}