{
  "nbformat": 4,
  "nbformat_minor": 0,
  "metadata": {
    "colab": {
      "provenance": [],
      "authorship_tag": "ABX9TyORSmxxhed87EXd5wZ6iER3",
      "include_colab_link": true
    },
    "kernelspec": {
      "name": "python3",
      "display_name": "Python 3"
    },
    "language_info": {
      "name": "python"
    }
  },
  "cells": [
    {
      "cell_type": "markdown",
      "metadata": {
        "id": "view-in-github",
        "colab_type": "text"
      },
      "source": [
        "<a href=\"https://colab.research.google.com/github/Stanslusokurut/Sales-Prediction/blob/main/Project_2_Part_4_Stanslus.ipynb\" target=\"_parent\"><img src=\"https://colab.research.google.com/assets/colab-badge.svg\" alt=\"Open In Colab\"/></a>"
      ]
    },
    {
      "cell_type": "code",
      "execution_count": 1,
      "metadata": {
        "id": "Tu5wkajRjhj1"
      },
      "outputs": [],
      "source": [
        "# Import libraries\n",
        "import numpy as np\n",
        "import matplotlib.pyplot as plt\n",
        "import pandas as pd"
      ]
    },
    {
      "cell_type": "code",
      "source": [
        "#Mount drive\n",
        "from google.colab import drive\n",
        "drive.mount('/content/drive')"
      ],
      "metadata": {
        "colab": {
          "base_uri": "https://localhost:8080/"
        },
        "id": "_uMj-8YOjrsA",
        "outputId": "b4b25ab7-96e1-476b-a424-b04981a8353f"
      },
      "execution_count": 2,
      "outputs": [
        {
          "output_type": "stream",
          "name": "stdout",
          "text": [
            "Mounted at /content/drive\n"
          ]
        }
      ]
    },
    {
      "cell_type": "code",
      "source": [
        "filename = '/content/drive/MyDrive/Data Science/Datasets/Machine Learning Data/Food Security Nationals.xlsx'\n",
        "#File has headers\n",
        "df = pd.read_excel(filename)\n",
        "df.head()"
      ],
      "metadata": {
        "colab": {
          "base_uri": "https://localhost:8080/",
          "height": 473
        },
        "id": "8GhBX1iaj6QX",
        "outputId": "48a3b424-047a-475f-ec03-527fa0b4016b"
      },
      "execution_count": 100,
      "outputs": [
        {
          "output_type": "execute_result",
          "data": {
            "text/plain": [
              "      a_date a_state a_county      a_payam                      a_context  \\\n",
              "0 2022-06-09   Unity  Rubkona  Bentiu Town  Community village (host/IDPs)   \n",
              "1 2022-06-09   Unity  Rubkona  Bentiu Town  Community village (host/IDPs)   \n",
              "2 2022-06-09   Unity  Rubkona  Bentiu Town  Community village (host/IDPs)   \n",
              "3 2022-06-09   Unity  Rubkona  Bentiu Town  Community village (host/IDPs)   \n",
              "4 2022-06-10   Lakes  Awerial        Puluk  Community village (host/IDPs)   \n",
              "\n",
              "  a_poptype        a_camp a_camp_oth      a_activity a_interview_mode  ...  \\\n",
              "0       NaN   Bentiu town        NaN  GFD activities              NaN  ...   \n",
              "1       NaN   Bentiu town        NaN  GFD activities              NaN  ...   \n",
              "2       NaN  Rubkona town        NaN  GFD activities              NaN  ...   \n",
              "3       NaN   Bentiu town        NaN  GFD activities              NaN  ...   \n",
              "4       NaN     Mingkaman        NaN  GFD activities              NaN  ...   \n",
              "\n",
              "  total_fexcari  fexcari expgroup stress  crisis emergency caricop  \\\n",
              "0       68300.0     60.0        2      0       0         1     3.0   \n",
              "1       26900.0     89.0        4      0       0         1     4.0   \n",
              "2       53500.0     79.0        4      0       0         1     4.0   \n",
              "3       31600.0     69.0        3      0       0         1     3.5   \n",
              "4       84000.0     43.0        1      0       0         0     1.0   \n",
              "\n",
              "  fcsgtoCarig    fs _index  \n",
              "0           1  2.00      1  \n",
              "1           4  4.00      2  \n",
              "2           1  2.50      3  \n",
              "3           3  3.25      4  \n",
              "4           4  2.50      5  \n",
              "\n",
              "[5 rows x 1454 columns]"
            ],
            "text/html": [
              "\n",
              "  <div id=\"df-f0a032d3-81bd-4cca-8622-0f28c2b8fa59\">\n",
              "    <div class=\"colab-df-container\">\n",
              "      <div>\n",
              "<style scoped>\n",
              "    .dataframe tbody tr th:only-of-type {\n",
              "        vertical-align: middle;\n",
              "    }\n",
              "\n",
              "    .dataframe tbody tr th {\n",
              "        vertical-align: top;\n",
              "    }\n",
              "\n",
              "    .dataframe thead th {\n",
              "        text-align: right;\n",
              "    }\n",
              "</style>\n",
              "<table border=\"1\" class=\"dataframe\">\n",
              "  <thead>\n",
              "    <tr style=\"text-align: right;\">\n",
              "      <th></th>\n",
              "      <th>a_date</th>\n",
              "      <th>a_state</th>\n",
              "      <th>a_county</th>\n",
              "      <th>a_payam</th>\n",
              "      <th>a_context</th>\n",
              "      <th>a_poptype</th>\n",
              "      <th>a_camp</th>\n",
              "      <th>a_camp_oth</th>\n",
              "      <th>a_activity</th>\n",
              "      <th>a_interview_mode</th>\n",
              "      <th>...</th>\n",
              "      <th>total_fexcari</th>\n",
              "      <th>fexcari</th>\n",
              "      <th>expgroup</th>\n",
              "      <th>stress</th>\n",
              "      <th>crisis</th>\n",
              "      <th>emergency</th>\n",
              "      <th>caricop</th>\n",
              "      <th>fcsgtoCarig</th>\n",
              "      <th>fs</th>\n",
              "      <th>_index</th>\n",
              "    </tr>\n",
              "  </thead>\n",
              "  <tbody>\n",
              "    <tr>\n",
              "      <th>0</th>\n",
              "      <td>2022-06-09</td>\n",
              "      <td>Unity</td>\n",
              "      <td>Rubkona</td>\n",
              "      <td>Bentiu Town</td>\n",
              "      <td>Community village (host/IDPs)</td>\n",
              "      <td>NaN</td>\n",
              "      <td>Bentiu town</td>\n",
              "      <td>NaN</td>\n",
              "      <td>GFD activities</td>\n",
              "      <td>NaN</td>\n",
              "      <td>...</td>\n",
              "      <td>68300.0</td>\n",
              "      <td>60.0</td>\n",
              "      <td>2</td>\n",
              "      <td>0</td>\n",
              "      <td>0</td>\n",
              "      <td>1</td>\n",
              "      <td>3.0</td>\n",
              "      <td>1</td>\n",
              "      <td>2.00</td>\n",
              "      <td>1</td>\n",
              "    </tr>\n",
              "    <tr>\n",
              "      <th>1</th>\n",
              "      <td>2022-06-09</td>\n",
              "      <td>Unity</td>\n",
              "      <td>Rubkona</td>\n",
              "      <td>Bentiu Town</td>\n",
              "      <td>Community village (host/IDPs)</td>\n",
              "      <td>NaN</td>\n",
              "      <td>Bentiu town</td>\n",
              "      <td>NaN</td>\n",
              "      <td>GFD activities</td>\n",
              "      <td>NaN</td>\n",
              "      <td>...</td>\n",
              "      <td>26900.0</td>\n",
              "      <td>89.0</td>\n",
              "      <td>4</td>\n",
              "      <td>0</td>\n",
              "      <td>0</td>\n",
              "      <td>1</td>\n",
              "      <td>4.0</td>\n",
              "      <td>4</td>\n",
              "      <td>4.00</td>\n",
              "      <td>2</td>\n",
              "    </tr>\n",
              "    <tr>\n",
              "      <th>2</th>\n",
              "      <td>2022-06-09</td>\n",
              "      <td>Unity</td>\n",
              "      <td>Rubkona</td>\n",
              "      <td>Bentiu Town</td>\n",
              "      <td>Community village (host/IDPs)</td>\n",
              "      <td>NaN</td>\n",
              "      <td>Rubkona town</td>\n",
              "      <td>NaN</td>\n",
              "      <td>GFD activities</td>\n",
              "      <td>NaN</td>\n",
              "      <td>...</td>\n",
              "      <td>53500.0</td>\n",
              "      <td>79.0</td>\n",
              "      <td>4</td>\n",
              "      <td>0</td>\n",
              "      <td>0</td>\n",
              "      <td>1</td>\n",
              "      <td>4.0</td>\n",
              "      <td>1</td>\n",
              "      <td>2.50</td>\n",
              "      <td>3</td>\n",
              "    </tr>\n",
              "    <tr>\n",
              "      <th>3</th>\n",
              "      <td>2022-06-09</td>\n",
              "      <td>Unity</td>\n",
              "      <td>Rubkona</td>\n",
              "      <td>Bentiu Town</td>\n",
              "      <td>Community village (host/IDPs)</td>\n",
              "      <td>NaN</td>\n",
              "      <td>Bentiu town</td>\n",
              "      <td>NaN</td>\n",
              "      <td>GFD activities</td>\n",
              "      <td>NaN</td>\n",
              "      <td>...</td>\n",
              "      <td>31600.0</td>\n",
              "      <td>69.0</td>\n",
              "      <td>3</td>\n",
              "      <td>0</td>\n",
              "      <td>0</td>\n",
              "      <td>1</td>\n",
              "      <td>3.5</td>\n",
              "      <td>3</td>\n",
              "      <td>3.25</td>\n",
              "      <td>4</td>\n",
              "    </tr>\n",
              "    <tr>\n",
              "      <th>4</th>\n",
              "      <td>2022-06-10</td>\n",
              "      <td>Lakes</td>\n",
              "      <td>Awerial</td>\n",
              "      <td>Puluk</td>\n",
              "      <td>Community village (host/IDPs)</td>\n",
              "      <td>NaN</td>\n",
              "      <td>Mingkaman</td>\n",
              "      <td>NaN</td>\n",
              "      <td>GFD activities</td>\n",
              "      <td>NaN</td>\n",
              "      <td>...</td>\n",
              "      <td>84000.0</td>\n",
              "      <td>43.0</td>\n",
              "      <td>1</td>\n",
              "      <td>0</td>\n",
              "      <td>0</td>\n",
              "      <td>0</td>\n",
              "      <td>1.0</td>\n",
              "      <td>4</td>\n",
              "      <td>2.50</td>\n",
              "      <td>5</td>\n",
              "    </tr>\n",
              "  </tbody>\n",
              "</table>\n",
              "<p>5 rows × 1454 columns</p>\n",
              "</div>\n",
              "      <button class=\"colab-df-convert\" onclick=\"convertToInteractive('df-f0a032d3-81bd-4cca-8622-0f28c2b8fa59')\"\n",
              "              title=\"Convert this dataframe to an interactive table.\"\n",
              "              style=\"display:none;\">\n",
              "        \n",
              "  <svg xmlns=\"http://www.w3.org/2000/svg\" height=\"24px\"viewBox=\"0 0 24 24\"\n",
              "       width=\"24px\">\n",
              "    <path d=\"M0 0h24v24H0V0z\" fill=\"none\"/>\n",
              "    <path d=\"M18.56 5.44l.94 2.06.94-2.06 2.06-.94-2.06-.94-.94-2.06-.94 2.06-2.06.94zm-11 1L8.5 8.5l.94-2.06 2.06-.94-2.06-.94L8.5 2.5l-.94 2.06-2.06.94zm10 10l.94 2.06.94-2.06 2.06-.94-2.06-.94-.94-2.06-.94 2.06-2.06.94z\"/><path d=\"M17.41 7.96l-1.37-1.37c-.4-.4-.92-.59-1.43-.59-.52 0-1.04.2-1.43.59L10.3 9.45l-7.72 7.72c-.78.78-.78 2.05 0 2.83L4 21.41c.39.39.9.59 1.41.59.51 0 1.02-.2 1.41-.59l7.78-7.78 2.81-2.81c.8-.78.8-2.07 0-2.86zM5.41 20L4 18.59l7.72-7.72 1.47 1.35L5.41 20z\"/>\n",
              "  </svg>\n",
              "      </button>\n",
              "      \n",
              "  <style>\n",
              "    .colab-df-container {\n",
              "      display:flex;\n",
              "      flex-wrap:wrap;\n",
              "      gap: 12px;\n",
              "    }\n",
              "\n",
              "    .colab-df-convert {\n",
              "      background-color: #E8F0FE;\n",
              "      border: none;\n",
              "      border-radius: 50%;\n",
              "      cursor: pointer;\n",
              "      display: none;\n",
              "      fill: #1967D2;\n",
              "      height: 32px;\n",
              "      padding: 0 0 0 0;\n",
              "      width: 32px;\n",
              "    }\n",
              "\n",
              "    .colab-df-convert:hover {\n",
              "      background-color: #E2EBFA;\n",
              "      box-shadow: 0px 1px 2px rgba(60, 64, 67, 0.3), 0px 1px 3px 1px rgba(60, 64, 67, 0.15);\n",
              "      fill: #174EA6;\n",
              "    }\n",
              "\n",
              "    [theme=dark] .colab-df-convert {\n",
              "      background-color: #3B4455;\n",
              "      fill: #D2E3FC;\n",
              "    }\n",
              "\n",
              "    [theme=dark] .colab-df-convert:hover {\n",
              "      background-color: #434B5C;\n",
              "      box-shadow: 0px 1px 3px 1px rgba(0, 0, 0, 0.15);\n",
              "      filter: drop-shadow(0px 1px 2px rgba(0, 0, 0, 0.3));\n",
              "      fill: #FFFFFF;\n",
              "    }\n",
              "  </style>\n",
              "\n",
              "      <script>\n",
              "        const buttonEl =\n",
              "          document.querySelector('#df-f0a032d3-81bd-4cca-8622-0f28c2b8fa59 button.colab-df-convert');\n",
              "        buttonEl.style.display =\n",
              "          google.colab.kernel.accessAllowed ? 'block' : 'none';\n",
              "\n",
              "        async function convertToInteractive(key) {\n",
              "          const element = document.querySelector('#df-f0a032d3-81bd-4cca-8622-0f28c2b8fa59');\n",
              "          const dataTable =\n",
              "            await google.colab.kernel.invokeFunction('convertToInteractive',\n",
              "                                                     [key], {});\n",
              "          if (!dataTable) return;\n",
              "\n",
              "          const docLinkHtml = 'Like what you see? Visit the ' +\n",
              "            '<a target=\"_blank\" href=https://colab.research.google.com/notebooks/data_table.ipynb>data table notebook</a>'\n",
              "            + ' to learn more about interactive tables.';\n",
              "          element.innerHTML = '';\n",
              "          dataTable['output_type'] = 'display_data';\n",
              "          await google.colab.output.renderOutput(dataTable, element);\n",
              "          const docLink = document.createElement('div');\n",
              "          docLink.innerHTML = docLinkHtml;\n",
              "          element.appendChild(docLink);\n",
              "        }\n",
              "      </script>\n",
              "    </div>\n",
              "  </div>\n",
              "  "
            ]
          },
          "metadata": {},
          "execution_count": 100
        }
      ]
    },
    {
      "cell_type": "code",
      "source": [
        "#Set pandas to show all rows of results\n",
        "pd.set_option('display.max_rows', None)"
      ],
      "metadata": {
        "id": "uoprDGWJk-xP"
      },
      "execution_count": 101,
      "outputs": []
    },
    {
      "cell_type": "code",
      "source": [
        "df.shape"
      ],
      "metadata": {
        "colab": {
          "base_uri": "https://localhost:8080/"
        },
        "id": "nmafEawslT1a",
        "outputId": "4696f135-9972-4868-fbc8-29c9ed0e57b4"
      },
      "execution_count": 102,
      "outputs": [
        {
          "output_type": "execute_result",
          "data": {
            "text/plain": [
              "(3186, 1454)"
            ]
          },
          "metadata": {},
          "execution_count": 102
        }
      ]
    },
    {
      "cell_type": "code",
      "source": [
        "#Drop columns which have majority as null\n",
        "df = df.loc[:, df.isnull().sum()/len(df)<0.50]"
      ],
      "metadata": {
        "id": "hT1CW78zk2oR"
      },
      "execution_count": 103,
      "outputs": []
    },
    {
      "cell_type": "code",
      "source": [
        "df.shape"
      ],
      "metadata": {
        "colab": {
          "base_uri": "https://localhost:8080/"
        },
        "id": "E988Ph1tlhom",
        "outputId": "9a04b34f-58a8-4a9c-c57e-7042d2d18b3b"
      },
      "execution_count": 104,
      "outputs": [
        {
          "output_type": "execute_result",
          "data": {
            "text/plain": [
              "(3186, 1062)"
            ]
          },
          "metadata": {},
          "execution_count": 104
        }
      ]
    },
    {
      "cell_type": "code",
      "source": [
        "#REMOVE UNNECESARRY\n",
        "#Keep only the relevant variables and Features based on literature review OF JOURNALS OF FOOD SECURITY \n",
        "# Family size, sex of HH head, level of education, age of the household head, number and types of communication media, income, numbers of livestock, cultivated land size, access to credit, flooding, conflict, \n",
        "#Received assistance, Food security group, land planted previous year, main source of livelihood, experience food shock, county, source of cereals, CARI Category"
      ],
      "metadata": {
        "id": "jjx95hYal_C6"
      },
      "execution_count": 105,
      "outputs": []
    },
    {
      "cell_type": "code",
      "source": [
        "df = df[['a_county','respdnt_sex','respdnt_age','assist_received', 'head_marital','hh_size','totalhh','c_hh_ill','o_acc_med','c_house', \\\n",
        "         'farm_animal', 'meals_adults', 'sourceCER', 'mkt_distance', 'sers_1', 'cari' ]]\n",
        "#Look at age of HH head, proportion eaten, cattle owned, gfarm area, comarea,"
      ],
      "metadata": {
        "id": "_vH_Ct74qDEs"
      },
      "execution_count": 106,
      "outputs": []
    },
    {
      "cell_type": "code",
      "source": [
        "#Check duplicates\n",
        "df.duplicated().sum()\n",
        "#Drop duplicate\n",
        "df = df.drop_duplicates()\n",
        "df.duplicated().sum()"
      ],
      "metadata": {
        "colab": {
          "base_uri": "https://localhost:8080/"
        },
        "id": "H9Dn9lVG4c2c",
        "outputId": "70c8c32c-96b8-4f89-f933-770e6199194b"
      },
      "execution_count": 107,
      "outputs": [
        {
          "output_type": "execute_result",
          "data": {
            "text/plain": [
              "0"
            ]
          },
          "metadata": {},
          "execution_count": 107
        }
      ]
    },
    {
      "cell_type": "code",
      "source": [
        "#Rename certain variable names  to clear names\n",
        "df = df.rename(columns = {'a_county': 'Count Name','respdnt_sex': 'Respondent sex','respdnt_age': 'Respondent age','assist_received': 'Received WFP assistance', 'head_marital': 'Marital status',\\\n",
        "                          'hh_size': 'Household size','totalhh': 'Total HH Members','c_hh_ill': 'HH has chronically ill member','o_acc_med': 'Access to medicine & health','c_house': 'Type of house',\\\n",
        "                          'farm_animal': 'Has farm animals', 'meals_adults': 'Meals eaten by adults', 'sourceCER': 'Source Cereals', 'mkt_distance': 'Distance to markets',\\\n",
        "                         'sers_1' : 'Can bounce back', 'cari': 'Food security status'})\n",
        "\n"
      ],
      "metadata": {
        "id": "XAxwMF6R3xeq"
      },
      "execution_count": 108,
      "outputs": []
    },
    {
      "cell_type": "code",
      "source": [],
      "metadata": {
        "id": "hL9Q_X2DdsMN"
      },
      "execution_count": 108,
      "outputs": []
    },
    {
      "cell_type": "code",
      "source": [
        "#Check data types\n",
        "df.dtypes"
      ],
      "metadata": {
        "colab": {
          "base_uri": "https://localhost:8080/"
        },
        "id": "XZ40fU3K-pyZ",
        "outputId": "bb87d8df-7ec8-4f17-c841-a01395d1f749"
      },
      "execution_count": 109,
      "outputs": [
        {
          "output_type": "execute_result",
          "data": {
            "text/plain": [
              "Count Name                        object\n",
              "Respondent sex                    object\n",
              "Respondent age                     int64\n",
              "Received WFP assistance           object\n",
              "Marital status                    object\n",
              "Household size                   float64\n",
              "Total HH Members                 float64\n",
              "HH has chronically ill member     object\n",
              "Access to medicine & health       object\n",
              "Type of house                     object\n",
              "Has farm animals                  object\n",
              "Meals eaten by adults            float64\n",
              "Source Cereals                    object\n",
              "Distance to markets              float64\n",
              "Can bounce back                   object\n",
              "Food security status              object\n",
              "dtype: object"
            ]
          },
          "metadata": {},
          "execution_count": 109
        }
      ]
    },
    {
      "cell_type": "code",
      "source": [
        "#Check and replace missing values\n",
        "df.isnull().sum()"
      ],
      "metadata": {
        "colab": {
          "base_uri": "https://localhost:8080/"
        },
        "id": "iUJkxgWO-x79",
        "outputId": "79245e8d-daaf-4549-daa7-ce7dc50a3550"
      },
      "execution_count": 110,
      "outputs": [
        {
          "output_type": "execute_result",
          "data": {
            "text/plain": [
              "Count Name                         0\n",
              "Respondent sex                     0\n",
              "Respondent age                     0\n",
              "Received WFP assistance            4\n",
              "Marital status                    17\n",
              "Household size                    17\n",
              "Total HH Members                  17\n",
              "HH has chronically ill member     17\n",
              "Access to medicine & health       21\n",
              "Type of house                     21\n",
              "Has farm animals                  17\n",
              "Meals eaten by adults             17\n",
              "Source Cereals                    37\n",
              "Distance to markets              240\n",
              "Can bounce back                   17\n",
              "Food security status               0\n",
              "dtype: int64"
            ]
          },
          "metadata": {},
          "execution_count": 110
        }
      ]
    },
    {
      "cell_type": "code",
      "source": [
        "#Few missing values. Replace the continpus variables and the categorical variables using \n",
        "from sklearn.compose import make_column_selector\n",
        "from sklearn.impute import SimpleImputer"
      ],
      "metadata": {
        "id": "w2oAoGWX-8Ld"
      },
      "execution_count": 111,
      "outputs": []
    },
    {
      "cell_type": "code",
      "source": [
        "#instantiate the selectors to for numeric and categorical data types\n",
        "num_selector = make_column_selector(dtype_include='number')\n",
        "cat_selector = make_column_selector(dtype_include='object')"
      ],
      "metadata": {
        "id": "UP96Bu3K_y-j"
      },
      "execution_count": 112,
      "outputs": []
    },
    {
      "cell_type": "code",
      "source": [
        "#Obtain Categorical values from test data\n",
        "cat_selector = make_column_selector(dtype_include='object')\n",
        "df_cat  = df[cat_selector(df)]\n",
        "df_cat.head()"
      ],
      "metadata": {
        "colab": {
          "base_uri": "https://localhost:8080/",
          "height": 371
        },
        "id": "C-wHTg6j_21K",
        "outputId": "5dc3da55-6c83-4731-f32e-38054a6c675c"
      },
      "execution_count": 113,
      "outputs": [
        {
          "output_type": "execute_result",
          "data": {
            "text/plain": [
              "  Count Name Respondent sex Received WFP assistance      Marital status  \\\n",
              "0    Rubkona         Female                     Yes     Married/Partner   \n",
              "1    Rubkona         Female                     Yes             Widowed   \n",
              "2    Rubkona         Female                     Yes             Widowed   \n",
              "3    Rubkona         Female                     Yes  Divorced/Separated   \n",
              "4    Awerial           Male                     Yes     Married/Partner   \n",
              "\n",
              "  HH has chronically ill member Access to medicine & health  \\\n",
              "0                            No                         Yes   \n",
              "1                            No                         Yes   \n",
              "2                            No                         Yes   \n",
              "3                            No                         Yes   \n",
              "4                            No                          No   \n",
              "\n",
              "                Type of house Has farm animals  \\\n",
              "0                   Straw hut               No   \n",
              "1  Rakooba/Improvised Shelter               No   \n",
              "2  Rakooba/Improvised Shelter               No   \n",
              "3                   Straw hut               No   \n",
              "4  Rakooba/Improvised Shelter              Yes   \n",
              "\n",
              "                     Source Cereals Can bounce back      Food security status  \n",
              "0  Market (Purchase cash or credit)           Agree    Marginally food secure  \n",
              "1  Support from neighbors/relatives           Agree    Severely food insecure  \n",
              "2  Market (Purchase cash or credit)           Agree  Moderately food insecure  \n",
              "3  Market (Purchase cash or credit)           Agree  Moderately food insecure  \n",
              "4                   Food assistance         Neutral  Moderately food insecure  "
            ],
            "text/html": [
              "\n",
              "  <div id=\"df-06b115a7-cd78-49e9-91d3-6a6ecec09708\">\n",
              "    <div class=\"colab-df-container\">\n",
              "      <div>\n",
              "<style scoped>\n",
              "    .dataframe tbody tr th:only-of-type {\n",
              "        vertical-align: middle;\n",
              "    }\n",
              "\n",
              "    .dataframe tbody tr th {\n",
              "        vertical-align: top;\n",
              "    }\n",
              "\n",
              "    .dataframe thead th {\n",
              "        text-align: right;\n",
              "    }\n",
              "</style>\n",
              "<table border=\"1\" class=\"dataframe\">\n",
              "  <thead>\n",
              "    <tr style=\"text-align: right;\">\n",
              "      <th></th>\n",
              "      <th>Count Name</th>\n",
              "      <th>Respondent sex</th>\n",
              "      <th>Received WFP assistance</th>\n",
              "      <th>Marital status</th>\n",
              "      <th>HH has chronically ill member</th>\n",
              "      <th>Access to medicine &amp; health</th>\n",
              "      <th>Type of house</th>\n",
              "      <th>Has farm animals</th>\n",
              "      <th>Source Cereals</th>\n",
              "      <th>Can bounce back</th>\n",
              "      <th>Food security status</th>\n",
              "    </tr>\n",
              "  </thead>\n",
              "  <tbody>\n",
              "    <tr>\n",
              "      <th>0</th>\n",
              "      <td>Rubkona</td>\n",
              "      <td>Female</td>\n",
              "      <td>Yes</td>\n",
              "      <td>Married/Partner</td>\n",
              "      <td>No</td>\n",
              "      <td>Yes</td>\n",
              "      <td>Straw hut</td>\n",
              "      <td>No</td>\n",
              "      <td>Market (Purchase cash or credit)</td>\n",
              "      <td>Agree</td>\n",
              "      <td>Marginally food secure</td>\n",
              "    </tr>\n",
              "    <tr>\n",
              "      <th>1</th>\n",
              "      <td>Rubkona</td>\n",
              "      <td>Female</td>\n",
              "      <td>Yes</td>\n",
              "      <td>Widowed</td>\n",
              "      <td>No</td>\n",
              "      <td>Yes</td>\n",
              "      <td>Rakooba/Improvised Shelter</td>\n",
              "      <td>No</td>\n",
              "      <td>Support from neighbors/relatives</td>\n",
              "      <td>Agree</td>\n",
              "      <td>Severely food insecure</td>\n",
              "    </tr>\n",
              "    <tr>\n",
              "      <th>2</th>\n",
              "      <td>Rubkona</td>\n",
              "      <td>Female</td>\n",
              "      <td>Yes</td>\n",
              "      <td>Widowed</td>\n",
              "      <td>No</td>\n",
              "      <td>Yes</td>\n",
              "      <td>Rakooba/Improvised Shelter</td>\n",
              "      <td>No</td>\n",
              "      <td>Market (Purchase cash or credit)</td>\n",
              "      <td>Agree</td>\n",
              "      <td>Moderately food insecure</td>\n",
              "    </tr>\n",
              "    <tr>\n",
              "      <th>3</th>\n",
              "      <td>Rubkona</td>\n",
              "      <td>Female</td>\n",
              "      <td>Yes</td>\n",
              "      <td>Divorced/Separated</td>\n",
              "      <td>No</td>\n",
              "      <td>Yes</td>\n",
              "      <td>Straw hut</td>\n",
              "      <td>No</td>\n",
              "      <td>Market (Purchase cash or credit)</td>\n",
              "      <td>Agree</td>\n",
              "      <td>Moderately food insecure</td>\n",
              "    </tr>\n",
              "    <tr>\n",
              "      <th>4</th>\n",
              "      <td>Awerial</td>\n",
              "      <td>Male</td>\n",
              "      <td>Yes</td>\n",
              "      <td>Married/Partner</td>\n",
              "      <td>No</td>\n",
              "      <td>No</td>\n",
              "      <td>Rakooba/Improvised Shelter</td>\n",
              "      <td>Yes</td>\n",
              "      <td>Food assistance</td>\n",
              "      <td>Neutral</td>\n",
              "      <td>Moderately food insecure</td>\n",
              "    </tr>\n",
              "  </tbody>\n",
              "</table>\n",
              "</div>\n",
              "      <button class=\"colab-df-convert\" onclick=\"convertToInteractive('df-06b115a7-cd78-49e9-91d3-6a6ecec09708')\"\n",
              "              title=\"Convert this dataframe to an interactive table.\"\n",
              "              style=\"display:none;\">\n",
              "        \n",
              "  <svg xmlns=\"http://www.w3.org/2000/svg\" height=\"24px\"viewBox=\"0 0 24 24\"\n",
              "       width=\"24px\">\n",
              "    <path d=\"M0 0h24v24H0V0z\" fill=\"none\"/>\n",
              "    <path d=\"M18.56 5.44l.94 2.06.94-2.06 2.06-.94-2.06-.94-.94-2.06-.94 2.06-2.06.94zm-11 1L8.5 8.5l.94-2.06 2.06-.94-2.06-.94L8.5 2.5l-.94 2.06-2.06.94zm10 10l.94 2.06.94-2.06 2.06-.94-2.06-.94-.94-2.06-.94 2.06-2.06.94z\"/><path d=\"M17.41 7.96l-1.37-1.37c-.4-.4-.92-.59-1.43-.59-.52 0-1.04.2-1.43.59L10.3 9.45l-7.72 7.72c-.78.78-.78 2.05 0 2.83L4 21.41c.39.39.9.59 1.41.59.51 0 1.02-.2 1.41-.59l7.78-7.78 2.81-2.81c.8-.78.8-2.07 0-2.86zM5.41 20L4 18.59l7.72-7.72 1.47 1.35L5.41 20z\"/>\n",
              "  </svg>\n",
              "      </button>\n",
              "      \n",
              "  <style>\n",
              "    .colab-df-container {\n",
              "      display:flex;\n",
              "      flex-wrap:wrap;\n",
              "      gap: 12px;\n",
              "    }\n",
              "\n",
              "    .colab-df-convert {\n",
              "      background-color: #E8F0FE;\n",
              "      border: none;\n",
              "      border-radius: 50%;\n",
              "      cursor: pointer;\n",
              "      display: none;\n",
              "      fill: #1967D2;\n",
              "      height: 32px;\n",
              "      padding: 0 0 0 0;\n",
              "      width: 32px;\n",
              "    }\n",
              "\n",
              "    .colab-df-convert:hover {\n",
              "      background-color: #E2EBFA;\n",
              "      box-shadow: 0px 1px 2px rgba(60, 64, 67, 0.3), 0px 1px 3px 1px rgba(60, 64, 67, 0.15);\n",
              "      fill: #174EA6;\n",
              "    }\n",
              "\n",
              "    [theme=dark] .colab-df-convert {\n",
              "      background-color: #3B4455;\n",
              "      fill: #D2E3FC;\n",
              "    }\n",
              "\n",
              "    [theme=dark] .colab-df-convert:hover {\n",
              "      background-color: #434B5C;\n",
              "      box-shadow: 0px 1px 3px 1px rgba(0, 0, 0, 0.15);\n",
              "      filter: drop-shadow(0px 1px 2px rgba(0, 0, 0, 0.3));\n",
              "      fill: #FFFFFF;\n",
              "    }\n",
              "  </style>\n",
              "\n",
              "      <script>\n",
              "        const buttonEl =\n",
              "          document.querySelector('#df-06b115a7-cd78-49e9-91d3-6a6ecec09708 button.colab-df-convert');\n",
              "        buttonEl.style.display =\n",
              "          google.colab.kernel.accessAllowed ? 'block' : 'none';\n",
              "\n",
              "        async function convertToInteractive(key) {\n",
              "          const element = document.querySelector('#df-06b115a7-cd78-49e9-91d3-6a6ecec09708');\n",
              "          const dataTable =\n",
              "            await google.colab.kernel.invokeFunction('convertToInteractive',\n",
              "                                                     [key], {});\n",
              "          if (!dataTable) return;\n",
              "\n",
              "          const docLinkHtml = 'Like what you see? Visit the ' +\n",
              "            '<a target=\"_blank\" href=https://colab.research.google.com/notebooks/data_table.ipynb>data table notebook</a>'\n",
              "            + ' to learn more about interactive tables.';\n",
              "          element.innerHTML = '';\n",
              "          dataTable['output_type'] = 'display_data';\n",
              "          await google.colab.output.renderOutput(dataTable, element);\n",
              "          const docLink = document.createElement('div');\n",
              "          docLink.innerHTML = docLinkHtml;\n",
              "          element.appendChild(docLink);\n",
              "        }\n",
              "      </script>\n",
              "    </div>\n",
              "  </div>\n",
              "  "
            ]
          },
          "metadata": {},
          "execution_count": 113
        }
      ]
    },
    {
      "cell_type": "code",
      "source": [
        "#Extract Numeric Values \n",
        "cat_selector = make_column_selector(dtype_include='number')\n",
        "df_num  = df[cat_selector(df)]\n",
        "df_num .head()"
      ],
      "metadata": {
        "colab": {
          "base_uri": "https://localhost:8080/",
          "height": 206
        },
        "id": "KRp5xGycAOUB",
        "outputId": "647454f9-df03-46bf-f3d3-d10e82e4047f"
      },
      "execution_count": 114,
      "outputs": [
        {
          "output_type": "execute_result",
          "data": {
            "text/plain": [
              "   Respondent age  Household size  Total HH Members  Meals eaten by adults  \\\n",
              "0              32             6.0               6.0                    2.0   \n",
              "1              48             9.0               9.0                    2.0   \n",
              "2              41            10.0              10.0                    2.0   \n",
              "3              33            11.0              11.0                    2.0   \n",
              "4              68             5.0               5.0                    2.0   \n",
              "\n",
              "   Distance to markets  \n",
              "0                 35.0  \n",
              "1                 60.0  \n",
              "2                 30.0  \n",
              "3                 15.0  \n",
              "4                 30.0  "
            ],
            "text/html": [
              "\n",
              "  <div id=\"df-5a659976-eaaf-4222-bdf7-b2666a4f6e54\">\n",
              "    <div class=\"colab-df-container\">\n",
              "      <div>\n",
              "<style scoped>\n",
              "    .dataframe tbody tr th:only-of-type {\n",
              "        vertical-align: middle;\n",
              "    }\n",
              "\n",
              "    .dataframe tbody tr th {\n",
              "        vertical-align: top;\n",
              "    }\n",
              "\n",
              "    .dataframe thead th {\n",
              "        text-align: right;\n",
              "    }\n",
              "</style>\n",
              "<table border=\"1\" class=\"dataframe\">\n",
              "  <thead>\n",
              "    <tr style=\"text-align: right;\">\n",
              "      <th></th>\n",
              "      <th>Respondent age</th>\n",
              "      <th>Household size</th>\n",
              "      <th>Total HH Members</th>\n",
              "      <th>Meals eaten by adults</th>\n",
              "      <th>Distance to markets</th>\n",
              "    </tr>\n",
              "  </thead>\n",
              "  <tbody>\n",
              "    <tr>\n",
              "      <th>0</th>\n",
              "      <td>32</td>\n",
              "      <td>6.0</td>\n",
              "      <td>6.0</td>\n",
              "      <td>2.0</td>\n",
              "      <td>35.0</td>\n",
              "    </tr>\n",
              "    <tr>\n",
              "      <th>1</th>\n",
              "      <td>48</td>\n",
              "      <td>9.0</td>\n",
              "      <td>9.0</td>\n",
              "      <td>2.0</td>\n",
              "      <td>60.0</td>\n",
              "    </tr>\n",
              "    <tr>\n",
              "      <th>2</th>\n",
              "      <td>41</td>\n",
              "      <td>10.0</td>\n",
              "      <td>10.0</td>\n",
              "      <td>2.0</td>\n",
              "      <td>30.0</td>\n",
              "    </tr>\n",
              "    <tr>\n",
              "      <th>3</th>\n",
              "      <td>33</td>\n",
              "      <td>11.0</td>\n",
              "      <td>11.0</td>\n",
              "      <td>2.0</td>\n",
              "      <td>15.0</td>\n",
              "    </tr>\n",
              "    <tr>\n",
              "      <th>4</th>\n",
              "      <td>68</td>\n",
              "      <td>5.0</td>\n",
              "      <td>5.0</td>\n",
              "      <td>2.0</td>\n",
              "      <td>30.0</td>\n",
              "    </tr>\n",
              "  </tbody>\n",
              "</table>\n",
              "</div>\n",
              "      <button class=\"colab-df-convert\" onclick=\"convertToInteractive('df-5a659976-eaaf-4222-bdf7-b2666a4f6e54')\"\n",
              "              title=\"Convert this dataframe to an interactive table.\"\n",
              "              style=\"display:none;\">\n",
              "        \n",
              "  <svg xmlns=\"http://www.w3.org/2000/svg\" height=\"24px\"viewBox=\"0 0 24 24\"\n",
              "       width=\"24px\">\n",
              "    <path d=\"M0 0h24v24H0V0z\" fill=\"none\"/>\n",
              "    <path d=\"M18.56 5.44l.94 2.06.94-2.06 2.06-.94-2.06-.94-.94-2.06-.94 2.06-2.06.94zm-11 1L8.5 8.5l.94-2.06 2.06-.94-2.06-.94L8.5 2.5l-.94 2.06-2.06.94zm10 10l.94 2.06.94-2.06 2.06-.94-2.06-.94-.94-2.06-.94 2.06-2.06.94z\"/><path d=\"M17.41 7.96l-1.37-1.37c-.4-.4-.92-.59-1.43-.59-.52 0-1.04.2-1.43.59L10.3 9.45l-7.72 7.72c-.78.78-.78 2.05 0 2.83L4 21.41c.39.39.9.59 1.41.59.51 0 1.02-.2 1.41-.59l7.78-7.78 2.81-2.81c.8-.78.8-2.07 0-2.86zM5.41 20L4 18.59l7.72-7.72 1.47 1.35L5.41 20z\"/>\n",
              "  </svg>\n",
              "      </button>\n",
              "      \n",
              "  <style>\n",
              "    .colab-df-container {\n",
              "      display:flex;\n",
              "      flex-wrap:wrap;\n",
              "      gap: 12px;\n",
              "    }\n",
              "\n",
              "    .colab-df-convert {\n",
              "      background-color: #E8F0FE;\n",
              "      border: none;\n",
              "      border-radius: 50%;\n",
              "      cursor: pointer;\n",
              "      display: none;\n",
              "      fill: #1967D2;\n",
              "      height: 32px;\n",
              "      padding: 0 0 0 0;\n",
              "      width: 32px;\n",
              "    }\n",
              "\n",
              "    .colab-df-convert:hover {\n",
              "      background-color: #E2EBFA;\n",
              "      box-shadow: 0px 1px 2px rgba(60, 64, 67, 0.3), 0px 1px 3px 1px rgba(60, 64, 67, 0.15);\n",
              "      fill: #174EA6;\n",
              "    }\n",
              "\n",
              "    [theme=dark] .colab-df-convert {\n",
              "      background-color: #3B4455;\n",
              "      fill: #D2E3FC;\n",
              "    }\n",
              "\n",
              "    [theme=dark] .colab-df-convert:hover {\n",
              "      background-color: #434B5C;\n",
              "      box-shadow: 0px 1px 3px 1px rgba(0, 0, 0, 0.15);\n",
              "      filter: drop-shadow(0px 1px 2px rgba(0, 0, 0, 0.3));\n",
              "      fill: #FFFFFF;\n",
              "    }\n",
              "  </style>\n",
              "\n",
              "      <script>\n",
              "        const buttonEl =\n",
              "          document.querySelector('#df-5a659976-eaaf-4222-bdf7-b2666a4f6e54 button.colab-df-convert');\n",
              "        buttonEl.style.display =\n",
              "          google.colab.kernel.accessAllowed ? 'block' : 'none';\n",
              "\n",
              "        async function convertToInteractive(key) {\n",
              "          const element = document.querySelector('#df-5a659976-eaaf-4222-bdf7-b2666a4f6e54');\n",
              "          const dataTable =\n",
              "            await google.colab.kernel.invokeFunction('convertToInteractive',\n",
              "                                                     [key], {});\n",
              "          if (!dataTable) return;\n",
              "\n",
              "          const docLinkHtml = 'Like what you see? Visit the ' +\n",
              "            '<a target=\"_blank\" href=https://colab.research.google.com/notebooks/data_table.ipynb>data table notebook</a>'\n",
              "            + ' to learn more about interactive tables.';\n",
              "          element.innerHTML = '';\n",
              "          dataTable['output_type'] = 'display_data';\n",
              "          await google.colab.output.renderOutput(dataTable, element);\n",
              "          const docLink = document.createElement('div');\n",
              "          docLink.innerHTML = docLinkHtml;\n",
              "          element.appendChild(docLink);\n",
              "        }\n",
              "      </script>\n",
              "    </div>\n",
              "  </div>\n",
              "  "
            ]
          },
          "metadata": {},
          "execution_count": 114
        }
      ]
    },
    {
      "cell_type": "code",
      "source": [
        "#REPLACE ANY MISSING VALUES \n",
        "#instantiate SimpleImputers with most_frequent and mean strategies\n",
        "freq_imputer = SimpleImputer(strategy='most_frequent')\n",
        "mean_imputer = SimpleImputer(strategy='mean')"
      ],
      "metadata": {
        "id": "OI5mDrVEAcvn"
      },
      "execution_count": 115,
      "outputs": []
    },
    {
      "cell_type": "code",
      "source": [
        " #Impute for missing numeric variables \n",
        "df_num = pd.DataFrame(mean_imputer.fit_transform(df_num), columns = df_num.columns)\n",
        "df_num.isnull().sum()"
      ],
      "metadata": {
        "colab": {
          "base_uri": "https://localhost:8080/"
        },
        "id": "A7x4rA0XAea3",
        "outputId": "2917bca3-8c08-4a56-ec8c-f9508b16bcb9"
      },
      "execution_count": 116,
      "outputs": [
        {
          "output_type": "execute_result",
          "data": {
            "text/plain": [
              "Respondent age           0\n",
              "Household size           0\n",
              "Total HH Members         0\n",
              "Meals eaten by adults    0\n",
              "Distance to markets      0\n",
              "dtype: int64"
            ]
          },
          "metadata": {},
          "execution_count": 116
        }
      ]
    },
    {
      "cell_type": "code",
      "source": [
        " #Impute for missing Categorical variables \n",
        "df_cat = pd.DataFrame(freq_imputer.fit_transform(df_cat), columns = df_cat.columns)\n",
        "df_cat.isnull().sum()"
      ],
      "metadata": {
        "colab": {
          "base_uri": "https://localhost:8080/"
        },
        "id": "8S5wXPAgA1ze",
        "outputId": "efa370c7-5aea-4611-bcad-0edde6ec71bf"
      },
      "execution_count": 117,
      "outputs": [
        {
          "output_type": "execute_result",
          "data": {
            "text/plain": [
              "Count Name                       0\n",
              "Respondent sex                   0\n",
              "Received WFP assistance          0\n",
              "Marital status                   0\n",
              "HH has chronically ill member    0\n",
              "Access to medicine & health      0\n",
              "Type of house                    0\n",
              "Has farm animals                 0\n",
              "Source Cereals                   0\n",
              "Can bounce back                  0\n",
              "Food security status             0\n",
              "dtype: int64"
            ]
          },
          "metadata": {},
          "execution_count": 117
        }
      ]
    },
    {
      "cell_type": "code",
      "source": [
        "#Concatenate Numerical and Categorical data\n",
        "# Combine the categorical and numerical dataframes\n",
        "df = pd.concat([df_num, df_cat], axis=1)\n",
        "df.head()"
      ],
      "metadata": {
        "colab": {
          "base_uri": "https://localhost:8080/",
          "height": 495
        },
        "id": "X6LcGLmIA-8V",
        "outputId": "d534d5c6-a6e0-4bfa-eb01-28926f03a439"
      },
      "execution_count": 118,
      "outputs": [
        {
          "output_type": "execute_result",
          "data": {
            "text/plain": [
              "   Respondent age  Household size  Total HH Members  Meals eaten by adults  \\\n",
              "0            32.0             6.0               6.0                    2.0   \n",
              "1            48.0             9.0               9.0                    2.0   \n",
              "2            41.0            10.0              10.0                    2.0   \n",
              "3            33.0            11.0              11.0                    2.0   \n",
              "4            68.0             5.0               5.0                    2.0   \n",
              "\n",
              "   Distance to markets Count Name Respondent sex Received WFP assistance  \\\n",
              "0                 35.0    Rubkona         Female                     Yes   \n",
              "1                 60.0    Rubkona         Female                     Yes   \n",
              "2                 30.0    Rubkona         Female                     Yes   \n",
              "3                 15.0    Rubkona         Female                     Yes   \n",
              "4                 30.0    Awerial           Male                     Yes   \n",
              "\n",
              "       Marital status HH has chronically ill member  \\\n",
              "0     Married/Partner                            No   \n",
              "1             Widowed                            No   \n",
              "2             Widowed                            No   \n",
              "3  Divorced/Separated                            No   \n",
              "4     Married/Partner                            No   \n",
              "\n",
              "  Access to medicine & health               Type of house Has farm animals  \\\n",
              "0                         Yes                   Straw hut               No   \n",
              "1                         Yes  Rakooba/Improvised Shelter               No   \n",
              "2                         Yes  Rakooba/Improvised Shelter               No   \n",
              "3                         Yes                   Straw hut               No   \n",
              "4                          No  Rakooba/Improvised Shelter              Yes   \n",
              "\n",
              "                     Source Cereals Can bounce back      Food security status  \n",
              "0  Market (Purchase cash or credit)           Agree    Marginally food secure  \n",
              "1  Support from neighbors/relatives           Agree    Severely food insecure  \n",
              "2  Market (Purchase cash or credit)           Agree  Moderately food insecure  \n",
              "3  Market (Purchase cash or credit)           Agree  Moderately food insecure  \n",
              "4                   Food assistance         Neutral  Moderately food insecure  "
            ],
            "text/html": [
              "\n",
              "  <div id=\"df-9ed9f6e6-e67f-4c22-ad3a-0ecd7265c564\">\n",
              "    <div class=\"colab-df-container\">\n",
              "      <div>\n",
              "<style scoped>\n",
              "    .dataframe tbody tr th:only-of-type {\n",
              "        vertical-align: middle;\n",
              "    }\n",
              "\n",
              "    .dataframe tbody tr th {\n",
              "        vertical-align: top;\n",
              "    }\n",
              "\n",
              "    .dataframe thead th {\n",
              "        text-align: right;\n",
              "    }\n",
              "</style>\n",
              "<table border=\"1\" class=\"dataframe\">\n",
              "  <thead>\n",
              "    <tr style=\"text-align: right;\">\n",
              "      <th></th>\n",
              "      <th>Respondent age</th>\n",
              "      <th>Household size</th>\n",
              "      <th>Total HH Members</th>\n",
              "      <th>Meals eaten by adults</th>\n",
              "      <th>Distance to markets</th>\n",
              "      <th>Count Name</th>\n",
              "      <th>Respondent sex</th>\n",
              "      <th>Received WFP assistance</th>\n",
              "      <th>Marital status</th>\n",
              "      <th>HH has chronically ill member</th>\n",
              "      <th>Access to medicine &amp; health</th>\n",
              "      <th>Type of house</th>\n",
              "      <th>Has farm animals</th>\n",
              "      <th>Source Cereals</th>\n",
              "      <th>Can bounce back</th>\n",
              "      <th>Food security status</th>\n",
              "    </tr>\n",
              "  </thead>\n",
              "  <tbody>\n",
              "    <tr>\n",
              "      <th>0</th>\n",
              "      <td>32.0</td>\n",
              "      <td>6.0</td>\n",
              "      <td>6.0</td>\n",
              "      <td>2.0</td>\n",
              "      <td>35.0</td>\n",
              "      <td>Rubkona</td>\n",
              "      <td>Female</td>\n",
              "      <td>Yes</td>\n",
              "      <td>Married/Partner</td>\n",
              "      <td>No</td>\n",
              "      <td>Yes</td>\n",
              "      <td>Straw hut</td>\n",
              "      <td>No</td>\n",
              "      <td>Market (Purchase cash or credit)</td>\n",
              "      <td>Agree</td>\n",
              "      <td>Marginally food secure</td>\n",
              "    </tr>\n",
              "    <tr>\n",
              "      <th>1</th>\n",
              "      <td>48.0</td>\n",
              "      <td>9.0</td>\n",
              "      <td>9.0</td>\n",
              "      <td>2.0</td>\n",
              "      <td>60.0</td>\n",
              "      <td>Rubkona</td>\n",
              "      <td>Female</td>\n",
              "      <td>Yes</td>\n",
              "      <td>Widowed</td>\n",
              "      <td>No</td>\n",
              "      <td>Yes</td>\n",
              "      <td>Rakooba/Improvised Shelter</td>\n",
              "      <td>No</td>\n",
              "      <td>Support from neighbors/relatives</td>\n",
              "      <td>Agree</td>\n",
              "      <td>Severely food insecure</td>\n",
              "    </tr>\n",
              "    <tr>\n",
              "      <th>2</th>\n",
              "      <td>41.0</td>\n",
              "      <td>10.0</td>\n",
              "      <td>10.0</td>\n",
              "      <td>2.0</td>\n",
              "      <td>30.0</td>\n",
              "      <td>Rubkona</td>\n",
              "      <td>Female</td>\n",
              "      <td>Yes</td>\n",
              "      <td>Widowed</td>\n",
              "      <td>No</td>\n",
              "      <td>Yes</td>\n",
              "      <td>Rakooba/Improvised Shelter</td>\n",
              "      <td>No</td>\n",
              "      <td>Market (Purchase cash or credit)</td>\n",
              "      <td>Agree</td>\n",
              "      <td>Moderately food insecure</td>\n",
              "    </tr>\n",
              "    <tr>\n",
              "      <th>3</th>\n",
              "      <td>33.0</td>\n",
              "      <td>11.0</td>\n",
              "      <td>11.0</td>\n",
              "      <td>2.0</td>\n",
              "      <td>15.0</td>\n",
              "      <td>Rubkona</td>\n",
              "      <td>Female</td>\n",
              "      <td>Yes</td>\n",
              "      <td>Divorced/Separated</td>\n",
              "      <td>No</td>\n",
              "      <td>Yes</td>\n",
              "      <td>Straw hut</td>\n",
              "      <td>No</td>\n",
              "      <td>Market (Purchase cash or credit)</td>\n",
              "      <td>Agree</td>\n",
              "      <td>Moderately food insecure</td>\n",
              "    </tr>\n",
              "    <tr>\n",
              "      <th>4</th>\n",
              "      <td>68.0</td>\n",
              "      <td>5.0</td>\n",
              "      <td>5.0</td>\n",
              "      <td>2.0</td>\n",
              "      <td>30.0</td>\n",
              "      <td>Awerial</td>\n",
              "      <td>Male</td>\n",
              "      <td>Yes</td>\n",
              "      <td>Married/Partner</td>\n",
              "      <td>No</td>\n",
              "      <td>No</td>\n",
              "      <td>Rakooba/Improvised Shelter</td>\n",
              "      <td>Yes</td>\n",
              "      <td>Food assistance</td>\n",
              "      <td>Neutral</td>\n",
              "      <td>Moderately food insecure</td>\n",
              "    </tr>\n",
              "  </tbody>\n",
              "</table>\n",
              "</div>\n",
              "      <button class=\"colab-df-convert\" onclick=\"convertToInteractive('df-9ed9f6e6-e67f-4c22-ad3a-0ecd7265c564')\"\n",
              "              title=\"Convert this dataframe to an interactive table.\"\n",
              "              style=\"display:none;\">\n",
              "        \n",
              "  <svg xmlns=\"http://www.w3.org/2000/svg\" height=\"24px\"viewBox=\"0 0 24 24\"\n",
              "       width=\"24px\">\n",
              "    <path d=\"M0 0h24v24H0V0z\" fill=\"none\"/>\n",
              "    <path d=\"M18.56 5.44l.94 2.06.94-2.06 2.06-.94-2.06-.94-.94-2.06-.94 2.06-2.06.94zm-11 1L8.5 8.5l.94-2.06 2.06-.94-2.06-.94L8.5 2.5l-.94 2.06-2.06.94zm10 10l.94 2.06.94-2.06 2.06-.94-2.06-.94-.94-2.06-.94 2.06-2.06.94z\"/><path d=\"M17.41 7.96l-1.37-1.37c-.4-.4-.92-.59-1.43-.59-.52 0-1.04.2-1.43.59L10.3 9.45l-7.72 7.72c-.78.78-.78 2.05 0 2.83L4 21.41c.39.39.9.59 1.41.59.51 0 1.02-.2 1.41-.59l7.78-7.78 2.81-2.81c.8-.78.8-2.07 0-2.86zM5.41 20L4 18.59l7.72-7.72 1.47 1.35L5.41 20z\"/>\n",
              "  </svg>\n",
              "      </button>\n",
              "      \n",
              "  <style>\n",
              "    .colab-df-container {\n",
              "      display:flex;\n",
              "      flex-wrap:wrap;\n",
              "      gap: 12px;\n",
              "    }\n",
              "\n",
              "    .colab-df-convert {\n",
              "      background-color: #E8F0FE;\n",
              "      border: none;\n",
              "      border-radius: 50%;\n",
              "      cursor: pointer;\n",
              "      display: none;\n",
              "      fill: #1967D2;\n",
              "      height: 32px;\n",
              "      padding: 0 0 0 0;\n",
              "      width: 32px;\n",
              "    }\n",
              "\n",
              "    .colab-df-convert:hover {\n",
              "      background-color: #E2EBFA;\n",
              "      box-shadow: 0px 1px 2px rgba(60, 64, 67, 0.3), 0px 1px 3px 1px rgba(60, 64, 67, 0.15);\n",
              "      fill: #174EA6;\n",
              "    }\n",
              "\n",
              "    [theme=dark] .colab-df-convert {\n",
              "      background-color: #3B4455;\n",
              "      fill: #D2E3FC;\n",
              "    }\n",
              "\n",
              "    [theme=dark] .colab-df-convert:hover {\n",
              "      background-color: #434B5C;\n",
              "      box-shadow: 0px 1px 3px 1px rgba(0, 0, 0, 0.15);\n",
              "      filter: drop-shadow(0px 1px 2px rgba(0, 0, 0, 0.3));\n",
              "      fill: #FFFFFF;\n",
              "    }\n",
              "  </style>\n",
              "\n",
              "      <script>\n",
              "        const buttonEl =\n",
              "          document.querySelector('#df-9ed9f6e6-e67f-4c22-ad3a-0ecd7265c564 button.colab-df-convert');\n",
              "        buttonEl.style.display =\n",
              "          google.colab.kernel.accessAllowed ? 'block' : 'none';\n",
              "\n",
              "        async function convertToInteractive(key) {\n",
              "          const element = document.querySelector('#df-9ed9f6e6-e67f-4c22-ad3a-0ecd7265c564');\n",
              "          const dataTable =\n",
              "            await google.colab.kernel.invokeFunction('convertToInteractive',\n",
              "                                                     [key], {});\n",
              "          if (!dataTable) return;\n",
              "\n",
              "          const docLinkHtml = 'Like what you see? Visit the ' +\n",
              "            '<a target=\"_blank\" href=https://colab.research.google.com/notebooks/data_table.ipynb>data table notebook</a>'\n",
              "            + ' to learn more about interactive tables.';\n",
              "          element.innerHTML = '';\n",
              "          dataTable['output_type'] = 'display_data';\n",
              "          await google.colab.output.renderOutput(dataTable, element);\n",
              "          const docLink = document.createElement('div');\n",
              "          docLink.innerHTML = docLinkHtml;\n",
              "          element.appendChild(docLink);\n",
              "        }\n",
              "      </script>\n",
              "    </div>\n",
              "  </div>\n",
              "  "
            ]
          },
          "metadata": {},
          "execution_count": 118
        }
      ]
    },
    {
      "cell_type": "code",
      "source": [
        "df.dtypes"
      ],
      "metadata": {
        "colab": {
          "base_uri": "https://localhost:8080/"
        },
        "id": "TtLs6yweBXc-",
        "outputId": "7c8a88c0-4da4-4463-bc78-e67d7bc0c669"
      },
      "execution_count": 119,
      "outputs": [
        {
          "output_type": "execute_result",
          "data": {
            "text/plain": [
              "Respondent age                   float64\n",
              "Household size                   float64\n",
              "Total HH Members                 float64\n",
              "Meals eaten by adults            float64\n",
              "Distance to markets              float64\n",
              "Count Name                        object\n",
              "Respondent sex                    object\n",
              "Received WFP assistance           object\n",
              "Marital status                    object\n",
              "HH has chronically ill member     object\n",
              "Access to medicine & health       object\n",
              "Type of house                     object\n",
              "Has farm animals                  object\n",
              "Source Cereals                    object\n",
              "Can bounce back                   object\n",
              "Food security status              object\n",
              "dtype: object"
            ]
          },
          "metadata": {},
          "execution_count": 119
        }
      ]
    },
    {
      "cell_type": "markdown",
      "source": [
        "***PART 3 BEGINS FROM HERE***"
      ],
      "metadata": {
        "id": "RGArc7q5Bo6e"
      }
    },
    {
      "cell_type": "code",
      "source": [
        "#PREPROCESS THE DATA"
      ],
      "metadata": {
        "id": "dz7WKXODSUWW"
      },
      "execution_count": 120,
      "outputs": []
    },
    {
      "cell_type": "code",
      "source": [
        "df['Food security status'].value_counts()"
      ],
      "metadata": {
        "colab": {
          "base_uri": "https://localhost:8080/"
        },
        "id": "mn_nOrHwSlKt",
        "outputId": "2129b8ab-40d8-4c91-e6d1-682dd8609527"
      },
      "execution_count": 121,
      "outputs": [
        {
          "output_type": "execute_result",
          "data": {
            "text/plain": [
              "Moderately food insecure    1695\n",
              "Marginally food secure       832\n",
              "Severely food insecure       501\n",
              "Food secure                  157\n",
              "Name: Food security status, dtype: int64"
            ]
          },
          "metadata": {},
          "execution_count": 121
        }
      ]
    },
    {
      "cell_type": "code",
      "source": [
        "#\n",
        "#Binarize the Target Vector\n",
        "#Convert Target to Numeric Values\n",
        "df['Food security status'] = df['Food security status'].replace({'Moderately food insecure':0,'Severely food insecure':0, 'Food secure':1, 'Marginally food secure':1})"
      ],
      "metadata": {
        "id": "n-RozItyStDw"
      },
      "execution_count": 122,
      "outputs": []
    },
    {
      "cell_type": "code",
      "source": [
        "df['Food security status'].value_counts()"
      ],
      "metadata": {
        "colab": {
          "base_uri": "https://localhost:8080/"
        },
        "id": "TO-hvS4_UTp5",
        "outputId": "f53d7e7d-0127-4910-946f-8dd7c1ded91c"
      },
      "execution_count": 123,
      "outputs": [
        {
          "output_type": "execute_result",
          "data": {
            "text/plain": [
              "0    2196\n",
              "1     989\n",
              "Name: Food security status, dtype: int64"
            ]
          },
          "metadata": {},
          "execution_count": 123
        }
      ]
    },
    {
      "cell_type": "code",
      "source": [
        "#Load libraries \n",
        "# Import libraries\n",
        "import numpy as np\n",
        "import matplotlib.pyplot as plt\n",
        "import pandas as pd\n",
        "from sklearn.preprocessing import StandardScaler\n",
        "from sklearn.model_selection import train_test_split\n",
        "from tensorflow.keras.models import Sequential\n",
        "from tensorflow.keras.layers import Dense, Dropout"
      ],
      "metadata": {
        "id": "Hhk9pDobVQfI"
      },
      "execution_count": 124,
      "outputs": []
    },
    {
      "cell_type": "code",
      "source": [
        "df.dtypes"
      ],
      "metadata": {
        "colab": {
          "base_uri": "https://localhost:8080/"
        },
        "id": "7PH7rS7FVmTE",
        "outputId": "603e53d8-f23c-4ae0-acd5-b51b730b825e"
      },
      "execution_count": 125,
      "outputs": [
        {
          "output_type": "execute_result",
          "data": {
            "text/plain": [
              "Respondent age                   float64\n",
              "Household size                   float64\n",
              "Total HH Members                 float64\n",
              "Meals eaten by adults            float64\n",
              "Distance to markets              float64\n",
              "Count Name                        object\n",
              "Respondent sex                    object\n",
              "Received WFP assistance           object\n",
              "Marital status                    object\n",
              "HH has chronically ill member     object\n",
              "Access to medicine & health       object\n",
              "Type of house                     object\n",
              "Has farm animals                  object\n",
              "Source Cereals                    object\n",
              "Can bounce back                   object\n",
              "Food security status               int64\n",
              "dtype: object"
            ]
          },
          "metadata": {},
          "execution_count": 125
        }
      ]
    },
    {
      "cell_type": "code",
      "source": [
        "df.nunique()"
      ],
      "metadata": {
        "colab": {
          "base_uri": "https://localhost:8080/"
        },
        "id": "cDih72VrfZU0",
        "outputId": "a4422618-976c-4041-f00f-054106e19df6"
      },
      "execution_count": 126,
      "outputs": [
        {
          "output_type": "execute_result",
          "data": {
            "text/plain": [
              "Respondent age                   71\n",
              "Household size                   21\n",
              "Total HH Members                 21\n",
              "Meals eaten by adults            11\n",
              "Distance to markets              83\n",
              "Count Name                       50\n",
              "Respondent sex                    2\n",
              "Received WFP assistance           2\n",
              "Marital status                    4\n",
              "HH has chronically ill member     2\n",
              "Access to medicine & health       2\n",
              "Type of house                    11\n",
              "Has farm animals                  2\n",
              "Source Cereals                    7\n",
              "Can bounce back                   5\n",
              "Food security status              2\n",
              "dtype: int64"
            ]
          },
          "metadata": {},
          "execution_count": 126
        }
      ]
    },
    {
      "cell_type": "code",
      "source": [
        "# Create X feature matrix and y target vector\n",
        "y = df['Food security status']\n",
        "X = df.drop(columns = ['Food security status', 'Source Cereals' ])"
      ],
      "metadata": {
        "id": "Uo3MHg82VSjF"
      },
      "execution_count": 127,
      "outputs": []
    },
    {
      "cell_type": "code",
      "source": [
        "# Train test split\n",
        "X_train, X_test, y_train, y_test = train_test_split(X, y, random_state=0)"
      ],
      "metadata": {
        "id": "zpYKvz4dV4rY"
      },
      "execution_count": 128,
      "outputs": []
    },
    {
      "cell_type": "code",
      "source": [
        "train_cols = X.columns"
      ],
      "metadata": {
        "id": "W3kcSS1VSfbF"
      },
      "execution_count": 129,
      "outputs": []
    },
    {
      "cell_type": "code",
      "source": [
        "#Import further libraries\n",
        "from sklearn.compose import make_column_selector\n",
        "from sklearn.preprocessing import OneHotEncoder"
      ],
      "metadata": {
        "id": "lN4fDv_dV7yK"
      },
      "execution_count": 130,
      "outputs": []
    },
    {
      "cell_type": "code",
      "source": [
        "cat_selector = make_column_selector(dtype_include='object')"
      ],
      "metadata": {
        "id": "CMo70C8TcUHk"
      },
      "execution_count": 131,
      "outputs": []
    },
    {
      "cell_type": "code",
      "source": [
        "cat_selector(df)"
      ],
      "metadata": {
        "colab": {
          "base_uri": "https://localhost:8080/"
        },
        "id": "QwokWqTEa81N",
        "outputId": "00553049-3b0e-445b-8e57-a3d4b1300378"
      },
      "execution_count": 132,
      "outputs": [
        {
          "output_type": "execute_result",
          "data": {
            "text/plain": [
              "['Count Name',\n",
              " 'Respondent sex',\n",
              " 'Received WFP assistance',\n",
              " 'Marital status',\n",
              " 'HH has chronically ill member',\n",
              " 'Access to medicine & health',\n",
              " 'Type of house',\n",
              " 'Has farm animals',\n",
              " 'Source Cereals',\n",
              " 'Can bounce back']"
            ]
          },
          "metadata": {},
          "execution_count": 132
        }
      ]
    },
    {
      "cell_type": "code",
      "source": [
        "#Select only categrical data from the dataset\n",
        "train_cat_data = X_train[cat_selector(X_train)]\n",
        "test_cat_data = X_test[cat_selector(X_test)]\n",
        "train_cat_data.head()"
      ],
      "metadata": {
        "colab": {
          "base_uri": "https://localhost:8080/",
          "height": 302
        },
        "id": "g2hxy1Wnekr_",
        "outputId": "493e5f35-680e-4bee-976f-2e21cba36e7b"
      },
      "execution_count": 134,
      "outputs": [
        {
          "output_type": "execute_result",
          "data": {
            "text/plain": [
              "     Count Name Respondent sex Received WFP assistance   Marital status  \\\n",
              "2974      Maban         Female                     Yes  Married/Partner   \n",
              "1334      Mayom         Female                     Yes  Married/Partner   \n",
              "392       Akobo         Female                     Yes  Married/Partner   \n",
              "27         Guit         Female                     Yes  Married/Partner   \n",
              "2137        Wau           Male                     Yes  Married/Partner   \n",
              "\n",
              "     HH has chronically ill member Access to medicine & health  \\\n",
              "2974                            No                         Yes   \n",
              "1334                           Yes                         Yes   \n",
              "392                             No                         Yes   \n",
              "27                              No                         Yes   \n",
              "2137                           Yes                         Yes   \n",
              "\n",
              "                   Type of house Has farm animals Can bounce back  \n",
              "2974  Rakooba/Improvised Shelter               No           Agree  \n",
              "1334                       Tukul              Yes        Disagree  \n",
              "392                        Tukul              Yes        Disagree  \n",
              "27    Rakooba/Improvised Shelter               No           Agree  \n",
              "2137      Semi/Concrete building               No           Agree  "
            ],
            "text/html": [
              "\n",
              "  <div id=\"df-ea1e68d0-e407-4e65-a477-877f8897ffb1\">\n",
              "    <div class=\"colab-df-container\">\n",
              "      <div>\n",
              "<style scoped>\n",
              "    .dataframe tbody tr th:only-of-type {\n",
              "        vertical-align: middle;\n",
              "    }\n",
              "\n",
              "    .dataframe tbody tr th {\n",
              "        vertical-align: top;\n",
              "    }\n",
              "\n",
              "    .dataframe thead th {\n",
              "        text-align: right;\n",
              "    }\n",
              "</style>\n",
              "<table border=\"1\" class=\"dataframe\">\n",
              "  <thead>\n",
              "    <tr style=\"text-align: right;\">\n",
              "      <th></th>\n",
              "      <th>Count Name</th>\n",
              "      <th>Respondent sex</th>\n",
              "      <th>Received WFP assistance</th>\n",
              "      <th>Marital status</th>\n",
              "      <th>HH has chronically ill member</th>\n",
              "      <th>Access to medicine &amp; health</th>\n",
              "      <th>Type of house</th>\n",
              "      <th>Has farm animals</th>\n",
              "      <th>Can bounce back</th>\n",
              "    </tr>\n",
              "  </thead>\n",
              "  <tbody>\n",
              "    <tr>\n",
              "      <th>2974</th>\n",
              "      <td>Maban</td>\n",
              "      <td>Female</td>\n",
              "      <td>Yes</td>\n",
              "      <td>Married/Partner</td>\n",
              "      <td>No</td>\n",
              "      <td>Yes</td>\n",
              "      <td>Rakooba/Improvised Shelter</td>\n",
              "      <td>No</td>\n",
              "      <td>Agree</td>\n",
              "    </tr>\n",
              "    <tr>\n",
              "      <th>1334</th>\n",
              "      <td>Mayom</td>\n",
              "      <td>Female</td>\n",
              "      <td>Yes</td>\n",
              "      <td>Married/Partner</td>\n",
              "      <td>Yes</td>\n",
              "      <td>Yes</td>\n",
              "      <td>Tukul</td>\n",
              "      <td>Yes</td>\n",
              "      <td>Disagree</td>\n",
              "    </tr>\n",
              "    <tr>\n",
              "      <th>392</th>\n",
              "      <td>Akobo</td>\n",
              "      <td>Female</td>\n",
              "      <td>Yes</td>\n",
              "      <td>Married/Partner</td>\n",
              "      <td>No</td>\n",
              "      <td>Yes</td>\n",
              "      <td>Tukul</td>\n",
              "      <td>Yes</td>\n",
              "      <td>Disagree</td>\n",
              "    </tr>\n",
              "    <tr>\n",
              "      <th>27</th>\n",
              "      <td>Guit</td>\n",
              "      <td>Female</td>\n",
              "      <td>Yes</td>\n",
              "      <td>Married/Partner</td>\n",
              "      <td>No</td>\n",
              "      <td>Yes</td>\n",
              "      <td>Rakooba/Improvised Shelter</td>\n",
              "      <td>No</td>\n",
              "      <td>Agree</td>\n",
              "    </tr>\n",
              "    <tr>\n",
              "      <th>2137</th>\n",
              "      <td>Wau</td>\n",
              "      <td>Male</td>\n",
              "      <td>Yes</td>\n",
              "      <td>Married/Partner</td>\n",
              "      <td>Yes</td>\n",
              "      <td>Yes</td>\n",
              "      <td>Semi/Concrete building</td>\n",
              "      <td>No</td>\n",
              "      <td>Agree</td>\n",
              "    </tr>\n",
              "  </tbody>\n",
              "</table>\n",
              "</div>\n",
              "      <button class=\"colab-df-convert\" onclick=\"convertToInteractive('df-ea1e68d0-e407-4e65-a477-877f8897ffb1')\"\n",
              "              title=\"Convert this dataframe to an interactive table.\"\n",
              "              style=\"display:none;\">\n",
              "        \n",
              "  <svg xmlns=\"http://www.w3.org/2000/svg\" height=\"24px\"viewBox=\"0 0 24 24\"\n",
              "       width=\"24px\">\n",
              "    <path d=\"M0 0h24v24H0V0z\" fill=\"none\"/>\n",
              "    <path d=\"M18.56 5.44l.94 2.06.94-2.06 2.06-.94-2.06-.94-.94-2.06-.94 2.06-2.06.94zm-11 1L8.5 8.5l.94-2.06 2.06-.94-2.06-.94L8.5 2.5l-.94 2.06-2.06.94zm10 10l.94 2.06.94-2.06 2.06-.94-2.06-.94-.94-2.06-.94 2.06-2.06.94z\"/><path d=\"M17.41 7.96l-1.37-1.37c-.4-.4-.92-.59-1.43-.59-.52 0-1.04.2-1.43.59L10.3 9.45l-7.72 7.72c-.78.78-.78 2.05 0 2.83L4 21.41c.39.39.9.59 1.41.59.51 0 1.02-.2 1.41-.59l7.78-7.78 2.81-2.81c.8-.78.8-2.07 0-2.86zM5.41 20L4 18.59l7.72-7.72 1.47 1.35L5.41 20z\"/>\n",
              "  </svg>\n",
              "      </button>\n",
              "      \n",
              "  <style>\n",
              "    .colab-df-container {\n",
              "      display:flex;\n",
              "      flex-wrap:wrap;\n",
              "      gap: 12px;\n",
              "    }\n",
              "\n",
              "    .colab-df-convert {\n",
              "      background-color: #E8F0FE;\n",
              "      border: none;\n",
              "      border-radius: 50%;\n",
              "      cursor: pointer;\n",
              "      display: none;\n",
              "      fill: #1967D2;\n",
              "      height: 32px;\n",
              "      padding: 0 0 0 0;\n",
              "      width: 32px;\n",
              "    }\n",
              "\n",
              "    .colab-df-convert:hover {\n",
              "      background-color: #E2EBFA;\n",
              "      box-shadow: 0px 1px 2px rgba(60, 64, 67, 0.3), 0px 1px 3px 1px rgba(60, 64, 67, 0.15);\n",
              "      fill: #174EA6;\n",
              "    }\n",
              "\n",
              "    [theme=dark] .colab-df-convert {\n",
              "      background-color: #3B4455;\n",
              "      fill: #D2E3FC;\n",
              "    }\n",
              "\n",
              "    [theme=dark] .colab-df-convert:hover {\n",
              "      background-color: #434B5C;\n",
              "      box-shadow: 0px 1px 3px 1px rgba(0, 0, 0, 0.15);\n",
              "      filter: drop-shadow(0px 1px 2px rgba(0, 0, 0, 0.3));\n",
              "      fill: #FFFFFF;\n",
              "    }\n",
              "  </style>\n",
              "\n",
              "      <script>\n",
              "        const buttonEl =\n",
              "          document.querySelector('#df-ea1e68d0-e407-4e65-a477-877f8897ffb1 button.colab-df-convert');\n",
              "        buttonEl.style.display =\n",
              "          google.colab.kernel.accessAllowed ? 'block' : 'none';\n",
              "\n",
              "        async function convertToInteractive(key) {\n",
              "          const element = document.querySelector('#df-ea1e68d0-e407-4e65-a477-877f8897ffb1');\n",
              "          const dataTable =\n",
              "            await google.colab.kernel.invokeFunction('convertToInteractive',\n",
              "                                                     [key], {});\n",
              "          if (!dataTable) return;\n",
              "\n",
              "          const docLinkHtml = 'Like what you see? Visit the ' +\n",
              "            '<a target=\"_blank\" href=https://colab.research.google.com/notebooks/data_table.ipynb>data table notebook</a>'\n",
              "            + ' to learn more about interactive tables.';\n",
              "          element.innerHTML = '';\n",
              "          dataTable['output_type'] = 'display_data';\n",
              "          await google.colab.output.renderOutput(dataTable, element);\n",
              "          const docLink = document.createElement('div');\n",
              "          docLink.innerHTML = docLinkHtml;\n",
              "          element.appendChild(docLink);\n",
              "        }\n",
              "      </script>\n",
              "    </div>\n",
              "  </div>\n",
              "  "
            ]
          },
          "metadata": {},
          "execution_count": 134
        }
      ]
    },
    {
      "cell_type": "code",
      "source": [
        "#Initiate the one hot encoder\n",
        "ohe_encoder = OneHotEncoder(sparse=False, handle_unknown='ignore')\n",
        "# We pass values to the above parameters to change the default behaviour of the encorder"
      ],
      "metadata": {
        "id": "j4zsN3agerR4"
      },
      "execution_count": 135,
      "outputs": []
    },
    {
      "cell_type": "code",
      "source": [
        "#fit the OneHotEncoder on the training data\n",
        "ohe_encoder.fit(train_cat_data)"
      ],
      "metadata": {
        "colab": {
          "base_uri": "https://localhost:8080/",
          "height": 132
        },
        "id": "Oo3Vb0lbewsi",
        "outputId": "d89a6088-fc19-4de1-8983-89fa19e596b0"
      },
      "execution_count": 136,
      "outputs": [
        {
          "output_type": "stream",
          "name": "stderr",
          "text": [
            "/usr/local/lib/python3.10/dist-packages/sklearn/preprocessing/_encoders.py:868: FutureWarning: `sparse` was renamed to `sparse_output` in version 1.2 and will be removed in 1.4. `sparse_output` is ignored unless you leave `sparse` to its default value.\n",
            "  warnings.warn(\n"
          ]
        },
        {
          "output_type": "execute_result",
          "data": {
            "text/plain": [
              "OneHotEncoder(handle_unknown='ignore', sparse=False, sparse_output=False)"
            ],
            "text/html": [
              "<style>#sk-container-id-1 {color: black;background-color: white;}#sk-container-id-1 pre{padding: 0;}#sk-container-id-1 div.sk-toggleable {background-color: white;}#sk-container-id-1 label.sk-toggleable__label {cursor: pointer;display: block;width: 100%;margin-bottom: 0;padding: 0.3em;box-sizing: border-box;text-align: center;}#sk-container-id-1 label.sk-toggleable__label-arrow:before {content: \"▸\";float: left;margin-right: 0.25em;color: #696969;}#sk-container-id-1 label.sk-toggleable__label-arrow:hover:before {color: black;}#sk-container-id-1 div.sk-estimator:hover label.sk-toggleable__label-arrow:before {color: black;}#sk-container-id-1 div.sk-toggleable__content {max-height: 0;max-width: 0;overflow: hidden;text-align: left;background-color: #f0f8ff;}#sk-container-id-1 div.sk-toggleable__content pre {margin: 0.2em;color: black;border-radius: 0.25em;background-color: #f0f8ff;}#sk-container-id-1 input.sk-toggleable__control:checked~div.sk-toggleable__content {max-height: 200px;max-width: 100%;overflow: auto;}#sk-container-id-1 input.sk-toggleable__control:checked~label.sk-toggleable__label-arrow:before {content: \"▾\";}#sk-container-id-1 div.sk-estimator input.sk-toggleable__control:checked~label.sk-toggleable__label {background-color: #d4ebff;}#sk-container-id-1 div.sk-label input.sk-toggleable__control:checked~label.sk-toggleable__label {background-color: #d4ebff;}#sk-container-id-1 input.sk-hidden--visually {border: 0;clip: rect(1px 1px 1px 1px);clip: rect(1px, 1px, 1px, 1px);height: 1px;margin: -1px;overflow: hidden;padding: 0;position: absolute;width: 1px;}#sk-container-id-1 div.sk-estimator {font-family: monospace;background-color: #f0f8ff;border: 1px dotted black;border-radius: 0.25em;box-sizing: border-box;margin-bottom: 0.5em;}#sk-container-id-1 div.sk-estimator:hover {background-color: #d4ebff;}#sk-container-id-1 div.sk-parallel-item::after {content: \"\";width: 100%;border-bottom: 1px solid gray;flex-grow: 1;}#sk-container-id-1 div.sk-label:hover label.sk-toggleable__label {background-color: #d4ebff;}#sk-container-id-1 div.sk-serial::before {content: \"\";position: absolute;border-left: 1px solid gray;box-sizing: border-box;top: 0;bottom: 0;left: 50%;z-index: 0;}#sk-container-id-1 div.sk-serial {display: flex;flex-direction: column;align-items: center;background-color: white;padding-right: 0.2em;padding-left: 0.2em;position: relative;}#sk-container-id-1 div.sk-item {position: relative;z-index: 1;}#sk-container-id-1 div.sk-parallel {display: flex;align-items: stretch;justify-content: center;background-color: white;position: relative;}#sk-container-id-1 div.sk-item::before, #sk-container-id-1 div.sk-parallel-item::before {content: \"\";position: absolute;border-left: 1px solid gray;box-sizing: border-box;top: 0;bottom: 0;left: 50%;z-index: -1;}#sk-container-id-1 div.sk-parallel-item {display: flex;flex-direction: column;z-index: 1;position: relative;background-color: white;}#sk-container-id-1 div.sk-parallel-item:first-child::after {align-self: flex-end;width: 50%;}#sk-container-id-1 div.sk-parallel-item:last-child::after {align-self: flex-start;width: 50%;}#sk-container-id-1 div.sk-parallel-item:only-child::after {width: 0;}#sk-container-id-1 div.sk-dashed-wrapped {border: 1px dashed gray;margin: 0 0.4em 0.5em 0.4em;box-sizing: border-box;padding-bottom: 0.4em;background-color: white;}#sk-container-id-1 div.sk-label label {font-family: monospace;font-weight: bold;display: inline-block;line-height: 1.2em;}#sk-container-id-1 div.sk-label-container {text-align: center;}#sk-container-id-1 div.sk-container {/* jupyter's `normalize.less` sets `[hidden] { display: none; }` but bootstrap.min.css set `[hidden] { display: none !important; }` so we also need the `!important` here to be able to override the default hidden behavior on the sphinx rendered scikit-learn.org. See: https://github.com/scikit-learn/scikit-learn/issues/21755 */display: inline-block !important;position: relative;}#sk-container-id-1 div.sk-text-repr-fallback {display: none;}</style><div id=\"sk-container-id-1\" class=\"sk-top-container\"><div class=\"sk-text-repr-fallback\"><pre>OneHotEncoder(handle_unknown=&#x27;ignore&#x27;, sparse=False, sparse_output=False)</pre><b>In a Jupyter environment, please rerun this cell to show the HTML representation or trust the notebook. <br />On GitHub, the HTML representation is unable to render, please try loading this page with nbviewer.org.</b></div><div class=\"sk-container\" hidden><div class=\"sk-item\"><div class=\"sk-estimator sk-toggleable\"><input class=\"sk-toggleable__control sk-hidden--visually\" id=\"sk-estimator-id-1\" type=\"checkbox\" checked><label for=\"sk-estimator-id-1\" class=\"sk-toggleable__label sk-toggleable__label-arrow\">OneHotEncoder</label><div class=\"sk-toggleable__content\"><pre>OneHotEncoder(handle_unknown=&#x27;ignore&#x27;, sparse=False, sparse_output=False)</pre></div></div></div></div></div>"
            ]
          },
          "metadata": {},
          "execution_count": 136
        }
      ]
    },
    {
      "cell_type": "code",
      "source": [
        "#transform both the training and the testing data\n",
        "train_ohe = ohe_encoder.transform(train_cat_data)\n",
        "test_ohe = ohe_encoder.transform(test_cat_data)"
      ],
      "metadata": {
        "id": "GCHhoDBUe03J"
      },
      "execution_count": 137,
      "outputs": []
    },
    {
      "cell_type": "code",
      "source": [
        "# View the result\n",
        "test_ohe"
      ],
      "metadata": {
        "colab": {
          "base_uri": "https://localhost:8080/"
        },
        "id": "EIAVPWBie5CC",
        "outputId": "c18900e9-4232-43aa-b979-b2f17d92756e"
      },
      "execution_count": 138,
      "outputs": [
        {
          "output_type": "execute_result",
          "data": {
            "text/plain": [
              "array([[0., 0., 0., ..., 1., 0., 0.],\n",
              "       [0., 0., 0., ..., 0., 0., 0.],\n",
              "       [0., 0., 0., ..., 1., 0., 0.],\n",
              "       ...,\n",
              "       [0., 0., 0., ..., 1., 0., 0.],\n",
              "       [0., 0., 0., ..., 0., 0., 1.],\n",
              "       [0., 0., 1., ..., 0., 0., 1.]])"
            ]
          },
          "metadata": {},
          "execution_count": 138
        }
      ]
    },
    {
      "cell_type": "code",
      "source": [
        "#convert to dataframe, extract new column names from encoder\n",
        "#set prefixes to original column names\n",
        "ohe_column_names = ohe_encoder.get_feature_names_out(train_cat_data.columns)\n",
        "# The above method will get geature names from the onehotencoded data\n",
        "\n",
        "# Create a dataframe\n",
        "train_ohe = pd.DataFrame(train_ohe, columns=ohe_column_names)\n",
        "test_ohe = pd.DataFrame(test_ohe, columns=ohe_column_names)\n",
        "\n",
        "train_ohe.head()"
      ],
      "metadata": {
        "colab": {
          "base_uri": "https://localhost:8080/",
          "height": 334
        },
        "id": "SNZbDYZae9q8",
        "outputId": "b6575552-e57b-4deb-a9bc-3beab17c88dd"
      },
      "execution_count": 139,
      "outputs": [
        {
          "output_type": "execute_result",
          "data": {
            "text/plain": [
              "   Count Name_Abiemnhom  Count Name_Abyei  Count Name_Akobo  \\\n",
              "0                   0.0               0.0               0.0   \n",
              "1                   0.0               0.0               0.0   \n",
              "2                   0.0               0.0               1.0   \n",
              "3                   0.0               0.0               0.0   \n",
              "4                   0.0               0.0               0.0   \n",
              "\n",
              "   Count Name_Aweil Centre  Count Name_Aweil East  Count Name_Aweil North  \\\n",
              "0                      0.0                    0.0                     0.0   \n",
              "1                      0.0                    0.0                     0.0   \n",
              "2                      0.0                    0.0                     0.0   \n",
              "3                      0.0                    0.0                     0.0   \n",
              "4                      0.0                    0.0                     0.0   \n",
              "\n",
              "   Count Name_Aweil South  Count Name_Aweil West  Count Name_Awerial  \\\n",
              "0                     0.0                    0.0                 0.0   \n",
              "1                     0.0                    0.0                 0.0   \n",
              "2                     0.0                    0.0                 0.0   \n",
              "3                     0.0                    0.0                 0.0   \n",
              "4                     0.0                    0.0                 0.0   \n",
              "\n",
              "   Count Name_Bor South  ...  \\\n",
              "0                   0.0  ...   \n",
              "1                   0.0  ...   \n",
              "2                   0.0  ...   \n",
              "3                   0.0  ...   \n",
              "4                   0.0  ...   \n",
              "\n",
              "   Type of house_Substandard shelter (factory/warehouse/garage/shop/worksite/unfinished building)  \\\n",
              "0                                                0.0                                                \n",
              "1                                                0.0                                                \n",
              "2                                                0.0                                                \n",
              "3                                                0.0                                                \n",
              "4                                                0.0                                                \n",
              "\n",
              "   Type of house_Tent  Type of house_Tukul  Has farm animals_No  \\\n",
              "0                 0.0                  0.0                  1.0   \n",
              "1                 0.0                  1.0                  0.0   \n",
              "2                 0.0                  1.0                  0.0   \n",
              "3                 0.0                  0.0                  1.0   \n",
              "4                 0.0                  0.0                  1.0   \n",
              "\n",
              "   Has farm animals_Yes  Can bounce back_Agree  Can bounce back_Disagree  \\\n",
              "0                   0.0                    1.0                       0.0   \n",
              "1                   1.0                    0.0                       1.0   \n",
              "2                   1.0                    0.0                       1.0   \n",
              "3                   0.0                    1.0                       0.0   \n",
              "4                   0.0                    1.0                       0.0   \n",
              "\n",
              "   Can bounce back_Neutral  Can bounce back_Strngly agree  \\\n",
              "0                      0.0                            0.0   \n",
              "1                      0.0                            0.0   \n",
              "2                      0.0                            0.0   \n",
              "3                      0.0                            0.0   \n",
              "4                      0.0                            0.0   \n",
              "\n",
              "   Can bounce back_Strongly disagree  \n",
              "0                                0.0  \n",
              "1                                0.0  \n",
              "2                                0.0  \n",
              "3                                0.0  \n",
              "4                                0.0  \n",
              "\n",
              "[5 rows x 80 columns]"
            ],
            "text/html": [
              "\n",
              "  <div id=\"df-a54db527-9d43-4037-8956-113811e86649\">\n",
              "    <div class=\"colab-df-container\">\n",
              "      <div>\n",
              "<style scoped>\n",
              "    .dataframe tbody tr th:only-of-type {\n",
              "        vertical-align: middle;\n",
              "    }\n",
              "\n",
              "    .dataframe tbody tr th {\n",
              "        vertical-align: top;\n",
              "    }\n",
              "\n",
              "    .dataframe thead th {\n",
              "        text-align: right;\n",
              "    }\n",
              "</style>\n",
              "<table border=\"1\" class=\"dataframe\">\n",
              "  <thead>\n",
              "    <tr style=\"text-align: right;\">\n",
              "      <th></th>\n",
              "      <th>Count Name_Abiemnhom</th>\n",
              "      <th>Count Name_Abyei</th>\n",
              "      <th>Count Name_Akobo</th>\n",
              "      <th>Count Name_Aweil Centre</th>\n",
              "      <th>Count Name_Aweil East</th>\n",
              "      <th>Count Name_Aweil North</th>\n",
              "      <th>Count Name_Aweil South</th>\n",
              "      <th>Count Name_Aweil West</th>\n",
              "      <th>Count Name_Awerial</th>\n",
              "      <th>Count Name_Bor South</th>\n",
              "      <th>...</th>\n",
              "      <th>Type of house_Substandard shelter (factory/warehouse/garage/shop/worksite/unfinished building)</th>\n",
              "      <th>Type of house_Tent</th>\n",
              "      <th>Type of house_Tukul</th>\n",
              "      <th>Has farm animals_No</th>\n",
              "      <th>Has farm animals_Yes</th>\n",
              "      <th>Can bounce back_Agree</th>\n",
              "      <th>Can bounce back_Disagree</th>\n",
              "      <th>Can bounce back_Neutral</th>\n",
              "      <th>Can bounce back_Strngly agree</th>\n",
              "      <th>Can bounce back_Strongly disagree</th>\n",
              "    </tr>\n",
              "  </thead>\n",
              "  <tbody>\n",
              "    <tr>\n",
              "      <th>0</th>\n",
              "      <td>0.0</td>\n",
              "      <td>0.0</td>\n",
              "      <td>0.0</td>\n",
              "      <td>0.0</td>\n",
              "      <td>0.0</td>\n",
              "      <td>0.0</td>\n",
              "      <td>0.0</td>\n",
              "      <td>0.0</td>\n",
              "      <td>0.0</td>\n",
              "      <td>0.0</td>\n",
              "      <td>...</td>\n",
              "      <td>0.0</td>\n",
              "      <td>0.0</td>\n",
              "      <td>0.0</td>\n",
              "      <td>1.0</td>\n",
              "      <td>0.0</td>\n",
              "      <td>1.0</td>\n",
              "      <td>0.0</td>\n",
              "      <td>0.0</td>\n",
              "      <td>0.0</td>\n",
              "      <td>0.0</td>\n",
              "    </tr>\n",
              "    <tr>\n",
              "      <th>1</th>\n",
              "      <td>0.0</td>\n",
              "      <td>0.0</td>\n",
              "      <td>0.0</td>\n",
              "      <td>0.0</td>\n",
              "      <td>0.0</td>\n",
              "      <td>0.0</td>\n",
              "      <td>0.0</td>\n",
              "      <td>0.0</td>\n",
              "      <td>0.0</td>\n",
              "      <td>0.0</td>\n",
              "      <td>...</td>\n",
              "      <td>0.0</td>\n",
              "      <td>0.0</td>\n",
              "      <td>1.0</td>\n",
              "      <td>0.0</td>\n",
              "      <td>1.0</td>\n",
              "      <td>0.0</td>\n",
              "      <td>1.0</td>\n",
              "      <td>0.0</td>\n",
              "      <td>0.0</td>\n",
              "      <td>0.0</td>\n",
              "    </tr>\n",
              "    <tr>\n",
              "      <th>2</th>\n",
              "      <td>0.0</td>\n",
              "      <td>0.0</td>\n",
              "      <td>1.0</td>\n",
              "      <td>0.0</td>\n",
              "      <td>0.0</td>\n",
              "      <td>0.0</td>\n",
              "      <td>0.0</td>\n",
              "      <td>0.0</td>\n",
              "      <td>0.0</td>\n",
              "      <td>0.0</td>\n",
              "      <td>...</td>\n",
              "      <td>0.0</td>\n",
              "      <td>0.0</td>\n",
              "      <td>1.0</td>\n",
              "      <td>0.0</td>\n",
              "      <td>1.0</td>\n",
              "      <td>0.0</td>\n",
              "      <td>1.0</td>\n",
              "      <td>0.0</td>\n",
              "      <td>0.0</td>\n",
              "      <td>0.0</td>\n",
              "    </tr>\n",
              "    <tr>\n",
              "      <th>3</th>\n",
              "      <td>0.0</td>\n",
              "      <td>0.0</td>\n",
              "      <td>0.0</td>\n",
              "      <td>0.0</td>\n",
              "      <td>0.0</td>\n",
              "      <td>0.0</td>\n",
              "      <td>0.0</td>\n",
              "      <td>0.0</td>\n",
              "      <td>0.0</td>\n",
              "      <td>0.0</td>\n",
              "      <td>...</td>\n",
              "      <td>0.0</td>\n",
              "      <td>0.0</td>\n",
              "      <td>0.0</td>\n",
              "      <td>1.0</td>\n",
              "      <td>0.0</td>\n",
              "      <td>1.0</td>\n",
              "      <td>0.0</td>\n",
              "      <td>0.0</td>\n",
              "      <td>0.0</td>\n",
              "      <td>0.0</td>\n",
              "    </tr>\n",
              "    <tr>\n",
              "      <th>4</th>\n",
              "      <td>0.0</td>\n",
              "      <td>0.0</td>\n",
              "      <td>0.0</td>\n",
              "      <td>0.0</td>\n",
              "      <td>0.0</td>\n",
              "      <td>0.0</td>\n",
              "      <td>0.0</td>\n",
              "      <td>0.0</td>\n",
              "      <td>0.0</td>\n",
              "      <td>0.0</td>\n",
              "      <td>...</td>\n",
              "      <td>0.0</td>\n",
              "      <td>0.0</td>\n",
              "      <td>0.0</td>\n",
              "      <td>1.0</td>\n",
              "      <td>0.0</td>\n",
              "      <td>1.0</td>\n",
              "      <td>0.0</td>\n",
              "      <td>0.0</td>\n",
              "      <td>0.0</td>\n",
              "      <td>0.0</td>\n",
              "    </tr>\n",
              "  </tbody>\n",
              "</table>\n",
              "<p>5 rows × 80 columns</p>\n",
              "</div>\n",
              "      <button class=\"colab-df-convert\" onclick=\"convertToInteractive('df-a54db527-9d43-4037-8956-113811e86649')\"\n",
              "              title=\"Convert this dataframe to an interactive table.\"\n",
              "              style=\"display:none;\">\n",
              "        \n",
              "  <svg xmlns=\"http://www.w3.org/2000/svg\" height=\"24px\"viewBox=\"0 0 24 24\"\n",
              "       width=\"24px\">\n",
              "    <path d=\"M0 0h24v24H0V0z\" fill=\"none\"/>\n",
              "    <path d=\"M18.56 5.44l.94 2.06.94-2.06 2.06-.94-2.06-.94-.94-2.06-.94 2.06-2.06.94zm-11 1L8.5 8.5l.94-2.06 2.06-.94-2.06-.94L8.5 2.5l-.94 2.06-2.06.94zm10 10l.94 2.06.94-2.06 2.06-.94-2.06-.94-.94-2.06-.94 2.06-2.06.94z\"/><path d=\"M17.41 7.96l-1.37-1.37c-.4-.4-.92-.59-1.43-.59-.52 0-1.04.2-1.43.59L10.3 9.45l-7.72 7.72c-.78.78-.78 2.05 0 2.83L4 21.41c.39.39.9.59 1.41.59.51 0 1.02-.2 1.41-.59l7.78-7.78 2.81-2.81c.8-.78.8-2.07 0-2.86zM5.41 20L4 18.59l7.72-7.72 1.47 1.35L5.41 20z\"/>\n",
              "  </svg>\n",
              "      </button>\n",
              "      \n",
              "  <style>\n",
              "    .colab-df-container {\n",
              "      display:flex;\n",
              "      flex-wrap:wrap;\n",
              "      gap: 12px;\n",
              "    }\n",
              "\n",
              "    .colab-df-convert {\n",
              "      background-color: #E8F0FE;\n",
              "      border: none;\n",
              "      border-radius: 50%;\n",
              "      cursor: pointer;\n",
              "      display: none;\n",
              "      fill: #1967D2;\n",
              "      height: 32px;\n",
              "      padding: 0 0 0 0;\n",
              "      width: 32px;\n",
              "    }\n",
              "\n",
              "    .colab-df-convert:hover {\n",
              "      background-color: #E2EBFA;\n",
              "      box-shadow: 0px 1px 2px rgba(60, 64, 67, 0.3), 0px 1px 3px 1px rgba(60, 64, 67, 0.15);\n",
              "      fill: #174EA6;\n",
              "    }\n",
              "\n",
              "    [theme=dark] .colab-df-convert {\n",
              "      background-color: #3B4455;\n",
              "      fill: #D2E3FC;\n",
              "    }\n",
              "\n",
              "    [theme=dark] .colab-df-convert:hover {\n",
              "      background-color: #434B5C;\n",
              "      box-shadow: 0px 1px 3px 1px rgba(0, 0, 0, 0.15);\n",
              "      filter: drop-shadow(0px 1px 2px rgba(0, 0, 0, 0.3));\n",
              "      fill: #FFFFFF;\n",
              "    }\n",
              "  </style>\n",
              "\n",
              "      <script>\n",
              "        const buttonEl =\n",
              "          document.querySelector('#df-a54db527-9d43-4037-8956-113811e86649 button.colab-df-convert');\n",
              "        buttonEl.style.display =\n",
              "          google.colab.kernel.accessAllowed ? 'block' : 'none';\n",
              "\n",
              "        async function convertToInteractive(key) {\n",
              "          const element = document.querySelector('#df-a54db527-9d43-4037-8956-113811e86649');\n",
              "          const dataTable =\n",
              "            await google.colab.kernel.invokeFunction('convertToInteractive',\n",
              "                                                     [key], {});\n",
              "          if (!dataTable) return;\n",
              "\n",
              "          const docLinkHtml = 'Like what you see? Visit the ' +\n",
              "            '<a target=\"_blank\" href=https://colab.research.google.com/notebooks/data_table.ipynb>data table notebook</a>'\n",
              "            + ' to learn more about interactive tables.';\n",
              "          element.innerHTML = '';\n",
              "          dataTable['output_type'] = 'display_data';\n",
              "          await google.colab.output.renderOutput(dataTable, element);\n",
              "          const docLink = document.createElement('div');\n",
              "          docLink.innerHTML = docLinkHtml;\n",
              "          element.appendChild(docLink);\n",
              "        }\n",
              "      </script>\n",
              "    </div>\n",
              "  </div>\n",
              "  "
            ]
          },
          "metadata": {},
          "execution_count": 139
        }
      ]
    },
    {
      "cell_type": "code",
      "source": [
        "# create a numeric selector\n",
        "num_selector = make_column_selector(dtype_include='number')"
      ],
      "metadata": {
        "id": "sSKgxJrbfK80"
      },
      "execution_count": 140,
      "outputs": []
    },
    {
      "cell_type": "code",
      "source": [
        "# Slice the numeric columns from the train and test set\n",
        "train_nums = X_train[num_selector(X_train)].reset_index(drop=True)\n",
        "test_nums = X_test[num_selector(X_test)].reset_index(drop=True)"
      ],
      "metadata": {
        "id": "bpyyUomrfNlh"
      },
      "execution_count": 152,
      "outputs": []
    },
    {
      "cell_type": "code",
      "source": [
        "#Scale the numeric variables before concatenation\n",
        "from sklearn.preprocessing import StandardScaler\n",
        "# Instantiate Standard Scaler\n",
        "scaler = StandardScaler()\n",
        "# Fit & transform data.\n",
        "\n",
        "train_nums = pd.DataFrame(scaler.fit_transform(train_nums),columns = train_nums.columns)\n",
        "test_nums = pd.DataFrame(scaler.fit_transform(test_nums),columns = test_nums.columns)\n"
      ],
      "metadata": {
        "id": "nv013-XlffdA"
      },
      "execution_count": 153,
      "outputs": []
    },
    {
      "cell_type": "code",
      "source": [
        "#Concatenate Numerical and Categorical data\n",
        "# Combine the categorical and numerical dataframes\n",
        "X_train = pd.concat([train_nums, train_ohe], axis=1)\n",
        "X_test = pd.concat([test_nums, test_ohe], axis=1)\n",
        "X_train.head()\n",
        "#This is the resulting Numpy Array after transformation of both categorical data to a sparse matrix and afterwards concatenatio"
      ],
      "metadata": {
        "colab": {
          "base_uri": "https://localhost:8080/",
          "height": 334
        },
        "id": "fzuRLVYuWDmE",
        "outputId": "388c43d8-25ed-42e2-a490-07a7b021d3fa"
      },
      "execution_count": 165,
      "outputs": [
        {
          "output_type": "execute_result",
          "data": {
            "text/plain": [
              "   Respondent age  Household size  Total HH Members  Meals eaten by adults  \\\n",
              "0       -0.877890       -1.274268         -1.274268               0.055344   \n",
              "1       -0.716771        0.208517          0.208517              -0.056922   \n",
              "2       -1.361247        0.208517          0.208517              -0.056922   \n",
              "3       -0.716771       -0.903572         -0.903572              -0.056922   \n",
              "4        1.700015        0.949910          0.949910              -0.169188   \n",
              "\n",
              "   Distance to markets  Count Name_Abiemnhom  Count Name_Abyei  \\\n",
              "0            -0.093814             -0.106938         -0.182535   \n",
              "1             0.009357             -0.106938         -0.182535   \n",
              "2             0.009357             -0.106938         -0.182535   \n",
              "3            -0.116741             -0.106938         -0.182535   \n",
              "4             0.009357             -0.106938         -0.182535   \n",
              "\n",
              "   Count Name_Akobo  Count Name_Aweil Centre  Count Name_Aweil East  ...  \\\n",
              "0         -0.118375                -0.128852              -0.167275  ...   \n",
              "1         -0.118375                -0.128852              -0.167275  ...   \n",
              "2          8.447700                -0.128852              -0.167275  ...   \n",
              "3         -0.118375                -0.128852              -0.167275  ...   \n",
              "4         -0.118375                -0.128852              -0.167275  ...   \n",
              "\n",
              "   Type of house_Substandard shelter (factory/warehouse/garage/shop/worksite/unfinished building)  \\\n",
              "0                                                0.0                                                \n",
              "1                                                0.0                                                \n",
              "2                                                0.0                                                \n",
              "3                                                0.0                                                \n",
              "4                                                0.0                                                \n",
              "\n",
              "   Type of house_Tent  Type of house_Tukul  Has farm animals_No  \\\n",
              "0                 0.0                  0.0                  1.0   \n",
              "1                 0.0                  1.0                  0.0   \n",
              "2                 0.0                  1.0                  0.0   \n",
              "3                 0.0                  0.0                  1.0   \n",
              "4                 0.0                  0.0                  1.0   \n",
              "\n",
              "   Has farm animals_Yes  Can bounce back_Agree  Can bounce back_Disagree  \\\n",
              "0                   0.0                    1.0                       0.0   \n",
              "1                   1.0                    0.0                       1.0   \n",
              "2                   1.0                    0.0                       1.0   \n",
              "3                   0.0                    1.0                       0.0   \n",
              "4                   0.0                    1.0                       0.0   \n",
              "\n",
              "   Can bounce back_Neutral  Can bounce back_Strngly agree  \\\n",
              "0                      0.0                            0.0   \n",
              "1                      0.0                            0.0   \n",
              "2                      0.0                            0.0   \n",
              "3                      0.0                            0.0   \n",
              "4                      0.0                            0.0   \n",
              "\n",
              "   Can bounce back_Strongly disagree  \n",
              "0                                0.0  \n",
              "1                                0.0  \n",
              "2                                0.0  \n",
              "3                                0.0  \n",
              "4                                0.0  \n",
              "\n",
              "[5 rows x 165 columns]"
            ],
            "text/html": [
              "\n",
              "  <div id=\"df-37d8d947-4aa0-40ba-b446-5bed80b7b1cc\">\n",
              "    <div class=\"colab-df-container\">\n",
              "      <div>\n",
              "<style scoped>\n",
              "    .dataframe tbody tr th:only-of-type {\n",
              "        vertical-align: middle;\n",
              "    }\n",
              "\n",
              "    .dataframe tbody tr th {\n",
              "        vertical-align: top;\n",
              "    }\n",
              "\n",
              "    .dataframe thead th {\n",
              "        text-align: right;\n",
              "    }\n",
              "</style>\n",
              "<table border=\"1\" class=\"dataframe\">\n",
              "  <thead>\n",
              "    <tr style=\"text-align: right;\">\n",
              "      <th></th>\n",
              "      <th>Respondent age</th>\n",
              "      <th>Household size</th>\n",
              "      <th>Total HH Members</th>\n",
              "      <th>Meals eaten by adults</th>\n",
              "      <th>Distance to markets</th>\n",
              "      <th>Count Name_Abiemnhom</th>\n",
              "      <th>Count Name_Abyei</th>\n",
              "      <th>Count Name_Akobo</th>\n",
              "      <th>Count Name_Aweil Centre</th>\n",
              "      <th>Count Name_Aweil East</th>\n",
              "      <th>...</th>\n",
              "      <th>Type of house_Substandard shelter (factory/warehouse/garage/shop/worksite/unfinished building)</th>\n",
              "      <th>Type of house_Tent</th>\n",
              "      <th>Type of house_Tukul</th>\n",
              "      <th>Has farm animals_No</th>\n",
              "      <th>Has farm animals_Yes</th>\n",
              "      <th>Can bounce back_Agree</th>\n",
              "      <th>Can bounce back_Disagree</th>\n",
              "      <th>Can bounce back_Neutral</th>\n",
              "      <th>Can bounce back_Strngly agree</th>\n",
              "      <th>Can bounce back_Strongly disagree</th>\n",
              "    </tr>\n",
              "  </thead>\n",
              "  <tbody>\n",
              "    <tr>\n",
              "      <th>0</th>\n",
              "      <td>-0.877890</td>\n",
              "      <td>-1.274268</td>\n",
              "      <td>-1.274268</td>\n",
              "      <td>0.055344</td>\n",
              "      <td>-0.093814</td>\n",
              "      <td>-0.106938</td>\n",
              "      <td>-0.182535</td>\n",
              "      <td>-0.118375</td>\n",
              "      <td>-0.128852</td>\n",
              "      <td>-0.167275</td>\n",
              "      <td>...</td>\n",
              "      <td>0.0</td>\n",
              "      <td>0.0</td>\n",
              "      <td>0.0</td>\n",
              "      <td>1.0</td>\n",
              "      <td>0.0</td>\n",
              "      <td>1.0</td>\n",
              "      <td>0.0</td>\n",
              "      <td>0.0</td>\n",
              "      <td>0.0</td>\n",
              "      <td>0.0</td>\n",
              "    </tr>\n",
              "    <tr>\n",
              "      <th>1</th>\n",
              "      <td>-0.716771</td>\n",
              "      <td>0.208517</td>\n",
              "      <td>0.208517</td>\n",
              "      <td>-0.056922</td>\n",
              "      <td>0.009357</td>\n",
              "      <td>-0.106938</td>\n",
              "      <td>-0.182535</td>\n",
              "      <td>-0.118375</td>\n",
              "      <td>-0.128852</td>\n",
              "      <td>-0.167275</td>\n",
              "      <td>...</td>\n",
              "      <td>0.0</td>\n",
              "      <td>0.0</td>\n",
              "      <td>1.0</td>\n",
              "      <td>0.0</td>\n",
              "      <td>1.0</td>\n",
              "      <td>0.0</td>\n",
              "      <td>1.0</td>\n",
              "      <td>0.0</td>\n",
              "      <td>0.0</td>\n",
              "      <td>0.0</td>\n",
              "    </tr>\n",
              "    <tr>\n",
              "      <th>2</th>\n",
              "      <td>-1.361247</td>\n",
              "      <td>0.208517</td>\n",
              "      <td>0.208517</td>\n",
              "      <td>-0.056922</td>\n",
              "      <td>0.009357</td>\n",
              "      <td>-0.106938</td>\n",
              "      <td>-0.182535</td>\n",
              "      <td>8.447700</td>\n",
              "      <td>-0.128852</td>\n",
              "      <td>-0.167275</td>\n",
              "      <td>...</td>\n",
              "      <td>0.0</td>\n",
              "      <td>0.0</td>\n",
              "      <td>1.0</td>\n",
              "      <td>0.0</td>\n",
              "      <td>1.0</td>\n",
              "      <td>0.0</td>\n",
              "      <td>1.0</td>\n",
              "      <td>0.0</td>\n",
              "      <td>0.0</td>\n",
              "      <td>0.0</td>\n",
              "    </tr>\n",
              "    <tr>\n",
              "      <th>3</th>\n",
              "      <td>-0.716771</td>\n",
              "      <td>-0.903572</td>\n",
              "      <td>-0.903572</td>\n",
              "      <td>-0.056922</td>\n",
              "      <td>-0.116741</td>\n",
              "      <td>-0.106938</td>\n",
              "      <td>-0.182535</td>\n",
              "      <td>-0.118375</td>\n",
              "      <td>-0.128852</td>\n",
              "      <td>-0.167275</td>\n",
              "      <td>...</td>\n",
              "      <td>0.0</td>\n",
              "      <td>0.0</td>\n",
              "      <td>0.0</td>\n",
              "      <td>1.0</td>\n",
              "      <td>0.0</td>\n",
              "      <td>1.0</td>\n",
              "      <td>0.0</td>\n",
              "      <td>0.0</td>\n",
              "      <td>0.0</td>\n",
              "      <td>0.0</td>\n",
              "    </tr>\n",
              "    <tr>\n",
              "      <th>4</th>\n",
              "      <td>1.700015</td>\n",
              "      <td>0.949910</td>\n",
              "      <td>0.949910</td>\n",
              "      <td>-0.169188</td>\n",
              "      <td>0.009357</td>\n",
              "      <td>-0.106938</td>\n",
              "      <td>-0.182535</td>\n",
              "      <td>-0.118375</td>\n",
              "      <td>-0.128852</td>\n",
              "      <td>-0.167275</td>\n",
              "      <td>...</td>\n",
              "      <td>0.0</td>\n",
              "      <td>0.0</td>\n",
              "      <td>0.0</td>\n",
              "      <td>1.0</td>\n",
              "      <td>0.0</td>\n",
              "      <td>1.0</td>\n",
              "      <td>0.0</td>\n",
              "      <td>0.0</td>\n",
              "      <td>0.0</td>\n",
              "      <td>0.0</td>\n",
              "    </tr>\n",
              "  </tbody>\n",
              "</table>\n",
              "<p>5 rows × 165 columns</p>\n",
              "</div>\n",
              "      <button class=\"colab-df-convert\" onclick=\"convertToInteractive('df-37d8d947-4aa0-40ba-b446-5bed80b7b1cc')\"\n",
              "              title=\"Convert this dataframe to an interactive table.\"\n",
              "              style=\"display:none;\">\n",
              "        \n",
              "  <svg xmlns=\"http://www.w3.org/2000/svg\" height=\"24px\"viewBox=\"0 0 24 24\"\n",
              "       width=\"24px\">\n",
              "    <path d=\"M0 0h24v24H0V0z\" fill=\"none\"/>\n",
              "    <path d=\"M18.56 5.44l.94 2.06.94-2.06 2.06-.94-2.06-.94-.94-2.06-.94 2.06-2.06.94zm-11 1L8.5 8.5l.94-2.06 2.06-.94-2.06-.94L8.5 2.5l-.94 2.06-2.06.94zm10 10l.94 2.06.94-2.06 2.06-.94-2.06-.94-.94-2.06-.94 2.06-2.06.94z\"/><path d=\"M17.41 7.96l-1.37-1.37c-.4-.4-.92-.59-1.43-.59-.52 0-1.04.2-1.43.59L10.3 9.45l-7.72 7.72c-.78.78-.78 2.05 0 2.83L4 21.41c.39.39.9.59 1.41.59.51 0 1.02-.2 1.41-.59l7.78-7.78 2.81-2.81c.8-.78.8-2.07 0-2.86zM5.41 20L4 18.59l7.72-7.72 1.47 1.35L5.41 20z\"/>\n",
              "  </svg>\n",
              "      </button>\n",
              "      \n",
              "  <style>\n",
              "    .colab-df-container {\n",
              "      display:flex;\n",
              "      flex-wrap:wrap;\n",
              "      gap: 12px;\n",
              "    }\n",
              "\n",
              "    .colab-df-convert {\n",
              "      background-color: #E8F0FE;\n",
              "      border: none;\n",
              "      border-radius: 50%;\n",
              "      cursor: pointer;\n",
              "      display: none;\n",
              "      fill: #1967D2;\n",
              "      height: 32px;\n",
              "      padding: 0 0 0 0;\n",
              "      width: 32px;\n",
              "    }\n",
              "\n",
              "    .colab-df-convert:hover {\n",
              "      background-color: #E2EBFA;\n",
              "      box-shadow: 0px 1px 2px rgba(60, 64, 67, 0.3), 0px 1px 3px 1px rgba(60, 64, 67, 0.15);\n",
              "      fill: #174EA6;\n",
              "    }\n",
              "\n",
              "    [theme=dark] .colab-df-convert {\n",
              "      background-color: #3B4455;\n",
              "      fill: #D2E3FC;\n",
              "    }\n",
              "\n",
              "    [theme=dark] .colab-df-convert:hover {\n",
              "      background-color: #434B5C;\n",
              "      box-shadow: 0px 1px 3px 1px rgba(0, 0, 0, 0.15);\n",
              "      filter: drop-shadow(0px 1px 2px rgba(0, 0, 0, 0.3));\n",
              "      fill: #FFFFFF;\n",
              "    }\n",
              "  </style>\n",
              "\n",
              "      <script>\n",
              "        const buttonEl =\n",
              "          document.querySelector('#df-37d8d947-4aa0-40ba-b446-5bed80b7b1cc button.colab-df-convert');\n",
              "        buttonEl.style.display =\n",
              "          google.colab.kernel.accessAllowed ? 'block' : 'none';\n",
              "\n",
              "        async function convertToInteractive(key) {\n",
              "          const element = document.querySelector('#df-37d8d947-4aa0-40ba-b446-5bed80b7b1cc');\n",
              "          const dataTable =\n",
              "            await google.colab.kernel.invokeFunction('convertToInteractive',\n",
              "                                                     [key], {});\n",
              "          if (!dataTable) return;\n",
              "\n",
              "          const docLinkHtml = 'Like what you see? Visit the ' +\n",
              "            '<a target=\"_blank\" href=https://colab.research.google.com/notebooks/data_table.ipynb>data table notebook</a>'\n",
              "            + ' to learn more about interactive tables.';\n",
              "          element.innerHTML = '';\n",
              "          dataTable['output_type'] = 'display_data';\n",
              "          await google.colab.output.renderOutput(dataTable, element);\n",
              "          const docLink = document.createElement('div');\n",
              "          docLink.innerHTML = docLinkHtml;\n",
              "          element.appendChild(docLink);\n",
              "        }\n",
              "      </script>\n",
              "    </div>\n",
              "  </div>\n",
              "  "
            ]
          },
          "metadata": {},
          "execution_count": 165
        }
      ]
    },
    {
      "cell_type": "markdown",
      "source": [
        "**RUN A LOGISTIC REGRESSION MODEL TO PREDICT FOOD INSECURITY **"
      ],
      "metadata": {
        "id": "h8AhLl3kh8yX"
      }
    },
    {
      "cell_type": "code",
      "source": [
        "#Get Libraries\n",
        "from sklearn.linear_model import LogisticRegression\n",
        "#Instatiate the model\n",
        "logreg = LogisticRegression()\n",
        "#data is already scaled. No need for scaling"
      ],
      "metadata": {
        "id": "KLc7dZFSP2eN"
      },
      "execution_count": 179,
      "outputs": []
    },
    {
      "cell_type": "code",
      "source": [
        "# Training the model on the data, storing the information learned from the data\n",
        "# Model is learning the relationship between X and y \n",
        "%%time\n",
        "logreg.fit(X_train, y_train)\n",
        "print(logreg.score(X_train, y_train))\n",
        "print(logreg.score(X_test, y_test))"
      ],
      "metadata": {
        "colab": {
          "base_uri": "https://localhost:8080/"
        },
        "id": "lJ3JEPsMjV0S",
        "outputId": "8cf6ac2e-790e-4bd4-873f-b89295300c67"
      },
      "execution_count": 180,
      "outputs": [
        {
          "output_type": "stream",
          "name": "stdout",
          "text": [
            "0.7395309882747069\n",
            "0.7076537013801757\n",
            "CPU times: user 103 ms, sys: 38.4 ms, total: 141 ms\n",
            "Wall time: 79.2 ms\n"
          ]
        }
      ]
    },
    {
      "cell_type": "code",
      "source": [
        "#Accuracy of the model is 74% on training data and 71% on test data"
      ],
      "metadata": {
        "id": "CLlwxmuyj11o"
      },
      "execution_count": null,
      "outputs": []
    },
    {
      "cell_type": "code",
      "source": [
        "#L1 Fitting to the model\n",
        "# create a list of c values and empty lists for scores\n",
        "c_values = [0.0001, 0.001, 0.01, 0.1, 1, 10, 100, 1000]\n",
        "train_scores = []\n",
        "test_scores = []\n",
        "#iterative over the c values\n",
        "for c in c_values:\n",
        " \n",
        "  # instantiate a model with each value of c and fit it on the data\n",
        "  log_reg = LogisticRegression(C=c, max_iter=1000, solver='liblinear', penalty='l1')\n",
        "  log_reg.fit(X_train, y_train)\n",
        " \n",
        "  # add the training and testing scores to our scores lists\n",
        "  train_scores.append(log_reg.score(X_train, y_train))\n",
        "  test_scores.append(log_reg.score(X_test, y_test))\n",
        " \n",
        "#plot the change in accuracy as we change the value of C\n",
        "fig, ax = plt.subplots(1,1)\n",
        "ax.plot(c_values, train_scores, label='Training Accuracy')\n",
        "ax.plot(c_values, test_scores, label='Testing Accuracy')\n",
        "ax.set_xticks(c_values)\n",
        "ax.set_title('Change in accuracy over C values for l1 regularization')\n",
        "ax.legend()\n",
        " \n",
        "#set the x axis to a logarithmic scale to show the values of C in even intervals\n",
        "ax.set_xscale('log')\n",
        "# print a dictionary of values of C and accuracy scores\n",
        "{c:score for c, score in zip(c_values, test_scores)}"
      ],
      "metadata": {
        "colab": {
          "base_uri": "https://localhost:8080/",
          "height": 608
        },
        "id": "hTD3KOYDkbTm",
        "outputId": "f1605956-6931-4123-d53f-24f5a7aeab8f"
      },
      "execution_count": 160,
      "outputs": [
        {
          "output_type": "execute_result",
          "data": {
            "text/plain": [
              "{0.0001: 0.6737766624843162,\n",
              " 0.001: 0.6737766624843162,\n",
              " 0.01: 0.6775407779171895,\n",
              " 0.1: 0.7063989962358845,\n",
              " 1: 0.7063989962358845,\n",
              " 10: 0.7089084065244667,\n",
              " 100: 0.7114178168130489,\n",
              " 1000: 0.7114178168130489}"
            ]
          },
          "metadata": {},
          "execution_count": 160
        },
        {
          "output_type": "display_data",
          "data": {
            "text/plain": [
              "<Figure size 640x480 with 1 Axes>"
            ],
            "image/png": "[encoded data removed]"
          },
          "metadata": {}
        }
      ]
    },
    {
      "cell_type": "code",
      "source": [
        "#LL2 TUNING\n",
        "# create a list of c values and empty lists for scores\n",
        "c_values = [0.0001, 0.001, 0.01, 0.1, 1, 10, 100, 1000]\n",
        "train_scores = []\n",
        "test_scores = []\n",
        "#iterative over the c values\n",
        "for c in c_values:\n",
        "  # instantiate a model with each value of c and fit it on the data\n",
        "  log_reg = LogisticRegression(C=c, max_iter=1000, solver='liblinear', penalty='l2')\n",
        "  log_reg.fit(X_train, y_train)\n",
        " \n",
        "  # add the training and testing scores to our scores lists\n",
        "  train_scores.append(log_reg.score(X_train, y_train))\n",
        "  test_scores.append(log_reg.score(X_test, y_test))\n",
        "  \n",
        "#plot the change in accuracy as we change the value of C\n",
        "fig, ax = plt.subplots(1,1)\n",
        "ax.plot(c_values, train_scores, label='Training Accuracy')\n",
        "ax.plot(c_values, test_scores, label='Testing Accuracy')\n",
        "ax.set_xticks(c_values)\n",
        "ax.set_title('Change in accuracy over C values for l2 regularization')\n",
        "ax.legend()\n",
        "#set the x axis to a logarithmic scale to show the values of C in even intervals\n",
        "ax.set_xscale('log')\n",
        "# print a dictionary of values of C and accuracy scores\n",
        "{c:score for c, score in zip(c_values, test_scores)}\n"
      ],
      "metadata": {
        "colab": {
          "base_uri": "https://localhost:8080/",
          "height": 608
        },
        "id": "mRhZS2ctl1Sb",
        "outputId": "be79785a-8590-45dc-98e8-837a6da22bb8"
      },
      "execution_count": 161,
      "outputs": [
        {
          "output_type": "execute_result",
          "data": {
            "text/plain": [
              "{0.0001: 0.6787954830614805,\n",
              " 0.001: 0.7076537013801757,\n",
              " 0.01: 0.7038895859473023,\n",
              " 0.1: 0.7076537013801757,\n",
              " 1: 0.7076537013801757,\n",
              " 10: 0.7089084065244667,\n",
              " 100: 0.7114178168130489,\n",
              " 1000: 0.7114178168130489}"
            ]
          },
          "metadata": {},
          "execution_count": 161
        },
        {
          "output_type": "display_data",
          "data": {
            "text/plain": [
              "<Figure size 640x480 with 1 Axes>"
            ],
            "image/png": "[encoded data removed]"
          },
          "metadata": {}
        }
      ]
    },
    {
      "cell_type": "code",
      "source": [
        "# Highest accuracy is obtained with a C score of 0.1 in the L1 fitted model"
      ],
      "metadata": {
        "id": "AKtENtYKmKcT"
      },
      "execution_count": null,
      "outputs": []
    },
    {
      "cell_type": "markdown",
      "source": [
        "NEURAL NETWORKS MODEL"
      ],
      "metadata": {
        "id": "2Krbcji1mZF6"
      }
    },
    {
      "cell_type": "code",
      "source": [
        "#Import libraries\n",
        "from tensorflow.keras.models import Sequential\n",
        "from tensorflow.keras.layers import Dense, Dropout\n",
        "from tensorflow.keras import layers"
      ],
      "metadata": {
        "id": "nMuzqVZmQobZ"
      },
      "execution_count": 166,
      "outputs": []
    },
    {
      "cell_type": "code",
      "source": [
        "# Instantiate Sequential model object\n",
        "model = Sequential()\n",
        "# get the input shape\n",
        "input_shape = X_train.shape[1]\n",
        "print(input_shape)"
      ],
      "metadata": {
        "colab": {
          "base_uri": "https://localhost:8080/"
        },
        "id": "OGkqhdQ-QssV",
        "outputId": "16d466da-290a-4805-f7a4-599bc65de6f1"
      },
      "execution_count": 168,
      "outputs": [
        {
          "output_type": "stream",
          "name": "stdout",
          "text": [
            "165\n"
          ]
        }
      ]
    },
    {
      "cell_type": "code",
      "source": [
        "# First hidden layer\n",
        "model.add(Dense(165, # Number of neurons = number of features \n",
        "                input_dim = input_shape, #Shape already defined in a previous function \n",
        "                activation = 'relu')) #use the relu activatio function\n",
        "# Second hidden layer\n",
        "model.add(Dense(40, # neurons in the second hidden layer\n",
        "                activation = 'relu')) #activated using teh relu function\n",
        "\n",
        "# Output layer\n",
        "model.add(Dense(1, activation = 'sigmoid'))\n",
        "# Step 2: Compile\n",
        "model.compile(loss = 'bce', optimizer = 'adam', metrics = ['accuracy'])\n",
        "model.summary()"
      ],
      "metadata": {
        "colab": {
          "base_uri": "https://localhost:8080/"
        },
        "id": "-0UcGL_-QInL",
        "outputId": "c7c4d643-c62a-409f-a280-f2e864bf92ee"
      },
      "execution_count": 170,
      "outputs": [
        {
          "output_type": "stream",
          "name": "stdout",
          "text": [
            "Model: \"sequential_1\"\n",
            "_________________________________________________________________\n",
            " Layer (type)                Output Shape              Param #   \n",
            "=================================================================\n",
            " dense (Dense)               (None, 165)               27390     \n",
            "                                                                 \n",
            " dense_1 (Dense)             (None, 40)                6640      \n",
            "                                                                 \n",
            " dense_2 (Dense)             (None, 1)                 41        \n",
            "                                                                 \n",
            " dense_3 (Dense)             (None, 165)               330       \n",
            "                                                                 \n",
            " dense_4 (Dense)             (None, 40)                6640      \n",
            "                                                                 \n",
            " dense_5 (Dense)             (None, 1)                 41        \n",
            "                                                                 \n",
            "=================================================================\n",
            "Total params: 41,082\n",
            "Trainable params: 41,082\n",
            "Non-trainable params: 0\n",
            "_________________________________________________________________\n"
          ]
        }
      ]
    },
    {
      "cell_type": "code",
      "source": [
        "# Step 3: Fit our model\n",
        "history = model.fit(X_train, y_train,\n",
        "                                        epochs= 30,\n",
        "                    validation_data=(X_test, y_test)\n",
        "                    ) #Use 10 epochs to prevent overfitting of the model"
      ],
      "metadata": {
        "colab": {
          "base_uri": "https://localhost:8080/"
        },
        "id": "P0p1SMD7sJkW",
        "outputId": "2e274f5a-01b8-45fb-977d-34eff1f306dc"
      },
      "execution_count": 171,
      "outputs": [
        {
          "output_type": "stream",
          "name": "stdout",
          "text": [
            "Epoch 1/30\n",
            "75/75 [==============================] - 2s 10ms/step - loss: 0.6249 - accuracy: 0.6880 - val_loss: 0.6124 - val_accuracy: 0.6738\n",
            "Epoch 2/30\n",
            "75/75 [==============================] - 0s 3ms/step - loss: 0.5633 - accuracy: 0.6947 - val_loss: 0.5945 - val_accuracy: 0.6738\n",
            "Epoch 3/30\n",
            "75/75 [==============================] - 0s 3ms/step - loss: 0.5322 - accuracy: 0.7148 - val_loss: 0.5824 - val_accuracy: 0.7039\n",
            "Epoch 4/30\n",
            "75/75 [==============================] - 0s 3ms/step - loss: 0.5056 - accuracy: 0.7605 - val_loss: 0.5898 - val_accuracy: 0.7039\n",
            "Epoch 5/30\n",
            "75/75 [==============================] - 0s 3ms/step - loss: 0.4843 - accuracy: 0.7621 - val_loss: 0.6091 - val_accuracy: 0.7051\n",
            "Epoch 6/30\n",
            "75/75 [==============================] - 0s 3ms/step - loss: 0.4540 - accuracy: 0.7873 - val_loss: 0.6235 - val_accuracy: 0.7014\n",
            "Epoch 7/30\n",
            "75/75 [==============================] - 0s 3ms/step - loss: 0.4305 - accuracy: 0.8028 - val_loss: 0.6352 - val_accuracy: 0.7064\n",
            "Epoch 8/30\n",
            "75/75 [==============================] - 0s 3ms/step - loss: 0.4133 - accuracy: 0.8124 - val_loss: 0.6590 - val_accuracy: 0.6801\n",
            "Epoch 9/30\n",
            "75/75 [==============================] - 0s 3ms/step - loss: 0.3920 - accuracy: 0.8195 - val_loss: 0.6729 - val_accuracy: 0.6775\n",
            "Epoch 10/30\n",
            "75/75 [==============================] - 0s 3ms/step - loss: 0.3742 - accuracy: 0.8396 - val_loss: 0.7148 - val_accuracy: 0.6813\n",
            "Epoch 11/30\n",
            "75/75 [==============================] - 0s 3ms/step - loss: 0.3638 - accuracy: 0.8400 - val_loss: 0.6923 - val_accuracy: 0.6913\n",
            "Epoch 12/30\n",
            "75/75 [==============================] - 0s 3ms/step - loss: 0.3477 - accuracy: 0.8526 - val_loss: 0.7334 - val_accuracy: 0.6788\n",
            "Epoch 13/30\n",
            "75/75 [==============================] - 0s 4ms/step - loss: 0.3304 - accuracy: 0.8568 - val_loss: 0.7441 - val_accuracy: 0.6725\n",
            "Epoch 14/30\n",
            "75/75 [==============================] - 0s 4ms/step - loss: 0.3184 - accuracy: 0.8668 - val_loss: 0.7801 - val_accuracy: 0.6826\n",
            "Epoch 15/30\n",
            "75/75 [==============================] - 0s 5ms/step - loss: 0.3070 - accuracy: 0.8677 - val_loss: 0.7767 - val_accuracy: 0.6926\n",
            "Epoch 16/30\n",
            "75/75 [==============================] - 0s 5ms/step - loss: 0.3014 - accuracy: 0.8756 - val_loss: 0.8185 - val_accuracy: 0.6989\n",
            "Epoch 17/30\n",
            "75/75 [==============================] - 1s 8ms/step - loss: 0.3085 - accuracy: 0.8639 - val_loss: 0.8077 - val_accuracy: 0.6863\n",
            "Epoch 18/30\n",
            "75/75 [==============================] - 1s 8ms/step - loss: 0.2800 - accuracy: 0.8819 - val_loss: 0.8165 - val_accuracy: 0.6826\n",
            "Epoch 19/30\n",
            "75/75 [==============================] - 1s 7ms/step - loss: 0.2655 - accuracy: 0.8878 - val_loss: 0.8708 - val_accuracy: 0.6913\n",
            "Epoch 20/30\n",
            "75/75 [==============================] - 1s 8ms/step - loss: 0.2683 - accuracy: 0.8920 - val_loss: 0.9225 - val_accuracy: 0.6763\n",
            "Epoch 21/30\n",
            "75/75 [==============================] - 0s 6ms/step - loss: 0.2523 - accuracy: 0.8995 - val_loss: 0.8757 - val_accuracy: 0.6851\n",
            "Epoch 22/30\n",
            "75/75 [==============================] - 0s 7ms/step - loss: 0.2625 - accuracy: 0.8941 - val_loss: 0.8544 - val_accuracy: 0.6876\n",
            "Epoch 23/30\n",
            "75/75 [==============================] - 1s 7ms/step - loss: 0.2478 - accuracy: 0.9028 - val_loss: 0.8874 - val_accuracy: 0.6826\n",
            "Epoch 24/30\n",
            "75/75 [==============================] - 0s 6ms/step - loss: 0.2405 - accuracy: 0.9020 - val_loss: 0.9297 - val_accuracy: 0.6876\n",
            "Epoch 25/30\n",
            "75/75 [==============================] - 0s 3ms/step - loss: 0.2332 - accuracy: 0.8991 - val_loss: 0.9344 - val_accuracy: 0.6675\n",
            "Epoch 26/30\n",
            "75/75 [==============================] - 0s 3ms/step - loss: 0.2338 - accuracy: 0.9041 - val_loss: 0.9328 - val_accuracy: 0.6662\n",
            "Epoch 27/30\n",
            "75/75 [==============================] - 0s 3ms/step - loss: 0.2247 - accuracy: 0.9095 - val_loss: 0.9699 - val_accuracy: 0.6826\n",
            "Epoch 28/30\n",
            "75/75 [==============================] - 0s 3ms/step - loss: 0.2162 - accuracy: 0.9083 - val_loss: 0.9686 - val_accuracy: 0.6688\n",
            "Epoch 29/30\n",
            "75/75 [==============================] - 0s 3ms/step - loss: 0.2117 - accuracy: 0.9142 - val_loss: 1.0257 - val_accuracy: 0.6688\n",
            "Epoch 30/30\n",
            "75/75 [==============================] - 0s 3ms/step - loss: 0.2129 - accuracy: 0.9125 - val_loss: 1.0137 - val_accuracy: 0.6763\n"
          ]
        }
      ]
    },
    {
      "cell_type": "code",
      "source": [
        "#Evaluate the model on Test Data\n",
        "%%time\n",
        "model.evaluate(X_test, y_test)"
      ],
      "metadata": {
        "colab": {
          "base_uri": "https://localhost:8080/"
        },
        "id": "M5IxR72xsE3L",
        "outputId": "71d6759c-eb9d-43cb-8ac9-40a5ec9cf8b2"
      },
      "execution_count": 172,
      "outputs": [
        {
          "output_type": "stream",
          "name": "stdout",
          "text": [
            "25/25 [==============================] - 0s 3ms/step - loss: 1.0137 - accuracy: 0.6763\n"
          ]
        },
        {
          "output_type": "execute_result",
          "data": {
            "text/plain": [
              "[1.013708233833313, 0.6762861013412476]"
            ]
          },
          "metadata": {},
          "execution_count": 172
        }
      ]
    },
    {
      "cell_type": "markdown",
      "source": [
        "2ND NEURAL NETWORKS MODEL"
      ],
      "metadata": {
        "id": "LGwTLu-msiAX"
      }
    },
    {
      "cell_type": "code",
      "source": [
        "# First hidden layer\n",
        "model.add(Dense(165, # Number of neurons = number of features \n",
        "                input_dim = input_shape, #Shape already defined in a previous function \n",
        "                activation = 'relu')) #use the relu activatio function\n",
        "# Second hidden layer\n",
        "model.add(Dense(100, # neurons in the second hidden layer\n",
        "                activation = 'relu')) #activated using teh relu function\n",
        "# Third hidden layer\n",
        "model.add(Dense(40, # neurons in the second hidden layer\n",
        "                activation = 'relu')) #activated using teh relu function\n",
        "# Fourth hidden layer\n",
        "model.add(Dense(5, # neurons in the second hidden layer\n",
        "                activation = 'relu')) #activated using teh relu function\n",
        "\n",
        "# Output layer\n",
        "model.add(Dense(1, activation = 'sigmoid'))\n",
        "# Step 2: Compile\n",
        "model.compile(loss = 'bce', optimizer = 'adam', metrics = ['accuracy'])"
      ],
      "metadata": {
        "id": "gK_vUcHzxCVf"
      },
      "execution_count": 173,
      "outputs": []
    },
    {
      "cell_type": "code",
      "source": [
        "# Step 3: Fit our model\n",
        "history = model.fit(X_train, y_train,\n",
        "                                        epochs= 30,\n",
        "                    validation_data=(X_test, y_test)\n",
        "                    ) #Use 30 epochs "
      ],
      "metadata": {
        "colab": {
          "base_uri": "https://localhost:8080/"
        },
        "id": "y5z9yqQPxVsA",
        "outputId": "b4d9efe7-ed9a-4924-e721-e329faf916e9"
      },
      "execution_count": 175,
      "outputs": [
        {
          "output_type": "stream",
          "name": "stdout",
          "text": [
            "Epoch 1/30\n",
            "75/75 [==============================] - 3s 10ms/step - loss: 0.6049 - accuracy: 0.8798 - val_loss: 0.8314 - val_accuracy: 0.6675\n",
            "Epoch 2/30\n",
            "75/75 [==============================] - 0s 4ms/step - loss: 0.5579 - accuracy: 0.9062 - val_loss: 0.7432 - val_accuracy: 0.6851\n",
            "Epoch 3/30\n",
            "75/75 [==============================] - 0s 4ms/step - loss: 0.5348 - accuracy: 0.9028 - val_loss: 0.7301 - val_accuracy: 0.6838\n",
            "Epoch 4/30\n",
            "75/75 [==============================] - 0s 4ms/step - loss: 0.5188 - accuracy: 0.9024 - val_loss: 0.7273 - val_accuracy: 0.6989\n",
            "Epoch 5/30\n",
            "75/75 [==============================] - 0s 4ms/step - loss: 0.5024 - accuracy: 0.8991 - val_loss: 0.7554 - val_accuracy: 0.6763\n",
            "Epoch 6/30\n",
            "75/75 [==============================] - 0s 4ms/step - loss: 0.4862 - accuracy: 0.9008 - val_loss: 0.7467 - val_accuracy: 0.6788\n",
            "Epoch 7/30\n",
            "75/75 [==============================] - 0s 4ms/step - loss: 0.4720 - accuracy: 0.9041 - val_loss: 0.8176 - val_accuracy: 0.6550\n",
            "Epoch 8/30\n",
            "75/75 [==============================] - 0s 3ms/step - loss: 0.4506 - accuracy: 0.9125 - val_loss: 0.7494 - val_accuracy: 0.6801\n",
            "Epoch 9/30\n",
            "75/75 [==============================] - 0s 3ms/step - loss: 0.4451 - accuracy: 0.9049 - val_loss: 0.7273 - val_accuracy: 0.6675\n",
            "Epoch 10/30\n",
            "75/75 [==============================] - 0s 4ms/step - loss: 0.4259 - accuracy: 0.9075 - val_loss: 0.7522 - val_accuracy: 0.6788\n",
            "Epoch 11/30\n",
            "75/75 [==============================] - 0s 4ms/step - loss: 0.4305 - accuracy: 0.8982 - val_loss: 0.7051 - val_accuracy: 0.6725\n",
            "Epoch 12/30\n",
            "75/75 [==============================] - 0s 3ms/step - loss: 0.3984 - accuracy: 0.9171 - val_loss: 0.7463 - val_accuracy: 0.6838\n",
            "Epoch 13/30\n",
            "75/75 [==============================] - 0s 4ms/step - loss: 0.3891 - accuracy: 0.9167 - val_loss: 0.7211 - val_accuracy: 0.6913\n",
            "Epoch 14/30\n",
            "75/75 [==============================] - 0s 4ms/step - loss: 0.3812 - accuracy: 0.9167 - val_loss: 0.7171 - val_accuracy: 0.6876\n",
            "Epoch 15/30\n",
            "75/75 [==============================] - 0s 3ms/step - loss: 0.3640 - accuracy: 0.9188 - val_loss: 0.7016 - val_accuracy: 0.6813\n",
            "Epoch 16/30\n",
            "75/75 [==============================] - 0s 4ms/step - loss: 0.3573 - accuracy: 0.9204 - val_loss: 0.7647 - val_accuracy: 0.6750\n",
            "Epoch 17/30\n",
            "75/75 [==============================] - 0s 5ms/step - loss: 0.3562 - accuracy: 0.9167 - val_loss: 0.8071 - val_accuracy: 0.6750\n",
            "Epoch 18/30\n",
            "75/75 [==============================] - 0s 5ms/step - loss: 0.3566 - accuracy: 0.9108 - val_loss: 0.7200 - val_accuracy: 0.6713\n",
            "Epoch 19/30\n",
            "75/75 [==============================] - 0s 6ms/step - loss: 0.3391 - accuracy: 0.9221 - val_loss: 0.7436 - val_accuracy: 0.6725\n",
            "Epoch 20/30\n",
            "75/75 [==============================] - 0s 5ms/step - loss: 0.3269 - accuracy: 0.9246 - val_loss: 0.7836 - val_accuracy: 0.6550\n",
            "Epoch 21/30\n",
            "75/75 [==============================] - 0s 5ms/step - loss: 0.3306 - accuracy: 0.9188 - val_loss: 0.7245 - val_accuracy: 0.6713\n",
            "Epoch 22/30\n",
            "75/75 [==============================] - 0s 5ms/step - loss: 0.3300 - accuracy: 0.9129 - val_loss: 0.7496 - val_accuracy: 0.6788\n",
            "Epoch 23/30\n",
            "75/75 [==============================] - 0s 5ms/step - loss: 0.3196 - accuracy: 0.9188 - val_loss: 0.8065 - val_accuracy: 0.6662\n",
            "Epoch 24/30\n",
            "75/75 [==============================] - 0s 6ms/step - loss: 0.3110 - accuracy: 0.9255 - val_loss: 0.7583 - val_accuracy: 0.6713\n",
            "Epoch 25/30\n",
            "75/75 [==============================] - 0s 5ms/step - loss: 0.3049 - accuracy: 0.9246 - val_loss: 0.7543 - val_accuracy: 0.6738\n",
            "Epoch 26/30\n",
            "75/75 [==============================] - 0s 6ms/step - loss: 0.2976 - accuracy: 0.9246 - val_loss: 0.8624 - val_accuracy: 0.6650\n",
            "Epoch 27/30\n",
            "75/75 [==============================] - 0s 5ms/step - loss: 0.2920 - accuracy: 0.9263 - val_loss: 0.7584 - val_accuracy: 0.6637\n",
            "Epoch 28/30\n",
            "75/75 [==============================] - 0s 4ms/step - loss: 0.2918 - accuracy: 0.9242 - val_loss: 0.7539 - val_accuracy: 0.6713\n",
            "Epoch 29/30\n",
            "75/75 [==============================] - 0s 3ms/step - loss: 0.2764 - accuracy: 0.9313 - val_loss: 0.7958 - val_accuracy: 0.6700\n",
            "Epoch 30/30\n",
            "75/75 [==============================] - 0s 3ms/step - loss: 0.2806 - accuracy: 0.9276 - val_loss: 0.9003 - val_accuracy: 0.6437\n"
          ]
        }
      ]
    },
    {
      "cell_type": "code",
      "source": [
        "#Evaluate the model on Test Data\n",
        "%%time\n",
        "model.evaluate(X_test, y_test)"
      ],
      "metadata": {
        "colab": {
          "base_uri": "https://localhost:8080/"
        },
        "id": "uW6cY6EBxjFt",
        "outputId": "f88a2177-6669-41a6-e001-cd66652f3aa7"
      },
      "execution_count": 178,
      "outputs": [
        {
          "output_type": "stream",
          "name": "stdout",
          "text": [
            "25/25 [==============================] - 0s 2ms/step - loss: 0.9003 - accuracy: 0.6437\n",
            "CPU times: user 396 ms, sys: 1.96 ms, total: 398 ms\n",
            "Wall time: 413 ms\n"
          ]
        },
        {
          "output_type": "execute_result",
          "data": {
            "text/plain": [
              "[0.9002935290336609, 0.643663763999939]"
            ]
          },
          "metadata": {},
          "execution_count": 178
        }
      ]
    },
    {
      "cell_type": "markdown",
      "source": [
        "KNN NEAREST NEIGHBOURES MODEL"
      ],
      "metadata": {
        "id": "eSg_iBPBzA9G"
      }
    },
    {
      "cell_type": "code",
      "source": [
        "#Define scaler & Run with 1 Neighbour\n",
        "from sklearn.neighbors import KNeighborsClassifier\n",
        "knn = KNeighborsClassifier(n_neighbors=1)\n",
        "knn.fit(X_train, y_train)\n",
        "predictions = knn.predict(X_test)\n",
        "predictions\n",
        "acc_score = knn.score(X_test, y_test)\n",
        "acc_score"
      ],
      "metadata": {
        "colab": {
          "base_uri": "https://localhost:8080/"
        },
        "id": "56kxGP42zD9y",
        "outputId": "8e12d384-1709-47a1-b5bf-0ca2116b5321"
      },
      "execution_count": 182,
      "outputs": [
        {
          "output_type": "execute_result",
          "data": {
            "text/plain": [
              "0.644918444165621"
            ]
          },
          "metadata": {},
          "execution_count": 182
        }
      ]
    },
    {
      "cell_type": "code",
      "source": [
        "#Define scaler & Run with 1 Neighbour\n",
        "from sklearn.neighbors import KNeighborsClassifier\n",
        "knn = KNeighborsClassifier(n_neighbors=5)\n",
        "knn.fit(X_train, y_train)\n",
        "predictions = knn.predict(X_test)\n",
        "predictions\n",
        "acc_score = knn.score(X_test, y_test)\n",
        "acc_score"
      ],
      "metadata": {
        "colab": {
          "base_uri": "https://localhost:8080/"
        },
        "id": "2EK-G7ys1ABI",
        "outputId": "ceb365e3-ec61-4fa4-d062-84f7b98c8f3e"
      },
      "execution_count": 188,
      "outputs": [
        {
          "output_type": "execute_result",
          "data": {
            "text/plain": [
              "0.6913425345043914"
            ]
          },
          "metadata": {},
          "execution_count": 188
        }
      ]
    },
    {
      "cell_type": "code",
      "source": [
        "#Define scaler & Run with 1 Neighbour\n",
        "from sklearn.neighbors import KNeighborsClassifier\n",
        "knn = KNeighborsClassifier(n_neighbors=10)\n",
        "knn.fit(X_train, y_train)\n",
        "predictions = knn.predict(X_test)\n",
        "predictions\n",
        "acc_score = knn.score(X_test, y_test)\n",
        "acc_score"
      ],
      "metadata": {
        "colab": {
          "base_uri": "https://localhost:8080/"
        },
        "id": "D5Xi5EdF1EzZ",
        "outputId": "40790c4e-06db-407d-b3c9-07b6180ae19d"
      },
      "execution_count": 189,
      "outputs": [
        {
          "output_type": "execute_result",
          "data": {
            "text/plain": [
              "0.7063989962358845"
            ]
          },
          "metadata": {},
          "execution_count": 189
        }
      ]
    },
    {
      "cell_type": "code",
      "source": [],
      "metadata": {
        "id": "zJPhJ3Yj1JaD"
      },
      "execution_count": null,
      "outputs": []
    },
    {
      "cell_type": "code",
      "source": [
        "#Get the best parameters using GRID SEARCH"
      ],
      "metadata": {
        "id": "a8ZOE6xJzz7D"
      },
      "execution_count": null,
      "outputs": []
    },
    {
      "cell_type": "code",
      "source": [
        "knn_pipe = KNeighborsClassifier()\n",
        "knn_pipe.get_params()\n",
        "pipe_param_grid = {'kneighborsclassifier__n_neighbors': range(1,30),\n",
        "              'kneighborsclassifier__p': range(1,30),\n",
        "              'kneighborsclassifier__weights': ['distance','uniform']}"
      ],
      "metadata": {
        "id": "X1Ri1HP0z6tF"
      },
      "execution_count": 184,
      "outputs": []
    },
    {
      "cell_type": "code",
      "source": [
        "#Grid serch runs very low and is terminated "
      ],
      "metadata": {
        "id": "7D-XcM4l05Ga"
      },
      "execution_count": null,
      "outputs": []
    },
    {
      "cell_type": "markdown",
      "source": [
        "**The logistics regression model is the best model and is suggested to adopt to run the same due to accuracy and time. It performs better than the neural netwworks and KNN even without refining or firn tuning. The Same is suggested to be put to production but with continued improvement from its 70% accuracy to higher accuracy levels. The training dataset can also be altered to include other variables that can help enhance learning of the model for improved predictions**"
      ],
      "metadata": {
        "id": "w-LnjpzB1K24"
      }
    }
  ]
}